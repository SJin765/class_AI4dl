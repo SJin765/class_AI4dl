{
  "nbformat": 4,
  "nbformat_minor": 0,
  "metadata": {
    "colab": {
      "provenance": [],
      "authorship_tag": "ABX9TyPZ1SCt1XoSasD4V3xm+iZK",
      "include_colab_link": true
    },
    "kernelspec": {
      "name": "python3",
      "display_name": "Python 3"
    },
    "language_info": {
      "name": "python"
    },
    "accelerator": "GPU",
    "gpuClass": "standard"
  },
  "cells": [
    {
      "cell_type": "markdown",
      "metadata": {
        "id": "view-in-github",
        "colab_type": "text"
      },
      "source": [
        "<a href=\"https://colab.research.google.com/github/SJin765/class_AI4dl/blob/main/week%5B1-16%5D/week4/week4_exercise.ipynb\" target=\"_parent\"><img src=\"https://colab.research.google.com/assets/colab-badge.svg\" alt=\"Open In Colab\"/></a>"
      ]
    },
    {
      "cell_type": "code",
      "source": [
        "import keras as tf"
      ],
      "metadata": {
        "id": "GjEJI7HKwUz4"
      },
      "execution_count": null,
      "outputs": []
    },
    {
      "cell_type": "markdown",
      "source": [
        "Say x, y are scalar, find derivatives of \n",
        "with respect to x and y.\n",
        "\n",
        "(Set x = 2. , y = 1. for the calculation)"
      ],
      "metadata": {
        "id": "4Mr8SGB1v_is"
      }
    },
    {
      "cell_type": "code",
      "execution_count": null,
      "metadata": {
        "id": "_mG1ua5Ru6Ni"
      },
      "outputs": [],
      "source": [
        "\n",
        "\n",
        "\n",
        "x = 2.\n",
        "y = 1."
      ]
    },
    {
      "cell_type": "markdown",
      "source": [
        "Set x, W and b as"
      ],
      "metadata": {
        "id": "_2ceuFT1wNSb"
      }
    },
    {
      "cell_type": "code",
      "source": [
        "x = tf.constant(np.array([1.,4.,3.]).reshape(1,3), dtype=tf.float32)\n",
        "W = tf.Variable(tf.random.uniform((3, 2)), dtype=tf.float32)\n",
        "b = tf.Variable(tf.zeros((2,)), dtype=tf.float32)"
      ],
      "metadata": {
        "id": "995WVtjmwO1m"
      },
      "execution_count": null,
      "outputs": []
    },
    {
      "cell_type": "markdown",
      "source": [
        "Find derivatives of with respect to W and b. (Hint: search for tf.pow() )"
      ],
      "metadata": {
        "id": "Mi2NeXJlwl2a"
      }
    },
    {
      "cell_type": "code",
      "source": [],
      "metadata": {
        "id": "f7pA4K0vwk7T"
      },
      "execution_count": null,
      "outputs": []
    }
  ]
}