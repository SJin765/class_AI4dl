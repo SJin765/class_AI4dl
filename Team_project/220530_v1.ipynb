{
  "nbformat": 4,
  "nbformat_minor": 0,
  "metadata": {
    "colab": {
      "provenance": [],
      "toc_visible": true,
      "authorship_tag": "ABX9TyMEm7TZYwGwHlHKkd1s9Otl",
      "include_colab_link": true
    },
    "kernelspec": {
      "name": "python3",
      "display_name": "Python 3"
    },
    "language_info": {
      "name": "python"
    }
  },
  "cells": [
    {
      "cell_type": "markdown",
      "metadata": {
        "id": "view-in-github",
        "colab_type": "text"
      },
      "source": [
        "<a href=\"https://colab.research.google.com/github/SJin765/class_AI4dl/blob/main/Team_project/220530_v1.ipynb\" target=\"_parent\"><img src=\"https://colab.research.google.com/assets/colab-badge.svg\" alt=\"Open In Colab\"/></a>"
      ]
    },
    {
      "cell_type": "markdown",
      "source": [
        "https://www.kaggle.com/code/achinih/flower-classification-cnn-models"
      ],
      "metadata": {
        "id": "WGObhmoiKRz_"
      }
    },
    {
      "cell_type": "markdown",
      "source": [
        "# Step 1: Imports"
      ],
      "metadata": {
        "id": "_fL2OUEN82tb"
      }
    },
    {
      "cell_type": "code",
      "execution_count": 1,
      "metadata": {
        "id": "cfaI4BIc8xsW"
      },
      "outputs": [],
      "source": [
        "import math, re, os\n",
        "import numpy as np\n",
        "import tensorflow as tf"
      ]
    },
    {
      "cell_type": "markdown",
      "source": [
        "# Step 2: Distribution Strategy"
      ],
      "metadata": {
        "id": "LLvd71609l7R"
      }
    },
    {
      "cell_type": "code",
      "source": [
        "# Detect TPU, return appropriate distribution strategy\n",
        "try:\n",
        "    tpu = tf.distribute.cluster_resolver.TPUClusterResolver() \n",
        "    print('Running on TPU ', tpu.master())\n",
        "except ValueError:\n",
        "    tpu = None\n",
        "\n",
        "if tpu:\n",
        "    tf.config.experimental_connect_to_cluster(tpu)\n",
        "    tf.tpu.experimental.initialize_tpu_system(tpu)\n",
        "    strategy = tf.distribute.experimental.TPUStrategy(tpu)\n",
        "else:\n",
        "    strategy = tf.distribute.get_strategy() \n",
        "\n",
        "print(\"REPLICAS: \", strategy.num_replicas_in_sync)"
      ],
      "metadata": {
        "id": "cjHf_RnA9AJW",
        "outputId": "795d56e6-d0e5-4e7d-ad99-bd651db9b2d0",
        "colab": {
          "base_uri": "https://localhost:8080/"
        }
      },
      "execution_count": 2,
      "outputs": [
        {
          "output_type": "stream",
          "name": "stdout",
          "text": [
            "REPLICAS:  1\n"
          ]
        }
      ]
    },
    {
      "cell_type": "markdown",
      "source": [
        "# Step 3: Loading the Competition Data"
      ],
      "metadata": {
        "id": "Krs4sQGF9dIE"
      }
    },
    {
      "cell_type": "code",
      "source": [
        "# GCS에서 데이터를 받아올 경우\n",
        "# Get GCS Path\n",
        "# from kaggle_datasets import KaggleDatasets\n",
        "# GCS_DS_PATH = KaggleDatasets().get_gcs_path('tpu-getting-started')"
      ],
      "metadata": {
        "id": "sYA1jSo_9IlG"
      },
      "execution_count": null,
      "outputs": []
    },
    {
      "cell_type": "code",
      "source": [
        "# 구글 드라이브에 내가 올려놓은 파일을 이용할 경우\n",
        "# 드라이브 마운트\n",
        "from google.colab import drive\n",
        "drive.mount('/content/drive')\n",
        "\n",
        "file_path = '/content/drive/MyDrive/tpu-getting-started'"
      ],
      "metadata": {
        "id": "f7bDKnWh99_I",
        "outputId": "cc05751a-14e9-4a13-dbca-2701f11b220d",
        "colab": {
          "base_uri": "https://localhost:8080/"
        }
      },
      "execution_count": 3,
      "outputs": [
        {
          "output_type": "stream",
          "name": "stdout",
          "text": [
            "Mounted at /content/drive\n"
          ]
        }
      ]
    },
    {
      "cell_type": "code",
      "source": [
        "# Load Data\n",
        "IMAGE_SIZE = [512, 512]\n",
        "GCS_PATH =file_path + '/tfrecords-jpeg-512x512'\n",
        "AUTO = tf.data.experimental.AUTOTUNE\n",
        "\n",
        "TRAINING_FILENAMES = tf.io.gfile.glob(GCS_PATH + '/train/*.tfrec')\n",
        "VALIDATION_FILENAMES = tf.io.gfile.glob(GCS_PATH + '/val/*.tfrec')\n",
        "TEST_FILENAMES = tf.io.gfile.glob(GCS_PATH + '/test/*.tfrec') \n",
        "\n",
        "CLASSES = ['pink primrose',    'hard-leaved pocket orchid', 'canterbury bells', 'sweet pea',     'wild geranium',     'tiger lily',           'moon orchid',              'bird of paradise', 'monkshood',        'globe thistle',         # 00 - 09\n",
        "           'snapdragon',       \"colt's foot\",               'king protea',      'spear thistle', 'yellow iris',       'globe-flower',         'purple coneflower',        'peruvian lily',    'balloon flower',   'giant white arum lily', # 10 - 19\n",
        "           'fire lily',        'pincushion flower',         'fritillary',       'red ginger',    'grape hyacinth',    'corn poppy',           'prince of wales feathers', 'stemless gentian', 'artichoke',        'sweet william',         # 20 - 29\n",
        "           'carnation',        'garden phlox',              'love in the mist', 'cosmos',        'alpine sea holly',  'ruby-lipped cattleya', 'cape flower',              'great masterwort', 'siam tulip',       'lenten rose',           # 30 - 39\n",
        "           'barberton daisy',  'daffodil',                  'sword lily',       'poinsettia',    'bolero deep blue',  'wallflower',           'marigold',                 'buttercup',        'daisy',            'common dandelion',      # 40 - 49\n",
        "           'petunia',          'wild pansy',                'primula',          'sunflower',     'lilac hibiscus',    'bishop of llandaff',   'gaura',                    'geranium',         'orange dahlia',    'pink-yellow dahlia',    # 50 - 59\n",
        "           'cautleya spicata', 'japanese anemone',          'black-eyed susan', 'silverbush',    'californian poppy', 'osteospermum',         'spring crocus',            'iris',             'windflower',       'tree poppy',            # 60 - 69\n",
        "           'gazania',          'azalea',                    'water lily',       'rose',          'thorn apple',       'morning glory',        'passion flower',           'lotus',            'toad lily',        'anthurium',             # 70 - 79\n",
        "           'frangipani',       'clematis',                  'hibiscus',         'columbine',     'desert-rose',       'tree mallow',          'magnolia',                 'cyclamen ',        'watercress',       'canna lily',            # 80 - 89\n",
        "           'hippeastrum ',     'bee balm',                  'pink quill',       'foxglove',      'bougainvillea',     'camellia',             'mallow',                   'mexican petunia',  'bromelia',         'blanket flower',        # 90 - 99\n",
        "           'trumpet creeper',  'blackberry lily',           'common tulip',     'wild rose']                                                                                                                                               # 100 - 102\n",
        "\n",
        "\n",
        "def decode_image(image_data):\n",
        "    image = tf.image.decode_jpeg(image_data, channels=3)\n",
        "    image = tf.cast(image, tf.float32) / 255.0  # convert image to floats in [0, 1] range\n",
        "    image = tf.reshape(image, [*IMAGE_SIZE, 3]) # explicit size needed for TPU\n",
        "    return image\n",
        "\n",
        "def read_labeled_tfrecord(example):\n",
        "    LABELED_TFREC_FORMAT = {\n",
        "        \"image\": tf.io.FixedLenFeature([], tf.string), # tf.string means bytestring\n",
        "        \"class\": tf.io.FixedLenFeature([], tf.int64),  # shape [] means single element\n",
        "    }\n",
        "    example = tf.io.parse_single_example(example, LABELED_TFREC_FORMAT)\n",
        "    image = decode_image(example['image'])\n",
        "    label = tf.cast(example['class'], tf.int32)\n",
        "    return image, label # returns a dataset of (image, label) pairs\n",
        "\n",
        "def read_unlabeled_tfrecord(example):\n",
        "    UNLABELED_TFREC_FORMAT = {\n",
        "        \"image\": tf.io.FixedLenFeature([], tf.string), # tf.string means bytestring\n",
        "        \"id\": tf.io.FixedLenFeature([], tf.string),  # shape [] means single element\n",
        "        # class is missing, this competitions's challenge is to predict flower classes for the test dataset\n",
        "    }\n",
        "    example = tf.io.parse_single_example(example, UNLABELED_TFREC_FORMAT)\n",
        "    image = decode_image(example['image'])\n",
        "    idnum = example['id']\n",
        "    return image, idnum # returns a dataset of image(s)\n",
        "\n",
        "def load_dataset(filenames, labeled=True, ordered=False):\n",
        "    # Read from TFRecords. For optimal performance, reading from multiple files at once and\n",
        "    # disregarding data order. Order does not matter since we will be shuffling the data anyway.\n",
        "\n",
        "    ignore_order = tf.data.Options()\n",
        "    if not ordered:\n",
        "        ignore_order.experimental_deterministic = False # disable order, increase speed\n",
        "\n",
        "    dataset = tf.data.TFRecordDataset(filenames, num_parallel_reads=AUTO) # automatically interleaves reads from multiple files\n",
        "    dataset = dataset.with_options(ignore_order) # uses data as soon as it streams in, rather than in its original order\n",
        "    dataset = dataset.map(read_labeled_tfrecord if labeled else read_unlabeled_tfrecord, num_parallel_calls=AUTO)\n",
        "    # returns a dataset of (image, label) pairs if labeled=True or (image, id) pairs if labeled=False\n",
        "    return dataset"
      ],
      "metadata": {
        "id": "n9_WsXK89bWF"
      },
      "execution_count": 5,
      "outputs": []
    },
    {
      "cell_type": "code",
      "source": [
        "# Create Data Pipelines\n",
        "\n",
        "def data_augment(image, label):\n",
        "    # Thanks to the dataset.prefetch(AUTO)\n",
        "    # statement in the next function (below), this happens essentially\n",
        "    # for free on TPU. Data pipeline code is executed on the \"CPU\"\n",
        "    # part of the TPU while the TPU itself is computing gradients.\n",
        "    image = tf.image.random_flip_left_right(image)\n",
        "    #image = tf.image.random_saturation(image, 0, 2)\n",
        "    return image, label   \n",
        "\n",
        "def get_training_dataset():\n",
        "    dataset = load_dataset(TRAINING_FILENAMES, labeled=True)\n",
        "    dataset = dataset.map(data_augment, num_parallel_calls=AUTO)\n",
        "    dataset = dataset.repeat() # the training dataset must repeat for several epochs\n",
        "    dataset = dataset.shuffle(2048)\n",
        "    dataset = dataset.batch(BATCH_SIZE)\n",
        "    dataset = dataset.prefetch(AUTO) # prefetch next batch while training (autotune prefetch buffer size)\n",
        "    return dataset\n",
        "\n",
        "def get_validation_dataset(ordered=False):\n",
        "    dataset = load_dataset(VALIDATION_FILENAMES, labeled=True, ordered=ordered)\n",
        "    dataset = dataset.batch(BATCH_SIZE)\n",
        "    dataset = dataset.cache()\n",
        "    dataset = dataset.prefetch(AUTO)\n",
        "    return dataset\n",
        "\n",
        "def get_test_dataset(ordered=False):\n",
        "    dataset = load_dataset(TEST_FILENAMES, labeled=False, ordered=ordered)\n",
        "    dataset = dataset.batch(BATCH_SIZE)\n",
        "    dataset = dataset.prefetch(AUTO)\n",
        "    return dataset\n",
        "\n",
        "def count_data_items(filenames):\n",
        "    # the number of data items is written in the name of the .tfrec\n",
        "    # files, i.e. flowers00-230.tfrec = 230 data items\n",
        "    n = [int(re.compile(r\"-([0-9]*)\\.\").search(filename).group(1)) for filename in filenames]\n",
        "    return np.sum(n)\n",
        "\n",
        "NUM_TRAINING_IMAGES = count_data_items(TRAINING_FILENAMES)\n",
        "NUM_VALIDATION_IMAGES = count_data_items(VALIDATION_FILENAMES)\n",
        "NUM_TEST_IMAGES = count_data_items(TEST_FILENAMES)\n",
        "print('Dataset: {} training images, {} validation images, {} unlabeled test images'.format(NUM_TRAINING_IMAGES, NUM_VALIDATION_IMAGES, NUM_TEST_IMAGES))"
      ],
      "metadata": {
        "id": "IAhjzJb9-JM2",
        "outputId": "752c867d-5f2b-4428-bdd6-6babaa8afbff",
        "colab": {
          "base_uri": "https://localhost:8080/"
        }
      },
      "execution_count": 6,
      "outputs": [
        {
          "output_type": "stream",
          "name": "stdout",
          "text": [
            "Dataset: 12753 training images, 3712 validation images, 7382 unlabeled test images\n"
          ]
        }
      ]
    },
    {
      "cell_type": "code",
      "source": [
        "# Define the batch size. This will be 16 with TPU off and 128 (=16*8) with TPU on\n",
        "BATCH_SIZE = 16 * strategy.num_replicas_in_sync\n",
        "\n",
        "ds_train = get_training_dataset()\n",
        "ds_valid = get_validation_dataset()\n",
        "ds_test = get_test_dataset()\n",
        "\n",
        "print(\"Training:\", ds_train)\n",
        "print (\"Validation:\", ds_valid)\n",
        "print(\"Test:\", ds_test)"
      ],
      "metadata": {
        "id": "n69Dk8xf-XiF",
        "outputId": "62cdb572-2816-4550-cbca-140844f6d4b5",
        "colab": {
          "base_uri": "https://localhost:8080/"
        }
      },
      "execution_count": 7,
      "outputs": [
        {
          "output_type": "stream",
          "name": "stdout",
          "text": [
            "Training: <_PrefetchDataset element_spec=(TensorSpec(shape=(None, 512, 512, 3), dtype=tf.float32, name=None), TensorSpec(shape=(None,), dtype=tf.int32, name=None))>\n",
            "Validation: <_PrefetchDataset element_spec=(TensorSpec(shape=(None, 512, 512, 3), dtype=tf.float32, name=None), TensorSpec(shape=(None,), dtype=tf.int32, name=None))>\n",
            "Test: <_PrefetchDataset element_spec=(TensorSpec(shape=(None, 512, 512, 3), dtype=tf.float32, name=None), TensorSpec(shape=(None,), dtype=tf.string, name=None))>\n"
          ]
        }
      ]
    },
    {
      "cell_type": "code",
      "source": [
        "np.set_printoptions(threshold=15, linewidth=80)\n",
        "\n",
        "print(\"Training data shapes:\")\n",
        "for image, label in ds_train.take(3):\n",
        "    print(image.numpy().shape, label.numpy().shape)\n",
        "print(\"Training data label examples:\", label.numpy())"
      ],
      "metadata": {
        "id": "r-J5c3b1-ccd",
        "outputId": "a7fdef72-3714-48c2-a29f-5c77ce729086",
        "colab": {
          "base_uri": "https://localhost:8080/"
        }
      },
      "execution_count": 8,
      "outputs": [
        {
          "output_type": "stream",
          "name": "stdout",
          "text": [
            "Training data shapes:\n",
            "(16, 512, 512, 3) (16,)\n",
            "(16, 512, 512, 3) (16,)\n",
            "(16, 512, 512, 3) (16,)\n",
            "Training data label examples: [56 67 91 ... 67 14 93]\n"
          ]
        }
      ]
    },
    {
      "cell_type": "markdown",
      "source": [
        "# Step 4: Explore Data"
      ],
      "metadata": {
        "id": "4SwaYcM2DyKk"
      }
    },
    {
      "cell_type": "markdown",
      "source": [
        "# Step 5: Define Model : CNN Models"
      ],
      "metadata": {
        "id": "mLAd8YG2D10m"
      }
    },
    {
      "cell_type": "markdown",
      "source": [
        "## Defining Baseline Model"
      ],
      "metadata": {
        "id": "LzkAcDokFmZR"
      }
    },
    {
      "cell_type": "code",
      "source": [
        "from keras.models import Sequential\n",
        "from keras.layers import Dense, Activation, BatchNormalization\n",
        "from keras.layers import Dense, Dropout\n",
        "\n",
        "EPOCHS = 20"
      ],
      "metadata": {
        "id": "dzNFgpgcFpWE"
      },
      "execution_count": 9,
      "outputs": []
    },
    {
      "cell_type": "code",
      "source": [
        "from tensorflow.keras.layers import Dense, Activation, Conv2D, MaxPool2D, Dropout, Flatten\n",
        "gu_seed=tf.keras.initializers.GlorotUniform(seed=1)\n",
        "\n",
        "EPOCHS = 20\n",
        "with strategy.scope():\n",
        "    \"\"\"pretrained_model = tf.keras.applications.VGG16(\n",
        "        weights='imagenet',\n",
        "        include_top=False ,\n",
        "        input_shape=[*IMAGE_SIZE, 3]\n",
        "    )\n",
        "    pretrained_model.trainable = False\n",
        "    \n",
        "    model = tf.keras.Sequential(([\n",
        "        # To a base pretrained on ImageNet to extract features from images...\n",
        "        pretrained_model,\n",
        "        # ... attach a new head to act as a classifier.\n",
        "        tf.keras.layers.GlobalAveragePooling2D(),\n",
        "        tf.keras.layers.Dense(len(CLASSES), activation='softmax')\n",
        "    ]))\"\"\"\n",
        "    model0 = tf.keras.Sequential()\n",
        "    model0.add(Conv2D(32, kernel_size=(5,5), kernel_initializer=gu_seed, padding='same', activation='relu', input_shape=(512,512,3)))\n",
        "    model0.add(MaxPool2D(pool_size=(3,3)))\n",
        "    model0.add(Dropout(0.25))\n",
        "    \n",
        "    model0.add(Conv2D(64, kernel_size=(5,5), kernel_initializer=gu_seed, padding='same', activation='relu'))\n",
        "    model0.add(MaxPool2D(pool_size=(3,3)))\n",
        "    model0.add(Dropout(0.25))\n",
        "    \n",
        "    model0.add(Conv2D(64, kernel_size=(5,5), kernel_initializer=gu_seed, padding='same', activation='relu'))\n",
        "    model0.add(MaxPool2D(pool_size=(3,3)))\n",
        "    model0.add(Dropout(0.25))\n",
        "    \n",
        "    model0.add(Flatten())\n",
        "    model0.add(Dense(len(CLASSES), activation='softmax'))\n",
        "    \n",
        "    \n",
        "    \"\"\"\n",
        "    model2 = tf.keras.Sequential()\n",
        "    model2.add(Conv2D(32, kernel_size=(5,5), padding='same', activation='relu', input_shape=(512,512,1)))\n",
        "    model2.add(MaxPool2D(pool_size=(3,3)))\n",
        "    model2.add(Dropout(0.25))\n",
        "    \n",
        "    model2.add(Conv2D(64, kernel_size=(5,5), padding='same', activation='relu'))\n",
        "    model2.add(MaxPool2D(pool_size=(3,3)))\n",
        "    model2.add(Dropout(0.25))\n",
        "    \n",
        "    model2.add(Flatten())\n",
        "    model2.add(Dense(len(CLASSES), activation='softmax'))\"\"\""
      ],
      "metadata": {
        "id": "oFbaMkr-F31r"
      },
      "execution_count": 10,
      "outputs": []
    },
    {
      "cell_type": "code",
      "source": [
        "model0.compile(\n",
        "    optimizer='adam',\n",
        "    loss = 'sparse_categorical_crossentropy',\n",
        "    metrics=['sparse_categorical_accuracy'],\n",
        ")\n",
        "\n",
        "model0.summary()"
      ],
      "metadata": {
        "id": "UX6JYvH4F7c4",
        "outputId": "133a3623-908c-4c31-f954-cca197275d7e",
        "colab": {
          "base_uri": "https://localhost:8080/"
        }
      },
      "execution_count": 11,
      "outputs": [
        {
          "output_type": "stream",
          "name": "stdout",
          "text": [
            "Model: \"sequential\"\n",
            "_________________________________________________________________\n",
            " Layer (type)                Output Shape              Param #   \n",
            "=================================================================\n",
            " conv2d (Conv2D)             (None, 512, 512, 32)      2432      \n",
            "                                                                 \n",
            " max_pooling2d (MaxPooling2D  (None, 170, 170, 32)     0         \n",
            " )                                                               \n",
            "                                                                 \n",
            " dropout (Dropout)           (None, 170, 170, 32)      0         \n",
            "                                                                 \n",
            " conv2d_1 (Conv2D)           (None, 170, 170, 64)      51264     \n",
            "                                                                 \n",
            " max_pooling2d_1 (MaxPooling  (None, 56, 56, 64)       0         \n",
            " 2D)                                                             \n",
            "                                                                 \n",
            " dropout_1 (Dropout)         (None, 56, 56, 64)        0         \n",
            "                                                                 \n",
            " conv2d_2 (Conv2D)           (None, 56, 56, 64)        102464    \n",
            "                                                                 \n",
            " max_pooling2d_2 (MaxPooling  (None, 18, 18, 64)       0         \n",
            " 2D)                                                             \n",
            "                                                                 \n",
            " dropout_2 (Dropout)         (None, 18, 18, 64)        0         \n",
            "                                                                 \n",
            " flatten (Flatten)           (None, 20736)             0         \n",
            "                                                                 \n",
            " dense (Dense)               (None, 104)               2156648   \n",
            "                                                                 \n",
            "=================================================================\n",
            "Total params: 2,312,808\n",
            "Trainable params: 2,312,808\n",
            "Non-trainable params: 0\n",
            "_________________________________________________________________\n"
          ]
        }
      ]
    },
    {
      "cell_type": "code",
      "source": [
        "# Define learning rate schedule\n",
        "from matplotlib import pyplot as plt\n",
        "def adapt_learning_rate(epoch,\n",
        "                   start_lr = 0.0005, min_lr = 0.00005, max_lr = 0.0001,\n",
        "                   rampup_epochs = 8, sustain_epochs = 0,\n",
        "                   exp_decay = 0.8):\n",
        "\n",
        "    def lr(epoch, start_lr, min_lr, max_lr, rampup_epochs, sustain_epochs, exp_decay):\n",
        "        if epoch < rampup_epochs:\n",
        "            lr = ((max_lr - start_lr) /\n",
        "                  rampup_epochs * epoch + start_lr)\n",
        "        elif epoch < rampup_epochs + sustain_epochs:\n",
        "            lr = max_lr\n",
        "        else:\n",
        "            lr = ((max_lr - min_lr) *\n",
        "                  exp_decay**(epoch - rampup_epochs - sustain_epochs) +\n",
        "                  min_lr)\n",
        "        return lr\n",
        "    return lr(epoch,\n",
        "              start_lr,\n",
        "              min_lr,\n",
        "              max_lr,\n",
        "              rampup_epochs,\n",
        "              sustain_epochs,\n",
        "              exp_decay)\n",
        "\n",
        "lr_callback = tf.keras.callbacks.LearningRateScheduler(adapt_learning_rate, verbose=True)\n",
        "\n",
        "rng = [i for i in range(EPOCHS)]\n",
        "y = [adapt_learning_rate(x) for x in rng]\n",
        "plt.plot(rng, y)\n",
        "print(\"Learning rate schedule: {:.3g} to {:.3g} to {:.3g}\".format(y[0], max(y), y[-1]))"
      ],
      "metadata": {
        "id": "C7BtK0XhLT8J",
        "outputId": "26c8a134-c847-44df-8598-ec71184a6174",
        "colab": {
          "base_uri": "https://localhost:8080/",
          "height": 448
        }
      },
      "execution_count": 15,
      "outputs": [
        {
          "output_type": "stream",
          "name": "stdout",
          "text": [
            "Learning rate schedule: 0.0005 to 0.0005 to 5.43e-05\n"
          ]
        },
        {
          "output_type": "display_data",
          "data": {
            "text/plain": [
              "<Figure size 640x480 with 1 Axes>"
            ],
            "image/png": "[encoded data removed]"
          },
          "metadata": {}
        }
      ]
    },
    {
      "cell_type": "code",
      "source": [
        "# Define training epochs\n",
        "EPOCHS = 20\n",
        "STEPS_PER_EPOCH = NUM_TRAINING_IMAGES // BATCH_SIZE\n",
        "\n",
        "history = model0.fit(\n",
        "    ds_train,\n",
        "    validation_data=ds_valid,\n",
        "    epochs=EPOCHS,\n",
        "    steps_per_epoch=STEPS_PER_EPOCH,\n",
        "    callbacks=[lr_callback],\n",
        ")"
      ],
      "metadata": {
        "id": "C7qHIbkuF9nw",
        "outputId": "694c5248-31c7-4ce7-d67d-8432e85d1853",
        "colab": {
          "base_uri": "https://localhost:8080/"
        }
      },
      "execution_count": null,
      "outputs": [
        {
          "output_type": "stream",
          "name": "stdout",
          "text": [
            "\n",
            "Epoch 1: LearningRateScheduler setting learning rate to 0.0010000000474974513.\n",
            "Epoch 1/20\n"
          ]
        }
      ]
    },
    {
      "cell_type": "markdown",
      "source": [
        "## Model Baseline Overview"
      ],
      "metadata": {
        "id": "i7CU2b4kEH8p"
      }
    },
    {
      "cell_type": "markdown",
      "source": [
        "### Graphs"
      ],
      "metadata": {
        "id": "i2gRrbIaGau7"
      }
    },
    {
      "cell_type": "code",
      "source": [
        "display_training_curves(\n",
        "    history.history['loss'],\n",
        "    history.history['val_loss'],\n",
        "    'loss',\n",
        "    211,\n",
        ")\n",
        "display_training_curves(\n",
        "    history.history['sparse_categorical_accuracy'],\n",
        "    history.history['val_sparse_categorical_accuracy'],\n",
        "    'accuracy',\n",
        "    212,\n",
        ")"
      ],
      "metadata": {
        "id": "s4aGRNPsENVv"
      },
      "execution_count": null,
      "outputs": []
    },
    {
      "cell_type": "markdown",
      "source": [
        "### Confusion matrix"
      ],
      "metadata": {
        "id": "2THuAb_HGer8"
      }
    },
    {
      "cell_type": "code",
      "source": [
        "from sklearn.metrics import confusion_matrix\n",
        "\n",
        "cmdataset = get_validation_dataset(ordered=True)\n",
        "images_ds = cmdataset.map(lambda image, label: image)\n",
        "labels_ds = cmdataset.map(lambda image, label: label).unbatch()\n",
        "\n",
        "cm_correct_labels = next(iter(labels_ds.batch(NUM_VALIDATION_IMAGES))).numpy()\n",
        "cm_probabilities = model0.predict(images_ds)\n",
        "cm_predictions = np.argmax(cm_probabilities, axis=-1)\n",
        "\n",
        "labels = range(len(CLASSES))\n",
        "cmat = confusion_matrix(\n",
        "    cm_correct_labels,\n",
        "    cm_predictions,\n",
        "    labels=labels,\n",
        ")\n",
        "cmat = (cmat.T / cmat.sum(axis=1)).T # normalize"
      ],
      "metadata": {
        "id": "XlJRgPPcGMuL"
      },
      "execution_count": null,
      "outputs": []
    },
    {
      "cell_type": "code",
      "source": [
        "from sklearn.metrics import f1_score, precision_score, recall_score, confusion_matrix\n",
        "\n",
        "score = f1_score(\n",
        "    cm_correct_labels,\n",
        "    cm_predictions,\n",
        "    labels=labels,\n",
        "    average='macro',\n",
        ")\n",
        "precision = precision_score(\n",
        "    cm_correct_labels,\n",
        "    cm_predictions,\n",
        "    labels=labels,\n",
        "    average='macro',\n",
        ")\n",
        "recall = recall_score(\n",
        "    cm_correct_labels,\n",
        "    cm_predictions,\n",
        "    labels=labels,\n",
        "    average='macro',\n",
        ")\n",
        "display_confusion_matrix(cmat, score, precision, recall)"
      ],
      "metadata": {
        "id": "ThuvcQQDGTar"
      },
      "execution_count": null,
      "outputs": []
    },
    {
      "cell_type": "code",
      "source": [
        "import numpy as np\n",
        "\n",
        "confusion = confusion_matrix(\n",
        "    cm_correct_labels,\n",
        "    cm_predictions,\n",
        "    labels=labels,\n",
        ")\n",
        "\n",
        "total = np.sum(confusion)\n",
        "accuracy = np.trace(confusion) / float(total)\n",
        "specificity = np.diag(confusion)[0] / np.sum(confusion[0])\n",
        "sensitivity = np.diag(confusion)[1] / np.sum(confusion[1])\n",
        "ppv = np.diag(confusion)[1] / np.sum(confusion[:, 1])\n",
        "npv = np.diag(confusion)[0] / np.sum(confusion[:, 0])\n",
        "\n",
        "# Print the results\n",
        "print(\"Accuracy:\", accuracy)\n",
        "print(\"Specificity:\", specificity)\n",
        "print(\"Sensitivity:\", sensitivity)\n",
        "print(\"PPV:\", ppv)\n",
        "print(\"NPV:\", npv)"
      ],
      "metadata": {
        "id": "WaUHxKiHGXuD"
      },
      "execution_count": null,
      "outputs": []
    },
    {
      "cell_type": "markdown",
      "source": [
        "## ResNet50 (poor accuracy)"
      ],
      "metadata": {
        "id": "I-MuX5soEFdF"
      }
    },
    {
      "cell_type": "markdown",
      "source": [
        "### Defining Model"
      ],
      "metadata": {
        "id": "diXaV8e3Hxkw"
      }
    },
    {
      "cell_type": "code",
      "source": [
        "from tensorflow.keras.layers import Dense, Activation, Conv2D, MaxPool2D, Dropout, Flatten\n",
        "gu_seed=tf.keras.initializers.GlorotUniform(seed=1)\n",
        "\n",
        "EPOCHS = 20\n",
        "with strategy.scope():\n",
        "    \"\"\"pretrained_model = tf.keras.applications.VGG16(\n",
        "        weights='imagenet',\n",
        "        include_top=False ,\n",
        "        input_shape=[*IMAGE_SIZE, 3]\n",
        "    )\n",
        "    pretrained_model.trainable = False\n",
        "    \n",
        "    model = tf.keras.Sequential(([\n",
        "        # To a base pretrained on ImageNet to extract features from images...\n",
        "        pretrained_model,\n",
        "        # ... attach a new head to act as a classifier.\n",
        "        tf.keras.layers.GlobalAveragePooling2D(),\n",
        "        tf.keras.layers.Dense(len(CLASSES), activation='softmax')\n",
        "    ]))\"\"\"\n",
        "    model0 = tf.keras.Sequential()\n",
        "    model0.add(Conv2D(32, kernel_size=(5,5), kernel_initializer=gu_seed, padding='same', activation='relu', input_shape=(512,512,3)))\n",
        "    model0.add(MaxPool2D(pool_size=(3,3)))\n",
        "    model0.add(Dropout(0.25))\n",
        "    \n",
        "    model0.add(Conv2D(64, kernel_size=(5,5), kernel_initializer=gu_seed, padding='same', activation='relu'))\n",
        "    model0.add(MaxPool2D(pool_size=(3,3)))\n",
        "    model0.add(Dropout(0.25))\n",
        "    \n",
        "    model0.add(Conv2D(64, kernel_size=(5,5), kernel_initializer=gu_seed, padding='same', activation='relu'))\n",
        "    model0.add(MaxPool2D(pool_size=(3,3)))\n",
        "    model0.add(Dropout(0.25))\n",
        "    \n",
        "    model0.add(Flatten())\n",
        "    model0.add(Dense(len(CLASSES), activation='softmax'))\n",
        "    \n",
        "    \n",
        "    \"\"\"\n",
        "    model2 = tf.keras.Sequential()\n",
        "    model2.add(Conv2D(32, kernel_size=(5,5), padding='same', activation='relu', input_shape=(512,512,1)))\n",
        "    model2.add(MaxPool2D(pool_size=(3,3)))\n",
        "    model2.add(Dropout(0.25))\n",
        "    \n",
        "    model2.add(Conv2D(64, kernel_size=(5,5), padding='same', activation='relu'))\n",
        "    model2.add(MaxPool2D(pool_size=(3,3)))\n",
        "    model2.add(Dropout(0.25))\n",
        "    \n",
        "    model2.add(Flatten())\n",
        "    model2.add(Dense(len(CLASSES), activation='softmax'))\"\"\"\n",
        "\n",
        "\n",
        "EPOCHS = 20\n",
        "with strategy.scope():\n",
        "    pretrained_model = tf.keras.applications.resnet50.ResNet50(\n",
        "        weights='imagenet',\n",
        "        include_top=False ,\n",
        "        input_shape=[*IMAGE_SIZE, 3]\n",
        "        \n",
        "    )\n",
        "    pretrained_model.trainable = True\n",
        "    \n",
        "    modelTwo = tf.keras.Sequential([\n",
        "        pretrained_model,\n",
        "        tf.keras.layers.GlobalAveragePooling2D(),\n",
        "        tf.keras.layers.BatchNormalization(),  \n",
        "        tf.keras.layers.Dropout(0.5), \n",
        "        \n",
        "    model0.add(Conv2D(64, kernel_size=(5,5), kernel_initializer=gu_seed, padding='same', activation='relu'))\n",
        "    model0.add(MaxPool2D(pool_size=(3,3)))\n",
        "    model0.add(Dropout(0.25))\n",
        "    \n",
        "    model0.add(Conv2D(64, kernel_size=(5,5), kernel_initializer=gu_seed, padding='same', activation='relu'))\n",
        "    model0.add(MaxPool2D(pool_size=(3,3)))\n",
        "    model0.add(Dropout(0.25))\n",
        "    \n",
        "    model0.add(Flatten())        \n",
        "        \n",
        "        \n",
        "        \n",
        "        \n",
        "        tf.keras.layers.Dense(len(CLASSES), activation='softmax')\n",
        "    ])\n",
        "    \n",
        "    \n",
        "    model = tf.keras.Sequential([\n",
        "        pretrained_model,\n",
        "        tf.keras.layers.GlobalAveragePooling2D(),\n",
        "        tf.keras.layers.BatchNormalization(),  \n",
        "        tf.keras.layers.Dropout(0.5),\n",
        "        tf.keras.layers.Dense(1024, activation = \"relu\"),\n",
        "        tf.keras.layers.BatchNormalization(),  \n",
        "        tf.keras.layers.Dropout(0.5),\n",
        "        tf.keras.layers.Dense(2048, activation = \"relu\"),\n",
        "        tf.keras.layers.BatchNormalization(),  \n",
        "        tf.keras.layers.Dropout(0.5),\n",
        "        tf.keras.layers.Dense(2048, activation = \"relu\"),\n",
        "        tf.keras.layers.BatchNormalization(),  \n",
        "        tf.keras.layers.Dropout(0.5),\n",
        "        tf.keras.layers.Dense(1024, activation = \"relu\"),\n",
        "        tf.keras.layers.BatchNormalization(),  \n",
        "        tf.keras.layers.Dropout(0.5),\n",
        "        tf.keras.layers.Dense(len(CLASSES), activation='softmax')\n",
        "    ])"
      ],
      "metadata": {
        "id": "VyPclkAyDzlq"
      },
      "execution_count": null,
      "outputs": []
    },
    {
      "cell_type": "code",
      "source": [
        "modelTwo.compile(\n",
        "    optimizer='adam',\n",
        "    loss = 'sparse_categorical_crossentropy',\n",
        "    metrics=['sparse_categorical_accuracy'],\n",
        ")\n",
        "\n",
        "modelTwo.summary()"
      ],
      "metadata": {
        "id": "5Rm6r-UYHb4u"
      },
      "execution_count": null,
      "outputs": []
    },
    {
      "cell_type": "code",
      "source": [
        "def adapt_learning_rate(epoch,\n",
        "                   start_lr = 0.0005, min_lr = 0.00005, max_lr = 0.0001,\n",
        "                   rampup_epochs = 8, sustain_epochs = 0,\n",
        "                   exp_decay = 0.8):\n",
        "\n",
        "    def lr(epoch, start_lr, min_lr, max_lr, rampup_epochs, sustain_epochs, exp_decay):\n",
        "        if epoch < rampup_epochs:\n",
        "            lr = ((max_lr - start_lr) /\n",
        "                  rampup_epochs * epoch + start_lr)\n",
        "        elif epoch < rampup_epochs + sustain_epochs:\n",
        "            lr = max_lr\n",
        "        else:\n",
        "            lr = ((max_lr - min_lr) *\n",
        "                  exp_decay**(epoch - rampup_epochs - sustain_epochs) +\n",
        "                  min_lr)\n",
        "        return lr\n",
        "    return lr(epoch,\n",
        "              start_lr,\n",
        "              min_lr,\n",
        "              max_lr,\n",
        "              rampup_epochs,\n",
        "              sustain_epochs,\n",
        "              exp_decay)\n",
        "\n",
        "lr_callback = tf.keras.callbacks.LearningRateScheduler(adapt_learning_rate, verbose=True)\n",
        "\n",
        "rng = [i for i in range(EPOCHS)]\n",
        "y = [adapt_learning_rate(x) for x in rng]\n",
        "plt.plot(rng, y)\n",
        "print(\"Learning rate schedule: {:.3g} to {:.3g} to {:.3g}\".format(y[0], max(y), y[-1]))"
      ],
      "metadata": {
        "id": "pB9atuLjHfTS"
      },
      "execution_count": null,
      "outputs": []
    },
    {
      "cell_type": "code",
      "source": [
        "# Define training epochs\n",
        "EPOCHS = 20\n",
        "STEPS_PER_EPOCH = NUM_TRAINING_IMAGES // BATCH_SIZE\n",
        "\n",
        "history = modelTwo.fit(\n",
        "    ds_train,\n",
        "    validation_data=ds_valid,\n",
        "    epochs=EPOCHS,\n",
        "    steps_per_epoch=STEPS_PER_EPOCH,\n",
        "    callbacks=[lr_callback],\n",
        ")"
      ],
      "metadata": {
        "id": "NdwkAnqIHiKA"
      },
      "execution_count": null,
      "outputs": []
    },
    {
      "cell_type": "markdown",
      "source": [
        "One interesting thing to notice is that even though the training accuracy increases significantly from the start, the model is rather slow to adapt to the patterns and learn to generalise to the validation data. This could be due to it taking much longer to change the weights of the ResNet50 model as the model itself should have set weights already."
      ],
      "metadata": {
        "id": "hb9X5FU_HnZV"
      }
    },
    {
      "cell_type": "markdown",
      "source": [
        "### Model Overview"
      ],
      "metadata": {
        "id": "tekMFIF1H7cE"
      }
    },
    {
      "cell_type": "code",
      "source": [
        "display_training_curves(\n",
        "    history.history['loss'],\n",
        "    history.history['val_loss'],\n",
        "    'loss',\n",
        "    211,\n",
        ")\n",
        "display_training_curves(\n",
        "    history.history['sparse_categorical_accuracy'],\n",
        "    history.history['val_sparse_categorical_accuracy'],\n",
        "    'accuracy',\n",
        "    212,\n",
        ")"
      ],
      "metadata": {
        "id": "KTAnbQHqIBQl"
      },
      "execution_count": null,
      "outputs": []
    },
    {
      "cell_type": "code",
      "source": [
        "from sklearn.metrics import confusion_matrix\n",
        "\n",
        "cmdataset = get_validation_dataset(ordered=True)\n",
        "images_ds = cmdataset.map(lambda image, label: image)\n",
        "labels_ds = cmdataset.map(lambda image, label: label).unbatch()\n",
        "\n",
        "cm_correct_labels = next(iter(labels_ds.batch(NUM_VALIDATION_IMAGES))).numpy()\n",
        "cm_probabilities = modelTwo.predict(images_ds)\n",
        "cm_predictions = np.argmax(cm_probabilities, axis=-1)\n",
        "\n",
        "labels = range(len(CLASSES))\n",
        "cmat = confusion_matrix(\n",
        "    cm_correct_labels,\n",
        "    cm_predictions,\n",
        "    labels=labels,\n",
        ")\n",
        "cmat = (cmat.T / cmat.sum(axis=1)).T # normalize"
      ],
      "metadata": {
        "id": "wJoNm7mEIE1S"
      },
      "execution_count": null,
      "outputs": []
    },
    {
      "cell_type": "code",
      "source": [
        "from sklearn.metrics import f1_score, precision_score, recall_score, confusion_matrix\n",
        "\n",
        "score = f1_score(\n",
        "    cm_correct_labels,\n",
        "    cm_predictions,\n",
        "    labels=labels,\n",
        "    average='macro',\n",
        ")\n",
        "precision = precision_score(\n",
        "    cm_correct_labels,\n",
        "    cm_predictions,\n",
        "    labels=labels,\n",
        "    average='macro',\n",
        ")\n",
        "recall = recall_score(\n",
        "    cm_correct_labels,\n",
        "    cm_predictions,\n",
        "    labels=labels,\n",
        "    average='macro',\n",
        ")\n",
        "display_confusion_matrix(cmat, score, precision, recall)"
      ],
      "metadata": {
        "id": "dkC5nn8-IHlz"
      },
      "execution_count": null,
      "outputs": []
    },
    {
      "cell_type": "code",
      "source": [
        "import numpy as np\n",
        "\n",
        "confusion = confusion_matrix(\n",
        "    cm_correct_labels,\n",
        "    cm_predictions,\n",
        "    labels=labels,\n",
        ")\n",
        "\n",
        "total = np.sum(confusion)\n",
        "accuracy = np.trace(confusion) / float(total)\n",
        "specificity = np.diag(confusion)[0] / np.sum(confusion[0])\n",
        "sensitivity = np.diag(confusion)[1] / np.sum(confusion[1])\n",
        "ppv = np.diag(confusion)[1] / np.sum(confusion[:, 1])\n",
        "npv = np.diag(confusion)[0] / np.sum(confusion[:, 0])\n",
        "\n",
        "# Print the results\n",
        "print(\"Accuracy:\", accuracy)\n",
        "print(\"Specificity:\", specificity)\n",
        "print(\"Sensitivity:\", sensitivity)\n",
        "print(\"PPV:\", ppv)\n",
        "print(\"NPV:\", npv)"
      ],
      "metadata": {
        "id": "l9eoweOMIJTJ"
      },
      "execution_count": null,
      "outputs": []
    },
    {
      "cell_type": "markdown",
      "source": [
        "The graphs above with a heavy fluctuation of model validation loss at the start indicates that my initial learning rate may be too high. However as both curves eventually start to move to each other, it is concluded that the network's traning graph is likely to have one big global minima (second image) rather than many local minima (first image). This means that the learning rate shouldn't have too much of an effect on the network and the network's performace is near maximised at 91% accuracy."
      ],
      "metadata": {
        "id": "I8SYelvlING9"
      }
    },
    {
      "cell_type": "markdown",
      "source": [
        "## Xception"
      ],
      "metadata": {
        "id": "k09NYVvNIfde"
      }
    },
    {
      "cell_type": "markdown",
      "source": [
        "### Defining Model"
      ],
      "metadata": {
        "id": "hGjcS5QBIlsM"
      }
    },
    {
      "cell_type": "code",
      "source": [
        "EPOCHS = 20\n",
        "with strategy.scope():\n",
        "    pretrained_model = tf.keras.applications.Xception(\n",
        "        weights='imagenet',\n",
        "        include_top=False ,\n",
        "        input_shape=[*IMAGE_SIZE, 3]\n",
        "        \n",
        "    )\n",
        "    pretrained_model.trainable = False\n",
        "    \n",
        "    modelThree = tf.keras.Sequential([\n",
        "        pretrained_model,\n",
        "        tf.keras.layers.GlobalAveragePooling2D(),\n",
        "        tf.keras.layers.BatchNormalization(),  \n",
        "        tf.keras.layers.Dense(1024, activation = \"relu\"),\n",
        "        tf.keras.layers.BatchNormalization(),  \n",
        "        tf.keras.layers.Dropout(0.25),\n",
        "        tf.keras.layers.Dense(2048, activation = \"relu\"),\n",
        "        tf.keras.layers.BatchNormalization(),  \n",
        "        tf.keras.layers.Dropout(0.3),\n",
        "        tf.keras.layers.Dense(4096, activation = \"relu\"),\n",
        "        tf.keras.layers.BatchNormalization(),  \n",
        "        tf.keras.layers.Dropout(0.5),\n",
        "        tf.keras.layers.Dense(2048, activation = \"relu\"),\n",
        "        tf.keras.layers.BatchNormalization(), \n",
        "        tf.keras.layers.Dropout(0.3),\n",
        "        tf.keras.layers.Dense(1024, activation = \"relu\"),\n",
        "        tf.keras.layers.BatchNormalization(),  \n",
        "        tf.keras.layers.Dense(512, activation = \"relu\"),\n",
        "        tf.keras.layers.BatchNormalization(),  \n",
        "        tf.keras.layers.Dense(len(CLASSES), activation='softmax')\n",
        "    ])"
      ],
      "metadata": {
        "id": "0g7a9PkGIfHZ"
      },
      "execution_count": null,
      "outputs": []
    },
    {
      "cell_type": "code",
      "source": [
        "modelThree.compile(\n",
        "    optimizer='adam',\n",
        "    loss = 'sparse_categorical_crossentropy',\n",
        "    metrics=['sparse_categorical_accuracy'],\n",
        ")\n",
        "\n",
        "modelThree.summary()"
      ],
      "metadata": {
        "id": "V9F417GaJv55"
      },
      "execution_count": null,
      "outputs": []
    },
    {
      "cell_type": "code",
      "source": [
        "def adapt_learning_rate(epoch,\n",
        "                   start_lr = 0.0005, min_lr = 0.00005, max_lr = 0.0001,\n",
        "                   rampup_epochs = 6, sustain_epochs = 0,\n",
        "                   exp_decay = 0.8):\n",
        "\n",
        "    def lr(epoch, start_lr, min_lr, max_lr, rampup_epochs, sustain_epochs, exp_decay):\n",
        "        if epoch < rampup_epochs:\n",
        "            lr = ((max_lr - start_lr) /\n",
        "                  rampup_epochs * epoch + start_lr)\n",
        "        elif epoch < rampup_epochs + sustain_epochs:\n",
        "            lr = max_lr\n",
        "        else:\n",
        "            lr = ((max_lr - min_lr) *\n",
        "                  exp_decay**(epoch - rampup_epochs - sustain_epochs) +\n",
        "                  min_lr)\n",
        "        return lr\n",
        "    return lr(epoch,\n",
        "              start_lr,\n",
        "              min_lr,\n",
        "              max_lr,\n",
        "              rampup_epochs,\n",
        "              sustain_epochs,\n",
        "              exp_decay)\n",
        "\n",
        "lr_callback = tf.keras.callbacks.LearningRateScheduler(adapt_learning_rate, verbose=True)\n",
        "\n",
        "rng = [i for i in range(EPOCHS)]\n",
        "y = [adapt_learning_rate(x) for x in rng]\n",
        "plt.plot(rng, y)\n",
        "print(\"Learning rate schedule: {:.3g} to {:.3g} to {:.3g}\".format(y[0], max(y), y[-1]))"
      ],
      "metadata": {
        "id": "VxoPANzQJ0s3"
      },
      "execution_count": null,
      "outputs": []
    },
    {
      "cell_type": "code",
      "source": [
        "# Define training epochs\n",
        "EPOCHS = 20\n",
        "STEPS_PER_EPOCH = NUM_TRAINING_IMAGES // BATCH_SIZE\n",
        "\n",
        "history = modelThree.fit(\n",
        "    ds_train,\n",
        "    validation_data=ds_valid,\n",
        "    epochs=EPOCHS,\n",
        "    steps_per_epoch=STEPS_PER_EPOCH,\n",
        "    callbacks=[lr_callback],\n",
        ")"
      ],
      "metadata": {
        "id": "CCY3rmsmJ1lF"
      },
      "execution_count": null,
      "outputs": []
    },
    {
      "cell_type": "markdown",
      "source": [
        "### Model Overview"
      ],
      "metadata": {
        "id": "smuzu-6wIr64"
      }
    },
    {
      "cell_type": "code",
      "source": [
        "display_training_curves(\n",
        "    history.history['loss'],\n",
        "    history.history['val_loss'],\n",
        "    'loss',\n",
        "    211,\n",
        ")\n",
        "display_training_curves(\n",
        "    history.history['sparse_categorical_accuracy'],\n",
        "    history.history['val_sparse_categorical_accuracy'],\n",
        "    'accuracy',\n",
        "    212,\n",
        ")"
      ],
      "metadata": {
        "id": "N5HXodU5J49A"
      },
      "execution_count": null,
      "outputs": []
    },
    {
      "cell_type": "code",
      "source": [
        "from sklearn.metrics import confusion_matrix\n",
        "\n",
        "cmdataset = get_validation_dataset(ordered=True)\n",
        "images_ds = cmdataset.map(lambda image, label: image)\n",
        "labels_ds = cmdataset.map(lambda image, label: label).unbatch()\n",
        "\n",
        "cm_correct_labels = next(iter(labels_ds.batch(NUM_VALIDATION_IMAGES))).numpy()\n",
        "cm_probabilities = modelThree.predict(images_ds)\n",
        "cm_predictions = np.argmax(cm_probabilities, axis=-1)\n",
        "\n",
        "labels = range(len(CLASSES))\n",
        "cmat = confusion_matrix(\n",
        "    cm_correct_labels,\n",
        "    cm_predictions,\n",
        "    labels=labels,\n",
        ")\n",
        "cmat = (cmat.T / cmat.sum(axis=1)).T # normalize"
      ],
      "metadata": {
        "id": "k0_FnoNqJ6-T"
      },
      "execution_count": null,
      "outputs": []
    },
    {
      "cell_type": "code",
      "source": [
        "from sklearn.metrics import f1_score, precision_score, recall_score, confusion_matrix\n",
        "\n",
        "score = f1_score(\n",
        "    cm_correct_labels,\n",
        "    cm_predictions,\n",
        "    labels=labels,\n",
        "    average='macro',\n",
        ")\n",
        "precision = precision_score(\n",
        "    cm_correct_labels,\n",
        "    cm_predictions,\n",
        "    labels=labels,\n",
        "    average='macro',\n",
        ")\n",
        "recall = recall_score(\n",
        "    cm_correct_labels,\n",
        "    cm_predictions,\n",
        "    labels=labels,\n",
        "    average='macro',\n",
        ")\n",
        "display_confusion_matrix(cmat, score, precision, recall)"
      ],
      "metadata": {
        "id": "SHLMUGRhKAHg"
      },
      "execution_count": null,
      "outputs": []
    },
    {
      "cell_type": "code",
      "source": [
        "import numpy as np\n",
        "\n",
        "confusion = confusion_matrix(\n",
        "    cm_correct_labels,\n",
        "    cm_predictions,\n",
        "    labels=labels,\n",
        ")\n",
        "\n",
        "total = np.sum(confusion)\n",
        "accuracy = np.trace(confusion) / float(total)\n",
        "specificity = np.diag(confusion)[0] / np.sum(confusion[0])\n",
        "sensitivity = np.diag(confusion)[1] / np.sum(confusion[1])\n",
        "ppv = np.diag(confusion)[1] / np.sum(confusion[:, 1])\n",
        "npv = np.diag(confusion)[0] / np.sum(confusion[:, 0])\n",
        "\n",
        "# Print the results\n",
        "print(\"Accuracy:\", accuracy)\n",
        "print(\"Specificity:\", specificity)\n",
        "print(\"Sensitivity:\", sensitivity)\n",
        "print(\"PPV:\", ppv)\n",
        "print(\"NPV:\", npv)"
      ],
      "metadata": {
        "id": "Y_XG3hhGKCYf"
      },
      "execution_count": null,
      "outputs": []
    },
    {
      "cell_type": "markdown",
      "source": [
        "# Step 7: Evaluate Predictions"
      ],
      "metadata": {
        "id": "_plhqfBFEQdq"
      }
    },
    {
      "cell_type": "code",
      "source": [],
      "metadata": {
        "id": "rOHVp78aERu-"
      },
      "execution_count": null,
      "outputs": []
    },
    {
      "cell_type": "markdown",
      "source": [
        "# Step 8: Make Test Predictions"
      ],
      "metadata": {
        "id": "tb2haAJMEYni"
      }
    },
    {
      "cell_type": "code",
      "source": [],
      "metadata": {
        "id": "1IbSltFEEbxe"
      },
      "execution_count": null,
      "outputs": []
    },
    {
      "cell_type": "markdown",
      "source": [
        "# Step 9: Make a submission"
      ],
      "metadata": {
        "id": "brpjwmyMEcMe"
      }
    },
    {
      "cell_type": "code",
      "source": [],
      "metadata": {
        "id": "PpwxImUbEdm2"
      },
      "execution_count": null,
      "outputs": []
    }
  ]
}