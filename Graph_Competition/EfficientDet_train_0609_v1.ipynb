{
  "nbformat": 4,
  "nbformat_minor": 0,
  "metadata": {
    "colab": {
      "provenance": [],
      "toc_visible": true,
      "gpuType": "T4",
      "include_colab_link": true
    },
    "kernelspec": {
      "name": "python3",
      "display_name": "Python 3"
    },
    "language_info": {
      "name": "python"
    },
    "accelerator": "GPU"
  },
  "cells": [
    {
      "cell_type": "markdown",
      "metadata": {
        "id": "view-in-github",
        "colab_type": "text"
      },
      "source": [
        "<a href=\"https://colab.research.google.com/github/SJin765/class_AI4dl/blob/main/Graph_Competition/EfficientDet_train_0609_v1.ipynb\" target=\"_parent\"><img src=\"https://colab.research.google.com/assets/colab-badge.svg\" alt=\"Open In Colab\"/></a>"
      ]
    },
    {
      "cell_type": "markdown",
      "source": [
        "Benetech | EfficientDet [Train]\n",
        "\n",
        "https://www.kaggle.com/code/alejopaullier/benetech-efficientdet-train\n",
        "\n",
        "Benetech | Create Bounding Box Dataframe\n",
        "\n",
        "https://www.kaggle.com/code/alejopaullier/benetech-create-bounding-box-dataframe"
      ],
      "metadata": {
        "id": "h4nATJM3hNQc"
      }
    },
    {
      "cell_type": "markdown",
      "source": [
        "# Import EfficientDet, Pytorch"
      ],
      "metadata": {
        "id": "S-0ng6X7hfcC"
      }
    },
    {
      "cell_type": "code",
      "source": [
        "!pip install pycocotools"
      ],
      "metadata": {
        "id": "n7i2KEXJht4P",
        "colab": {
          "base_uri": "https://localhost:8080/"
        },
        "outputId": "ef35a3e7-c02a-4da4-9cf6-acbfc3cb6ed8"
      },
      "execution_count": 1,
      "outputs": [
        {
          "output_type": "stream",
          "name": "stdout",
          "text": [
            "Looking in indexes: https://pypi.org/simple, https://us-python.pkg.dev/colab-wheels/public/simple/\n",
            "Requirement already satisfied: pycocotools in /usr/local/lib/python3.10/dist-packages (2.0.6)\n",
            "Requirement already satisfied: matplotlib>=2.1.0 in /usr/local/lib/python3.10/dist-packages (from pycocotools) (3.7.1)\n",
            "Requirement already satisfied: numpy in /usr/local/lib/python3.10/dist-packages (from pycocotools) (1.22.4)\n",
            "Requirement already satisfied: contourpy>=1.0.1 in /usr/local/lib/python3.10/dist-packages (from matplotlib>=2.1.0->pycocotools) (1.0.7)\n",
            "Requirement already satisfied: cycler>=0.10 in /usr/local/lib/python3.10/dist-packages (from matplotlib>=2.1.0->pycocotools) (0.11.0)\n",
            "Requirement already satisfied: fonttools>=4.22.0 in /usr/local/lib/python3.10/dist-packages (from matplotlib>=2.1.0->pycocotools) (4.39.3)\n",
            "Requirement already satisfied: kiwisolver>=1.0.1 in /usr/local/lib/python3.10/dist-packages (from matplotlib>=2.1.0->pycocotools) (1.4.4)\n",
            "Requirement already satisfied: packaging>=20.0 in /usr/local/lib/python3.10/dist-packages (from matplotlib>=2.1.0->pycocotools) (23.1)\n",
            "Requirement already satisfied: pillow>=6.2.0 in /usr/local/lib/python3.10/dist-packages (from matplotlib>=2.1.0->pycocotools) (8.4.0)\n",
            "Requirement already satisfied: pyparsing>=2.3.1 in /usr/local/lib/python3.10/dist-packages (from matplotlib>=2.1.0->pycocotools) (3.0.9)\n",
            "Requirement already satisfied: python-dateutil>=2.7 in /usr/local/lib/python3.10/dist-packages (from matplotlib>=2.1.0->pycocotools) (2.8.2)\n",
            "Requirement already satisfied: six>=1.5 in /usr/local/lib/python3.10/dist-packages (from python-dateutil>=2.7->matplotlib>=2.1.0->pycocotools) (1.16.0)\n"
          ]
        }
      ]
    },
    {
      "cell_type": "code",
      "source": [
        "!pip install timm"
      ],
      "metadata": {
        "id": "-NQ39PDmMndi",
        "colab": {
          "base_uri": "https://localhost:8080/"
        },
        "outputId": "0b1130d3-059d-4fd5-ad4c-69cd33b40fb8"
      },
      "execution_count": 2,
      "outputs": [
        {
          "output_type": "stream",
          "name": "stdout",
          "text": [
            "Looking in indexes: https://pypi.org/simple, https://us-python.pkg.dev/colab-wheels/public/simple/\n",
            "Collecting timm\n",
            "  Downloading timm-0.9.2-py3-none-any.whl (2.2 MB)\n",
            "\u001b[2K     \u001b[90m━━━━━━━━━━━━━━━━━━━━━━━━━━━━━━━━━━━━━━━━\u001b[0m \u001b[32m2.2/2.2 MB\u001b[0m \u001b[31m43.1 MB/s\u001b[0m eta \u001b[36m0:00:00\u001b[0m\n",
            "\u001b[?25hRequirement already satisfied: torch>=1.7 in /usr/local/lib/python3.10/dist-packages (from timm) (2.0.1+cu118)\n",
            "Requirement already satisfied: torchvision in /usr/local/lib/python3.10/dist-packages (from timm) (0.15.2+cu118)\n",
            "Requirement already satisfied: pyyaml in /usr/local/lib/python3.10/dist-packages (from timm) (6.0)\n",
            "Collecting huggingface-hub (from timm)\n",
            "  Downloading huggingface_hub-0.15.1-py3-none-any.whl (236 kB)\n",
            "\u001b[2K     \u001b[90m━━━━━━━━━━━━━━━━━━━━━━━━━━━━━━━━━━━━━━\u001b[0m \u001b[32m236.8/236.8 kB\u001b[0m \u001b[31m24.2 MB/s\u001b[0m eta \u001b[36m0:00:00\u001b[0m\n",
            "\u001b[?25hCollecting safetensors (from timm)\n",
            "  Downloading safetensors-0.3.1-cp310-cp310-manylinux_2_17_x86_64.manylinux2014_x86_64.whl (1.3 MB)\n",
            "\u001b[2K     \u001b[90m━━━━━━━━━━━━━━━━━━━━━━━━━━━━━━━━━━━━━━━━\u001b[0m \u001b[32m1.3/1.3 MB\u001b[0m \u001b[31m76.7 MB/s\u001b[0m eta \u001b[36m0:00:00\u001b[0m\n",
            "\u001b[?25hRequirement already satisfied: filelock in /usr/local/lib/python3.10/dist-packages (from torch>=1.7->timm) (3.12.0)\n",
            "Requirement already satisfied: typing-extensions in /usr/local/lib/python3.10/dist-packages (from torch>=1.7->timm) (4.5.0)\n",
            "Requirement already satisfied: sympy in /usr/local/lib/python3.10/dist-packages (from torch>=1.7->timm) (1.11.1)\n",
            "Requirement already satisfied: networkx in /usr/local/lib/python3.10/dist-packages (from torch>=1.7->timm) (3.1)\n",
            "Requirement already satisfied: jinja2 in /usr/local/lib/python3.10/dist-packages (from torch>=1.7->timm) (3.1.2)\n",
            "Requirement already satisfied: triton==2.0.0 in /usr/local/lib/python3.10/dist-packages (from torch>=1.7->timm) (2.0.0)\n",
            "Requirement already satisfied: cmake in /usr/local/lib/python3.10/dist-packages (from triton==2.0.0->torch>=1.7->timm) (3.25.2)\n",
            "Requirement already satisfied: lit in /usr/local/lib/python3.10/dist-packages (from triton==2.0.0->torch>=1.7->timm) (16.0.5)\n",
            "Requirement already satisfied: fsspec in /usr/local/lib/python3.10/dist-packages (from huggingface-hub->timm) (2023.4.0)\n",
            "Requirement already satisfied: requests in /usr/local/lib/python3.10/dist-packages (from huggingface-hub->timm) (2.27.1)\n",
            "Requirement already satisfied: tqdm>=4.42.1 in /usr/local/lib/python3.10/dist-packages (from huggingface-hub->timm) (4.65.0)\n",
            "Requirement already satisfied: packaging>=20.9 in /usr/local/lib/python3.10/dist-packages (from huggingface-hub->timm) (23.1)\n",
            "Requirement already satisfied: numpy in /usr/local/lib/python3.10/dist-packages (from torchvision->timm) (1.22.4)\n",
            "Requirement already satisfied: pillow!=8.3.*,>=5.3.0 in /usr/local/lib/python3.10/dist-packages (from torchvision->timm) (8.4.0)\n",
            "Requirement already satisfied: MarkupSafe>=2.0 in /usr/local/lib/python3.10/dist-packages (from jinja2->torch>=1.7->timm) (2.1.2)\n",
            "Requirement already satisfied: urllib3<1.27,>=1.21.1 in /usr/local/lib/python3.10/dist-packages (from requests->huggingface-hub->timm) (1.26.15)\n",
            "Requirement already satisfied: certifi>=2017.4.17 in /usr/local/lib/python3.10/dist-packages (from requests->huggingface-hub->timm) (2022.12.7)\n",
            "Requirement already satisfied: charset-normalizer~=2.0.0 in /usr/local/lib/python3.10/dist-packages (from requests->huggingface-hub->timm) (2.0.12)\n",
            "Requirement already satisfied: idna<4,>=2.5 in /usr/local/lib/python3.10/dist-packages (from requests->huggingface-hub->timm) (3.4)\n",
            "Requirement already satisfied: mpmath>=0.19 in /usr/local/lib/python3.10/dist-packages (from sympy->torch>=1.7->timm) (1.3.0)\n",
            "Installing collected packages: safetensors, huggingface-hub, timm\n",
            "Successfully installed huggingface-hub-0.15.1 safetensors-0.3.1 timm-0.9.2\n"
          ]
        }
      ]
    },
    {
      "cell_type": "code",
      "source": [
        "!pip install colorama"
      ],
      "metadata": {
        "colab": {
          "base_uri": "https://localhost:8080/"
        },
        "id": "aljPIojdNGQD",
        "outputId": "662bc0bd-bcc7-438e-9768-7dbf4ceac4a5"
      },
      "execution_count": 3,
      "outputs": [
        {
          "output_type": "stream",
          "name": "stdout",
          "text": [
            "Looking in indexes: https://pypi.org/simple, https://us-python.pkg.dev/colab-wheels/public/simple/\n",
            "Collecting colorama\n",
            "  Downloading colorama-0.4.6-py2.py3-none-any.whl (25 kB)\n",
            "Installing collected packages: colorama\n",
            "Successfully installed colorama-0.4.6\n"
          ]
        }
      ]
    },
    {
      "cell_type": "code",
      "execution_count": 4,
      "metadata": {
        "id": "LFVsMVjqhMsg",
        "colab": {
          "base_uri": "https://localhost:8080/"
        },
        "outputId": "22ce4134-425e-4089-b50f-03800a6de459"
      },
      "outputs": [
        {
          "output_type": "stream",
          "name": "stdout",
          "text": [
            "There are 2 CPUs available\n",
            "\n"
          ]
        }
      ],
      "source": [
        "import sys\n",
        "sys.path.insert(0, \"../input/timm-efficientdet-pytorch\")\n",
        "sys.path.insert(0, \"../input/omegaconf\")\n",
        "sys.path.insert(0, \"../input/albumentations\")\n",
        "\n",
        "import albumentations as A\n",
        "import copy\n",
        "import cv2\n",
        "import gc\n",
        "import matplotlib.pyplot as plt\n",
        "import multiprocessing\n",
        "import numpy as np\n",
        "import os\n",
        "import pandas as pd\n",
        "import PIL\n",
        "import random\n",
        "import time\n",
        "import timm\n",
        "import torch\n",
        "import torch.nn as nn\n",
        "\n",
        "\n",
        "from albumentations.pytorch.transforms import ToTensorV2\n",
        "from colorama import Fore, Back, Style\n",
        "from datetime import datetime, timedelta\n",
        "from glob import glob\n",
        "from pprint import pprint\n",
        "from sklearn.model_selection import KFold, GroupKFold, StratifiedKFold\n",
        "from torch.utils.data import Dataset, DataLoader\n",
        "from torch.utils.data.sampler import SequentialSampler, RandomSampler\n",
        "from torch.optim import lr_scheduler\n",
        "from tqdm import tqdm\n",
        "\n",
        "\n",
        "c_  = Fore.GREEN\n",
        "sr_ = Style.RESET_ALL\n",
        "print(f\"There are {multiprocessing.cpu_count()} CPUs available\")\n",
        "print()\n",
        "!mkdir logs\n",
        "!mkdir saved_models"
      ]
    },
    {
      "cell_type": "markdown",
      "source": [
        "# Value Error 대처 시도"
      ],
      "metadata": {
        "id": "ZysnY0P_7y2Q"
      }
    },
    {
      "cell_type": "markdown",
      "source": [
        "Value error를 해결하기 위한 방법\n",
        "\n",
        "\n",
        ": albumentations 패키지를 이용한 Augmentation 과정에서 문제가 생겼을 가능성이 큼.\n",
        "albumentations 패키지 설치 위치의 bbox_utils.py 파일 을 수정해야함.\n",
        "코랩은 직접적인 패키지 로컬파일 수정 기능을 제공하지 않으므로, 미리 수정해둔 bbox_utils.py 파일을 코랩에 업로드 한 후 덮어씌우는 방식으로 수정."
      ],
      "metadata": {
        "id": "j5j8bF1t5dpD"
      }
    },
    {
      "cell_type": "code",
      "source": [
        "# 추가하여 수정할 코드\n",
        "\n",
        "def normalize_bbox(bbox: Sequence, rows: int, cols: int) -> Tuple:\n",
        "x_min, x_max = max(0, x_min / cols), min(1, x_max / cols)\n",
        "y_min, y_max = max(0, y_min / rows), min(1, y_max / rows)\n",
        "\n",
        "def check_bbox(bbox):\n",
        "    \"\"\"Check if bbox boundaries are in range 0, 1 and minimums are lesser then maximums\"\"\"\n",
        "   #my added block \n",
        "    bbox=list(bbox)\n",
        "    for i in range(4):\n",
        "      if (bbox[i]<0) :\n",
        "        bbox[i]=0\n",
        "      elif (bbox[i]>1) :\n",
        "        bbox[i]=1\n",
        "    bbox=tuple(bbox)\n",
        "   #end of block\n",
        "   #rest of the code as it is"
      ],
      "metadata": {
        "id": "cG9mpwNI75UY"
      },
      "execution_count": null,
      "outputs": []
    },
    {
      "cell_type": "code",
      "source": [
        "# albumentations 패키지 경로 알아보기\n",
        "print(A.__file__)"
      ],
      "metadata": {
        "id": "o0c15o05zoBL",
        "outputId": "a8cf265f-030c-41ce-cb5d-77d129fdcb21",
        "colab": {
          "base_uri": "https://localhost:8080/"
        }
      },
      "execution_count": 5,
      "outputs": [
        {
          "output_type": "stream",
          "name": "stdout",
          "text": [
            "/usr/local/lib/python3.10/dist-packages/albumentations/__init__.py\n"
          ]
        }
      ]
    },
    {
      "cell_type": "code",
      "source": [
        "# 수정한 bbox_utils.py 업로드 후 패키지 파일 교체\n",
        "import os\n",
        "os.rename('/bbox_utils.py', '/usr/local/lib/python3.10/dist-packages/albumentations/core/bbox_utils.py')"
      ],
      "metadata": {
        "id": "cLxgxOdt0OLe"
      },
      "execution_count": 30,
      "outputs": []
    },
    {
      "cell_type": "code",
      "source": [
        "from google.colab import drive\n",
        "drive.mount('/content/drive')"
      ],
      "metadata": {
        "id": "OoTRgf5wz5-1",
        "outputId": "cafe7a05-c4f9-4c30-fb6a-10474afee7fa",
        "colab": {
          "base_uri": "https://localhost:8080/"
        }
      },
      "execution_count": 6,
      "outputs": [
        {
          "output_type": "stream",
          "name": "stdout",
          "text": [
            "Mounted at /content/drive\n"
          ]
        }
      ]
    },
    {
      "cell_type": "markdown",
      "source": [
        "# Configuration"
      ],
      "metadata": {
        "id": "MkvR2N0OjfGV"
      }
    },
    {
      "cell_type": "markdown",
      "source": [
        "## Hyperparameter"
      ],
      "metadata": {
        "id": "HjZPmvl0jomK"
      }
    },
    {
      "cell_type": "code",
      "source": [
        "# 구글 드라이브에 내가 올려놓은 파일을 이용할 경우\n",
        "# 드라이브 마운트\n",
        "from google.colab import drive\n",
        "drive.mount('/content/drive')\n",
        "\n",
        "# file_path = '/content/drive/MyDrive/benetech-making-graphs-accessible'"
      ],
      "metadata": {
        "id": "5m_3fUkAkca9",
        "outputId": "1c9a468f-ea1e-41d2-83fa-725cbe4927b8",
        "colab": {
          "base_uri": "https://localhost:8080/"
        }
      },
      "execution_count": null,
      "outputs": [
        {
          "output_type": "stream",
          "name": "stdout",
          "text": [
            "Drive already mounted at /content/drive; to attempt to forcibly remount, call drive.mount(\"/content/drive\", force_remount=True).\n"
          ]
        }
      ]
    },
    {
      "cell_type": "code",
      "source": [
        "# 드라이브 내 압축풀기\n",
        "import zipfile\n",
        "\n",
        "zip_file_path = '/content/drive/MyDrive/benetech-making-graphs-accessible.zip'\n",
        "extract_path = '/content/drive/MyDrive/benetech-making-graphs-accessible'\n",
        "\n",
        "# 압축 파일 열기\n",
        "with zipfile.ZipFile(zip_file_path, 'r') as zip_file:\n",
        "    # 압축 파일 내 폴더 목록 확인\n",
        "    folder_list = [name for name in zip_file.namelist() if name.endswith('/')]\n",
        "\n",
        "    # 폴더 내용물 확인\n",
        "    for folder_name in folder_list:\n",
        "        print(f\"Folder: {folder_name}\")\n",
        "        file_list = zip_file.namelist()\n",
        "\n",
        "        # 폴더 내 파일 목록 확인\n",
        "        for file_name in file_list:\n",
        "            if file_name.startswith(folder_name) and not file_name.endswith('/'):\n",
        "                print(f\"File: {file_name}\")\n",
        "\n",
        "    # 압축 파일 해제\n",
        "    zip_file.extractall(extract_path)"
      ],
      "metadata": {
        "id": "0b7_7JV9aRlR"
      },
      "execution_count": null,
      "outputs": []
    },
    {
      "cell_type": "code",
      "source": [
        "class config:\n",
        "    BATCH_SIZE_TRAIN = 4\n",
        "    BATCH_SIZE_VALID = 2\n",
        "    DEBUG = False\n",
        "    DEVICE = torch.device(\"cuda:0\" if torch.cuda.is_available() else \"cpu\")\n",
        "    EPOCHS = 5\n",
        "    FOLDS = 5\n",
        "    LR = 2e-4\n",
        "    MIN_LR = 1e-6\n",
        "    NUM_WORKERS = multiprocessing.cpu_count()\n",
        "    RESOLUTION = 512\n",
        "    SAMPLE = 30_000\n",
        "    SEED = 42\n",
        "    SCHEDULER = 'CosineAnnealingLR'\n",
        "    T_0 = 25\n",
        "    T_MAX = int(30_000/BATCH_SIZE_TRAIN*EPOCHS)+50\n",
        "    WARMUP_EPOCHS = 0\n",
        "    WEIGHT_DECAY = 1e-6\n",
        "    \n",
        "    \n",
        "class paths:\n",
        "    TRAIN_ANNOTATIONS_FOLDER = \"/content/drive/MyDrive/benetech-making-graphs-accessible/train/annotations/\"\n",
        "    TRAIN_IMAGES_FOLDER = \"/content/drive/MyDrive/benetech-making-graphs-accessible/train/images/\""
      ],
      "metadata": {
        "id": "QEnUANNZh9Ke"
      },
      "execution_count": 11,
      "outputs": []
    },
    {
      "cell_type": "markdown",
      "source": [
        "## Utils"
      ],
      "metadata": {
        "id": "XvmfDgG3jWo5"
      }
    },
    {
      "cell_type": "code",
      "source": [
        "def get_stoi(df):\n",
        "    \"\"\"Get String to Index dictionary\"\"\"\n",
        "    stoi = {}\n",
        "    for idx, string in enumerate(df.label.unique()):\n",
        "        stoi[string] = idx + 1\n",
        "    itos = {item[1]: item[0] for item in stoi.items()}\n",
        "    df = df.replace({\"label\": stoi})\n",
        "    return stoi\n",
        "\n",
        "\n",
        "def seed_everything(seed):\n",
        "    random.seed(seed)\n",
        "    os.environ['PYTHONHASHSEED'] = str(seed)\n",
        "    np.random.seed(seed)\n",
        "    torch.manual_seed(seed)\n",
        "    torch.cuda.manual_seed(seed)\n",
        "    torch.backends.cudnn.deterministic = True\n",
        "    torch.backends.cudnn.benchmark = True\n",
        "\n",
        "seed_everything(config.SEED)"
      ],
      "metadata": {
        "id": "TsowBJJAjYmM"
      },
      "execution_count": 12,
      "outputs": []
    },
    {
      "cell_type": "markdown",
      "source": [
        "## Create Bounding Box Dataframe"
      ],
      "metadata": {
        "id": "SgUAIoIHfcvz"
      }
    },
    {
      "cell_type": "code",
      "source": [
        "import cv2\n",
        "import json\n",
        "import matplotlib.pyplot as plt\n",
        "import pandas as pd\n",
        "import random\n",
        "import shutil\n",
        "\n",
        "\n",
        "from glob import glob\n",
        "from tqdm import tqdm\n",
        "\n",
        "!mkdir images"
      ],
      "metadata": {
        "id": "lWPtxN0ffdLJ"
      },
      "execution_count": 13,
      "outputs": []
    },
    {
      "cell_type": "code",
      "source": [
        "def extract_plot_bb(data):\n",
        "    x0 = data[\"plot-bb\"][\"x0\"]\n",
        "    y0 = data[\"plot-bb\"][\"y0\"]\n",
        "    w = data[\"plot-bb\"][\"width\"]\n",
        "    h = data[\"plot-bb\"][\"height\"]\n",
        "    return [x0, y0, w, h, \"plot-bb\"]\n",
        "\n",
        "\n",
        "def extract_label_bbox(data, rows, img_id):\n",
        "    common = []\n",
        "    common+= [img_id, data[\"source\"], data[\"chart-type\"]]\n",
        "    for box in data[\"text\"]:\n",
        "        x0 = box[\"polygon\"][\"x0\"]\n",
        "        y0 = box[\"polygon\"][\"y0\"]\n",
        "        w = box[\"polygon\"][\"x1\"] - box[\"polygon\"][\"x0\"]\n",
        "        h = box[\"polygon\"][\"y3\"] - box[\"polygon\"][\"y0\"]\n",
        "        label = box[\"role\"]\n",
        "        box_row = common + [x0, y0, w, h, label]\n",
        "        rows.append(box_row)\n",
        "    rows.append(common + extract_plot_bb(data)) \n",
        "    return rows\n",
        "        \n",
        "def extract_tick_bbox(data, rows, img_id):\n",
        "    common = []\n",
        "    common+= [img_id , data[\"source\"], data[\"chart-type\"]]\n",
        "    for axis in data[\"axes\"].keys():\n",
        "        for box in data[\"axes\"][axis][\"ticks\"]:\n",
        "            x0 = box[\"tick_pt\"][\"x\"] - 5\n",
        "            y0 = box[\"tick_pt\"][\"y\"] - 5\n",
        "            w = 10\n",
        "            h = 10\n",
        "            label = axis + \"-tick\"\n",
        "            box_row = common + [x0, y0, w, h, label]\n",
        "            rows.append(box_row)\n",
        "    return rows"
      ],
      "metadata": {
        "id": "zCp-GD8yf_4p"
      },
      "execution_count": 14,
      "outputs": []
    },
    {
      "cell_type": "code",
      "source": [
        "# 자신의 train 데이터 annotations 폴더 지정\n",
        "ANNOTATION = \"/content/drive/MyDrive/benetech-making-graphs-accessible/train/annotations/*.json\"\n",
        "rows = []\n",
        "for file_name in tqdm(glob(ANNOTATION)):\n",
        "    label_bbox = []\n",
        "    tick_bbox = []\n",
        "    with open(file_name) as f:\n",
        "        data = json.load(f)\n",
        "        img_id = file_name.split(\"/\")[-1].split(\".\")[0]\n",
        "        label_bbox = extract_label_bbox(data, label_bbox, img_id)\n",
        "        tick_bbox = extract_tick_bbox(data, tick_bbox, img_id)\n",
        "        data_rows = label_bbox + tick_bbox\n",
        "    rows += data_rows"
      ],
      "metadata": {
        "colab": {
          "base_uri": "https://localhost:8080/"
        },
        "id": "MUt4aPj6gC55",
        "outputId": "9099585d-4940-49d5-fc1e-9e788ea783b4"
      },
      "execution_count": null,
      "outputs": [
        {
          "output_type": "stream",
          "name": "stderr",
          "text": [
            "100%|██████████| 60578/60578 [2:56:33<00:00,  5.72it/s]\n"
          ]
        }
      ]
    },
    {
      "cell_type": "code",
      "source": [
        "df = pd.DataFrame(rows)\n",
        "df.columns = [\"image_id\", \"source\", \"chart\", \"x0\", \"y0\", \"w\", \"h\", \"label\"]\n",
        "df.head()"
      ],
      "metadata": {
        "colab": {
          "base_uri": "https://localhost:8080/",
          "height": 206
        },
        "id": "9dTq21wsgWsb",
        "outputId": "3f219676-8fa9-4da7-a43d-252893534d85"
      },
      "execution_count": null,
      "outputs": [
        {
          "output_type": "execute_result",
          "data": {
            "text/plain": [
              "       image_id     source         chart   x0   y0   w    h        label\n",
              "0  fd8081cbe148  generated  vertical_bar  185   12  99   17  chart_title\n",
              "1  fd8081cbe148  generated  vertical_bar   17   60  11  114   axis_title\n",
              "2  fd8081cbe148  generated  vertical_bar  237  255  53   11   axis_title\n",
              "3  fd8081cbe148  generated  vertical_bar   33   43  27   12   tick_label\n",
              "4  fd8081cbe148  generated  vertical_bar   33   63  27   11   tick_label"
            ],
            "text/html": [
              "\n",
              "  <div id=\"df-cd0de687-a817-465b-a196-718312200b94\">\n",
              "    <div class=\"colab-df-container\">\n",
              "      <div>\n",
              "<style scoped>\n",
              "    .dataframe tbody tr th:only-of-type {\n",
              "        vertical-align: middle;\n",
              "    }\n",
              "\n",
              "    .dataframe tbody tr th {\n",
              "        vertical-align: top;\n",
              "    }\n",
              "\n",
              "    .dataframe thead th {\n",
              "        text-align: right;\n",
              "    }\n",
              "</style>\n",
              "<table border=\"1\" class=\"dataframe\">\n",
              "  <thead>\n",
              "    <tr style=\"text-align: right;\">\n",
              "      <th></th>\n",
              "      <th>image_id</th>\n",
              "      <th>source</th>\n",
              "      <th>chart</th>\n",
              "      <th>x0</th>\n",
              "      <th>y0</th>\n",
              "      <th>w</th>\n",
              "      <th>h</th>\n",
              "      <th>label</th>\n",
              "    </tr>\n",
              "  </thead>\n",
              "  <tbody>\n",
              "    <tr>\n",
              "      <th>0</th>\n",
              "      <td>fd8081cbe148</td>\n",
              "      <td>generated</td>\n",
              "      <td>vertical_bar</td>\n",
              "      <td>185</td>\n",
              "      <td>12</td>\n",
              "      <td>99</td>\n",
              "      <td>17</td>\n",
              "      <td>chart_title</td>\n",
              "    </tr>\n",
              "    <tr>\n",
              "      <th>1</th>\n",
              "      <td>fd8081cbe148</td>\n",
              "      <td>generated</td>\n",
              "      <td>vertical_bar</td>\n",
              "      <td>17</td>\n",
              "      <td>60</td>\n",
              "      <td>11</td>\n",
              "      <td>114</td>\n",
              "      <td>axis_title</td>\n",
              "    </tr>\n",
              "    <tr>\n",
              "      <th>2</th>\n",
              "      <td>fd8081cbe148</td>\n",
              "      <td>generated</td>\n",
              "      <td>vertical_bar</td>\n",
              "      <td>237</td>\n",
              "      <td>255</td>\n",
              "      <td>53</td>\n",
              "      <td>11</td>\n",
              "      <td>axis_title</td>\n",
              "    </tr>\n",
              "    <tr>\n",
              "      <th>3</th>\n",
              "      <td>fd8081cbe148</td>\n",
              "      <td>generated</td>\n",
              "      <td>vertical_bar</td>\n",
              "      <td>33</td>\n",
              "      <td>43</td>\n",
              "      <td>27</td>\n",
              "      <td>12</td>\n",
              "      <td>tick_label</td>\n",
              "    </tr>\n",
              "    <tr>\n",
              "      <th>4</th>\n",
              "      <td>fd8081cbe148</td>\n",
              "      <td>generated</td>\n",
              "      <td>vertical_bar</td>\n",
              "      <td>33</td>\n",
              "      <td>63</td>\n",
              "      <td>27</td>\n",
              "      <td>11</td>\n",
              "      <td>tick_label</td>\n",
              "    </tr>\n",
              "  </tbody>\n",
              "</table>\n",
              "</div>\n",
              "      <button class=\"colab-df-convert\" onclick=\"convertToInteractive('df-cd0de687-a817-465b-a196-718312200b94')\"\n",
              "              title=\"Convert this dataframe to an interactive table.\"\n",
              "              style=\"display:none;\">\n",
              "        \n",
              "  <svg xmlns=\"http://www.w3.org/2000/svg\" height=\"24px\"viewBox=\"0 0 24 24\"\n",
              "       width=\"24px\">\n",
              "    <path d=\"M0 0h24v24H0V0z\" fill=\"none\"/>\n",
              "    <path d=\"M18.56 5.44l.94 2.06.94-2.06 2.06-.94-2.06-.94-.94-2.06-.94 2.06-2.06.94zm-11 1L8.5 8.5l.94-2.06 2.06-.94-2.06-.94L8.5 2.5l-.94 2.06-2.06.94zm10 10l.94 2.06.94-2.06 2.06-.94-2.06-.94-.94-2.06-.94 2.06-2.06.94z\"/><path d=\"M17.41 7.96l-1.37-1.37c-.4-.4-.92-.59-1.43-.59-.52 0-1.04.2-1.43.59L10.3 9.45l-7.72 7.72c-.78.78-.78 2.05 0 2.83L4 21.41c.39.39.9.59 1.41.59.51 0 1.02-.2 1.41-.59l7.78-7.78 2.81-2.81c.8-.78.8-2.07 0-2.86zM5.41 20L4 18.59l7.72-7.72 1.47 1.35L5.41 20z\"/>\n",
              "  </svg>\n",
              "      </button>\n",
              "      \n",
              "  <style>\n",
              "    .colab-df-container {\n",
              "      display:flex;\n",
              "      flex-wrap:wrap;\n",
              "      gap: 12px;\n",
              "    }\n",
              "\n",
              "    .colab-df-convert {\n",
              "      background-color: #E8F0FE;\n",
              "      border: none;\n",
              "      border-radius: 50%;\n",
              "      cursor: pointer;\n",
              "      display: none;\n",
              "      fill: #1967D2;\n",
              "      height: 32px;\n",
              "      padding: 0 0 0 0;\n",
              "      width: 32px;\n",
              "    }\n",
              "\n",
              "    .colab-df-convert:hover {\n",
              "      background-color: #E2EBFA;\n",
              "      box-shadow: 0px 1px 2px rgba(60, 64, 67, 0.3), 0px 1px 3px 1px rgba(60, 64, 67, 0.15);\n",
              "      fill: #174EA6;\n",
              "    }\n",
              "\n",
              "    [theme=dark] .colab-df-convert {\n",
              "      background-color: #3B4455;\n",
              "      fill: #D2E3FC;\n",
              "    }\n",
              "\n",
              "    [theme=dark] .colab-df-convert:hover {\n",
              "      background-color: #434B5C;\n",
              "      box-shadow: 0px 1px 3px 1px rgba(0, 0, 0, 0.15);\n",
              "      filter: drop-shadow(0px 1px 2px rgba(0, 0, 0, 0.3));\n",
              "      fill: #FFFFFF;\n",
              "    }\n",
              "  </style>\n",
              "\n",
              "      <script>\n",
              "        const buttonEl =\n",
              "          document.querySelector('#df-cd0de687-a817-465b-a196-718312200b94 button.colab-df-convert');\n",
              "        buttonEl.style.display =\n",
              "          google.colab.kernel.accessAllowed ? 'block' : 'none';\n",
              "\n",
              "        async function convertToInteractive(key) {\n",
              "          const element = document.querySelector('#df-cd0de687-a817-465b-a196-718312200b94');\n",
              "          const dataTable =\n",
              "            await google.colab.kernel.invokeFunction('convertToInteractive',\n",
              "                                                     [key], {});\n",
              "          if (!dataTable) return;\n",
              "\n",
              "          const docLinkHtml = 'Like what you see? Visit the ' +\n",
              "            '<a target=\"_blank\" href=https://colab.research.google.com/notebooks/data_table.ipynb>data table notebook</a>'\n",
              "            + ' to learn more about interactive tables.';\n",
              "          element.innerHTML = '';\n",
              "          dataTable['output_type'] = 'display_data';\n",
              "          await google.colab.output.renderOutput(dataTable, element);\n",
              "          const docLink = document.createElement('div');\n",
              "          docLink.innerHTML = docLinkHtml;\n",
              "          element.appendChild(docLink);\n",
              "        }\n",
              "      </script>\n",
              "    </div>\n",
              "  </div>\n",
              "  "
            ]
          },
          "metadata": {},
          "execution_count": 19
        }
      ]
    },
    {
      "cell_type": "code",
      "source": [
        "# bounding box 시각화\n",
        "import matplotlib.patches as patches\n",
        "fig, ax = plt.subplots()\n",
        "plt.rcParams[\"figure.figsize\"] = (20,15)\n",
        "image_id = random.choice(df[\"image_id\"].unique().tolist())\n",
        "sample = df[df[\"image_id\"]==image_id]\n",
        "for index, row in sample.iterrows():\n",
        "    x0, y0, W, H = row[\"x0\"], row[\"y0\"], row[\"w\"], row[\"h\"]\n",
        "    rect = patches.Rectangle((x0, y0), W, H,\n",
        "                             linewidth=1,\n",
        "                             edgecolor='g',\n",
        "                             facecolor='none')\n",
        "    ax.add_patch(rect)\n",
        "\n",
        "TRAIN_FOLDER = \"/content/drive/MyDrive/benetech-making-graphs-accessible/train/images/\"\n",
        "image = cv2.imread(TRAIN_FOLDER + image_id + \".jpg\")\n",
        "\n",
        "# Display the image\n",
        "ax.imshow(image)\n",
        "plt.show()"
      ],
      "metadata": {
        "colab": {
          "base_uri": "https://localhost:8080/",
          "height": 362
        },
        "id": "mo3ezcsTgaZp",
        "outputId": "8a91ea94-dcdb-4670-f811-79eb0ae91f1c"
      },
      "execution_count": null,
      "outputs": [
        {
          "output_type": "display_data",
          "data": {
            "text/plain": [
              "<Figure size 640x480 with 1 Axes>"
            ],
            "image/png": "[encoded data removed]"
          },
          "metadata": {}
        }
      ]
    },
    {
      "cell_type": "code",
      "source": [
        "df.to_csv(\"/content/drive/MyDrive/benetech-making-graphs-accessible/train/train.csv\", index=False)"
      ],
      "metadata": {
        "id": "5eBMEH1xgcQq"
      },
      "execution_count": null,
      "outputs": []
    },
    {
      "cell_type": "markdown",
      "source": [
        "## Load Competition Data"
      ],
      "metadata": {
        "id": "g7SeKj6ih71-"
      }
    },
    {
      "cell_type": "code",
      "source": [
        "df = pd.read_csv(\"/content/drive/MyDrive/benetech-making-graphs-accessible/train/train.csv\")\n",
        "print(f\"Dataframe shape is: {df.shape}\")\n",
        "df.head()"
      ],
      "metadata": {
        "id": "sMz9AYHJkyJM",
        "colab": {
          "base_uri": "https://localhost:8080/",
          "height": 224
        },
        "outputId": "2fed8b7b-ed8b-4c05-ccb0-198841692c5b"
      },
      "execution_count": 15,
      "outputs": [
        {
          "output_type": "stream",
          "name": "stdout",
          "text": [
            "Dataframe shape is: (2600412, 8)\n"
          ]
        },
        {
          "output_type": "execute_result",
          "data": {
            "text/plain": [
              "       image_id     source         chart   x0   y0   w    h        label\n",
              "0  fd8081cbe148  generated  vertical_bar  185   12  99   17  chart_title\n",
              "1  fd8081cbe148  generated  vertical_bar   17   60  11  114   axis_title\n",
              "2  fd8081cbe148  generated  vertical_bar  237  255  53   11   axis_title\n",
              "3  fd8081cbe148  generated  vertical_bar   33   43  27   12   tick_label\n",
              "4  fd8081cbe148  generated  vertical_bar   33   63  27   11   tick_label"
            ],
            "text/html": [
              "\n",
              "  <div id=\"df-1bcf1c67-8a97-4529-8666-4e826cf25cc7\">\n",
              "    <div class=\"colab-df-container\">\n",
              "      <div>\n",
              "<style scoped>\n",
              "    .dataframe tbody tr th:only-of-type {\n",
              "        vertical-align: middle;\n",
              "    }\n",
              "\n",
              "    .dataframe tbody tr th {\n",
              "        vertical-align: top;\n",
              "    }\n",
              "\n",
              "    .dataframe thead th {\n",
              "        text-align: right;\n",
              "    }\n",
              "</style>\n",
              "<table border=\"1\" class=\"dataframe\">\n",
              "  <thead>\n",
              "    <tr style=\"text-align: right;\">\n",
              "      <th></th>\n",
              "      <th>image_id</th>\n",
              "      <th>source</th>\n",
              "      <th>chart</th>\n",
              "      <th>x0</th>\n",
              "      <th>y0</th>\n",
              "      <th>w</th>\n",
              "      <th>h</th>\n",
              "      <th>label</th>\n",
              "    </tr>\n",
              "  </thead>\n",
              "  <tbody>\n",
              "    <tr>\n",
              "      <th>0</th>\n",
              "      <td>fd8081cbe148</td>\n",
              "      <td>generated</td>\n",
              "      <td>vertical_bar</td>\n",
              "      <td>185</td>\n",
              "      <td>12</td>\n",
              "      <td>99</td>\n",
              "      <td>17</td>\n",
              "      <td>chart_title</td>\n",
              "    </tr>\n",
              "    <tr>\n",
              "      <th>1</th>\n",
              "      <td>fd8081cbe148</td>\n",
              "      <td>generated</td>\n",
              "      <td>vertical_bar</td>\n",
              "      <td>17</td>\n",
              "      <td>60</td>\n",
              "      <td>11</td>\n",
              "      <td>114</td>\n",
              "      <td>axis_title</td>\n",
              "    </tr>\n",
              "    <tr>\n",
              "      <th>2</th>\n",
              "      <td>fd8081cbe148</td>\n",
              "      <td>generated</td>\n",
              "      <td>vertical_bar</td>\n",
              "      <td>237</td>\n",
              "      <td>255</td>\n",
              "      <td>53</td>\n",
              "      <td>11</td>\n",
              "      <td>axis_title</td>\n",
              "    </tr>\n",
              "    <tr>\n",
              "      <th>3</th>\n",
              "      <td>fd8081cbe148</td>\n",
              "      <td>generated</td>\n",
              "      <td>vertical_bar</td>\n",
              "      <td>33</td>\n",
              "      <td>43</td>\n",
              "      <td>27</td>\n",
              "      <td>12</td>\n",
              "      <td>tick_label</td>\n",
              "    </tr>\n",
              "    <tr>\n",
              "      <th>4</th>\n",
              "      <td>fd8081cbe148</td>\n",
              "      <td>generated</td>\n",
              "      <td>vertical_bar</td>\n",
              "      <td>33</td>\n",
              "      <td>63</td>\n",
              "      <td>27</td>\n",
              "      <td>11</td>\n",
              "      <td>tick_label</td>\n",
              "    </tr>\n",
              "  </tbody>\n",
              "</table>\n",
              "</div>\n",
              "      <button class=\"colab-df-convert\" onclick=\"convertToInteractive('df-1bcf1c67-8a97-4529-8666-4e826cf25cc7')\"\n",
              "              title=\"Convert this dataframe to an interactive table.\"\n",
              "              style=\"display:none;\">\n",
              "        \n",
              "  <svg xmlns=\"http://www.w3.org/2000/svg\" height=\"24px\"viewBox=\"0 0 24 24\"\n",
              "       width=\"24px\">\n",
              "    <path d=\"M0 0h24v24H0V0z\" fill=\"none\"/>\n",
              "    <path d=\"M18.56 5.44l.94 2.06.94-2.06 2.06-.94-2.06-.94-.94-2.06-.94 2.06-2.06.94zm-11 1L8.5 8.5l.94-2.06 2.06-.94-2.06-.94L8.5 2.5l-.94 2.06-2.06.94zm10 10l.94 2.06.94-2.06 2.06-.94-2.06-.94-.94-2.06-.94 2.06-2.06.94z\"/><path d=\"M17.41 7.96l-1.37-1.37c-.4-.4-.92-.59-1.43-.59-.52 0-1.04.2-1.43.59L10.3 9.45l-7.72 7.72c-.78.78-.78 2.05 0 2.83L4 21.41c.39.39.9.59 1.41.59.51 0 1.02-.2 1.41-.59l7.78-7.78 2.81-2.81c.8-.78.8-2.07 0-2.86zM5.41 20L4 18.59l7.72-7.72 1.47 1.35L5.41 20z\"/>\n",
              "  </svg>\n",
              "      </button>\n",
              "      \n",
              "  <style>\n",
              "    .colab-df-container {\n",
              "      display:flex;\n",
              "      flex-wrap:wrap;\n",
              "      gap: 12px;\n",
              "    }\n",
              "\n",
              "    .colab-df-convert {\n",
              "      background-color: #E8F0FE;\n",
              "      border: none;\n",
              "      border-radius: 50%;\n",
              "      cursor: pointer;\n",
              "      display: none;\n",
              "      fill: #1967D2;\n",
              "      height: 32px;\n",
              "      padding: 0 0 0 0;\n",
              "      width: 32px;\n",
              "    }\n",
              "\n",
              "    .colab-df-convert:hover {\n",
              "      background-color: #E2EBFA;\n",
              "      box-shadow: 0px 1px 2px rgba(60, 64, 67, 0.3), 0px 1px 3px 1px rgba(60, 64, 67, 0.15);\n",
              "      fill: #174EA6;\n",
              "    }\n",
              "\n",
              "    [theme=dark] .colab-df-convert {\n",
              "      background-color: #3B4455;\n",
              "      fill: #D2E3FC;\n",
              "    }\n",
              "\n",
              "    [theme=dark] .colab-df-convert:hover {\n",
              "      background-color: #434B5C;\n",
              "      box-shadow: 0px 1px 3px 1px rgba(0, 0, 0, 0.15);\n",
              "      filter: drop-shadow(0px 1px 2px rgba(0, 0, 0, 0.3));\n",
              "      fill: #FFFFFF;\n",
              "    }\n",
              "  </style>\n",
              "\n",
              "      <script>\n",
              "        const buttonEl =\n",
              "          document.querySelector('#df-1bcf1c67-8a97-4529-8666-4e826cf25cc7 button.colab-df-convert');\n",
              "        buttonEl.style.display =\n",
              "          google.colab.kernel.accessAllowed ? 'block' : 'none';\n",
              "\n",
              "        async function convertToInteractive(key) {\n",
              "          const element = document.querySelector('#df-1bcf1c67-8a97-4529-8666-4e826cf25cc7');\n",
              "          const dataTable =\n",
              "            await google.colab.kernel.invokeFunction('convertToInteractive',\n",
              "                                                     [key], {});\n",
              "          if (!dataTable) return;\n",
              "\n",
              "          const docLinkHtml = 'Like what you see? Visit the ' +\n",
              "            '<a target=\"_blank\" href=https://colab.research.google.com/notebooks/data_table.ipynb>data table notebook</a>'\n",
              "            + ' to learn more about interactive tables.';\n",
              "          element.innerHTML = '';\n",
              "          dataTable['output_type'] = 'display_data';\n",
              "          await google.colab.output.renderOutput(dataTable, element);\n",
              "          const docLink = document.createElement('div');\n",
              "          docLink.innerHTML = docLinkHtml;\n",
              "          element.appendChild(docLink);\n",
              "        }\n",
              "      </script>\n",
              "    </div>\n",
              "  </div>\n",
              "  "
            ]
          },
          "metadata": {},
          "execution_count": 15
        }
      ]
    },
    {
      "cell_type": "markdown",
      "source": [
        "## Data Pre-procesing"
      ],
      "metadata": {
        "id": "6--B7BCCk8Ef"
      }
    },
    {
      "cell_type": "code",
      "source": [
        "image_ids = df[\"image_id\"].unique().tolist()\n",
        "image_ids = random.sample(image_ids, config.SAMPLE)\n",
        "filter = df[(df[\"x0\"]<0) | (df[\"y0\"]<0) | (df[\"h\"]<=0) | (df[\"w\"]<=0)].index\n",
        "df = df[~df.index.isin(filter)]\n",
        "df = df[df[\"image_id\"].isin(image_ids)]\n",
        "stoi = get_stoi(df)\n",
        "pprint(stoi)\n",
        "config.NUM_CLASSES =  len(stoi)\n",
        "df = df[df[\"label\"].isin(list(stoi.keys()))]\n",
        "df = df.replace({\"label\": stoi})\n",
        "df.reset_index(inplace=True)\n",
        "print(f\"Dataframe shape is: {df.shape}\")\n",
        "print(f\"Number of classes: {config.NUM_CLASSES}\")\n",
        "df.head()"
      ],
      "metadata": {
        "id": "02VZAKCIk9qB",
        "colab": {
          "base_uri": "https://localhost:8080/",
          "height": 407
        },
        "outputId": "f598dee5-55c1-49d4-e88f-1fae115ff242"
      },
      "execution_count": 16,
      "outputs": [
        {
          "output_type": "stream",
          "name": "stdout",
          "text": [
            "{'axis_title': 2,\n",
            " 'chart_title': 1,\n",
            " 'legend_label': 9,\n",
            " 'other': 7,\n",
            " 'plot-bb': 4,\n",
            " 'tick_grouping': 8,\n",
            " 'tick_label': 3,\n",
            " 'x-axis-tick': 5,\n",
            " 'y-axis-tick': 6}\n",
            "Dataframe shape is: (1287759, 9)\n",
            "Number of classes: 9\n"
          ]
        },
        {
          "output_type": "execute_result",
          "data": {
            "text/plain": [
              "   index      image_id     source         chart   x0   y0   w    h  label\n",
              "0      0  fd8081cbe148  generated  vertical_bar  185   12  99   17      1\n",
              "1      1  fd8081cbe148  generated  vertical_bar   17   60  11  114      2\n",
              "2      2  fd8081cbe148  generated  vertical_bar  237  255  53   11      2\n",
              "3      3  fd8081cbe148  generated  vertical_bar   33   43  27   12      3\n",
              "4      4  fd8081cbe148  generated  vertical_bar   33   63  27   11      3"
            ],
            "text/html": [
              "\n",
              "  <div id=\"df-a08039a0-499f-43b2-b8b3-2624768d66e5\">\n",
              "    <div class=\"colab-df-container\">\n",
              "      <div>\n",
              "<style scoped>\n",
              "    .dataframe tbody tr th:only-of-type {\n",
              "        vertical-align: middle;\n",
              "    }\n",
              "\n",
              "    .dataframe tbody tr th {\n",
              "        vertical-align: top;\n",
              "    }\n",
              "\n",
              "    .dataframe thead th {\n",
              "        text-align: right;\n",
              "    }\n",
              "</style>\n",
              "<table border=\"1\" class=\"dataframe\">\n",
              "  <thead>\n",
              "    <tr style=\"text-align: right;\">\n",
              "      <th></th>\n",
              "      <th>index</th>\n",
              "      <th>image_id</th>\n",
              "      <th>source</th>\n",
              "      <th>chart</th>\n",
              "      <th>x0</th>\n",
              "      <th>y0</th>\n",
              "      <th>w</th>\n",
              "      <th>h</th>\n",
              "      <th>label</th>\n",
              "    </tr>\n",
              "  </thead>\n",
              "  <tbody>\n",
              "    <tr>\n",
              "      <th>0</th>\n",
              "      <td>0</td>\n",
              "      <td>fd8081cbe148</td>\n",
              "      <td>generated</td>\n",
              "      <td>vertical_bar</td>\n",
              "      <td>185</td>\n",
              "      <td>12</td>\n",
              "      <td>99</td>\n",
              "      <td>17</td>\n",
              "      <td>1</td>\n",
              "    </tr>\n",
              "    <tr>\n",
              "      <th>1</th>\n",
              "      <td>1</td>\n",
              "      <td>fd8081cbe148</td>\n",
              "      <td>generated</td>\n",
              "      <td>vertical_bar</td>\n",
              "      <td>17</td>\n",
              "      <td>60</td>\n",
              "      <td>11</td>\n",
              "      <td>114</td>\n",
              "      <td>2</td>\n",
              "    </tr>\n",
              "    <tr>\n",
              "      <th>2</th>\n",
              "      <td>2</td>\n",
              "      <td>fd8081cbe148</td>\n",
              "      <td>generated</td>\n",
              "      <td>vertical_bar</td>\n",
              "      <td>237</td>\n",
              "      <td>255</td>\n",
              "      <td>53</td>\n",
              "      <td>11</td>\n",
              "      <td>2</td>\n",
              "    </tr>\n",
              "    <tr>\n",
              "      <th>3</th>\n",
              "      <td>3</td>\n",
              "      <td>fd8081cbe148</td>\n",
              "      <td>generated</td>\n",
              "      <td>vertical_bar</td>\n",
              "      <td>33</td>\n",
              "      <td>43</td>\n",
              "      <td>27</td>\n",
              "      <td>12</td>\n",
              "      <td>3</td>\n",
              "    </tr>\n",
              "    <tr>\n",
              "      <th>4</th>\n",
              "      <td>4</td>\n",
              "      <td>fd8081cbe148</td>\n",
              "      <td>generated</td>\n",
              "      <td>vertical_bar</td>\n",
              "      <td>33</td>\n",
              "      <td>63</td>\n",
              "      <td>27</td>\n",
              "      <td>11</td>\n",
              "      <td>3</td>\n",
              "    </tr>\n",
              "  </tbody>\n",
              "</table>\n",
              "</div>\n",
              "      <button class=\"colab-df-convert\" onclick=\"convertToInteractive('df-a08039a0-499f-43b2-b8b3-2624768d66e5')\"\n",
              "              title=\"Convert this dataframe to an interactive table.\"\n",
              "              style=\"display:none;\">\n",
              "        \n",
              "  <svg xmlns=\"http://www.w3.org/2000/svg\" height=\"24px\"viewBox=\"0 0 24 24\"\n",
              "       width=\"24px\">\n",
              "    <path d=\"M0 0h24v24H0V0z\" fill=\"none\"/>\n",
              "    <path d=\"M18.56 5.44l.94 2.06.94-2.06 2.06-.94-2.06-.94-.94-2.06-.94 2.06-2.06.94zm-11 1L8.5 8.5l.94-2.06 2.06-.94-2.06-.94L8.5 2.5l-.94 2.06-2.06.94zm10 10l.94 2.06.94-2.06 2.06-.94-2.06-.94-.94-2.06-.94 2.06-2.06.94z\"/><path d=\"M17.41 7.96l-1.37-1.37c-.4-.4-.92-.59-1.43-.59-.52 0-1.04.2-1.43.59L10.3 9.45l-7.72 7.72c-.78.78-.78 2.05 0 2.83L4 21.41c.39.39.9.59 1.41.59.51 0 1.02-.2 1.41-.59l7.78-7.78 2.81-2.81c.8-.78.8-2.07 0-2.86zM5.41 20L4 18.59l7.72-7.72 1.47 1.35L5.41 20z\"/>\n",
              "  </svg>\n",
              "      </button>\n",
              "      \n",
              "  <style>\n",
              "    .colab-df-container {\n",
              "      display:flex;\n",
              "      flex-wrap:wrap;\n",
              "      gap: 12px;\n",
              "    }\n",
              "\n",
              "    .colab-df-convert {\n",
              "      background-color: #E8F0FE;\n",
              "      border: none;\n",
              "      border-radius: 50%;\n",
              "      cursor: pointer;\n",
              "      display: none;\n",
              "      fill: #1967D2;\n",
              "      height: 32px;\n",
              "      padding: 0 0 0 0;\n",
              "      width: 32px;\n",
              "    }\n",
              "\n",
              "    .colab-df-convert:hover {\n",
              "      background-color: #E2EBFA;\n",
              "      box-shadow: 0px 1px 2px rgba(60, 64, 67, 0.3), 0px 1px 3px 1px rgba(60, 64, 67, 0.15);\n",
              "      fill: #174EA6;\n",
              "    }\n",
              "\n",
              "    [theme=dark] .colab-df-convert {\n",
              "      background-color: #3B4455;\n",
              "      fill: #D2E3FC;\n",
              "    }\n",
              "\n",
              "    [theme=dark] .colab-df-convert:hover {\n",
              "      background-color: #434B5C;\n",
              "      box-shadow: 0px 1px 3px 1px rgba(0, 0, 0, 0.15);\n",
              "      filter: drop-shadow(0px 1px 2px rgba(0, 0, 0, 0.3));\n",
              "      fill: #FFFFFF;\n",
              "    }\n",
              "  </style>\n",
              "\n",
              "      <script>\n",
              "        const buttonEl =\n",
              "          document.querySelector('#df-a08039a0-499f-43b2-b8b3-2624768d66e5 button.colab-df-convert');\n",
              "        buttonEl.style.display =\n",
              "          google.colab.kernel.accessAllowed ? 'block' : 'none';\n",
              "\n",
              "        async function convertToInteractive(key) {\n",
              "          const element = document.querySelector('#df-a08039a0-499f-43b2-b8b3-2624768d66e5');\n",
              "          const dataTable =\n",
              "            await google.colab.kernel.invokeFunction('convertToInteractive',\n",
              "                                                     [key], {});\n",
              "          if (!dataTable) return;\n",
              "\n",
              "          const docLinkHtml = 'Like what you see? Visit the ' +\n",
              "            '<a target=\"_blank\" href=https://colab.research.google.com/notebooks/data_table.ipynb>data table notebook</a>'\n",
              "            + ' to learn more about interactive tables.';\n",
              "          element.innerHTML = '';\n",
              "          dataTable['output_type'] = 'display_data';\n",
              "          await google.colab.output.renderOutput(dataTable, element);\n",
              "          const docLink = document.createElement('div');\n",
              "          docLink.innerHTML = docLinkHtml;\n",
              "          element.appendChild(docLink);\n",
              "        }\n",
              "      </script>\n",
              "    </div>\n",
              "  </div>\n",
              "  "
            ]
          },
          "metadata": {},
          "execution_count": 16
        }
      ]
    },
    {
      "cell_type": "code",
      "source": [
        "df"
      ],
      "metadata": {
        "id": "3mqsmWueNESn"
      },
      "execution_count": null,
      "outputs": []
    },
    {
      "cell_type": "markdown",
      "source": [
        "## Split into train, validation"
      ],
      "metadata": {
        "id": "er596wHblLBV"
      }
    },
    {
      "cell_type": "code",
      "source": [
        "gkf = GroupKFold(n_splits=config.FOLDS) # Seed for reproducibility\n",
        "X = df.loc[:, df.columns != \"label\"]\n",
        "y = df.loc[:, df.columns == \"label\"]\n",
        "groups = df.loc[:, df.columns == \"image_id\"]\n",
        "\n",
        "for fold, (train_index, val_index) in enumerate(gkf.split(X, y, groups)):\n",
        "    df.loc[val_index, 'fold'] = int(fold) # Assign to each row its Fold ID\n",
        "display(df.groupby(['fold','chart'])[\"index\"].count())"
      ],
      "metadata": {
        "id": "aK-45J8WlO35",
        "colab": {
          "base_uri": "https://localhost:8080/",
          "height": 510
        },
        "outputId": "e66dd6a1-77ff-4c68-d977-5d5e23cb5b32"
      },
      "execution_count": 17,
      "outputs": [
        {
          "output_type": "display_data",
          "data": {
            "text/plain": [
              "fold  chart         \n",
              "0.0   dot                19513\n",
              "      horizontal_bar       168\n",
              "      line              105882\n",
              "      scatter            43341\n",
              "      vertical_bar       88651\n",
              "1.0   dot                19313\n",
              "      horizontal_bar       117\n",
              "      line              107314\n",
              "      scatter            44381\n",
              "      vertical_bar       86419\n",
              "2.0   dot                19674\n",
              "      horizontal_bar       238\n",
              "      line              107182\n",
              "      scatter            45436\n",
              "      vertical_bar       85024\n",
              "3.0   dot                20185\n",
              "      horizontal_bar       300\n",
              "      line              105249\n",
              "      scatter            44771\n",
              "      vertical_bar       87048\n",
              "4.0   dot                18410\n",
              "      horizontal_bar       296\n",
              "      line              107903\n",
              "      scatter            42216\n",
              "      vertical_bar       88728\n",
              "Name: index, dtype: int64"
            ]
          },
          "metadata": {}
        }
      ]
    },
    {
      "cell_type": "markdown",
      "source": [
        "## Albumentations transformations\n",
        "\n"
      ],
      "metadata": {
        "id": "64W06qpllUap"
      }
    },
    {
      "cell_type": "code",
      "source": [
        "def get_train_transforms():\n",
        "    return A.Compose(\n",
        "        [\n",
        "            A.Resize(height=config.RESOLUTION, width=config.RESOLUTION, p=1),\n",
        "            A.Normalize(p=1),\n",
        "            ToTensorV2(p=1.0),\n",
        "        ], \n",
        "        p=1.0, \n",
        "        bbox_params=A.BboxParams(\n",
        "            format='pascal_voc', min_area=0,  min_visibility=0, label_fields=['labels']\n",
        "        )\n",
        "    )\n",
        "\n",
        "def get_valid_transforms():\n",
        "    return A.Compose(\n",
        "        [\n",
        "            A.Resize(height=config.RESOLUTION, width=config.RESOLUTION, p=1.0),\n",
        "            A.Normalize(p=1),\n",
        "            ToTensorV2(p=1.0),\n",
        "        ], \n",
        "        p=1.0, \n",
        "        bbox_params=A.BboxParams(\n",
        "            format='pascal_voc', min_area=0, min_visibility=0, label_fields=['labels']\n",
        "        )\n",
        "    )"
      ],
      "metadata": {
        "id": "I2s9oQDmlUBi"
      },
      "execution_count": 18,
      "outputs": []
    },
    {
      "cell_type": "markdown",
      "source": [
        "## Create custom PyTorch dataset"
      ],
      "metadata": {
        "id": "cgKHdh7RlhXA"
      }
    },
    {
      "cell_type": "code",
      "source": [
        "class CustomDataset(Dataset):\n",
        "\n",
        "    def __init__(self, df, transforms=None):\n",
        "        super().__init__()\n",
        "        self.df = df # pandas dataframe\n",
        "        self.transforms = transforms # albumentations transformations\n",
        "        self.image_ids = self.df[\"image_id\"].unique().tolist() # list with unique image IDs\n",
        "\n",
        "    def __getitem__(self, index: int):\n",
        "        \"\"\"\n",
        "        :return image: an augmented image as a numpy array.\n",
        "        :return target: a dictionary containing a tensor with the bboxes for the image (torch.Tensor),\n",
        "        a list of strings containing the bboxes labels and a tensor containing the image index.\n",
        "        :return image_id: the image ID. A unique identifier for each image. \n",
        "        \n",
        "        \"\"\"\n",
        "        image_id = self.image_ids[index] # select one image\n",
        "        image, boxes = self.load_image_and_boxes(index) # load the image and its associated bounding boxes\n",
        "        labels = self.get_labels(index)\n",
        "        target = {\n",
        "            'boxes' : boxes, \n",
        "            'labels' : labels, \n",
        "            'index' : torch.tensor([index])\n",
        "        }\n",
        "        transformed_image = self.transforms(**{\n",
        "            'image': image,\n",
        "            'bboxes': target['boxes'],\n",
        "            'labels': target[\"labels\"]\n",
        "        })\n",
        "        image = transformed_image['image']\n",
        "        _, new_h, new_w = image.shape\n",
        "        \n",
        "        # This creates a torch tensor of size (number_bboxes, 4) where each row is a bounding box:\n",
        "        target['boxes'] = torch.stack(tuple(map(torch.tensor, zip(*transformed_image['bboxes'])))).permute(1, 0)\n",
        "        target['boxes'][:,[0,1,2,3]] = target['boxes'][:,[1,0,3,2]]  # Required: change order to: (y, x, y, x)\n",
        "        target[\"img_size\"] = (new_h, new_w)\n",
        "        target[\"img_scale\"] = torch.tensor([1.0])\n",
        "        return image, target, image_id\n",
        "\n",
        "    def __len__(self) -> int:\n",
        "        return len(self.image_ids)\n",
        "\n",
        "    def load_image_and_boxes(self, index):\n",
        "        \"\"\"\n",
        "        :return image: the image as a numpy array. The array is scaled to the [0,1] interval. Numpy array.\n",
        "        :return boxes: an array containing bounding boxes rows = [x0, y0, x0 + height, y0 + width]. List of lists.\n",
        "        \"\"\"\n",
        "        image_id = self.image_ids[index] # select image\n",
        "        image = cv2.imread(f'{paths.TRAIN_IMAGES_FOLDER}{image_id}.jpg', cv2.IMREAD_COLOR) # read image from path\n",
        "        image = cv2.cvtColor(image, cv2.COLOR_BGR2RGB).astype(np.float32) # convert to RGB \n",
        "        records = self.df[self.df['image_id'] == image_id] # select all rows corresponding to the image\n",
        "        boxes = records[['x0', 'y0', 'w', 'h']].values # get bounding box information\n",
        "        boxes[:, 2] = boxes[:, 0] + boxes[:, 2] # x0 + Δx (or also  x0 + height), pascal_voc format\n",
        "        boxes[:, 3] = boxes[:, 1] + boxes[:, 3] # y0 + Δy (or also  y0 + width), pascal_voc format\n",
        "        boxes = boxes.tolist() # convert to list\n",
        "        return image, boxes\n",
        "    \n",
        "    def get_labels(self, index):\n",
        "        image_id = self.image_ids[index]\n",
        "        labels = self.df[self.df['image_id'] == image_id][\"label\"].values.tolist()\n",
        "        labels = torch.tensor(labels)\n",
        "        return labels"
      ],
      "metadata": {
        "id": "vipb5BtFlnqK"
      },
      "execution_count": 19,
      "outputs": []
    },
    {
      "cell_type": "markdown",
      "source": [
        "## Prepare dataloaders"
      ],
      "metadata": {
        "id": "oGj0x6e2lukL"
      }
    },
    {
      "cell_type": "code",
      "source": [
        "def collate_fn(batch):\n",
        "    return tuple(zip(*batch))\n",
        "\n",
        "\n",
        "def prepare_loaders(fold, df):\n",
        "    \"\"\"\n",
        "    Splits data into Train and Validation sets depending on the current fold. Creates PyTorch\n",
        "    datasets from the splits. Creates DataLoaders from Datasets.\n",
        "    :param fold: current fold (int).\n",
        "    :param df: train dataframe (pandas dataframe).\n",
        "    :return train_loader, valid_loader: dataloaders for each stage.\n",
        "    \"\"\"\n",
        "    # === Select data for Train and Validation ===\n",
        "    train_df = df.query(\"fold!=@fold\").reset_index(drop=True) # Select all rows not from validation fold\n",
        "    valid_df = df.query(\"fold==@fold\").reset_index(drop=True) # Select all rows from validation fold\n",
        "    \n",
        "    # === Mini sample for debugging purposes ===\n",
        "    if config.DEBUG:\n",
        "        train_df = train_df.head(32*5).query(\"empty==0\")\n",
        "        valid_df = valid_df.head(32*3).query(\"empty==0\")\n",
        "    \n",
        "    # === Build Datasets ===\n",
        "    train_dataset = CustomDataset(train_df, transforms=get_train_transforms())\n",
        "    valid_dataset = CustomDataset(valid_df, transforms=get_valid_transforms())\n",
        "    \n",
        "    # === Create DataLoaders for Train and Validation ===\n",
        "    train_loader = DataLoader(train_dataset, \n",
        "                              batch_size=config.BATCH_SIZE_TRAIN if not config.DEBUG else 20, \n",
        "                              num_workers=config.NUM_WORKERS,\n",
        "                              sampler=RandomSampler(train_dataset),\n",
        "                              pin_memory=False, drop_last=False, collate_fn=collate_fn)\n",
        "    valid_loader = DataLoader(valid_dataset,\n",
        "                              batch_size=config.BATCH_SIZE_VALID if not config.DEBUG else 20, \n",
        "                              num_workers=config.NUM_WORKERS,\n",
        "                              sampler=SequentialSampler(valid_dataset),\n",
        "                              shuffle=False, pin_memory=True, collate_fn=collate_fn)\n",
        "    \n",
        "    return train_loader, valid_loader\n",
        "\n",
        "\n",
        "train_loader, valid_loader = prepare_loaders(fold=0, df=df)"
      ],
      "metadata": {
        "id": "Vzal03pUluTp"
      },
      "execution_count": 20,
      "outputs": []
    },
    {
      "cell_type": "markdown",
      "source": [
        "## Scheduler"
      ],
      "metadata": {
        "id": "Xsyf3qitl9AY"
      }
    },
    {
      "cell_type": "code",
      "source": [
        "def fetch_scheduler(optimizer):\n",
        "    if config.SCHEDULER == 'CosineAnnealingLR':\n",
        "        scheduler = lr_scheduler.CosineAnnealingLR(optimizer,T_max=config.T_MAX, \n",
        "                                                   eta_min=config.MIN_LR)\n",
        "    elif config.SCHEDULER == 'CosineAnnealingWarmRestarts':\n",
        "        scheduler = lr_scheduler.CosineAnnealingWarmRestarts(optimizer,T_0=config.T_0, \n",
        "                                                             eta_min=config.MIN_LR)\n",
        "    elif config.SCHEDULER == 'ReduceLROnPlateau':\n",
        "        scheduler = lr_scheduler.ReduceLROnPlateau(optimizer,\n",
        "                                                   mode='min',\n",
        "                                                   factor=0.1,\n",
        "                                                   patience=7,\n",
        "                                                   threshold=0.0001,\n",
        "                                                   min_lr=config.MIN_LR,)\n",
        "    elif config.SCHEDULER == 'ExponentialLR':\n",
        "        scheduler = lr_scheduler.ExponentialLR(optimizer, gamma=0.85)\n",
        "    elif config.SCHEDULER == None:\n",
        "        return None\n",
        "        \n",
        "    return scheduler"
      ],
      "metadata": {
        "id": "lp7-3lHTl8xt"
      },
      "execution_count": 21,
      "outputs": []
    },
    {
      "cell_type": "markdown",
      "source": [
        "# Model"
      ],
      "metadata": {
        "id": "6WBBo3cVmIT9"
      }
    },
    {
      "cell_type": "markdown",
      "source": [
        "## Create training Model"
      ],
      "metadata": {
        "id": "4vtrwEJnmMoO"
      }
    },
    {
      "cell_type": "code",
      "source": [
        "!pip install effdet"
      ],
      "metadata": {
        "colab": {
          "base_uri": "https://localhost:8080/",
          "height": 1000
        },
        "id": "KVErp3wJL1jh",
        "outputId": "35e348c4-c4ca-4222-e798-27458b0c8c8d"
      },
      "execution_count": 22,
      "outputs": [
        {
          "output_type": "stream",
          "name": "stdout",
          "text": [
            "Looking in indexes: https://pypi.org/simple, https://us-python.pkg.dev/colab-wheels/public/simple/\n",
            "Collecting effdet\n",
            "  Downloading effdet-0.4.1-py3-none-any.whl (112 kB)\n",
            "\u001b[2K     \u001b[90m━━━━━━━━━━━━━━━━━━━━━━━━━━━━━━━━━━━━━━━\u001b[0m \u001b[32m112.5/112.5 kB\u001b[0m \u001b[31m5.0 MB/s\u001b[0m eta \u001b[36m0:00:00\u001b[0m\n",
            "\u001b[?25hRequirement already satisfied: torch>=1.12.1 in /usr/local/lib/python3.10/dist-packages (from effdet) (2.0.1+cu118)\n",
            "Requirement already satisfied: torchvision in /usr/local/lib/python3.10/dist-packages (from effdet) (0.15.2+cu118)\n",
            "Requirement already satisfied: timm>=0.9.2 in /usr/local/lib/python3.10/dist-packages (from effdet) (0.9.2)\n",
            "Requirement already satisfied: pycocotools>=2.0.2 in /usr/local/lib/python3.10/dist-packages (from effdet) (2.0.6)\n",
            "Collecting omegaconf>=2.0 (from effdet)\n",
            "  Downloading omegaconf-2.3.0-py3-none-any.whl (79 kB)\n",
            "\u001b[2K     \u001b[90m━━━━━━━━━━━━━━━━━━━━━━━━━━━━━━━━━━━━━━━━\u001b[0m \u001b[32m79.5/79.5 kB\u001b[0m \u001b[31m9.8 MB/s\u001b[0m eta \u001b[36m0:00:00\u001b[0m\n",
            "\u001b[?25hCollecting antlr4-python3-runtime==4.9.* (from omegaconf>=2.0->effdet)\n",
            "  Downloading antlr4-python3-runtime-4.9.3.tar.gz (117 kB)\n",
            "\u001b[2K     \u001b[90m━━━━━━━━━━━━━━━━━━━━━━━━━━━━━━━━━━━━━━\u001b[0m \u001b[32m117.0/117.0 kB\u001b[0m \u001b[31m15.0 MB/s\u001b[0m eta \u001b[36m0:00:00\u001b[0m\n",
            "\u001b[?25h  Preparing metadata (setup.py) ... \u001b[?25l\u001b[?25hdone\n",
            "Requirement already satisfied: PyYAML>=5.1.0 in /usr/local/lib/python3.10/dist-packages (from omegaconf>=2.0->effdet) (6.0)\n",
            "Requirement already satisfied: matplotlib>=2.1.0 in /usr/local/lib/python3.10/dist-packages (from pycocotools>=2.0.2->effdet) (3.7.1)\n",
            "Requirement already satisfied: numpy in /usr/local/lib/python3.10/dist-packages (from pycocotools>=2.0.2->effdet) (1.22.4)\n",
            "Requirement already satisfied: huggingface-hub in /usr/local/lib/python3.10/dist-packages (from timm>=0.9.2->effdet) (0.15.1)\n",
            "Requirement already satisfied: safetensors in /usr/local/lib/python3.10/dist-packages (from timm>=0.9.2->effdet) (0.3.1)\n",
            "Requirement already satisfied: filelock in /usr/local/lib/python3.10/dist-packages (from torch>=1.12.1->effdet) (3.12.0)\n",
            "Requirement already satisfied: typing-extensions in /usr/local/lib/python3.10/dist-packages (from torch>=1.12.1->effdet) (4.5.0)\n",
            "Requirement already satisfied: sympy in /usr/local/lib/python3.10/dist-packages (from torch>=1.12.1->effdet) (1.11.1)\n",
            "Requirement already satisfied: networkx in /usr/local/lib/python3.10/dist-packages (from torch>=1.12.1->effdet) (3.1)\n",
            "Requirement already satisfied: jinja2 in /usr/local/lib/python3.10/dist-packages (from torch>=1.12.1->effdet) (3.1.2)\n",
            "Requirement already satisfied: triton==2.0.0 in /usr/local/lib/python3.10/dist-packages (from torch>=1.12.1->effdet) (2.0.0)\n",
            "Requirement already satisfied: cmake in /usr/local/lib/python3.10/dist-packages (from triton==2.0.0->torch>=1.12.1->effdet) (3.25.2)\n",
            "Requirement already satisfied: lit in /usr/local/lib/python3.10/dist-packages (from triton==2.0.0->torch>=1.12.1->effdet) (16.0.5)\n",
            "Requirement already satisfied: requests in /usr/local/lib/python3.10/dist-packages (from torchvision->effdet) (2.27.1)\n",
            "Requirement already satisfied: pillow!=8.3.*,>=5.3.0 in /usr/local/lib/python3.10/dist-packages (from torchvision->effdet) (8.4.0)\n",
            "Requirement already satisfied: contourpy>=1.0.1 in /usr/local/lib/python3.10/dist-packages (from matplotlib>=2.1.0->pycocotools>=2.0.2->effdet) (1.0.7)\n",
            "Requirement already satisfied: cycler>=0.10 in /usr/local/lib/python3.10/dist-packages (from matplotlib>=2.1.0->pycocotools>=2.0.2->effdet) (0.11.0)\n",
            "Requirement already satisfied: fonttools>=4.22.0 in /usr/local/lib/python3.10/dist-packages (from matplotlib>=2.1.0->pycocotools>=2.0.2->effdet) (4.39.3)\n",
            "Requirement already satisfied: kiwisolver>=1.0.1 in /usr/local/lib/python3.10/dist-packages (from matplotlib>=2.1.0->pycocotools>=2.0.2->effdet) (1.4.4)\n",
            "Requirement already satisfied: packaging>=20.0 in /usr/local/lib/python3.10/dist-packages (from matplotlib>=2.1.0->pycocotools>=2.0.2->effdet) (23.1)\n",
            "Requirement already satisfied: pyparsing>=2.3.1 in /usr/local/lib/python3.10/dist-packages (from matplotlib>=2.1.0->pycocotools>=2.0.2->effdet) (3.0.9)\n",
            "Requirement already satisfied: python-dateutil>=2.7 in /usr/local/lib/python3.10/dist-packages (from matplotlib>=2.1.0->pycocotools>=2.0.2->effdet) (2.8.2)\n",
            "Requirement already satisfied: fsspec in /usr/local/lib/python3.10/dist-packages (from huggingface-hub->timm>=0.9.2->effdet) (2023.4.0)\n",
            "Requirement already satisfied: tqdm>=4.42.1 in /usr/local/lib/python3.10/dist-packages (from huggingface-hub->timm>=0.9.2->effdet) (4.65.0)\n",
            "Requirement already satisfied: MarkupSafe>=2.0 in /usr/local/lib/python3.10/dist-packages (from jinja2->torch>=1.12.1->effdet) (2.1.2)\n",
            "Requirement already satisfied: urllib3<1.27,>=1.21.1 in /usr/local/lib/python3.10/dist-packages (from requests->torchvision->effdet) (1.26.15)\n",
            "Requirement already satisfied: certifi>=2017.4.17 in /usr/local/lib/python3.10/dist-packages (from requests->torchvision->effdet) (2022.12.7)\n",
            "Requirement already satisfied: charset-normalizer~=2.0.0 in /usr/local/lib/python3.10/dist-packages (from requests->torchvision->effdet) (2.0.12)\n",
            "Requirement already satisfied: idna<4,>=2.5 in /usr/local/lib/python3.10/dist-packages (from requests->torchvision->effdet) (3.4)\n",
            "Requirement already satisfied: mpmath>=0.19 in /usr/local/lib/python3.10/dist-packages (from sympy->torch>=1.12.1->effdet) (1.3.0)\n",
            "Requirement already satisfied: six>=1.5 in /usr/local/lib/python3.10/dist-packages (from python-dateutil>=2.7->matplotlib>=2.1.0->pycocotools>=2.0.2->effdet) (1.16.0)\n",
            "Building wheels for collected packages: antlr4-python3-runtime\n",
            "  Building wheel for antlr4-python3-runtime (setup.py) ... \u001b[?25l\u001b[?25hdone\n",
            "  Created wheel for antlr4-python3-runtime: filename=antlr4_python3_runtime-4.9.3-py3-none-any.whl size=144554 sha256=61653f54e1730f8658caac6d13a1d27b5f8c2db6bb37db1a69a00e8d6020987a\n",
            "  Stored in directory: /root/.cache/pip/wheels/12/93/dd/1f6a127edc45659556564c5730f6d4e300888f4bca2d4c5a88\n",
            "Successfully built antlr4-python3-runtime\n",
            "Installing collected packages: antlr4-python3-runtime, omegaconf, effdet\n",
            "Successfully installed antlr4-python3-runtime-4.9.3 effdet-0.4.1 omegaconf-2.3.0\n"
          ]
        },
        {
          "output_type": "display_data",
          "data": {
            "application/vnd.colab-display-data+json": {
              "pip_warning": {
                "packages": [
                  "pydevd_plugins"
                ]
              }
            }
          },
          "metadata": {}
        }
      ]
    },
    {
      "cell_type": "code",
      "source": [
        "from effdet.config.model_config import efficientdet_model_param_dict\n",
        "from effdet import get_efficientdet_config, EfficientDet, DetBenchTrain, DetBenchPredict\n",
        "from effdet.efficientdet import HeadNet\n",
        "from effdet.config.model_config import efficientdet_model_param_dict\n",
        "\n",
        "def create_model(num_classes=config.NUM_CLASSES, image_size=512,\n",
        "                 architecture=\"tf_efficientnetv2_s\", verbose=False):\n",
        "    \n",
        "    efficientdet_model_param_dict['tf_efficientnetv2_s'] = dict(\n",
        "        name='tf_efficientnetv2_s',\n",
        "        backbone_name='tf_efficientnetv2_s',\n",
        "        backbone_args=dict(drop_path_rate=0.2),\n",
        "        num_classes=num_classes,\n",
        "        url='')\n",
        "    \n",
        "    cfg = get_efficientdet_config(architecture)\n",
        "    cfg.update({'num_classes': num_classes})\n",
        "    cfg.update({'image_size': (image_size, image_size)})\n",
        "    \n",
        "    if verbose:\n",
        "        pprint(cfg)\n",
        "\n",
        "    net = EfficientDet(cfg, pretrained_backbone=True)\n",
        "    net.class_net = HeadNet(\n",
        "        cfg,\n",
        "        num_outputs=cfg.num_classes,\n",
        "    )\n",
        "    return DetBenchTrain(net, cfg)\n",
        "\n",
        "\n",
        "def load_model(model_weights_path, model):\n",
        "    \"\"\"\n",
        "    Load model weights.\n",
        "    \"\"\"\n",
        "    model.load_state_dict(torch.load(model_weights_path))\n",
        "    model.eval()\n",
        "    return model"
      ],
      "metadata": {
        "id": "f5jHZOLfmMPU"
      },
      "execution_count": 23,
      "outputs": []
    },
    {
      "cell_type": "markdown",
      "source": [
        "## Average Meter : Track metrics and loss"
      ],
      "metadata": {
        "id": "nMJVuebgmbLa"
      }
    },
    {
      "cell_type": "code",
      "source": [
        "class AverageMeter(object):\n",
        "    \"\"\"Computes and stores the average and current value\"\"\"\n",
        "    def __init__(self):\n",
        "        \"\"\"Initializes an instance by reseting its values\"\"\"\n",
        "        self.reset()\n",
        "\n",
        "    def reset(self):\n",
        "        \"\"\"Resets all values to zero\"\"\"\n",
        "        self.val = 0\n",
        "        self.avg = 0\n",
        "        self.sum = 0\n",
        "        self.count = 0\n",
        "\n",
        "    def update(self, val, n=1):\n",
        "        \"\"\"\n",
        "        Tracks values, count, sum and average.\n",
        "        :param val: usually the loss function value.\n",
        "        :param n: usually the number of samples.\n",
        "        \"\"\"\n",
        "        self.val = val\n",
        "        self.sum += val * n\n",
        "        self.count += n\n",
        "        self.avg = self.sum / self.count"
      ],
      "metadata": {
        "id": "po1gWiEzmnN2"
      },
      "execution_count": 24,
      "outputs": []
    },
    {
      "cell_type": "markdown",
      "source": [
        "## Train Function : 1 epoch"
      ],
      "metadata": {
        "id": "Stabp9i_mhc3"
      }
    },
    {
      "cell_type": "code",
      "source": [
        "def train_one_epoch(model, optimizer, scheduler, dataloader, device, epoch):\n",
        "    model.train() # Set model in training mode\n",
        "    loss_meter = AverageMeter() # Create instance\n",
        "    pbar = tqdm(enumerate(dataloader), total=len(dataloader), desc='Train ') # Progress bar\n",
        "    for step, (images, targets, image_ids) in pbar:\n",
        "        # === Collate ===\n",
        "        images = torch.stack(images).to(device).float() # Get images (batch_size, 3, RESOLUTION, RESOLUTION)\n",
        "        batch_size = images.shape[0] # Get batch size\n",
        "        boxes = [target['boxes'].to(device).float() for target in targets] # Get bounding boxes\n",
        "        labels = [target['labels'].to(device).float() for target in targets] # Get labels (tuple with strings)\n",
        "        img_size = torch.tensor([target[\"img_size\"] for target in targets]).to(device).float()\n",
        "        img_scale = torch.tensor([target[\"img_scale\"] for target in targets]).to(device).float()\n",
        "        annotations = {\n",
        "            \"bbox\": boxes,\n",
        "            \"cls\": labels,\n",
        "            \"img_size\": img_size,\n",
        "            \"img_scale\": img_scale\n",
        "        }\n",
        "        optimizer.zero_grad() # Zero out gradients\n",
        "        loss = model(images, annotations) # Forward pass\n",
        "        loss = loss[\"loss\"]\n",
        "        loss.backward() # Back propagation\n",
        "        # Since the reduction type of the loss is \"mean\" we multiply by batch_size\n",
        "        loss_meter.update(loss.detach().item(), batch_size) # Update loss\n",
        "        optimizer.step() # Update params\n",
        "        scheduler.step() # Update learning rate\n",
        "        \n",
        "        # === Evaluate model ===\n",
        "        \n",
        "        mem = torch.cuda.memory_reserved() / 1e9 if torch.cuda.is_available() else 0 # Track memory\n",
        "        current_lr = optimizer.param_groups[0]['lr'] # Get current Learning Rate\n",
        "        pbar.set_postfix(train_loss=f'{loss_meter.avg:0.4f}',\n",
        "                         lr=f'{current_lr:0.5f}',\n",
        "                         gpu_mem=f'{mem:0.2f} GB')\n",
        "    # === Release memory ===\n",
        "    torch.cuda.empty_cache()\n",
        "    gc.collect()\n",
        "    \n",
        "    return loss_meter"
      ],
      "metadata": {
        "id": "CR1qqLbemoLS"
      },
      "execution_count": 25,
      "outputs": []
    },
    {
      "cell_type": "markdown",
      "source": [
        "## Validation Function : 1 epoch"
      ],
      "metadata": {
        "id": "sdBulxBxmvr6"
      }
    },
    {
      "cell_type": "code",
      "source": [
        "@torch.no_grad()\n",
        "def valid_one_epoch(model, dataloader, device, epoch):\n",
        "    model.eval() # Set model in evaluation mode\n",
        "    loss_meter = AverageMeter() # Create instance\n",
        "    pbar = tqdm(enumerate(dataloader), total=len(dataloader), desc='Valid ') # Progress bar\n",
        "    for step, (images, targets, image_ids) in pbar:  \n",
        "        # === Collate ===\n",
        "        images = torch.stack(images).to(device).float() # Get images\n",
        "        batch_size = images.shape[0] # Get batch size\n",
        "        boxes = [target['boxes'].to(device).float() for target in targets] # Get boxes\n",
        "        labels = [target['labels'].to(device).float() for target in targets] # Get labels\n",
        "        img_size = torch.tensor([target[\"img_size\"] for target in targets]).to(device).float()\n",
        "        img_scale = torch.tensor([target[\"img_scale\"] for target in targets]).to(device).float()\n",
        "        \n",
        "        annotations = {\n",
        "            \"bbox\": boxes,\n",
        "            \"cls\": labels,\n",
        "            \"img_size\": img_size,\n",
        "            \"img_scale\": img_scale\n",
        "        }\n",
        "        loss = model(images, annotations) # Forward pass\n",
        "        loss = loss[\"loss\"]\n",
        "        loss_meter.update(loss.detach().item(), batch_size) # Update loss\n",
        "        # === Evaluate model ===\n",
        "        \n",
        "        mem = torch.cuda.memory_reserved() / 1e9 if torch.cuda.is_available() else 0 # Track memory\n",
        "        current_lr = optimizer.param_groups[0]['lr'] # Get current learning rate\n",
        "        pbar.set_postfix(valid_loss=f'{loss_meter.avg:0.4f}',\n",
        "                         lr=f'{current_lr:0.5f}',\n",
        "                         gpu_memory=f'{mem:0.2f} GB')\n",
        "    # === Release memory ===\n",
        "    torch.cuda.empty_cache()\n",
        "    gc.collect()\n",
        "    \n",
        "    return loss_meter"
      ],
      "metadata": {
        "id": "o1_cGVBQmumP"
      },
      "execution_count": 26,
      "outputs": []
    },
    {
      "cell_type": "markdown",
      "source": [
        "## Train Loop"
      ],
      "metadata": {
        "id": "nHuXHHAZm9YG"
      }
    },
    {
      "cell_type": "code",
      "source": [
        "def train_loop(model, optimizer, scheduler, device, num_epochs):\n",
        "    f = open(f\"/content/drive/MyDrive/benetech-making-graphs-accessible/working/logs/logs.txt\", \"w+\") # Create log file\n",
        "    \n",
        "    if torch.cuda.is_available(): # Check if GPU is available\n",
        "        print(\"Cuda: {}\\n\".format(torch.cuda.get_device_name()))\n",
        "    \n",
        "    start = time.time() # Track execution time\n",
        "    best_model_weights = copy.deepcopy(model.state_dict())\n",
        "    epochs = config.EPOCHS\n",
        "    best_loss = 1e10\n",
        "    for epoch in range(1, epochs + 1):\n",
        "        print(f'Epoch {epoch}/{num_epochs}', end='')\n",
        "        loss_meter_train = train_one_epoch(model, optimizer, scheduler, \n",
        "                                           dataloader=train_loader, \n",
        "                                           device=config.DEVICE, epoch=epoch)\n",
        "        \n",
        "        loss_meter_valid = valid_one_epoch(model, valid_loader, \n",
        "                                           device=config.DEVICE, \n",
        "                                           epoch=epoch)\n",
        "        \n",
        "        duration = str(timedelta(seconds=time.time() - start))[:7]\n",
        "        # === Print to log file ===\n",
        "        with open(f\"logs/logs.txt\", 'a+') as f:\n",
        "            print('{} | Epoch: {}/{} | Train Loss: {:.4} '. \\\n",
        "            format(duration, epoch + 1, epochs, loss_meter_train.avg), file=f)\n",
        "            print('{} | Epoch: {}/{} | Valid Loss: {:.4}'. \\\n",
        "            format(duration, epoch + 1, epochs, loss_meter_valid.avg), file=f)\n",
        "            print(\"\\n\" + \"-\"*100 + \"\\n\", file=f)\n",
        "        \n",
        "        # === Save model if there is an improvement ===\n",
        "        if loss_meter_valid.avg < best_loss:\n",
        "            best_loss = loss_meter_valid.avg\n",
        "            best_epoch = epoch\n",
        "            best_model_weights = copy.deepcopy(model.state_dict())\n",
        "            PATH = f\"/content/drive/MyDrive/benetech-making-graphs-accessible/working/saved_models/best_epoch-{fold:02d}.bin\"\n",
        "            torch.save(model.state_dict(), PATH)\n",
        "            print(f\"Model Saved | Best Epoch {best_epoch} | Best Loss {round(best_loss,2)} {sr_}\")\n",
        "            \n",
        "        last_model_wts = copy.deepcopy(model.state_dict())\n",
        "        PATH = f\"last_epoch-{fold:02d}.bin\"\n",
        "        torch.save(model.state_dict(), PATH)\n",
        "        print(); print()\n",
        "    \n",
        "    end = time.time()\n",
        "    time_elapsed = end - start\n",
        "    print('Training complete in {:.0f}h {:.0f}m {:.0f}s'.format(\n",
        "        time_elapsed // 3600, (time_elapsed % 3600) // 60, (time_elapsed % 3600) % 60))\n",
        "    \n",
        "    return model"
      ],
      "metadata": {
        "id": "PiQYZ2K0m8sR"
      },
      "execution_count": 27,
      "outputs": []
    },
    {
      "cell_type": "markdown",
      "source": [
        "## Training"
      ],
      "metadata": {
        "id": "fIV2JRdYnAed"
      }
    },
    {
      "cell_type": "code",
      "source": [
        "for fold in range(1):\n",
        "    print(f'================= Fold: {1} =================')\n",
        "    train_loader, valid_loader = prepare_loaders(fold=fold, df=df)\n",
        "    model = create_model()\n",
        "    model.to(config.DEVICE)\n",
        "    optimizer = torch.optim.AdamW(model.parameters(), lr=config.LR, weight_decay=config.WEIGHT_DECAY)\n",
        "    scheduler = fetch_scheduler(optimizer)\n",
        "    model = train_loop(model, optimizer, scheduler,\n",
        "                       device=config.DEVICE,\n",
        "                       num_epochs=config.EPOCHS)"
      ],
      "metadata": {
        "id": "yIrIMtXBnAIE",
        "colab": {
          "base_uri": "https://localhost:8080/",
          "height": 1000
        },
        "outputId": "4ad35043-fba2-4b69-8669-8a08ae32c4ac"
      },
      "execution_count": 33,
      "outputs": [
        {
          "output_type": "stream",
          "name": "stdout",
          "text": [
            "================= Fold: 1 =================\n",
            "Cuda: Tesla T4\n",
            "\n",
            "Epoch 1/5"
          ]
        },
        {
          "output_type": "stream",
          "name": "stderr",
          "text": [
            "Train :   1%|          | 51/6000 [00:58<1:53:39,  1.15s/it, gpu_mem=5.62 GB, lr=0.00020, train_loss=751.5183]\n"
          ]
        },
        {
          "output_type": "error",
          "ename": "ValueError",
          "evalue": "ignored",
          "traceback": [
            "\u001b[0;31m---------------------------------------------------------------------------\u001b[0m",
            "\u001b[0;31mValueError\u001b[0m                                Traceback (most recent call last)",
            "\u001b[0;32m<ipython-input-33-3d02489c800c>\u001b[0m in \u001b[0;36m<cell line: 1>\u001b[0;34m()\u001b[0m\n\u001b[1;32m      6\u001b[0m     \u001b[0moptimizer\u001b[0m \u001b[0;34m=\u001b[0m \u001b[0mtorch\u001b[0m\u001b[0;34m.\u001b[0m\u001b[0moptim\u001b[0m\u001b[0;34m.\u001b[0m\u001b[0mAdamW\u001b[0m\u001b[0;34m(\u001b[0m\u001b[0mmodel\u001b[0m\u001b[0;34m.\u001b[0m\u001b[0mparameters\u001b[0m\u001b[0;34m(\u001b[0m\u001b[0;34m)\u001b[0m\u001b[0;34m,\u001b[0m \u001b[0mlr\u001b[0m\u001b[0;34m=\u001b[0m\u001b[0mconfig\u001b[0m\u001b[0;34m.\u001b[0m\u001b[0mLR\u001b[0m\u001b[0;34m,\u001b[0m \u001b[0mweight_decay\u001b[0m\u001b[0;34m=\u001b[0m\u001b[0mconfig\u001b[0m\u001b[0;34m.\u001b[0m\u001b[0mWEIGHT_DECAY\u001b[0m\u001b[0;34m)\u001b[0m\u001b[0;34m\u001b[0m\u001b[0;34m\u001b[0m\u001b[0m\n\u001b[1;32m      7\u001b[0m     \u001b[0mscheduler\u001b[0m \u001b[0;34m=\u001b[0m \u001b[0mfetch_scheduler\u001b[0m\u001b[0;34m(\u001b[0m\u001b[0moptimizer\u001b[0m\u001b[0;34m)\u001b[0m\u001b[0;34m\u001b[0m\u001b[0;34m\u001b[0m\u001b[0m\n\u001b[0;32m----> 8\u001b[0;31m     model = train_loop(model, optimizer, scheduler,\n\u001b[0m\u001b[1;32m      9\u001b[0m                        \u001b[0mdevice\u001b[0m\u001b[0;34m=\u001b[0m\u001b[0mconfig\u001b[0m\u001b[0;34m.\u001b[0m\u001b[0mDEVICE\u001b[0m\u001b[0;34m,\u001b[0m\u001b[0;34m\u001b[0m\u001b[0;34m\u001b[0m\u001b[0m\n\u001b[1;32m     10\u001b[0m                        num_epochs=config.EPOCHS)\n",
            "\u001b[0;32m<ipython-input-27-509a4858aba2>\u001b[0m in \u001b[0;36mtrain_loop\u001b[0;34m(model, optimizer, scheduler, device, num_epochs)\u001b[0m\n\u001b[1;32m     11\u001b[0m     \u001b[0;32mfor\u001b[0m \u001b[0mepoch\u001b[0m \u001b[0;32min\u001b[0m \u001b[0mrange\u001b[0m\u001b[0;34m(\u001b[0m\u001b[0;36m1\u001b[0m\u001b[0;34m,\u001b[0m \u001b[0mepochs\u001b[0m \u001b[0;34m+\u001b[0m \u001b[0;36m1\u001b[0m\u001b[0;34m)\u001b[0m\u001b[0;34m:\u001b[0m\u001b[0;34m\u001b[0m\u001b[0;34m\u001b[0m\u001b[0m\n\u001b[1;32m     12\u001b[0m         \u001b[0mprint\u001b[0m\u001b[0;34m(\u001b[0m\u001b[0;34mf'Epoch {epoch}/{num_epochs}'\u001b[0m\u001b[0;34m,\u001b[0m \u001b[0mend\u001b[0m\u001b[0;34m=\u001b[0m\u001b[0;34m''\u001b[0m\u001b[0;34m)\u001b[0m\u001b[0;34m\u001b[0m\u001b[0;34m\u001b[0m\u001b[0m\n\u001b[0;32m---> 13\u001b[0;31m         loss_meter_train = train_one_epoch(model, optimizer, scheduler, \n\u001b[0m\u001b[1;32m     14\u001b[0m                                            \u001b[0mdataloader\u001b[0m\u001b[0;34m=\u001b[0m\u001b[0mtrain_loader\u001b[0m\u001b[0;34m,\u001b[0m\u001b[0;34m\u001b[0m\u001b[0;34m\u001b[0m\u001b[0m\n\u001b[1;32m     15\u001b[0m                                            device=config.DEVICE, epoch=epoch)\n",
            "\u001b[0;32m<ipython-input-25-b0974ec93eee>\u001b[0m in \u001b[0;36mtrain_one_epoch\u001b[0;34m(model, optimizer, scheduler, dataloader, device, epoch)\u001b[0m\n\u001b[1;32m      3\u001b[0m     \u001b[0mloss_meter\u001b[0m \u001b[0;34m=\u001b[0m \u001b[0mAverageMeter\u001b[0m\u001b[0;34m(\u001b[0m\u001b[0;34m)\u001b[0m \u001b[0;31m# Create instance\u001b[0m\u001b[0;34m\u001b[0m\u001b[0;34m\u001b[0m\u001b[0m\n\u001b[1;32m      4\u001b[0m     \u001b[0mpbar\u001b[0m \u001b[0;34m=\u001b[0m \u001b[0mtqdm\u001b[0m\u001b[0;34m(\u001b[0m\u001b[0menumerate\u001b[0m\u001b[0;34m(\u001b[0m\u001b[0mdataloader\u001b[0m\u001b[0;34m)\u001b[0m\u001b[0;34m,\u001b[0m \u001b[0mtotal\u001b[0m\u001b[0;34m=\u001b[0m\u001b[0mlen\u001b[0m\u001b[0;34m(\u001b[0m\u001b[0mdataloader\u001b[0m\u001b[0;34m)\u001b[0m\u001b[0;34m,\u001b[0m \u001b[0mdesc\u001b[0m\u001b[0;34m=\u001b[0m\u001b[0;34m'Train '\u001b[0m\u001b[0;34m)\u001b[0m \u001b[0;31m# Progress bar\u001b[0m\u001b[0;34m\u001b[0m\u001b[0;34m\u001b[0m\u001b[0m\n\u001b[0;32m----> 5\u001b[0;31m     \u001b[0;32mfor\u001b[0m \u001b[0mstep\u001b[0m\u001b[0;34m,\u001b[0m \u001b[0;34m(\u001b[0m\u001b[0mimages\u001b[0m\u001b[0;34m,\u001b[0m \u001b[0mtargets\u001b[0m\u001b[0;34m,\u001b[0m \u001b[0mimage_ids\u001b[0m\u001b[0;34m)\u001b[0m \u001b[0;32min\u001b[0m \u001b[0mpbar\u001b[0m\u001b[0;34m:\u001b[0m\u001b[0;34m\u001b[0m\u001b[0;34m\u001b[0m\u001b[0m\n\u001b[0m\u001b[1;32m      6\u001b[0m         \u001b[0;31m# === Collate ===\u001b[0m\u001b[0;34m\u001b[0m\u001b[0;34m\u001b[0m\u001b[0m\n\u001b[1;32m      7\u001b[0m         \u001b[0mimages\u001b[0m \u001b[0;34m=\u001b[0m \u001b[0mtorch\u001b[0m\u001b[0;34m.\u001b[0m\u001b[0mstack\u001b[0m\u001b[0;34m(\u001b[0m\u001b[0mimages\u001b[0m\u001b[0;34m)\u001b[0m\u001b[0;34m.\u001b[0m\u001b[0mto\u001b[0m\u001b[0;34m(\u001b[0m\u001b[0mdevice\u001b[0m\u001b[0;34m)\u001b[0m\u001b[0;34m.\u001b[0m\u001b[0mfloat\u001b[0m\u001b[0;34m(\u001b[0m\u001b[0;34m)\u001b[0m \u001b[0;31m# Get images (batch_size, 3, RESOLUTION, RESOLUTION)\u001b[0m\u001b[0;34m\u001b[0m\u001b[0;34m\u001b[0m\u001b[0m\n",
            "\u001b[0;32m/usr/local/lib/python3.10/dist-packages/tqdm/std.py\u001b[0m in \u001b[0;36m__iter__\u001b[0;34m(self)\u001b[0m\n\u001b[1;32m   1176\u001b[0m \u001b[0;34m\u001b[0m\u001b[0m\n\u001b[1;32m   1177\u001b[0m         \u001b[0;32mtry\u001b[0m\u001b[0;34m:\u001b[0m\u001b[0;34m\u001b[0m\u001b[0;34m\u001b[0m\u001b[0m\n\u001b[0;32m-> 1178\u001b[0;31m             \u001b[0;32mfor\u001b[0m \u001b[0mobj\u001b[0m \u001b[0;32min\u001b[0m \u001b[0miterable\u001b[0m\u001b[0;34m:\u001b[0m\u001b[0;34m\u001b[0m\u001b[0;34m\u001b[0m\u001b[0m\n\u001b[0m\u001b[1;32m   1179\u001b[0m                 \u001b[0;32myield\u001b[0m \u001b[0mobj\u001b[0m\u001b[0;34m\u001b[0m\u001b[0;34m\u001b[0m\u001b[0m\n\u001b[1;32m   1180\u001b[0m                 \u001b[0;31m# Update and possibly print the progressbar.\u001b[0m\u001b[0;34m\u001b[0m\u001b[0;34m\u001b[0m\u001b[0m\n",
            "\u001b[0;32m/usr/local/lib/python3.10/dist-packages/torch/utils/data/dataloader.py\u001b[0m in \u001b[0;36m__next__\u001b[0;34m(self)\u001b[0m\n\u001b[1;32m    631\u001b[0m                 \u001b[0;31m# TODO(https://github.com/pytorch/pytorch/issues/76750)\u001b[0m\u001b[0;34m\u001b[0m\u001b[0;34m\u001b[0m\u001b[0m\n\u001b[1;32m    632\u001b[0m                 \u001b[0mself\u001b[0m\u001b[0;34m.\u001b[0m\u001b[0m_reset\u001b[0m\u001b[0;34m(\u001b[0m\u001b[0;34m)\u001b[0m  \u001b[0;31m# type: ignore[call-arg]\u001b[0m\u001b[0;34m\u001b[0m\u001b[0;34m\u001b[0m\u001b[0m\n\u001b[0;32m--> 633\u001b[0;31m             \u001b[0mdata\u001b[0m \u001b[0;34m=\u001b[0m \u001b[0mself\u001b[0m\u001b[0;34m.\u001b[0m\u001b[0m_next_data\u001b[0m\u001b[0;34m(\u001b[0m\u001b[0;34m)\u001b[0m\u001b[0;34m\u001b[0m\u001b[0;34m\u001b[0m\u001b[0m\n\u001b[0m\u001b[1;32m    634\u001b[0m             \u001b[0mself\u001b[0m\u001b[0;34m.\u001b[0m\u001b[0m_num_yielded\u001b[0m \u001b[0;34m+=\u001b[0m \u001b[0;36m1\u001b[0m\u001b[0;34m\u001b[0m\u001b[0;34m\u001b[0m\u001b[0m\n\u001b[1;32m    635\u001b[0m             \u001b[0;32mif\u001b[0m \u001b[0mself\u001b[0m\u001b[0;34m.\u001b[0m\u001b[0m_dataset_kind\u001b[0m \u001b[0;34m==\u001b[0m \u001b[0m_DatasetKind\u001b[0m\u001b[0;34m.\u001b[0m\u001b[0mIterable\u001b[0m \u001b[0;32mand\u001b[0m\u001b[0;31m \u001b[0m\u001b[0;31m\\\u001b[0m\u001b[0;34m\u001b[0m\u001b[0;34m\u001b[0m\u001b[0m\n",
            "\u001b[0;32m/usr/local/lib/python3.10/dist-packages/torch/utils/data/dataloader.py\u001b[0m in \u001b[0;36m_next_data\u001b[0;34m(self)\u001b[0m\n\u001b[1;32m   1323\u001b[0m             \u001b[0;32mif\u001b[0m \u001b[0mlen\u001b[0m\u001b[0;34m(\u001b[0m\u001b[0mself\u001b[0m\u001b[0;34m.\u001b[0m\u001b[0m_task_info\u001b[0m\u001b[0;34m[\u001b[0m\u001b[0mself\u001b[0m\u001b[0;34m.\u001b[0m\u001b[0m_rcvd_idx\u001b[0m\u001b[0;34m]\u001b[0m\u001b[0;34m)\u001b[0m \u001b[0;34m==\u001b[0m \u001b[0;36m2\u001b[0m\u001b[0;34m:\u001b[0m\u001b[0;34m\u001b[0m\u001b[0;34m\u001b[0m\u001b[0m\n\u001b[1;32m   1324\u001b[0m                 \u001b[0mdata\u001b[0m \u001b[0;34m=\u001b[0m \u001b[0mself\u001b[0m\u001b[0;34m.\u001b[0m\u001b[0m_task_info\u001b[0m\u001b[0;34m.\u001b[0m\u001b[0mpop\u001b[0m\u001b[0;34m(\u001b[0m\u001b[0mself\u001b[0m\u001b[0;34m.\u001b[0m\u001b[0m_rcvd_idx\u001b[0m\u001b[0;34m)\u001b[0m\u001b[0;34m[\u001b[0m\u001b[0;36m1\u001b[0m\u001b[0;34m]\u001b[0m\u001b[0;34m\u001b[0m\u001b[0;34m\u001b[0m\u001b[0m\n\u001b[0;32m-> 1325\u001b[0;31m                 \u001b[0;32mreturn\u001b[0m \u001b[0mself\u001b[0m\u001b[0;34m.\u001b[0m\u001b[0m_process_data\u001b[0m\u001b[0;34m(\u001b[0m\u001b[0mdata\u001b[0m\u001b[0;34m)\u001b[0m\u001b[0;34m\u001b[0m\u001b[0;34m\u001b[0m\u001b[0m\n\u001b[0m\u001b[1;32m   1326\u001b[0m \u001b[0;34m\u001b[0m\u001b[0m\n\u001b[1;32m   1327\u001b[0m             \u001b[0;32massert\u001b[0m \u001b[0;32mnot\u001b[0m \u001b[0mself\u001b[0m\u001b[0;34m.\u001b[0m\u001b[0m_shutdown\u001b[0m \u001b[0;32mand\u001b[0m \u001b[0mself\u001b[0m\u001b[0;34m.\u001b[0m\u001b[0m_tasks_outstanding\u001b[0m \u001b[0;34m>\u001b[0m \u001b[0;36m0\u001b[0m\u001b[0;34m\u001b[0m\u001b[0;34m\u001b[0m\u001b[0m\n",
            "\u001b[0;32m/usr/local/lib/python3.10/dist-packages/torch/utils/data/dataloader.py\u001b[0m in \u001b[0;36m_process_data\u001b[0;34m(self, data)\u001b[0m\n\u001b[1;32m   1369\u001b[0m         \u001b[0mself\u001b[0m\u001b[0;34m.\u001b[0m\u001b[0m_try_put_index\u001b[0m\u001b[0;34m(\u001b[0m\u001b[0;34m)\u001b[0m\u001b[0;34m\u001b[0m\u001b[0;34m\u001b[0m\u001b[0m\n\u001b[1;32m   1370\u001b[0m         \u001b[0;32mif\u001b[0m \u001b[0misinstance\u001b[0m\u001b[0;34m(\u001b[0m\u001b[0mdata\u001b[0m\u001b[0;34m,\u001b[0m \u001b[0mExceptionWrapper\u001b[0m\u001b[0;34m)\u001b[0m\u001b[0;34m:\u001b[0m\u001b[0;34m\u001b[0m\u001b[0;34m\u001b[0m\u001b[0m\n\u001b[0;32m-> 1371\u001b[0;31m             \u001b[0mdata\u001b[0m\u001b[0;34m.\u001b[0m\u001b[0mreraise\u001b[0m\u001b[0;34m(\u001b[0m\u001b[0;34m)\u001b[0m\u001b[0;34m\u001b[0m\u001b[0;34m\u001b[0m\u001b[0m\n\u001b[0m\u001b[1;32m   1372\u001b[0m         \u001b[0;32mreturn\u001b[0m \u001b[0mdata\u001b[0m\u001b[0;34m\u001b[0m\u001b[0;34m\u001b[0m\u001b[0m\n\u001b[1;32m   1373\u001b[0m \u001b[0;34m\u001b[0m\u001b[0m\n",
            "\u001b[0;32m/usr/local/lib/python3.10/dist-packages/torch/_utils.py\u001b[0m in \u001b[0;36mreraise\u001b[0;34m(self)\u001b[0m\n\u001b[1;32m    642\u001b[0m             \u001b[0;31m# instantiate since we don't know how to\u001b[0m\u001b[0;34m\u001b[0m\u001b[0;34m\u001b[0m\u001b[0m\n\u001b[1;32m    643\u001b[0m             \u001b[0;32mraise\u001b[0m \u001b[0mRuntimeError\u001b[0m\u001b[0;34m(\u001b[0m\u001b[0mmsg\u001b[0m\u001b[0;34m)\u001b[0m \u001b[0;32mfrom\u001b[0m \u001b[0;32mNone\u001b[0m\u001b[0;34m\u001b[0m\u001b[0;34m\u001b[0m\u001b[0m\n\u001b[0;32m--> 644\u001b[0;31m         \u001b[0;32mraise\u001b[0m \u001b[0mexception\u001b[0m\u001b[0;34m\u001b[0m\u001b[0;34m\u001b[0m\u001b[0m\n\u001b[0m\u001b[1;32m    645\u001b[0m \u001b[0;34m\u001b[0m\u001b[0m\n\u001b[1;32m    646\u001b[0m \u001b[0;34m\u001b[0m\u001b[0m\n",
            "\u001b[0;31mValueError\u001b[0m: Caught ValueError in DataLoader worker process 1.\nOriginal Traceback (most recent call last):\n  File \"/usr/local/lib/python3.10/dist-packages/torch/utils/data/_utils/worker.py\", line 308, in _worker_loop\n    data = fetcher.fetch(index)\n  File \"/usr/local/lib/python3.10/dist-packages/torch/utils/data/_utils/fetch.py\", line 51, in fetch\n    data = [self.dataset[idx] for idx in possibly_batched_index]\n  File \"/usr/local/lib/python3.10/dist-packages/torch/utils/data/_utils/fetch.py\", line 51, in <listcomp>\n    data = [self.dataset[idx] for idx in possibly_batched_index]\n  File \"<ipython-input-19-89a39e3a2b0b>\", line 25, in __getitem__\n    transformed_image = self.transforms(**{\n  File \"/usr/local/lib/python3.10/dist-packages/albumentations/core/composition.py\", line 202, in __call__\n    p.preprocess(data)\n  File \"/usr/local/lib/python3.10/dist-packages/albumentations/core/utils.py\", line 83, in preprocess\n    data[data_name] = self.check_and_convert(data[data_name], rows, cols, direction=\"to\")\n  File \"/usr/local/lib/python3.10/dist-packages/albumentations/core/utils.py\", line 91, in check_and_convert\n    return self.convert_to_albumentations(data, rows, cols)\n  File \"/usr/local/lib/python3.10/dist-packages/albumentations/core/bbox_utils.py\", line 126, in convert_to_albumentations\n    return convert_bboxes_to_albumentations(data, self.params.format, rows, cols, check_validity=True)\n  File \"/usr/local/lib/python3.10/dist-packages/albumentations/core/bbox_utils.py\", line 394, in convert_bboxes_to_albumentations\n    return [convert_bbox_to_albumentations(bbox, source_format, rows, cols, check_validity) for bbox in bboxes]\n  File \"/usr/local/lib/python3.10/dist-packages/albumentations/core/bbox_utils.py\", line 394, in <listcomp>\n    return [convert_bbox_to_albumentations(bbox, source_format, rows, cols, check_validity) for bbox in bboxes]\n  File \"/usr/local/lib/python3.10/dist-packages/albumentations/core/bbox_utils.py\", line 337, in convert_bbox_to_albumentations\n    check_bbox(bbox)\n  File \"/usr/local/lib/python3.10/dist-packages/albumentations/core/bbox_utils.py\", line 421, in check_bbox\n    for i in range(4):\nValueError: Expected y_max for bbox (0.3821138211382114, 0.971830985915493, 0.5447154471544715, 1.0035211267605635, tensor(3)) to be in the range [0.0, 1.0], got 1.0035211267605635.\n"
          ]
        }
      ]
    },
    {
      "cell_type": "markdown",
      "source": [
        "# Inference"
      ],
      "metadata": {
        "id": "dbgKL1xAU2MC"
      }
    },
    {
      "cell_type": "markdown",
      "source": [
        "## Install"
      ],
      "metadata": {
        "id": "v-Z_dI50U5_P"
      }
    },
    {
      "cell_type": "markdown",
      "source": [
        "## Import"
      ],
      "metadata": {
        "id": "J3xiGv4YVc7O"
      }
    },
    {
      "cell_type": "code",
      "source": [
        "import sys\n",
        "sys.path.insert(0, \"../input/timm-efficientdet-pytorch\")\n",
        "sys.path.insert(0, \"../input/omegaconf\")\n",
        "sys.path.insert(0, \"../input/albumentations\")\n",
        "\n",
        "import albumentations as A\n",
        "import copy\n",
        "import cv2\n",
        "import gc\n",
        "import matplotlib.pyplot as plt\n",
        "import multiprocessing\n",
        "import numpy as np\n",
        "import os\n",
        "import pandas as pd\n",
        "import PIL\n",
        "import random\n",
        "import time\n",
        "import timm\n",
        "import torch\n",
        "import torch.nn as nn\n",
        "\n",
        "\n",
        "from albumentations.pytorch.transforms import ToTensorV2\n",
        "from colorama import Fore, Back, Style\n",
        "from datetime import datetime, timedelta\n",
        "from glob import glob\n",
        "from pprint import pprint\n",
        "from torch.utils.data import Dataset, DataLoader\n",
        "from torch.utils.data.sampler import SequentialSampler, RandomSampler\n",
        "from tqdm import tqdm\n",
        "\n",
        "\n",
        "c_  = Fore.GREEN\n",
        "sr_ = Style.RESET_ALL\n",
        "print(f\"There are {multiprocessing.cpu_count()} CPUs available\")\n",
        "print()\n",
        "!mkdir logs\n",
        "!mkdir saved_models"
      ],
      "metadata": {
        "colab": {
          "base_uri": "https://localhost:8080/"
        },
        "id": "aZUFignlWlqf",
        "outputId": "f0551fb3-db5f-4ba6-f6ce-a87dc570cb60"
      },
      "execution_count": null,
      "outputs": [
        {
          "output_type": "stream",
          "name": "stdout",
          "text": [
            "There are 2 CPUs available\n",
            "\n",
            "mkdir: cannot create directory ‘logs’: File exists\n",
            "mkdir: cannot create directory ‘saved_models’: File exists\n"
          ]
        }
      ]
    },
    {
      "cell_type": "markdown",
      "source": [
        "## Config"
      ],
      "metadata": {
        "id": "kkA5r9UAWomX"
      }
    },
    {
      "cell_type": "code",
      "source": [
        "class config:\n",
        "    BATCH_SIZE_TEST = 4\n",
        "    DEBUG = False\n",
        "    DEVICE = torch.device(\"cuda:0\" if torch.cuda.is_available() else \"cpu\")\n",
        "    NUM_CLASSES = 7\n",
        "    NUM_WORKERS = multiprocessing.cpu_count()\n",
        "    RESOLUTION = 512\n",
        "    SEED = 42\n",
        "    \n",
        "    \n",
        "class paths:\n",
        "    TEST_IMAGES_FOLDER = \"/content/drive/MyDrive/benetech-making-graphs-accessible/test/images/\""
      ],
      "metadata": {
        "id": "713AQel3WoST"
      },
      "execution_count": null,
      "outputs": []
    },
    {
      "cell_type": "markdown",
      "source": [
        "## Utils"
      ],
      "metadata": {
        "id": "j2p7WxLaW5vC"
      }
    },
    {
      "cell_type": "code",
      "source": [
        "stoi = {\n",
        "    'chart_title': 1,\n",
        "    'axis_title': 2,\n",
        "    'tick_label': 3,\n",
        "    'x-axis-tick': 4,\n",
        "    'y-axis-tick': 5,\n",
        "    'other': 6,\n",
        "    'tick_grouping': 7,\n",
        "    'legend_label': 8\n",
        "}\n",
        "\n",
        "def seed_everything(seed):\n",
        "    random.seed(seed)\n",
        "    os.environ['PYTHONHASHSEED'] = str(seed)\n",
        "    np.random.seed(seed)\n",
        "    torch.manual_seed(seed)\n",
        "    torch.cuda.manual_seed(seed)\n",
        "    torch.backends.cudnn.deterministic = True\n",
        "    torch.backends.cudnn.benchmark = True\n",
        "\n",
        "seed_everything(config.SEED)"
      ],
      "metadata": {
        "id": "yhASvFEVW7BU"
      },
      "execution_count": null,
      "outputs": []
    },
    {
      "cell_type": "markdown",
      "source": [
        "## Load test data"
      ],
      "metadata": {
        "id": "xt-FOgCFW9mQ"
      }
    },
    {
      "cell_type": "code",
      "source": [
        "df = pd.DataFrame(glob(paths.TEST_IMAGES_FOLDER+\"*.jpg\"))\n",
        "df.columns = [\"image_path\"]\n",
        "df[\"image_id\"] = df[\"image_path\"].apply(lambda x: x.split(\"/\")[-1].split(\".\")[0])\n",
        "print(f\"Dataframe shape is: {df.shape}\")\n",
        "df.head()"
      ],
      "metadata": {
        "colab": {
          "base_uri": "https://localhost:8080/",
          "height": 225
        },
        "id": "2PJ6S1c9W9MM",
        "outputId": "328d8a4a-4a37-4cb4-8729-9f40ed793ca2"
      },
      "execution_count": null,
      "outputs": [
        {
          "output_type": "stream",
          "name": "stdout",
          "text": [
            "Dataframe shape is: (5, 2)\n"
          ]
        },
        {
          "output_type": "execute_result",
          "data": {
            "text/plain": [
              "                                          image_path      image_id\n",
              "0  /content/drive/MyDrive/benetech-making-graphs-...  000b92c3b098\n",
              "1  /content/drive/MyDrive/benetech-making-graphs-...  01b45b831589\n",
              "2  /content/drive/MyDrive/benetech-making-graphs-...  007a18eb4e09\n",
              "3  /content/drive/MyDrive/benetech-making-graphs-...  00f5404753cf\n",
              "4  /content/drive/MyDrive/benetech-making-graphs-...  00dcf883a459"
            ],
            "text/html": [
              "\n",
              "  <div id=\"df-aaaafc8c-5a6c-476e-9557-04380be319e5\">\n",
              "    <div class=\"colab-df-container\">\n",
              "      <div>\n",
              "<style scoped>\n",
              "    .dataframe tbody tr th:only-of-type {\n",
              "        vertical-align: middle;\n",
              "    }\n",
              "\n",
              "    .dataframe tbody tr th {\n",
              "        vertical-align: top;\n",
              "    }\n",
              "\n",
              "    .dataframe thead th {\n",
              "        text-align: right;\n",
              "    }\n",
              "</style>\n",
              "<table border=\"1\" class=\"dataframe\">\n",
              "  <thead>\n",
              "    <tr style=\"text-align: right;\">\n",
              "      <th></th>\n",
              "      <th>image_path</th>\n",
              "      <th>image_id</th>\n",
              "    </tr>\n",
              "  </thead>\n",
              "  <tbody>\n",
              "    <tr>\n",
              "      <th>0</th>\n",
              "      <td>/content/drive/MyDrive/benetech-making-graphs-...</td>\n",
              "      <td>000b92c3b098</td>\n",
              "    </tr>\n",
              "    <tr>\n",
              "      <th>1</th>\n",
              "      <td>/content/drive/MyDrive/benetech-making-graphs-...</td>\n",
              "      <td>01b45b831589</td>\n",
              "    </tr>\n",
              "    <tr>\n",
              "      <th>2</th>\n",
              "      <td>/content/drive/MyDrive/benetech-making-graphs-...</td>\n",
              "      <td>007a18eb4e09</td>\n",
              "    </tr>\n",
              "    <tr>\n",
              "      <th>3</th>\n",
              "      <td>/content/drive/MyDrive/benetech-making-graphs-...</td>\n",
              "      <td>00f5404753cf</td>\n",
              "    </tr>\n",
              "    <tr>\n",
              "      <th>4</th>\n",
              "      <td>/content/drive/MyDrive/benetech-making-graphs-...</td>\n",
              "      <td>00dcf883a459</td>\n",
              "    </tr>\n",
              "  </tbody>\n",
              "</table>\n",
              "</div>\n",
              "      <button class=\"colab-df-convert\" onclick=\"convertToInteractive('df-aaaafc8c-5a6c-476e-9557-04380be319e5')\"\n",
              "              title=\"Convert this dataframe to an interactive table.\"\n",
              "              style=\"display:none;\">\n",
              "        \n",
              "  <svg xmlns=\"http://www.w3.org/2000/svg\" height=\"24px\"viewBox=\"0 0 24 24\"\n",
              "       width=\"24px\">\n",
              "    <path d=\"M0 0h24v24H0V0z\" fill=\"none\"/>\n",
              "    <path d=\"M18.56 5.44l.94 2.06.94-2.06 2.06-.94-2.06-.94-.94-2.06-.94 2.06-2.06.94zm-11 1L8.5 8.5l.94-2.06 2.06-.94-2.06-.94L8.5 2.5l-.94 2.06-2.06.94zm10 10l.94 2.06.94-2.06 2.06-.94-2.06-.94-.94-2.06-.94 2.06-2.06.94z\"/><path d=\"M17.41 7.96l-1.37-1.37c-.4-.4-.92-.59-1.43-.59-.52 0-1.04.2-1.43.59L10.3 9.45l-7.72 7.72c-.78.78-.78 2.05 0 2.83L4 21.41c.39.39.9.59 1.41.59.51 0 1.02-.2 1.41-.59l7.78-7.78 2.81-2.81c.8-.78.8-2.07 0-2.86zM5.41 20L4 18.59l7.72-7.72 1.47 1.35L5.41 20z\"/>\n",
              "  </svg>\n",
              "      </button>\n",
              "      \n",
              "  <style>\n",
              "    .colab-df-container {\n",
              "      display:flex;\n",
              "      flex-wrap:wrap;\n",
              "      gap: 12px;\n",
              "    }\n",
              "\n",
              "    .colab-df-convert {\n",
              "      background-color: #E8F0FE;\n",
              "      border: none;\n",
              "      border-radius: 50%;\n",
              "      cursor: pointer;\n",
              "      display: none;\n",
              "      fill: #1967D2;\n",
              "      height: 32px;\n",
              "      padding: 0 0 0 0;\n",
              "      width: 32px;\n",
              "    }\n",
              "\n",
              "    .colab-df-convert:hover {\n",
              "      background-color: #E2EBFA;\n",
              "      box-shadow: 0px 1px 2px rgba(60, 64, 67, 0.3), 0px 1px 3px 1px rgba(60, 64, 67, 0.15);\n",
              "      fill: #174EA6;\n",
              "    }\n",
              "\n",
              "    [theme=dark] .colab-df-convert {\n",
              "      background-color: #3B4455;\n",
              "      fill: #D2E3FC;\n",
              "    }\n",
              "\n",
              "    [theme=dark] .colab-df-convert:hover {\n",
              "      background-color: #434B5C;\n",
              "      box-shadow: 0px 1px 3px 1px rgba(0, 0, 0, 0.15);\n",
              "      filter: drop-shadow(0px 1px 2px rgba(0, 0, 0, 0.3));\n",
              "      fill: #FFFFFF;\n",
              "    }\n",
              "  </style>\n",
              "\n",
              "      <script>\n",
              "        const buttonEl =\n",
              "          document.querySelector('#df-aaaafc8c-5a6c-476e-9557-04380be319e5 button.colab-df-convert');\n",
              "        buttonEl.style.display =\n",
              "          google.colab.kernel.accessAllowed ? 'block' : 'none';\n",
              "\n",
              "        async function convertToInteractive(key) {\n",
              "          const element = document.querySelector('#df-aaaafc8c-5a6c-476e-9557-04380be319e5');\n",
              "          const dataTable =\n",
              "            await google.colab.kernel.invokeFunction('convertToInteractive',\n",
              "                                                     [key], {});\n",
              "          if (!dataTable) return;\n",
              "\n",
              "          const docLinkHtml = 'Like what you see? Visit the ' +\n",
              "            '<a target=\"_blank\" href=https://colab.research.google.com/notebooks/data_table.ipynb>data table notebook</a>'\n",
              "            + ' to learn more about interactive tables.';\n",
              "          element.innerHTML = '';\n",
              "          dataTable['output_type'] = 'display_data';\n",
              "          await google.colab.output.renderOutput(dataTable, element);\n",
              "          const docLink = document.createElement('div');\n",
              "          docLink.innerHTML = docLinkHtml;\n",
              "          element.appendChild(docLink);\n",
              "        }\n",
              "      </script>\n",
              "    </div>\n",
              "  </div>\n",
              "  "
            ]
          },
          "metadata": {},
          "execution_count": 40
        }
      ]
    },
    {
      "cell_type": "markdown",
      "source": [
        "## Data Augmentation"
      ],
      "metadata": {
        "id": "9ahDHqE_XKVb"
      }
    },
    {
      "cell_type": "code",
      "source": [
        "def get_test_transforms():\n",
        "    return A.Compose(\n",
        "        [\n",
        "            A.Resize(height=config.RESOLUTION, width=config.RESOLUTION, p=1),\n",
        "            A.Normalize(p=1),\n",
        "            ToTensorV2(p=1.0),\n",
        "        ]\n",
        "    )"
      ],
      "metadata": {
        "id": "rzGP0671XKIj"
      },
      "execution_count": null,
      "outputs": []
    },
    {
      "cell_type": "markdown",
      "source": [
        "## Create Dataset"
      ],
      "metadata": {
        "id": "nE1D3aLjXOAq"
      }
    },
    {
      "cell_type": "code",
      "source": [
        "class CustomDataset(Dataset):\n",
        "\n",
        "    def __init__(self, df, transforms=None):\n",
        "        super().__init__()\n",
        "        self.df = df # pandas dataframe\n",
        "        self.transforms = transforms # albumentations transformations\n",
        "        self.image_ids = self.df[\"image_id\"].unique().tolist() # list with unique image IDs\n",
        "\n",
        "    def __getitem__(self, index: int):\n",
        "        \"\"\"\n",
        "        :return image: an augmented image as a numpy array.\n",
        "        :return target: a dictionary containing a tensor with the bboxes for the image (torch.Tensor),\n",
        "        a list of strings containing the bboxes labels and a tensor containing the image index.\n",
        "        :return image_id: the image ID. A unique identifier for each image. \n",
        "        \n",
        "        \"\"\"\n",
        "        image_id = self.df[\"image_id\"][index] # select one image\n",
        "        image = cv2.imread(f'{paths.TEST_IMAGES_FOLDER}{image_id}.jpg', cv2.IMREAD_COLOR) # read image from path\n",
        "        image = cv2.cvtColor(image, cv2.COLOR_BGR2RGB).astype(np.float32) # convert to RGB \n",
        "        transformed_image = self.transforms(**{\"image\":image})\n",
        "        image = transformed_image['image']\n",
        "        return image, image_id\n",
        "\n",
        "    def __len__(self) -> int:\n",
        "        return len(self.image_ids)"
      ],
      "metadata": {
        "id": "RlskPsG1XNwz"
      },
      "execution_count": null,
      "outputs": []
    },
    {
      "cell_type": "markdown",
      "source": [
        "## Plot 1 image"
      ],
      "metadata": {
        "id": "rDIgT9SeXTUv"
      }
    },
    {
      "cell_type": "code",
      "source": [
        "test_dataset = CustomDataset(\n",
        "    df=df,\n",
        "    transforms=get_test_transforms()\n",
        ")\n",
        "index = random.choice(range(0,len(test_dataset))) # select random image index\n",
        "image, image_id = test_dataset[index] # get one sample from dataset\n",
        "numpy_image = image.permute(1,2,0).cpu().numpy() # get image\n",
        "print(f\"Image ID: {image_id}\")   \n",
        "fig, ax = plt.subplots(1, 1, figsize=(10, 8)) # create figure\n",
        "ax.set_axis_off()\n",
        "ax.imshow(numpy_image)"
      ],
      "metadata": {
        "colab": {
          "base_uri": "https://localhost:8080/",
          "height": 708
        },
        "id": "NgKG3V0YXTHp",
        "outputId": "70120c2f-c388-49e2-fa41-69bdcd012fba"
      },
      "execution_count": null,
      "outputs": [
        {
          "output_type": "stream",
          "name": "stderr",
          "text": [
            "WARNING:matplotlib.image:Clipping input data to the valid range for imshow with RGB data ([0..1] for floats or [0..255] for integers).\n"
          ]
        },
        {
          "output_type": "stream",
          "name": "stdout",
          "text": [
            "Image ID: 000b92c3b098\n"
          ]
        },
        {
          "output_type": "execute_result",
          "data": {
            "text/plain": [
              "<matplotlib.image.AxesImage at 0x7f8d5c20f760>"
            ]
          },
          "metadata": {},
          "execution_count": 43
        },
        {
          "output_type": "display_data",
          "data": {
            "text/plain": [
              "<Figure size 1000x800 with 1 Axes>"
            ],
            "image/png": "[encoded data removed]"
          },
          "metadata": {}
        }
      ]
    },
    {
      "cell_type": "markdown",
      "source": [
        "## Dataloaders"
      ],
      "metadata": {
        "id": "IAJN9UhFXeTD"
      }
    },
    {
      "cell_type": "code",
      "source": [
        "def collate_fn(batch):\n",
        "    return tuple(zip(*batch))\n",
        "\n",
        "\n",
        "def prepare_loaders(df):\n",
        "    \"\"\"\n",
        "    Creates a PyTorch dataset. Creates DataLoader from Dataset.\n",
        "    :param df: test dataframe (pandas dataframe).\n",
        "    :return test_loader: dataloaders for test stage.\n",
        "    \"\"\"\n",
        "    # === Select data for Train and Validation ===\n",
        "    test_df = df.reset_index(drop=True) # Select all rows not from validation fold\n",
        "    \n",
        "    # === Build Datasets ===\n",
        "    test_dataset = CustomDataset(test_df, transforms=get_test_transforms())\n",
        "    \n",
        "    # === Create DataLoaders for Train and Validation ===\n",
        "    test_loader = DataLoader(\n",
        "        test_dataset,\n",
        "        batch_size=config.BATCH_SIZE_TEST, \n",
        "        num_workers=config.NUM_WORKERS,\n",
        "        sampler=SequentialSampler(test_dataset),\n",
        "        shuffle=False, pin_memory=True,\n",
        "        drop_last=False, collate_fn=collate_fn\n",
        "    )\n",
        "    \n",
        "    return test_loader\n",
        "\n",
        "test_loader = prepare_loaders(df=df)"
      ],
      "metadata": {
        "id": "CojCX5sNXbmr"
      },
      "execution_count": null,
      "outputs": []
    },
    {
      "cell_type": "markdown",
      "source": [
        "## Model"
      ],
      "metadata": {
        "id": "II410hivXhiC"
      }
    },
    {
      "cell_type": "code",
      "source": [
        "from effdet.config.model_config import efficientdet_model_param_dict\n",
        "from effdet import get_efficientdet_config, EfficientDet, DetBenchTrain, DetBenchPredict\n",
        "from effdet.efficientdet import HeadNet\n",
        "from effdet.config.model_config import efficientdet_model_param_dict\n",
        "\n",
        "def create_model(num_classes=config.NUM_CLASSES, image_size=512,\n",
        "                 architecture=\"tf_efficientnetv2_s\", verbose=False):\n",
        "    efficientdet_model_param_dict['tf_efficientnetv2_s'] = dict(\n",
        "        name='tf_efficientnetv2_s',\n",
        "        backbone_name='tf_efficientnetv2_s',\n",
        "        backbone_args=dict(drop_path_rate=0.2),\n",
        "        num_classes=num_classes,\n",
        "        url='', )\n",
        "    \n",
        "    cfg = get_efficientdet_config(architecture)\n",
        "    cfg.update({'num_classes': num_classes})\n",
        "    cfg.update({'image_size': (image_size, image_size)})\n",
        "    \n",
        "    if verbose:\n",
        "        pprint(cfg)\n",
        "\n",
        "    net = EfficientDet(cfg, pretrained_backbone=True)\n",
        "    net.class_net = HeadNet(\n",
        "        cfg,\n",
        "        num_outputs=cfg.num_classes,\n",
        "    )\n",
        "    return DetBenchPredict(net)\n",
        "\n",
        "\n",
        "def load_model(model_weights_path, model):\n",
        "    \"\"\"\n",
        "    Load model weights.\n",
        "    \"\"\"\n",
        "    model.load_state_dict(torch.load(model_weights_path))\n",
        "    model.eval()\n",
        "    return model"
      ],
      "metadata": {
        "id": "vTxfusXrXh7-"
      },
      "execution_count": null,
      "outputs": []
    },
    {
      "cell_type": "markdown",
      "source": [
        "## Create Models "
      ],
      "metadata": {
        "id": "FN1a-XAEXqk2"
      }
    },
    {
      "cell_type": "code",
      "source": [
        "best_model = create_model(num_classes=config.NUM_CLASSES, verbose=True)\n",
        "best_model = load_model(\"/kaggle/input/benetech-model/best_epoch_model.bin\", best_model)\n",
        "best_model.to(config.DEVICE)"
      ],
      "metadata": {
        "colab": {
          "base_uri": "https://localhost:8080/",
          "height": 403
        },
        "id": "k0nJmBSeXqUl",
        "outputId": "0b9df652-dc4d-454f-83f5-ce6e34e0caa9"
      },
      "execution_count": null,
      "outputs": [
        {
          "output_type": "stream",
          "name": "stdout",
          "text": [
            "{'name': 'tf_efficientnetv2_s', 'backbone_name': 'tf_efficientnetv2_s', 'backbone_args': {'drop_path_rate': 0.2}, 'backbone_indices': None, 'image_size': [512, 512], 'num_classes': 7, 'min_level': 3, 'max_level': 7, 'num_levels': 5, 'num_scales': 3, 'aspect_ratios': [[1.0, 1.0], [1.4, 0.7], [0.7, 1.4]], 'anchor_scale': 4.0, 'pad_type': 'same', 'act_type': 'swish', 'norm_layer': None, 'norm_kwargs': {'eps': 0.001, 'momentum': 0.01}, 'box_class_repeats': 3, 'fpn_cell_repeats': 3, 'fpn_channels': 88, 'separable_conv': True, 'apply_resample_bn': True, 'conv_bn_relu_pattern': False, 'downsample_type': 'max', 'upsample_type': 'nearest', 'redundant_bias': True, 'head_bn_level_first': False, 'head_act_type': None, 'fpn_name': None, 'fpn_config': None, 'fpn_drop_path_rate': 0.0, 'alpha': 0.25, 'gamma': 1.5, 'label_smoothing': 0.0, 'legacy_focal': False, 'jit_loss': False, 'delta': 0.1, 'box_loss_weight': 50.0, 'soft_nms': False, 'max_detection_points': 5000, 'max_det_per_image': 100, 'url': ''}\n"
          ]
        },
        {
          "output_type": "error",
          "ename": "FileNotFoundError",
          "evalue": "ignored",
          "traceback": [
            "\u001b[0;31m---------------------------------------------------------------------------\u001b[0m",
            "\u001b[0;31mFileNotFoundError\u001b[0m                         Traceback (most recent call last)",
            "\u001b[0;32m<ipython-input-47-18a8142743a3>\u001b[0m in \u001b[0;36m<cell line: 2>\u001b[0;34m()\u001b[0m\n\u001b[1;32m      1\u001b[0m \u001b[0mbest_model\u001b[0m \u001b[0;34m=\u001b[0m \u001b[0mcreate_model\u001b[0m\u001b[0;34m(\u001b[0m\u001b[0mnum_classes\u001b[0m\u001b[0;34m=\u001b[0m\u001b[0mconfig\u001b[0m\u001b[0;34m.\u001b[0m\u001b[0mNUM_CLASSES\u001b[0m\u001b[0;34m,\u001b[0m \u001b[0mverbose\u001b[0m\u001b[0;34m=\u001b[0m\u001b[0;32mTrue\u001b[0m\u001b[0;34m)\u001b[0m\u001b[0;34m\u001b[0m\u001b[0;34m\u001b[0m\u001b[0m\n\u001b[0;32m----> 2\u001b[0;31m \u001b[0mbest_model\u001b[0m \u001b[0;34m=\u001b[0m \u001b[0mload_model\u001b[0m\u001b[0;34m(\u001b[0m\u001b[0;34m\"/kaggle/input/benetech-model/best_epoch_model.bin\"\u001b[0m\u001b[0;34m,\u001b[0m \u001b[0mbest_model\u001b[0m\u001b[0;34m)\u001b[0m\u001b[0;34m\u001b[0m\u001b[0;34m\u001b[0m\u001b[0m\n\u001b[0m\u001b[1;32m      3\u001b[0m \u001b[0mbest_model\u001b[0m\u001b[0;34m.\u001b[0m\u001b[0mto\u001b[0m\u001b[0;34m(\u001b[0m\u001b[0mconfig\u001b[0m\u001b[0;34m.\u001b[0m\u001b[0mDEVICE\u001b[0m\u001b[0;34m)\u001b[0m\u001b[0;34m\u001b[0m\u001b[0;34m\u001b[0m\u001b[0m\n",
            "\u001b[0;32m<ipython-input-46-7ad40f051183>\u001b[0m in \u001b[0;36mload_model\u001b[0;34m(model_weights_path, model)\u001b[0m\n\u001b[1;32m     32\u001b[0m     \u001b[0mLoad\u001b[0m \u001b[0mmodel\u001b[0m \u001b[0mweights\u001b[0m\u001b[0;34m.\u001b[0m\u001b[0;34m\u001b[0m\u001b[0;34m\u001b[0m\u001b[0m\n\u001b[1;32m     33\u001b[0m     \"\"\"\n\u001b[0;32m---> 34\u001b[0;31m     \u001b[0mmodel\u001b[0m\u001b[0;34m.\u001b[0m\u001b[0mload_state_dict\u001b[0m\u001b[0;34m(\u001b[0m\u001b[0mtorch\u001b[0m\u001b[0;34m.\u001b[0m\u001b[0mload\u001b[0m\u001b[0;34m(\u001b[0m\u001b[0mmodel_weights_path\u001b[0m\u001b[0;34m)\u001b[0m\u001b[0;34m)\u001b[0m\u001b[0;34m\u001b[0m\u001b[0;34m\u001b[0m\u001b[0m\n\u001b[0m\u001b[1;32m     35\u001b[0m     \u001b[0mmodel\u001b[0m\u001b[0;34m.\u001b[0m\u001b[0meval\u001b[0m\u001b[0;34m(\u001b[0m\u001b[0;34m)\u001b[0m\u001b[0;34m\u001b[0m\u001b[0;34m\u001b[0m\u001b[0m\n\u001b[1;32m     36\u001b[0m     \u001b[0;32mreturn\u001b[0m \u001b[0mmodel\u001b[0m\u001b[0;34m\u001b[0m\u001b[0;34m\u001b[0m\u001b[0m\n",
            "\u001b[0;32m/usr/local/lib/python3.10/dist-packages/torch/serialization.py\u001b[0m in \u001b[0;36mload\u001b[0;34m(f, map_location, pickle_module, weights_only, **pickle_load_args)\u001b[0m\n\u001b[1;32m    789\u001b[0m         \u001b[0mpickle_load_args\u001b[0m\u001b[0;34m[\u001b[0m\u001b[0;34m'encoding'\u001b[0m\u001b[0;34m]\u001b[0m \u001b[0;34m=\u001b[0m \u001b[0;34m'utf-8'\u001b[0m\u001b[0;34m\u001b[0m\u001b[0;34m\u001b[0m\u001b[0m\n\u001b[1;32m    790\u001b[0m \u001b[0;34m\u001b[0m\u001b[0m\n\u001b[0;32m--> 791\u001b[0;31m     \u001b[0;32mwith\u001b[0m \u001b[0m_open_file_like\u001b[0m\u001b[0;34m(\u001b[0m\u001b[0mf\u001b[0m\u001b[0;34m,\u001b[0m \u001b[0;34m'rb'\u001b[0m\u001b[0;34m)\u001b[0m \u001b[0;32mas\u001b[0m \u001b[0mopened_file\u001b[0m\u001b[0;34m:\u001b[0m\u001b[0;34m\u001b[0m\u001b[0;34m\u001b[0m\u001b[0m\n\u001b[0m\u001b[1;32m    792\u001b[0m         \u001b[0;32mif\u001b[0m \u001b[0m_is_zipfile\u001b[0m\u001b[0;34m(\u001b[0m\u001b[0mopened_file\u001b[0m\u001b[0;34m)\u001b[0m\u001b[0;34m:\u001b[0m\u001b[0;34m\u001b[0m\u001b[0;34m\u001b[0m\u001b[0m\n\u001b[1;32m    793\u001b[0m             \u001b[0;31m# The zipfile reader is going to advance the current file position.\u001b[0m\u001b[0;34m\u001b[0m\u001b[0;34m\u001b[0m\u001b[0m\n",
            "\u001b[0;32m/usr/local/lib/python3.10/dist-packages/torch/serialization.py\u001b[0m in \u001b[0;36m_open_file_like\u001b[0;34m(name_or_buffer, mode)\u001b[0m\n\u001b[1;32m    269\u001b[0m \u001b[0;32mdef\u001b[0m \u001b[0m_open_file_like\u001b[0m\u001b[0;34m(\u001b[0m\u001b[0mname_or_buffer\u001b[0m\u001b[0;34m,\u001b[0m \u001b[0mmode\u001b[0m\u001b[0;34m)\u001b[0m\u001b[0;34m:\u001b[0m\u001b[0;34m\u001b[0m\u001b[0;34m\u001b[0m\u001b[0m\n\u001b[1;32m    270\u001b[0m     \u001b[0;32mif\u001b[0m \u001b[0m_is_path\u001b[0m\u001b[0;34m(\u001b[0m\u001b[0mname_or_buffer\u001b[0m\u001b[0;34m)\u001b[0m\u001b[0;34m:\u001b[0m\u001b[0;34m\u001b[0m\u001b[0;34m\u001b[0m\u001b[0m\n\u001b[0;32m--> 271\u001b[0;31m         \u001b[0;32mreturn\u001b[0m \u001b[0m_open_file\u001b[0m\u001b[0;34m(\u001b[0m\u001b[0mname_or_buffer\u001b[0m\u001b[0;34m,\u001b[0m \u001b[0mmode\u001b[0m\u001b[0;34m)\u001b[0m\u001b[0;34m\u001b[0m\u001b[0;34m\u001b[0m\u001b[0m\n\u001b[0m\u001b[1;32m    272\u001b[0m     \u001b[0;32melse\u001b[0m\u001b[0;34m:\u001b[0m\u001b[0;34m\u001b[0m\u001b[0;34m\u001b[0m\u001b[0m\n\u001b[1;32m    273\u001b[0m         \u001b[0;32mif\u001b[0m \u001b[0;34m'w'\u001b[0m \u001b[0;32min\u001b[0m \u001b[0mmode\u001b[0m\u001b[0;34m:\u001b[0m\u001b[0;34m\u001b[0m\u001b[0;34m\u001b[0m\u001b[0m\n",
            "\u001b[0;32m/usr/local/lib/python3.10/dist-packages/torch/serialization.py\u001b[0m in \u001b[0;36m__init__\u001b[0;34m(self, name, mode)\u001b[0m\n\u001b[1;32m    250\u001b[0m \u001b[0;32mclass\u001b[0m \u001b[0m_open_file\u001b[0m\u001b[0;34m(\u001b[0m\u001b[0m_opener\u001b[0m\u001b[0;34m)\u001b[0m\u001b[0;34m:\u001b[0m\u001b[0;34m\u001b[0m\u001b[0;34m\u001b[0m\u001b[0m\n\u001b[1;32m    251\u001b[0m     \u001b[0;32mdef\u001b[0m \u001b[0m__init__\u001b[0m\u001b[0;34m(\u001b[0m\u001b[0mself\u001b[0m\u001b[0;34m,\u001b[0m \u001b[0mname\u001b[0m\u001b[0;34m,\u001b[0m \u001b[0mmode\u001b[0m\u001b[0;34m)\u001b[0m\u001b[0;34m:\u001b[0m\u001b[0;34m\u001b[0m\u001b[0;34m\u001b[0m\u001b[0m\n\u001b[0;32m--> 252\u001b[0;31m         \u001b[0msuper\u001b[0m\u001b[0;34m(\u001b[0m\u001b[0;34m)\u001b[0m\u001b[0;34m.\u001b[0m\u001b[0m__init__\u001b[0m\u001b[0;34m(\u001b[0m\u001b[0mopen\u001b[0m\u001b[0;34m(\u001b[0m\u001b[0mname\u001b[0m\u001b[0;34m,\u001b[0m \u001b[0mmode\u001b[0m\u001b[0;34m)\u001b[0m\u001b[0;34m)\u001b[0m\u001b[0;34m\u001b[0m\u001b[0;34m\u001b[0m\u001b[0m\n\u001b[0m\u001b[1;32m    253\u001b[0m \u001b[0;34m\u001b[0m\u001b[0m\n\u001b[1;32m    254\u001b[0m     \u001b[0;32mdef\u001b[0m \u001b[0m__exit__\u001b[0m\u001b[0;34m(\u001b[0m\u001b[0mself\u001b[0m\u001b[0;34m,\u001b[0m \u001b[0;34m*\u001b[0m\u001b[0margs\u001b[0m\u001b[0;34m)\u001b[0m\u001b[0;34m:\u001b[0m\u001b[0;34m\u001b[0m\u001b[0;34m\u001b[0m\u001b[0m\n",
            "\u001b[0;31mFileNotFoundError\u001b[0m: [Errno 2] No such file or directory: '/kaggle/input/benetech-model/best_epoch_model.bin'"
          ]
        }
      ]
    },
    {
      "cell_type": "markdown",
      "source": [
        "## Inference Function"
      ],
      "metadata": {
        "id": "pAwCUMi3X0lU"
      }
    },
    {
      "cell_type": "code",
      "source": [
        "@torch.no_grad()\n",
        "def inference_function(model, dataloader, device):\n",
        "    model.eval() # Set model in evaluation mode\n",
        "    pbar = tqdm(enumerate(dataloader), total=len(dataloader), desc='Test ') # Progress bar\n",
        "    predictions = []\n",
        "    ids = []\n",
        "    for step, (images, image_ids) in pbar:  \n",
        "        # === Collate ===\n",
        "        images = torch.stack(images).to(device).float() # Get images\n",
        "        batch_size = images.shape[0] # Get batch size\n",
        "        preds = model(images).cpu().numpy().tolist()\n",
        "        predictions += preds # Forward pass\n",
        "        ids += image_ids\n",
        "    return predictions, ids"
      ],
      "metadata": {
        "id": "gtHJlYKXX0Jm"
      },
      "execution_count": null,
      "outputs": []
    },
    {
      "cell_type": "markdown",
      "source": [
        "## Inference"
      ],
      "metadata": {
        "id": "XzowPIJ8X4Yz"
      }
    },
    {
      "cell_type": "code",
      "source": [
        "test_loader = prepare_loaders(df=df)\n",
        "predictions, image_ids = inference_function(best_model, test_loader, config.DEVICE)"
      ],
      "metadata": {
        "id": "SKWien82X35O"
      },
      "execution_count": null,
      "outputs": []
    },
    {
      "cell_type": "markdown",
      "source": [
        "## Prediction"
      ],
      "metadata": {
        "id": "OvDSiJvuYAcB"
      }
    },
    {
      "cell_type": "code",
      "source": [
        "preds_df = pd.DataFrame([image_ids, predictions]).T\n",
        "preds_df.columns = [\"image_id\", \"prediction\"]\n",
        "preds_df = preds_df.explode(\"prediction\")\n",
        "cols = ['x_min', 'y_min', 'x_max', 'y_max', 'prob', 'label']\n",
        "preds_df[cols] = pd.DataFrame(preds_df.prediction.tolist(), index= preds_df.index)\n",
        "preds_df = preds_df[preds_df[\"prob\"]>0.3]\n",
        "preds_df"
      ],
      "metadata": {
        "id": "XlNOWhvMYASd"
      },
      "execution_count": null,
      "outputs": []
    },
    {
      "cell_type": "markdown",
      "source": [
        "## Plot Prediction"
      ],
      "metadata": {
        "id": "Pcifr_1AYHHk"
      }
    },
    {
      "cell_type": "code",
      "source": [
        "for image_id in preds_df.image_id.unique().tolist():\n",
        "    aux = preds_df[preds_df[\"image_id\"]==image_id]\n",
        "    image = cv2.imread(paths.TEST_IMAGES_FOLDER + image_id + \".jpg\")\n",
        "    transform = A.Resize(height=config.RESOLUTION, width=config.RESOLUTION, p=1)\n",
        "    transformed_image = transform(**{\"image\":image})\n",
        "    image = transformed_image[\"image\"]\n",
        "    print(f\"Image ID: {image_id}\")\n",
        "    fig, ax = plt.subplots(1, 1, figsize=(12, 10)) # create figure\n",
        "    for index, row in aux.iterrows():\n",
        "        x_min, x_max, y_min, y_max = int(row[\"x_min\"]), int(row[\"x_max\"]), int(row[\"y_min\"]), int(row[\"y_max\"])\n",
        "        # === Plot bounding boxes ====\n",
        "        cv2.rectangle(image, (x_min, y_min), (x_max,  y_max), (0, 255, 0), 2)\n",
        "    ax.set_axis_off()\n",
        "    ax.imshow(image)"
      ],
      "metadata": {
        "id": "NE5E4EVyYHcl"
      },
      "execution_count": null,
      "outputs": []
    }
  ]
}