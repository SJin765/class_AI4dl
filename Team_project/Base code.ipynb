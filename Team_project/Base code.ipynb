{
  "nbformat": 4,
  "nbformat_minor": 0,
  "metadata": {
    "colab": {
      "provenance": [],
      "authorship_tag": "ABX9TyPnqtfXRuiMcKACxyFA4SLb",
      "include_colab_link": true
    },
    "kernelspec": {
      "name": "python3",
      "display_name": "Python 3"
    },
    "language_info": {
      "name": "python"
    }
  },
  "cells": [
    {
      "cell_type": "markdown",
      "metadata": {
        "id": "view-in-github",
        "colab_type": "text"
      },
      "source": [
        "<a href=\"https://colab.research.google.com/github/SJin765/class_AI4dl/blob/main/Team_project/Base%20code.ipynb\" target=\"_parent\"><img src=\"https://colab.research.google.com/assets/colab-badge.svg\" alt=\"Open In Colab\"/></a>"
      ]
    },
    {
      "cell_type": "code",
      "execution_count": null,
      "metadata": {
        "id": "15kMjLGTDhrm"
      },
      "outputs": [],
      "source": [
        "import os\n",
        "\n",
        "# 현재 작업 디렉토리의 파일 경로\n",
        "file_path = os.path.join(os.getcwd(), 'drive', 'MyDrive','open.zip')\n",
        "# 경로 출력\n",
        "print(file_path)"
      ]
    },
    {
      "cell_type": "code",
      "source": [
        "## 자기 컴퓨터 환경따라 하기\n",
        "\n",
        "import zipfile\n",
        "\n",
        "zip_file_path = '/content/drive/MyDrive/open.zip'\n",
        "extract_path = '/content/drive/MyDrive/extract/folder'\n",
        "\n",
        "# 압축 파일 열기\n",
        "with zipfile.ZipFile(zip_file_path, 'r') as zip_file:\n",
        "    # 압축 파일 내 폴더 목록 확인\n",
        "    folder_list = [name for name in zip_file.namelist() if name.endswith('/')]\n",
        "\n",
        "    # 폴더 내용물 확인\n",
        "    for folder_name in folder_list:\n",
        "        print(f\"Folder: {folder_name}\")\n",
        "        file_list = zip_file.namelist()\n",
        "\n",
        "        # 폴더 내 파일 목록 확인\n",
        "        for file_name in file_list:\n",
        "            if file_name.startswith(folder_name) and not file_name.endswith('/'):\n",
        "                print(f\"File: {file_name}\")\n",
        "\n",
        "    # 압축 파일 해제\n",
        "    zip_file.extractall(extract_path)"
      ],
      "metadata": {
        "id": "CeW4ddJzDvRX"
      },
      "execution_count": null,
      "outputs": []
    },
    {
      "cell_type": "markdown",
      "source": [
        "# Import"
      ],
      "metadata": {
        "id": "6YCUcBvtD83H"
      }
    },
    {
      "cell_type": "code",
      "source": [
        "import warnings\n",
        "warnings.filterwarnings(action='ignore')"
      ],
      "metadata": {
        "id": "dymRoKjED33n"
      },
      "execution_count": null,
      "outputs": []
    },
    {
      "cell_type": "code",
      "source": [
        "import random\n",
        "import pandas as pd\n",
        "import numpy as np\n",
        "import os\n",
        "import glob\n",
        "import cv2\n",
        "import matplotlib.pyplot as plt\n",
        "\n",
        "import torch\n",
        "import torch.nn as nn\n",
        "\n",
        "import torchvision\n",
        "import torchvision.models as models\n",
        "from torchvision.models.detection.faster_rcnn import FastRCNNPredictor, FasterRCNN\n",
        "from torchvision.models.detection.rpn import AnchorGenerator\n",
        "from torchvision.models.detection.backbone_utils import resnet_fpn_backbone\n",
        "\n",
        "import torch.optim as optim\n",
        "import torch.nn.functional as F\n",
        "from torch.utils.data import Dataset, DataLoader\n",
        "\n",
        "import cv2\n",
        "import albumentations as A\n",
        "from albumentations.pytorch.transforms import ToTensorV2\n",
        "from tqdm.auto import tqdm"
      ],
      "metadata": {
        "id": "oCW4orQoD64M"
      },
      "execution_count": null,
      "outputs": []
    },
    {
      "cell_type": "code",
      "source": [
        "device = torch.device('cuda') if torch.cuda.is_available() else torch.device('cpu')"
      ],
      "metadata": {
        "id": "lEnrVT3cEE3a"
      },
      "execution_count": null,
      "outputs": []
    },
    {
      "cell_type": "markdown",
      "source": [
        "# Hyperparameter"
      ],
      "metadata": {
        "id": "oIEuiExiEFxU"
      }
    },
    {
      "cell_type": "code",
      "source": [
        "CFG = {\n",
        "    'NUM_CLASS':34,\n",
        "    'IMG_SIZE':512, #512고정\n",
        "    'EPOCHS':10,\n",
        "    'LR':3e-4, #Learning rate\n",
        "    'BATCH_SIZE':16,\n",
        "    'SEED':41\n",
        "}"
      ],
      "metadata": {
        "id": "ipoW7s9FEGIL"
      },
      "execution_count": null,
      "outputs": []
    },
    {
      "cell_type": "markdown",
      "source": [
        "# Fixed random-seed"
      ],
      "metadata": {
        "id": "aDqZjiXdEOZp"
      }
    },
    {
      "cell_type": "code",
      "source": [
        "def seed_everything(seed):\n",
        "    random.seed(seed)\n",
        "    os.environ['PYTHONHASHSEED'] = str(seed)\n",
        "    np.random.seed(seed)\n",
        "    torch.manual_seed(seed)\n",
        "    torch.cuda.manual_seed(seed)\n",
        "    torch.backends.cudnn.deterministic = True\n",
        "    torch.backends.cudnn.benchmark = True\n",
        "\n",
        "seed_everything(CFG['SEED']) # Seed 고정"
      ],
      "metadata": {
        "id": "lJzxvA3NEOFv"
      },
      "execution_count": null,
      "outputs": []
    },
    {
      "cell_type": "markdown",
      "source": [
        "# Visualization"
      ],
      "metadata": {
        "id": "H23nrc9sETne"
      }
    },
    {
      "cell_type": "code",
      "source": [
        "def draw_boxes_on_image(image_path, annotation_path):\n",
        "    # 이미지 불러오기\n",
        "    image = cv2.imread(image_path)\n",
        "    image = cv2.cvtColor(image, cv2.COLOR_BGR2RGB)\n",
        "\n",
        "    # txt 파일에서 Class ID와 Bounding Box 정보 읽기\n",
        "    with open(annotation_path, 'r') as file:\n",
        "        lines = file.readlines()\n",
        "\n",
        "    for line in lines:\n",
        "        values = list(map(float, line.strip().split(' ')))\n",
        "        class_id = int(values[0])\n",
        "        x_min, y_min = int(round(values[1])), int(round(values[2]))\n",
        "        x_max, y_max = int(round(max(values[3], values[5], values[7]))), int(round(max(values[4], values[6], values[8])))\n",
        "\n",
        "        # 이미지에 바운딩 박스 그리기\n",
        "        cv2.rectangle(image, (x_min, y_min), (x_max, y_max), (255, 0, 0), 2)\n",
        "        cv2.putText(image, str(class_id), (x_min, y_min - 5), cv2.FONT_HERSHEY_SIMPLEX, 0.5, (255, 0, 0), 2)\n",
        "\n",
        "    # 이미지와 바운딩 박스 출력\n",
        "    plt.figure(figsize=(25, 25))\n",
        "    plt.imshow(image)\n",
        "    plt.show()"
      ],
      "metadata": {
        "id": "9WoOGZ_nEGjB"
      },
      "execution_count": null,
      "outputs": []
    },
    {
      "cell_type": "code",
      "source": [
        "# 파일 경로 설정 - 첫번째 파일\n",
        "train_path = '/content/drive/MyDrive/extract/folder/train'\n",
        "img_name = '/syn_00000.png'\n",
        "ant_name = '/syn_00000.txt'\n",
        "image_file = train_path + img_name\n",
        "annotation_file = train_path + ant_name\n",
        "# 함수 실행\n",
        "draw_boxes_on_image(image_file, annotation_file)"
      ],
      "metadata": {
        "id": "PnN1P3HWEG2t"
      },
      "execution_count": null,
      "outputs": []
    },
    {
      "cell_type": "code",
      "source": [
        "# 파일 경로 설정 - 두번째 파일\n",
        "train_path = '/content/drive/MyDrive/extract/folder/train'\n",
        "img_name = '/syn_00001.png'\n",
        "ant_name = '/syn_00001.txt'\n",
        "image_file = train_path + img_name\n",
        "annotation_file = train_path + ant_name\n",
        "# 함수 실행\n",
        "draw_boxes_on_image(image_file, annotation_file)"
      ],
      "metadata": {
        "id": "GY25u4tIEcuI"
      },
      "execution_count": null,
      "outputs": []
    },
    {
      "cell_type": "markdown",
      "source": [
        "# Custom dataset\n"
      ],
      "metadata": {
        "id": "MI_EZq0-Ehdw"
      }
    },
    {
      "cell_type": "code",
      "source": [
        "#collate_fn : 주어진 이미지 - target box, target label추출\n",
        "def collate_fn(batch): #Pytorch의 dataloader에서 batch를 처리하기 위한 함수\n",
        "    images, targets_boxes, targets_labels = tuple(zip(*batch))\n",
        "    images = torch.stack(images, 0)\n",
        "    targets = []\n",
        "   \n",
        "    for i in range(len(targets_boxes)):\n",
        "        target = {\n",
        "            \"boxes\": targets_boxes[i],\n",
        "            \"labels\": targets_labels[i]\n",
        "        }\n",
        "        targets.append(target)\n",
        "\n",
        "    return images, targets"
      ],
      "metadata": {
        "id": "P21MjQJHEhCf"
      },
      "execution_count": null,
      "outputs": []
    }
  ]
}