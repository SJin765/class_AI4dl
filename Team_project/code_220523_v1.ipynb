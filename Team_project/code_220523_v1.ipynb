{
  "nbformat": 4,
  "nbformat_minor": 0,
  "metadata": {
    "colab": {
      "provenance": [],
      "gpuType": "T4",
      "machine_shape": "hm",
      "toc_visible": true,
      "include_colab_link": true
    },
    "kernelspec": {
      "name": "python3",
      "display_name": "Python 3"
    },
    "language_info": {
      "name": "python"
    },
    "accelerator": "GPU",
    "gpuClass": "standard",
    "widgets": {
      "application/vnd.jupyter.widget-state+json": {
        "44843ce410474271bf34c5810e3a7d50": {
          "model_module": "@jupyter-widgets/controls",
          "model_name": "HBoxModel",
          "model_module_version": "1.5.0",
          "state": {
            "_dom_classes": [],
            "_model_module": "@jupyter-widgets/controls",
            "_model_module_version": "1.5.0",
            "_model_name": "HBoxModel",
            "_view_count": null,
            "_view_module": "@jupyter-widgets/controls",
            "_view_module_version": "1.5.0",
            "_view_name": "HBoxView",
            "box_style": "",
            "children": [
              "IPY_MODEL_19e5669bd5194cb296f7f1743b5c05ae",
              "IPY_MODEL_459e4c7f1a804dfa98228ea90af25dcb",
              "IPY_MODEL_0e551018d97f40f28bba5891163637bf"
            ],
            "layout": "IPY_MODEL_42bf6b422145488b8c938239945e16a4"
          }
        },
        "19e5669bd5194cb296f7f1743b5c05ae": {
          "model_module": "@jupyter-widgets/controls",
          "model_name": "HTMLModel",
          "model_module_version": "1.5.0",
          "state": {
            "_dom_classes": [],
            "_model_module": "@jupyter-widgets/controls",
            "_model_module_version": "1.5.0",
            "_model_name": "HTMLModel",
            "_view_count": null,
            "_view_module": "@jupyter-widgets/controls",
            "_view_module_version": "1.5.0",
            "_view_name": "HTMLView",
            "description": "",
            "description_tooltip": null,
            "layout": "IPY_MODEL_a97c88cd8966495498a23dcf50f2eff7",
            "placeholder": "​",
            "style": "IPY_MODEL_55125f8c9afa4a4fb357165f764c4143",
            "value": "  0%"
          }
        },
        "459e4c7f1a804dfa98228ea90af25dcb": {
          "model_module": "@jupyter-widgets/controls",
          "model_name": "FloatProgressModel",
          "model_module_version": "1.5.0",
          "state": {
            "_dom_classes": [],
            "_model_module": "@jupyter-widgets/controls",
            "_model_module_version": "1.5.0",
            "_model_name": "FloatProgressModel",
            "_view_count": null,
            "_view_module": "@jupyter-widgets/controls",
            "_view_module_version": "1.5.0",
            "_view_name": "ProgressView",
            "bar_style": "",
            "description": "",
            "description_tooltip": null,
            "layout": "IPY_MODEL_a7605d13ea084842a0b7ec0f194cce20",
            "max": 406,
            "min": 0,
            "orientation": "horizontal",
            "style": "IPY_MODEL_d003e9f3eb72486ea2ec4f4cf480e95a",
            "value": 0
          }
        },
        "0e551018d97f40f28bba5891163637bf": {
          "model_module": "@jupyter-widgets/controls",
          "model_name": "HTMLModel",
          "model_module_version": "1.5.0",
          "state": {
            "_dom_classes": [],
            "_model_module": "@jupyter-widgets/controls",
            "_model_module_version": "1.5.0",
            "_model_name": "HTMLModel",
            "_view_count": null,
            "_view_module": "@jupyter-widgets/controls",
            "_view_module_version": "1.5.0",
            "_view_name": "HTMLView",
            "description": "",
            "description_tooltip": null,
            "layout": "IPY_MODEL_c235b18435cb4c37afc0ea2824d1ae77",
            "placeholder": "​",
            "style": "IPY_MODEL_05ff065f506b43ed98e6d10f667344ee",
            "value": " 0/406 [00:00&lt;?, ?it/s]"
          }
        },
        "42bf6b422145488b8c938239945e16a4": {
          "model_module": "@jupyter-widgets/base",
          "model_name": "LayoutModel",
          "model_module_version": "1.2.0",
          "state": {
            "_model_module": "@jupyter-widgets/base",
            "_model_module_version": "1.2.0",
            "_model_name": "LayoutModel",
            "_view_count": null,
            "_view_module": "@jupyter-widgets/base",
            "_view_module_version": "1.2.0",
            "_view_name": "LayoutView",
            "align_content": null,
            "align_items": null,
            "align_self": null,
            "border": null,
            "bottom": null,
            "display": null,
            "flex": null,
            "flex_flow": null,
            "grid_area": null,
            "grid_auto_columns": null,
            "grid_auto_flow": null,
            "grid_auto_rows": null,
            "grid_column": null,
            "grid_gap": null,
            "grid_row": null,
            "grid_template_areas": null,
            "grid_template_columns": null,
            "grid_template_rows": null,
            "height": null,
            "justify_content": null,
            "justify_items": null,
            "left": null,
            "margin": null,
            "max_height": null,
            "max_width": null,
            "min_height": null,
            "min_width": null,
            "object_fit": null,
            "object_position": null,
            "order": null,
            "overflow": null,
            "overflow_x": null,
            "overflow_y": null,
            "padding": null,
            "right": null,
            "top": null,
            "visibility": null,
            "width": null
          }
        },
        "a97c88cd8966495498a23dcf50f2eff7": {
          "model_module": "@jupyter-widgets/base",
          "model_name": "LayoutModel",
          "model_module_version": "1.2.0",
          "state": {
            "_model_module": "@jupyter-widgets/base",
            "_model_module_version": "1.2.0",
            "_model_name": "LayoutModel",
            "_view_count": null,
            "_view_module": "@jupyter-widgets/base",
            "_view_module_version": "1.2.0",
            "_view_name": "LayoutView",
            "align_content": null,
            "align_items": null,
            "align_self": null,
            "border": null,
            "bottom": null,
            "display": null,
            "flex": null,
            "flex_flow": null,
            "grid_area": null,
            "grid_auto_columns": null,
            "grid_auto_flow": null,
            "grid_auto_rows": null,
            "grid_column": null,
            "grid_gap": null,
            "grid_row": null,
            "grid_template_areas": null,
            "grid_template_columns": null,
            "grid_template_rows": null,
            "height": null,
            "justify_content": null,
            "justify_items": null,
            "left": null,
            "margin": null,
            "max_height": null,
            "max_width": null,
            "min_height": null,
            "min_width": null,
            "object_fit": null,
            "object_position": null,
            "order": null,
            "overflow": null,
            "overflow_x": null,
            "overflow_y": null,
            "padding": null,
            "right": null,
            "top": null,
            "visibility": null,
            "width": null
          }
        },
        "55125f8c9afa4a4fb357165f764c4143": {
          "model_module": "@jupyter-widgets/controls",
          "model_name": "DescriptionStyleModel",
          "model_module_version": "1.5.0",
          "state": {
            "_model_module": "@jupyter-widgets/controls",
            "_model_module_version": "1.5.0",
            "_model_name": "DescriptionStyleModel",
            "_view_count": null,
            "_view_module": "@jupyter-widgets/base",
            "_view_module_version": "1.2.0",
            "_view_name": "StyleView",
            "description_width": ""
          }
        },
        "a7605d13ea084842a0b7ec0f194cce20": {
          "model_module": "@jupyter-widgets/base",
          "model_name": "LayoutModel",
          "model_module_version": "1.2.0",
          "state": {
            "_model_module": "@jupyter-widgets/base",
            "_model_module_version": "1.2.0",
            "_model_name": "LayoutModel",
            "_view_count": null,
            "_view_module": "@jupyter-widgets/base",
            "_view_module_version": "1.2.0",
            "_view_name": "LayoutView",
            "align_content": null,
            "align_items": null,
            "align_self": null,
            "border": null,
            "bottom": null,
            "display": null,
            "flex": null,
            "flex_flow": null,
            "grid_area": null,
            "grid_auto_columns": null,
            "grid_auto_flow": null,
            "grid_auto_rows": null,
            "grid_column": null,
            "grid_gap": null,
            "grid_row": null,
            "grid_template_areas": null,
            "grid_template_columns": null,
            "grid_template_rows": null,
            "height": null,
            "justify_content": null,
            "justify_items": null,
            "left": null,
            "margin": null,
            "max_height": null,
            "max_width": null,
            "min_height": null,
            "min_width": null,
            "object_fit": null,
            "object_position": null,
            "order": null,
            "overflow": null,
            "overflow_x": null,
            "overflow_y": null,
            "padding": null,
            "right": null,
            "top": null,
            "visibility": null,
            "width": null
          }
        },
        "d003e9f3eb72486ea2ec4f4cf480e95a": {
          "model_module": "@jupyter-widgets/controls",
          "model_name": "ProgressStyleModel",
          "model_module_version": "1.5.0",
          "state": {
            "_model_module": "@jupyter-widgets/controls",
            "_model_module_version": "1.5.0",
            "_model_name": "ProgressStyleModel",
            "_view_count": null,
            "_view_module": "@jupyter-widgets/base",
            "_view_module_version": "1.2.0",
            "_view_name": "StyleView",
            "bar_color": null,
            "description_width": ""
          }
        },
        "c235b18435cb4c37afc0ea2824d1ae77": {
          "model_module": "@jupyter-widgets/base",
          "model_name": "LayoutModel",
          "model_module_version": "1.2.0",
          "state": {
            "_model_module": "@jupyter-widgets/base",
            "_model_module_version": "1.2.0",
            "_model_name": "LayoutModel",
            "_view_count": null,
            "_view_module": "@jupyter-widgets/base",
            "_view_module_version": "1.2.0",
            "_view_name": "LayoutView",
            "align_content": null,
            "align_items": null,
            "align_self": null,
            "border": null,
            "bottom": null,
            "display": null,
            "flex": null,
            "flex_flow": null,
            "grid_area": null,
            "grid_auto_columns": null,
            "grid_auto_flow": null,
            "grid_auto_rows": null,
            "grid_column": null,
            "grid_gap": null,
            "grid_row": null,
            "grid_template_areas": null,
            "grid_template_columns": null,
            "grid_template_rows": null,
            "height": null,
            "justify_content": null,
            "justify_items": null,
            "left": null,
            "margin": null,
            "max_height": null,
            "max_width": null,
            "min_height": null,
            "min_width": null,
            "object_fit": null,
            "object_position": null,
            "order": null,
            "overflow": null,
            "overflow_x": null,
            "overflow_y": null,
            "padding": null,
            "right": null,
            "top": null,
            "visibility": null,
            "width": null
          }
        },
        "05ff065f506b43ed98e6d10f667344ee": {
          "model_module": "@jupyter-widgets/controls",
          "model_name": "DescriptionStyleModel",
          "model_module_version": "1.5.0",
          "state": {
            "_model_module": "@jupyter-widgets/controls",
            "_model_module_version": "1.5.0",
            "_model_name": "DescriptionStyleModel",
            "_view_count": null,
            "_view_module": "@jupyter-widgets/base",
            "_view_module_version": "1.2.0",
            "_view_name": "StyleView",
            "description_width": ""
          }
        }
      }
    }
  },
  "cells": [
    {
      "cell_type": "markdown",
      "metadata": {
        "id": "view-in-github",
        "colab_type": "text"
      },
      "source": [
        "<a href=\"https://colab.research.google.com/github/SJin765/class_AI4dl/blob/main/Team_project/code_220523_v1.ipynb\" target=\"_parent\"><img src=\"https://colab.research.google.com/assets/colab-badge.svg\" alt=\"Open In Colab\"/></a>"
      ]
    },
    {
      "cell_type": "markdown",
      "source": [
        "# Loading File"
      ],
      "metadata": {
        "id": "4ctZQVOh70r-"
      }
    },
    {
      "cell_type": "code",
      "source": [
        "import os\n",
        "\n",
        "# 현재 작업 디렉토리의 파일 경로\n",
        "file_path = os.path.join(os.getcwd(), 'drive', 'MyDrive','open.zip')\n",
        "\n",
        "# 경로 출력\n",
        "print(file_path)"
      ],
      "metadata": {
        "colab": {
          "base_uri": "https://localhost:8080/"
        },
        "id": "I70iAmujBwni",
        "outputId": "dfcdcf6b-a85a-483c-c209-bf6cccf0aeeb"
      },
      "execution_count": null,
      "outputs": [
        {
          "output_type": "stream",
          "name": "stdout",
          "text": [
            "/content/drive/MyDrive/open.zip\n"
          ]
        }
      ]
    },
    {
      "cell_type": "code",
      "source": [
        "# 구글 드라이브 마운트 하기 (필수!!)\n",
        "from google.colab import drive\n",
        "drive.mount('/content/drive')"
      ],
      "metadata": {
        "id": "TbHQyDkejhhg",
        "outputId": "b34c6d83-c630-4a3c-8fbe-757957963178",
        "colab": {
          "base_uri": "https://localhost:8080/"
        }
      },
      "execution_count": null,
      "outputs": [
        {
          "output_type": "stream",
          "name": "stdout",
          "text": [
            "Mounted at /content/drive\n"
          ]
        }
      ]
    },
    {
      "cell_type": "code",
      "source": [
        "# Extract open.zip File (이미 압축해제 후 드라이브 저장 완료)\n",
        "\n",
        "import zipfile\n",
        "\n",
        "zip_file_path = '/content/drive/MyDrive/open.zip'\n",
        "extract_path = '/content/drive/MyDrive/extract/folder'\n",
        "\n",
        "# 압축 파일 열기\n",
        "with zipfile.ZipFile(zip_file_path, 'r') as zip_file:\n",
        "    # 압축 파일 내 폴더 목록 확인\n",
        "    folder_list = [name for name in zip_file.namelist() if name.endswith('/')]\n",
        "\n",
        "    # 폴더 내용물 확인\n",
        "    for folder_name in folder_list:\n",
        "        print(f\"Folder: {folder_name}\")\n",
        "        file_list = zip_file.namelist()\n",
        "\n",
        "        # 폴더 내 파일 목록 확인\n",
        "        for file_name in file_list:\n",
        "            if file_name.startswith(folder_name) and not file_name.endswith('/'):\n",
        "                print(f\"File: {file_name}\")\n",
        "\n",
        "    # 압축 파일 해제\n",
        "    zip_file.extractall(extract_path)"
      ],
      "metadata": {
        "id": "nZolNUsZDomQ"
      },
      "execution_count": null,
      "outputs": []
    },
    {
      "cell_type": "markdown",
      "source": [
        "# Using Pytorch : Base code"
      ],
      "metadata": {
        "id": "dYGUzHuz88Y2"
      }
    },
    {
      "cell_type": "markdown",
      "source": [
        "## Import Packages"
      ],
      "metadata": {
        "id": "a-F02daTHSCm"
      }
    },
    {
      "cell_type": "code",
      "source": [
        "# 경고메시지 무시\n",
        "import warnings\n",
        "warnings.filterwarnings(action='ignore')"
      ],
      "metadata": {
        "id": "3NZauS-7HTRW"
      },
      "execution_count": null,
      "outputs": []
    },
    {
      "cell_type": "code",
      "source": [
        "# 패키지 설치 (Pytorch 이용)\n",
        "import random\n",
        "import pandas as pd\n",
        "import numpy as np\n",
        "import os\n",
        "import glob\n",
        "import cv2\n",
        "import matplotlib.pyplot as plt\n",
        "\n",
        "import torch\n",
        "import torch.nn as nn\n",
        "\n",
        "import torchvision\n",
        "import torchvision.models as models\n",
        "from torchvision.models.detection.faster_rcnn import FastRCNNPredictor, FasterRCNN\n",
        "from torchvision.models.detection.rpn import AnchorGenerator\n",
        "from torchvision.models.detection.backbone_utils import resnet_fpn_backbone\n",
        "\n",
        "import torch.optim as optim\n",
        "import torch.nn.functional as F\n",
        "from torch.utils.data import Dataset, DataLoader\n",
        "\n",
        "import cv2\n",
        "import albumentations as A\n",
        "from albumentations.pytorch.transforms import ToTensorV2\n",
        "from tqdm.auto import tqdm"
      ],
      "metadata": {
        "id": "xZ_84fJWHhve"
      },
      "execution_count": null,
      "outputs": []
    },
    {
      "cell_type": "code",
      "source": [
        "device = torch.device('cuda') if torch.cuda.is_available() else torch.device('cpu')"
      ],
      "metadata": {
        "id": "PyC5veuSHmb2"
      },
      "execution_count": null,
      "outputs": []
    },
    {
      "cell_type": "markdown",
      "source": [
        "## Hyperparameter Setting"
      ],
      "metadata": {
        "id": "HN3lZJSqH7Yv"
      }
    },
    {
      "cell_type": "code",
      "source": [
        "CFG = {\n",
        "    'NUM_CLASS':34,\n",
        "    'IMG_SIZE':512, #512고정\n",
        "    'EPOCHS':10,\n",
        "    'LR':3e-4, #Learning rate\n",
        "    'BATCH_SIZE':16,\n",
        "    'SEED':41\n",
        "}"
      ],
      "metadata": {
        "id": "_XDciVYBH9q9"
      },
      "execution_count": null,
      "outputs": []
    },
    {
      "cell_type": "markdown",
      "source": [
        "최적화 필요"
      ],
      "metadata": {
        "id": "6SvHxy4gi9EW"
      }
    },
    {
      "cell_type": "markdown",
      "source": [
        "## Fixed Random_seed"
      ],
      "metadata": {
        "id": "CkywMzx0H_J9"
      }
    },
    {
      "cell_type": "code",
      "source": [
        "def seed_everything(seed):\n",
        "    random.seed(seed)\n",
        "    os.environ['PYTHONHASHSEED'] = str(seed)\n",
        "    np.random.seed(seed)\n",
        "    torch.manual_seed(seed)\n",
        "    torch.cuda.manual_seed(seed)\n",
        "    torch.backends.cudnn.deterministic = True\n",
        "    torch.backends.cudnn.benchmark = True\n",
        "\n",
        "seed_everything(CFG['SEED']) # Seed 고정"
      ],
      "metadata": {
        "id": "xQ3BcvUYIAol"
      },
      "execution_count": null,
      "outputs": []
    },
    {
      "cell_type": "markdown",
      "source": [
        "## Visualization"
      ],
      "metadata": {
        "id": "eJzeWjcmIML-"
      }
    },
    {
      "cell_type": "markdown",
      "source": [
        "### Box 그리기"
      ],
      "metadata": {
        "id": "ZLgvrJCEJMAa"
      }
    },
    {
      "cell_type": "code",
      "source": [
        "def draw_boxes_on_image(image_path, annotation_path):\n",
        "    # 이미지 불러오기\n",
        "    image = cv2.imread(image_path)\n",
        "    image = cv2.cvtColor(image, cv2.COLOR_BGR2RGB)\n",
        "\n",
        "    # txt 파일에서 Class ID와 Bounding Box 정보 읽기\n",
        "    with open(annotation_path, 'r') as file:\n",
        "        lines = file.readlines()\n",
        "\n",
        "    for line in lines:\n",
        "        values = list(map(float, line.strip().split(' ')))\n",
        "        class_id = int(values[0])\n",
        "        x_min, y_min = int(round(values[1])), int(round(values[2]))\n",
        "        x_max, y_max = int(round(max(values[3], values[5], values[7]))), int(round(max(values[4], values[6], values[8])))\n",
        "\n",
        "        # 이미지에 바운딩 박스 그리기\n",
        "        cv2.rectangle(image, (x_min, y_min), (x_max, y_max), (255, 0, 0), 2)\n",
        "        cv2.putText(image, str(class_id), (x_min, y_min - 5), cv2.FONT_HERSHEY_SIMPLEX, 0.5, (255, 0, 0), 2)\n",
        "\n",
        "    # 이미지와 바운딩 박스 출력\n",
        "    plt.figure(figsize=(25, 25))\n",
        "    plt.imshow(image)\n",
        "    plt.show()\n",
        "    "
      ],
      "metadata": {
        "id": "ELISRi-BIOAd"
      },
      "execution_count": null,
      "outputs": []
    },
    {
      "cell_type": "code",
      "source": [
        "# 파일 경로 설정 - 첫번째 파일\n",
        "train_path = '/content/drive/MyDrive/extract/folder/train'\n",
        "test_path = '/content/drive/MyDrive/extract/folder/test'\n",
        "img_name = '/syn_00000.png'\n",
        "ant_name = '/syn_00000.txt'\n",
        "image_file = train_path + img_name\n",
        "annotation_file = train_path + ant_name\n",
        "# 함수 실행\n",
        "draw_boxes_on_image(image_file, annotation_file)"
      ],
      "metadata": {
        "id": "Vswr8324LKwQ"
      },
      "execution_count": null,
      "outputs": []
    },
    {
      "cell_type": "code",
      "source": [
        "# 파일 경로 설정 - 두번째 파일\n",
        "train_path = '/content/drive/MyDrive/extract/folder/train'\n",
        "img_name = '/syn_00001.png'\n",
        "ant_name = '/syn_00001.txt'\n",
        "image_file = train_path + img_name\n",
        "annotation_file = train_path + ant_name\n",
        "# 함수 실행\n",
        "draw_boxes_on_image(image_file, annotation_file)"
      ],
      "metadata": {
        "id": "ceeUDgGkJP8C"
      },
      "execution_count": null,
      "outputs": []
    },
    {
      "cell_type": "markdown",
      "source": [
        "## Custom dataset"
      ],
      "metadata": {
        "id": "9VYxDXAeLRjh"
      }
    },
    {
      "cell_type": "code",
      "source": [
        "#collate_fn : 주어진 이미지 - target box, target label추출\n",
        "def collate_fn(batch): #Pytorch의 dataloader에서 batch를 처리하기 위한 함수\n",
        "    images, targets_boxes, targets_labels = tuple(zip(*batch))\n",
        "    images = torch.stack(images, 0)\n",
        "    targets = []\n",
        "   \n",
        "    for i in range(len(targets_boxes)):\n",
        "        target = {\n",
        "            \"boxes\": targets_boxes[i],\n",
        "            \"labels\": targets_labels[i]\n",
        "        }\n",
        "        targets.append(target)\n",
        "\n",
        "    return images, targets"
      ],
      "metadata": {
        "id": "WqnMEcxvLUZ0"
      },
      "execution_count": null,
      "outputs": []
    },
    {
      "cell_type": "code",
      "source": [
        "class CustomDataset(Dataset):\n",
        "    def __init__(self, root, train=True, transforms=None):\n",
        "        self.root = root #폴더경로 받기\n",
        "        self.train = train\n",
        "        self.transforms = transforms\n",
        "        self.imgs = sorted(glob.glob(root+'/*.png')) #png파일은 모두 저장\n",
        "        \n",
        "        if train:\n",
        "            self.boxes = sorted(glob.glob(root+'/*.txt')) #txt파일 모두 저장\n",
        "\n",
        "    def parse_boxes(self, box_path): #box_path : annotation 경로\n",
        "        with open(box_path, 'r') as file:\n",
        "            lines = file.readlines()\n",
        "\n",
        "        boxes = [] \n",
        "        labels = []\n",
        "\n",
        "        for line in lines:\n",
        "            values = list(map(float, line.strip().split(' ')))\n",
        "            class_id = int(values[0])\n",
        "            x_min, y_min = int(round(values[1])), int(round(values[2]))\n",
        "            x_max, y_max = int(round(max(values[3], values[5], values[7]))), int(round(max(values[4], values[6], values[8])))\n",
        "\n",
        "            boxes.append([x_min, y_min, x_max, y_max]) #박스좌표형태\n",
        "            labels.append(class_id)\n",
        "          #불러온 박스좌표와 레이블을 torch.tensor형태로\n",
        "        return torch.tensor(boxes, dtype=torch.float32), torch.tensor(labels, dtype=torch.int64)\n",
        "\n",
        "    #idx : 데이터셋에서 가져온 샘플의 인덱스\n",
        "    def __getitem__(self, idx):\n",
        "        img_path = self.imgs[idx] #이미지 경로\n",
        "        img = cv2.imread(self.imgs[idx]) #cv2이용하여 읽고 0~1범위의 float32형태로 정규화\n",
        "        img = cv2.cvtColor(img, cv2.COLOR_BGR2RGB).astype(np.float32)\n",
        "        img /= 255.0 #255size\n",
        "        height, width = img.shape[0], img.shape[1]\n",
        "\n",
        "        if self.train:\n",
        "            box_path = self.boxes[idx]\n",
        "            boxes, labels = self.parse_boxes(box_path)\n",
        "            labels += 1 # Background = 0\n",
        "\n",
        "            if self.transforms is not None:\n",
        "                transformed = self.transforms(image=img, bboxes=boxes, labels=labels)\n",
        "                img, boxes, labels = transformed[\"image\"], transformed[\"bboxes\"], transformed[\"labels\"]\n",
        "                \n",
        "            return img, torch.tensor(boxes, dtype=torch.float32), torch.tensor(labels, dtype=torch.int64)\n",
        "\n",
        "        else:\n",
        "            if self.transforms is not None:\n",
        "                transformed = self.transforms(image=img)\n",
        "                img = transformed[\"image\"]\n",
        "            file_name = img_path.split('/')[-1]\n",
        "            return file_name, img, width, height\n",
        "\n",
        "    def __len__(self):\n",
        "        return len(self.imgs)"
      ],
      "metadata": {
        "id": "5vzgNB9PLjg3"
      },
      "execution_count": null,
      "outputs": []
    },
    {
      "cell_type": "code",
      "source": [
        "def get_train_transforms():\n",
        "    return A.Compose([\n",
        "        A.Resize(CFG['IMG_SIZE'], CFG['IMG_SIZE']),\n",
        "        ToTensorV2(),\n",
        "    ], bbox_params=A.BboxParams(format='pascal_voc', label_fields=['labels']))\n",
        "\n",
        "def get_test_transforms():\n",
        "    return A.Compose([\n",
        "        A.Resize(CFG['IMG_SIZE'], CFG['IMG_SIZE']),\n",
        "        ToTensorV2(),\n",
        "    ])"
      ],
      "metadata": {
        "id": "rv6UxFdsLleD"
      },
      "execution_count": null,
      "outputs": []
    },
    {
      "cell_type": "code",
      "source": [
        "train_dataset = CustomDataset(train_path, train=True, transforms=get_train_transforms())\n",
        "test_dataset = CustomDataset(test_path, train=False, transforms=get_test_transforms())"
      ],
      "metadata": {
        "id": "QD-mGhGFLnIN"
      },
      "execution_count": null,
      "outputs": []
    },
    {
      "cell_type": "code",
      "source": [
        "# DataLoader 생성\n",
        "train_loader = DataLoader(train_dataset, batch_size=CFG['BATCH_SIZE'], shuffle=True, collate_fn=collate_fn)\n",
        "test_loader = DataLoader(test_dataset, batch_size=CFG['BATCH_SIZE'], shuffle=False)"
      ],
      "metadata": {
        "id": "wnLmggcZMOEg"
      },
      "execution_count": null,
      "outputs": []
    },
    {
      "cell_type": "markdown",
      "source": [
        "## Define Model : Faster-RCNN"
      ],
      "metadata": {
        "id": "9j1m6Id9IaEn"
      }
    },
    {
      "cell_type": "code",
      "source": [
        "# Faster-RCNN 모델\n",
        "def build_model(num_classes=CFG['NUM_CLASS']+1):\n",
        "    model = torchvision.models.detection.fasterrcnn_resnet50_fpn(pretrained=True)\n",
        "    in_features = model.roi_heads.box_predictor.cls_score.in_features\n",
        "    model.roi_heads.box_predictor = torchvision.models.detection.faster_rcnn.FastRCNNPredictor(in_features, num_classes)\n",
        "    return model"
      ],
      "metadata": {
        "id": "-ojrH4JSOuWG"
      },
      "execution_count": null,
      "outputs": []
    },
    {
      "cell_type": "markdown",
      "source": [
        "## Train & Validation"
      ],
      "metadata": {
        "id": "pDYF22QmOyj6"
      }
    },
    {
      "cell_type": "code",
      "source": [
        "def train(model, train_loader, optimizer, scheduler, device):\n",
        "    model.to(device)\n",
        "\n",
        "    best_loss = 9999999\n",
        "    best_model = None\n",
        "    \n",
        "    for epoch in range(1, CFG['EPOCHS']+1):\n",
        "        model.train()\n",
        "        train_loss = []\n",
        "        for images, targets in tqdm(iter(train_loader)):\n",
        "            images = [img.to(device) for img in images]\n",
        "            targets = [{k: v.to(device) for k, v in t.items()} for t in targets]\n",
        "            \n",
        "            optimizer.zero_grad()\n",
        "\n",
        "            loss_dict = model(images, targets)\n",
        "            losses = sum(loss for loss in loss_dict.values())\n",
        "\n",
        "            losses.backward()\n",
        "            optimizer.step()\n",
        "\n",
        "            train_loss.append(losses.item())\n",
        "\n",
        "        if scheduler is not None:\n",
        "            scheduler.step()\n",
        "        \n",
        "        tr_loss = np.mean(train_loss)\n",
        "\n",
        "        print(f'Epoch [{epoch}] Train loss : [{tr_loss:.5f}]\\n')\n",
        "        \n",
        "        if best_loss > tr_loss:\n",
        "            best_loss = tr_loss\n",
        "            best_model = model\n",
        "    \n",
        "    return best_model"
      ],
      "metadata": {
        "id": "umCiewxPOxum"
      },
      "execution_count": null,
      "outputs": []
    },
    {
      "cell_type": "code",
      "source": [
        "model = build_model()\n",
        "\n",
        "optimizer = torch.optim.Adam(model.parameters(), lr=CFG['LR'])\n",
        "scheduler = torch.optim.lr_scheduler.StepLR(optimizer, step_size=5, gamma=0.5)"
      ],
      "metadata": {
        "id": "LzRNSoiDO2Kd",
        "outputId": "748b53ca-143f-4ea9-99b3-2301c9cbe381",
        "colab": {
          "base_uri": "https://localhost:8080/"
        }
      },
      "execution_count": null,
      "outputs": [
        {
          "output_type": "stream",
          "name": "stderr",
          "text": [
            "Downloading: \"https://download.pytorch.org/models/fasterrcnn_resnet50_fpn_coco-258fb6c6.pth\" to /root/.cache/torch/hub/checkpoints/fasterrcnn_resnet50_fpn_coco-258fb6c6.pth\n",
            "100%|██████████| 160M/160M [00:01<00:00, 99.0MB/s]\n"
          ]
        }
      ]
    },
    {
      "cell_type": "code",
      "source": [
        "infer_model = train(model, train_loader, optimizer, scheduler, device)"
      ],
      "metadata": {
        "colab": {
          "base_uri": "https://localhost:8080/",
          "height": 49,
          "referenced_widgets": [
            "44843ce410474271bf34c5810e3a7d50",
            "19e5669bd5194cb296f7f1743b5c05ae",
            "459e4c7f1a804dfa98228ea90af25dcb",
            "0e551018d97f40f28bba5891163637bf",
            "42bf6b422145488b8c938239945e16a4",
            "a97c88cd8966495498a23dcf50f2eff7",
            "55125f8c9afa4a4fb357165f764c4143",
            "a7605d13ea084842a0b7ec0f194cce20",
            "d003e9f3eb72486ea2ec4f4cf480e95a",
            "c235b18435cb4c37afc0ea2824d1ae77",
            "05ff065f506b43ed98e6d10f667344ee"
          ]
        },
        "id": "gWb065GVQaoH",
        "outputId": "ccae9c78-ea67-418c-ee00-0644d0cd66c0"
      },
      "execution_count": null,
      "outputs": [
        {
          "output_type": "display_data",
          "data": {
            "text/plain": [
              "  0%|          | 0/406 [00:00<?, ?it/s]"
            ],
            "application/vnd.jupyter.widget-view+json": {
              "version_major": 2,
              "version_minor": 0,
              "model_id": "44843ce410474271bf34c5810e3a7d50"
            }
          },
          "metadata": {}
        }
      ]
    },
    {
      "cell_type": "markdown",
      "source": [
        "## Inference & Submission"
      ],
      "metadata": {
        "id": "_MNfNZmnO2rI"
      }
    },
    {
      "cell_type": "code",
      "source": [
        "import torch\n",
        "import torchvision.models as models\n",
        "\n",
        "# 모델 저장\n",
        "torch.save(model, 'base_model.pth')"
      ],
      "metadata": {
        "id": "jHLZ8XoR8qJF"
      },
      "execution_count": null,
      "outputs": []
    },
    {
      "cell_type": "code",
      "source": [
        "#추후 loading\n",
        "#loaded_model = torch.load('model.pth')"
      ],
      "metadata": {
        "id": "wW9gNiJ28-md"
      },
      "execution_count": null,
      "outputs": []
    },
    {
      "cell_type": "code",
      "source": [
        "def box_denormalize(x1, y1, x2, y2, width, height):\n",
        "    x1 = (x1 / CFG['IMG_SIZE']) * width\n",
        "    y1 = (y1 / CFG['IMG_SIZE']) * height\n",
        "    x2 = (x2 / CFG['IMG_SIZE']) * width\n",
        "    y2 = (y2 / CFG['IMG_SIZE']) * height\n",
        "    return x1.item(), y1.item(), x2.item(), y2.item()\n",
        "\n",
        "def inference(model, test_loader, device):\n",
        "    model.eval()\n",
        "    model.to(device)\n",
        "    \n",
        "    results = pd.read_csv('drive/MyDrive/extract/folder/sample_submission.csv')\n",
        "\n",
        "    for img_files, images, img_width, img_height in tqdm(iter(test_loader)):\n",
        "        images = [img.to(device) for img in images]\n",
        "\n",
        "        with torch.no_grad():\n",
        "            outputs = model(images)\n",
        "\n",
        "        for idx, output in enumerate(outputs):\n",
        "            boxes = output[\"boxes\"].cpu().numpy()\n",
        "            labels = output[\"labels\"].cpu().numpy()\n",
        "            scores = output[\"scores\"].cpu().numpy()\n",
        "\n",
        "            for box, label, score in zip(boxes, labels, scores):\n",
        "                x1, y1, x2, y2 = box\n",
        "                x1, y1, x2, y2 = box_denormalize(x1, y1, x2, y2, img_width[idx], img_height[idx])\n",
        "                results = results.append({\n",
        "                    \"file_name\": img_files[idx],\n",
        "                    \"class_id\": label-1,\n",
        "                    \"confidence\": score,\n",
        "                    \"point1_x\": x1, \"point1_y\": y1,\n",
        "                    \"point2_x\": x2, \"point2_y\": y1,\n",
        "                    \"point3_x\": x2, \"point3_y\": y2,\n",
        "                    \"point4_x\": x1, \"point4_y\": y2\n",
        "                }, ignore_index=True)\n",
        "\n",
        "    # 결과를 CSV 파일로 저장\n",
        "    results.to_csv('/content/drive/MyDrive/extract/folder/baseline_submit.csv', index=False)\n",
        "    print('Done.')"
      ],
      "metadata": {
        "id": "ynpd52NiO7Dt"
      },
      "execution_count": null,
      "outputs": []
    },
    {
      "cell_type": "code",
      "source": [
        "inference(infer_model, test_loader, device)"
      ],
      "metadata": {
        "id": "Rkm9YBACO-3r"
      },
      "execution_count": null,
      "outputs": []
    },
    {
      "cell_type": "markdown",
      "source": [
        " 데이콘에 저장된 .csv 파일을 제출하여 accuracy 확인"
      ],
      "metadata": {
        "id": "KRSVa9C29uUC"
      }
    },
    {
      "cell_type": "markdown",
      "source": [
        "# Using keras tensorflow?"
      ],
      "metadata": {
        "id": "O170inzahuEt"
      }
    },
    {
      "cell_type": "markdown",
      "source": [
        "수업에서 Tensorflow를 이용한 object detection 를 했던거같기도 하고"
      ],
      "metadata": {
        "id": "0sshIH7hh67g"
      }
    },
    {
      "cell_type": "markdown",
      "source": [
        "# Test dataset test"
      ],
      "metadata": {
        "id": "HzeH1AgZwU92"
      }
    },
    {
      "cell_type": "code",
      "source": [],
      "metadata": {
        "id": "I_ZOePsteQSu"
      },
      "execution_count": null,
      "outputs": []
    },
    {
      "cell_type": "code",
      "source": [
        "predict = pd.read_csv('drive/MyDrive/extract/folder/baseline_submit.csv')"
      ],
      "metadata": {
        "id": "ciNpqWbtxmcg"
      },
      "execution_count": null,
      "outputs": []
    },
    {
      "cell_type": "code",
      "source": [
        "predict"
      ],
      "metadata": {
        "id": "3ylDuz1UyBKd",
        "outputId": "486bbcae-62bf-48a7-9d51-a99731eb2f50",
        "colab": {
          "base_uri": "https://localhost:8080/",
          "height": 487
        }
      },
      "execution_count": null,
      "outputs": [
        {
          "output_type": "execute_result",
          "data": {
            "text/plain": [
              "           file_name  class_id  confidence     point1_x    point1_y  \\\n",
              "0      064442001.png         7    0.974970  1139.299072  187.208511   \n",
              "1      064507368.png        27    0.719952  1051.268066    0.000000   \n",
              "2      064507368.png         7    0.639494   495.682922  138.948288   \n",
              "3      064507368.png        19    0.613908   503.497742  121.485382   \n",
              "4      064507368.png        15    0.346194   503.294159  124.433746   \n",
              "...              ...       ...         ...          ...         ...   \n",
              "15401  183928410.png        21    0.954212  1093.692383   30.119907   \n",
              "15402  183928410.png        28    0.945929   683.260925   47.868477   \n",
              "15403  183928410.png        27    0.282097  1122.819092   52.531029   \n",
              "15404  183928410.png        27    0.252784   682.231384   56.113010   \n",
              "15405  184121675.png        28    0.989964   875.632324  563.441406   \n",
              "\n",
              "          point2_x    point2_y     point3_x    point3_y     point4_x  \\\n",
              "0      1434.458862  187.208511  1434.458862  488.342621  1139.299072   \n",
              "1      1242.251831    0.000000  1242.251831  156.810089  1051.268066   \n",
              "2       758.156860  138.948288   758.156860  423.630127   495.682922   \n",
              "3       750.992310  121.485382   750.992310  417.015381   503.497742   \n",
              "4       752.900879  124.433746   752.900879  421.978149   503.294159   \n",
              "...            ...         ...          ...         ...          ...   \n",
              "15401  1351.610474   30.119907  1351.610474  314.890411  1093.692383   \n",
              "15402   923.469788   47.868477   923.469788  317.335480   683.260925   \n",
              "15403  1344.326050   52.531029  1344.326050  302.190582  1122.819092   \n",
              "15404   912.275879   56.113010   912.275879  315.737701   682.231384   \n",
              "15405  1154.901978  563.441406  1154.901978  869.686523   875.632324   \n",
              "\n",
              "         point4_y  \n",
              "0      488.342621  \n",
              "1      156.810089  \n",
              "2      423.630127  \n",
              "3      417.015381  \n",
              "4      421.978149  \n",
              "...           ...  \n",
              "15401  314.890411  \n",
              "15402  317.335480  \n",
              "15403  302.190582  \n",
              "15404  315.737701  \n",
              "15405  869.686523  \n",
              "\n",
              "[15406 rows x 11 columns]"
            ],
            "text/html": [
              "\n",
              "  <div id=\"df-f05efe0e-6e5d-4ba2-8780-63144f18f9ad\">\n",
              "    <div class=\"colab-df-container\">\n",
              "      <div>\n",
              "<style scoped>\n",
              "    .dataframe tbody tr th:only-of-type {\n",
              "        vertical-align: middle;\n",
              "    }\n",
              "\n",
              "    .dataframe tbody tr th {\n",
              "        vertical-align: top;\n",
              "    }\n",
              "\n",
              "    .dataframe thead th {\n",
              "        text-align: right;\n",
              "    }\n",
              "</style>\n",
              "<table border=\"1\" class=\"dataframe\">\n",
              "  <thead>\n",
              "    <tr style=\"text-align: right;\">\n",
              "      <th></th>\n",
              "      <th>file_name</th>\n",
              "      <th>class_id</th>\n",
              "      <th>confidence</th>\n",
              "      <th>point1_x</th>\n",
              "      <th>point1_y</th>\n",
              "      <th>point2_x</th>\n",
              "      <th>point2_y</th>\n",
              "      <th>point3_x</th>\n",
              "      <th>point3_y</th>\n",
              "      <th>point4_x</th>\n",
              "      <th>point4_y</th>\n",
              "    </tr>\n",
              "  </thead>\n",
              "  <tbody>\n",
              "    <tr>\n",
              "      <th>0</th>\n",
              "      <td>064442001.png</td>\n",
              "      <td>7</td>\n",
              "      <td>0.974970</td>\n",
              "      <td>1139.299072</td>\n",
              "      <td>187.208511</td>\n",
              "      <td>1434.458862</td>\n",
              "      <td>187.208511</td>\n",
              "      <td>1434.458862</td>\n",
              "      <td>488.342621</td>\n",
              "      <td>1139.299072</td>\n",
              "      <td>488.342621</td>\n",
              "    </tr>\n",
              "    <tr>\n",
              "      <th>1</th>\n",
              "      <td>064507368.png</td>\n",
              "      <td>27</td>\n",
              "      <td>0.719952</td>\n",
              "      <td>1051.268066</td>\n",
              "      <td>0.000000</td>\n",
              "      <td>1242.251831</td>\n",
              "      <td>0.000000</td>\n",
              "      <td>1242.251831</td>\n",
              "      <td>156.810089</td>\n",
              "      <td>1051.268066</td>\n",
              "      <td>156.810089</td>\n",
              "    </tr>\n",
              "    <tr>\n",
              "      <th>2</th>\n",
              "      <td>064507368.png</td>\n",
              "      <td>7</td>\n",
              "      <td>0.639494</td>\n",
              "      <td>495.682922</td>\n",
              "      <td>138.948288</td>\n",
              "      <td>758.156860</td>\n",
              "      <td>138.948288</td>\n",
              "      <td>758.156860</td>\n",
              "      <td>423.630127</td>\n",
              "      <td>495.682922</td>\n",
              "      <td>423.630127</td>\n",
              "    </tr>\n",
              "    <tr>\n",
              "      <th>3</th>\n",
              "      <td>064507368.png</td>\n",
              "      <td>19</td>\n",
              "      <td>0.613908</td>\n",
              "      <td>503.497742</td>\n",
              "      <td>121.485382</td>\n",
              "      <td>750.992310</td>\n",
              "      <td>121.485382</td>\n",
              "      <td>750.992310</td>\n",
              "      <td>417.015381</td>\n",
              "      <td>503.497742</td>\n",
              "      <td>417.015381</td>\n",
              "    </tr>\n",
              "    <tr>\n",
              "      <th>4</th>\n",
              "      <td>064507368.png</td>\n",
              "      <td>15</td>\n",
              "      <td>0.346194</td>\n",
              "      <td>503.294159</td>\n",
              "      <td>124.433746</td>\n",
              "      <td>752.900879</td>\n",
              "      <td>124.433746</td>\n",
              "      <td>752.900879</td>\n",
              "      <td>421.978149</td>\n",
              "      <td>503.294159</td>\n",
              "      <td>421.978149</td>\n",
              "    </tr>\n",
              "    <tr>\n",
              "      <th>...</th>\n",
              "      <td>...</td>\n",
              "      <td>...</td>\n",
              "      <td>...</td>\n",
              "      <td>...</td>\n",
              "      <td>...</td>\n",
              "      <td>...</td>\n",
              "      <td>...</td>\n",
              "      <td>...</td>\n",
              "      <td>...</td>\n",
              "      <td>...</td>\n",
              "      <td>...</td>\n",
              "    </tr>\n",
              "    <tr>\n",
              "      <th>15401</th>\n",
              "      <td>183928410.png</td>\n",
              "      <td>21</td>\n",
              "      <td>0.954212</td>\n",
              "      <td>1093.692383</td>\n",
              "      <td>30.119907</td>\n",
              "      <td>1351.610474</td>\n",
              "      <td>30.119907</td>\n",
              "      <td>1351.610474</td>\n",
              "      <td>314.890411</td>\n",
              "      <td>1093.692383</td>\n",
              "      <td>314.890411</td>\n",
              "    </tr>\n",
              "    <tr>\n",
              "      <th>15402</th>\n",
              "      <td>183928410.png</td>\n",
              "      <td>28</td>\n",
              "      <td>0.945929</td>\n",
              "      <td>683.260925</td>\n",
              "      <td>47.868477</td>\n",
              "      <td>923.469788</td>\n",
              "      <td>47.868477</td>\n",
              "      <td>923.469788</td>\n",
              "      <td>317.335480</td>\n",
              "      <td>683.260925</td>\n",
              "      <td>317.335480</td>\n",
              "    </tr>\n",
              "    <tr>\n",
              "      <th>15403</th>\n",
              "      <td>183928410.png</td>\n",
              "      <td>27</td>\n",
              "      <td>0.282097</td>\n",
              "      <td>1122.819092</td>\n",
              "      <td>52.531029</td>\n",
              "      <td>1344.326050</td>\n",
              "      <td>52.531029</td>\n",
              "      <td>1344.326050</td>\n",
              "      <td>302.190582</td>\n",
              "      <td>1122.819092</td>\n",
              "      <td>302.190582</td>\n",
              "    </tr>\n",
              "    <tr>\n",
              "      <th>15404</th>\n",
              "      <td>183928410.png</td>\n",
              "      <td>27</td>\n",
              "      <td>0.252784</td>\n",
              "      <td>682.231384</td>\n",
              "      <td>56.113010</td>\n",
              "      <td>912.275879</td>\n",
              "      <td>56.113010</td>\n",
              "      <td>912.275879</td>\n",
              "      <td>315.737701</td>\n",
              "      <td>682.231384</td>\n",
              "      <td>315.737701</td>\n",
              "    </tr>\n",
              "    <tr>\n",
              "      <th>15405</th>\n",
              "      <td>184121675.png</td>\n",
              "      <td>28</td>\n",
              "      <td>0.989964</td>\n",
              "      <td>875.632324</td>\n",
              "      <td>563.441406</td>\n",
              "      <td>1154.901978</td>\n",
              "      <td>563.441406</td>\n",
              "      <td>1154.901978</td>\n",
              "      <td>869.686523</td>\n",
              "      <td>875.632324</td>\n",
              "      <td>869.686523</td>\n",
              "    </tr>\n",
              "  </tbody>\n",
              "</table>\n",
              "<p>15406 rows × 11 columns</p>\n",
              "</div>\n",
              "      <button class=\"colab-df-convert\" onclick=\"convertToInteractive('df-f05efe0e-6e5d-4ba2-8780-63144f18f9ad')\"\n",
              "              title=\"Convert this dataframe to an interactive table.\"\n",
              "              style=\"display:none;\">\n",
              "        \n",
              "  <svg xmlns=\"http://www.w3.org/2000/svg\" height=\"24px\"viewBox=\"0 0 24 24\"\n",
              "       width=\"24px\">\n",
              "    <path d=\"M0 0h24v24H0V0z\" fill=\"none\"/>\n",
              "    <path d=\"M18.56 5.44l.94 2.06.94-2.06 2.06-.94-2.06-.94-.94-2.06-.94 2.06-2.06.94zm-11 1L8.5 8.5l.94-2.06 2.06-.94-2.06-.94L8.5 2.5l-.94 2.06-2.06.94zm10 10l.94 2.06.94-2.06 2.06-.94-2.06-.94-.94-2.06-.94 2.06-2.06.94z\"/><path d=\"M17.41 7.96l-1.37-1.37c-.4-.4-.92-.59-1.43-.59-.52 0-1.04.2-1.43.59L10.3 9.45l-7.72 7.72c-.78.78-.78 2.05 0 2.83L4 21.41c.39.39.9.59 1.41.59.51 0 1.02-.2 1.41-.59l7.78-7.78 2.81-2.81c.8-.78.8-2.07 0-2.86zM5.41 20L4 18.59l7.72-7.72 1.47 1.35L5.41 20z\"/>\n",
              "  </svg>\n",
              "      </button>\n",
              "      \n",
              "  <style>\n",
              "    .colab-df-container {\n",
              "      display:flex;\n",
              "      flex-wrap:wrap;\n",
              "      gap: 12px;\n",
              "    }\n",
              "\n",
              "    .colab-df-convert {\n",
              "      background-color: #E8F0FE;\n",
              "      border: none;\n",
              "      border-radius: 50%;\n",
              "      cursor: pointer;\n",
              "      display: none;\n",
              "      fill: #1967D2;\n",
              "      height: 32px;\n",
              "      padding: 0 0 0 0;\n",
              "      width: 32px;\n",
              "    }\n",
              "\n",
              "    .colab-df-convert:hover {\n",
              "      background-color: #E2EBFA;\n",
              "      box-shadow: 0px 1px 2px rgba(60, 64, 67, 0.3), 0px 1px 3px 1px rgba(60, 64, 67, 0.15);\n",
              "      fill: #174EA6;\n",
              "    }\n",
              "\n",
              "    [theme=dark] .colab-df-convert {\n",
              "      background-color: #3B4455;\n",
              "      fill: #D2E3FC;\n",
              "    }\n",
              "\n",
              "    [theme=dark] .colab-df-convert:hover {\n",
              "      background-color: #434B5C;\n",
              "      box-shadow: 0px 1px 3px 1px rgba(0, 0, 0, 0.15);\n",
              "      filter: drop-shadow(0px 1px 2px rgba(0, 0, 0, 0.3));\n",
              "      fill: #FFFFFF;\n",
              "    }\n",
              "  </style>\n",
              "\n",
              "      <script>\n",
              "        const buttonEl =\n",
              "          document.querySelector('#df-f05efe0e-6e5d-4ba2-8780-63144f18f9ad button.colab-df-convert');\n",
              "        buttonEl.style.display =\n",
              "          google.colab.kernel.accessAllowed ? 'block' : 'none';\n",
              "\n",
              "        async function convertToInteractive(key) {\n",
              "          const element = document.querySelector('#df-f05efe0e-6e5d-4ba2-8780-63144f18f9ad');\n",
              "          const dataTable =\n",
              "            await google.colab.kernel.invokeFunction('convertToInteractive',\n",
              "                                                     [key], {});\n",
              "          if (!dataTable) return;\n",
              "\n",
              "          const docLinkHtml = 'Like what you see? Visit the ' +\n",
              "            '<a target=\"_blank\" href=https://colab.research.google.com/notebooks/data_table.ipynb>data table notebook</a>'\n",
              "            + ' to learn more about interactive tables.';\n",
              "          element.innerHTML = '';\n",
              "          dataTable['output_type'] = 'display_data';\n",
              "          await google.colab.output.renderOutput(dataTable, element);\n",
              "          const docLink = document.createElement('div');\n",
              "          docLink.innerHTML = docLinkHtml;\n",
              "          element.appendChild(docLink);\n",
              "        }\n",
              "      </script>\n",
              "    </div>\n",
              "  </div>\n",
              "  "
            ]
          },
          "metadata": {},
          "execution_count": 45
        }
      ]
    },
    {
      "cell_type": "markdown",
      "source": [
        "# Memo"
      ],
      "metadata": {
        "id": "NtynoUybcFIY"
      }
    },
    {
      "cell_type": "markdown",
      "source": [
        "## Colab 데이터 저장하기 (Pytorch 패키지 이용)"
      ],
      "metadata": {
        "id": "r8uTyqaec6tn"
      }
    },
    {
      "cell_type": "code",
      "source": [
        "import torch\n",
        "import torchvision.models as models\n",
        "\n",
        "# 모델 저장\n",
        "torch.save(model, 'base_model.pth')"
      ],
      "metadata": {
        "id": "M4ehIQBUdAZf"
      },
      "execution_count": null,
      "outputs": []
    },
    {
      "cell_type": "markdown",
      "source": [
        "## Train & Validation 데이터세트 분리"
      ],
      "metadata": {
        "id": "6Ut2mKXdcIwf"
      }
    },
    {
      "cell_type": "code",
      "source": [
        "# 예시 코드?\n",
        "\n",
        "train_df, test_df = train_test_split(df, test_size = 0.2, shuffle = False)"
      ],
      "metadata": {
        "id": "3jlCY9SScQFz"
      },
      "execution_count": null,
      "outputs": []
    },
    {
      "cell_type": "markdown",
      "source": [
        "## - hyperparameter 최적화\n",
        "    - GridSearch CV ?\n",
        "    - RandomSearch CV ?"
      ],
      "metadata": {
        "id": "8x3sdjyGdoe-"
      }
    },
    {
      "cell_type": "code",
      "source": [
        "## Gridsearch CV 예시코드\n",
        "\n",
        "from sklearn.model_selection import GridSearchCV\n",
        "from sklearn import svm\n",
        "\n",
        "# 예시에 사용된 모델 : SVM\n",
        "# SVM 모델의 하이퍼파라미터 : C, Gamma\n",
        "\n",
        "# GridSearchCV를 위해 매개변수마다 그리드 설정\n",
        "param_grid = {'C': [0.1, 1, 10], 'gamma': [0.001, 0.01, 0.1]}\n",
        "\n",
        "# 모델 및 매개변수 그리드를 사용하여 GridSearchCV 객체 생성\n",
        "model = svm.SVC()\n",
        "grid_search = GridSearchCV(model, param_grid)\n",
        "\n",
        "# GridSearchCV를 통한 최적의 하이퍼파라미터 탐색\n",
        "grid_search.fit(X_train, y_train)\n",
        "\n",
        "# 최적의 하이퍼파라미터와 평가 점수 출력\n",
        "print(\"Best Parameters: \", grid_search.best_params_)\n",
        "print(\"Best Score: \", grid_search.best_score_)"
      ],
      "metadata": {
        "id": "1izcqwM2dnoB"
      },
      "execution_count": null,
      "outputs": []
    },
    {
      "cell_type": "code",
      "source": [
        "## Randomsearch CV 예시코드\n",
        "\n",
        "from sklearn.model_selection import RandomizedSearchCV\n",
        "from sklearn import svm\n",
        "from scipy.stats import uniform\n",
        "\n",
        "# RandomizedSearchCV를 위한 매개변수 분포 설정 (예시로 uniform dstn 설정함)\n",
        "param_dist = {'C': uniform(loc=0, scale=4), 'gamma': uniform(loc=0, scale=0.1)}\n",
        "\n",
        "# 모델 및 매개변수 분포를 사용하여 RandomizedSearchCV 객체 생성\n",
        "model = svm.SVC()\n",
        "random_search = RandomizedSearchCV(model, param_distributions=param_dist, n_iter=10)\n",
        "\n",
        "# RandomizedSearchCV를 통한 최적의 하이퍼파라미터 탐색\n",
        "random_search.fit(X_train, y_train)\n",
        "\n",
        "# 최적의 하이퍼파라미터와 평가 점수 출력\n",
        "print(\"Best Parameters: \", random_search.best_params_)\n",
        "print(\"Best Score: \", random_search.best_score_)\n"
      ],
      "metadata": {
        "id": "cn4gtjj2dyQT"
      },
      "execution_count": null,
      "outputs": []
    },
    {
      "cell_type": "markdown",
      "source": [
        "## 이미지 전처리"
      ],
      "metadata": {
        "id": "b6dJN4HdcPWZ"
      }
    },
    {
      "cell_type": "markdown",
      "source": [
        "### 사진 선명도 보정?"
      ],
      "metadata": {
        "id": "GwvAEuyOdTvR"
      }
    },
    {
      "cell_type": "code",
      "source": [
        "# Test file -> 실제 이미지 흐린 문제 있음\n",
        "import cv2\n",
        "import numpy as np\n",
        "from matplotlib import pyplot as plt\n",
        "\n",
        "image = cv2.imread(image_path) # image를 convolution layer로 변환\n",
        "image = cv2.cvtColor(image, cv2.COLOR_BGR2RGB)\n",
        "\n",
        "kernel = np.array([[0, -1, 0],\n",
        "                   [-1, 5,-1],\n",
        "                   [0, -1, 0]]) # 커널을 만듭니다.\n",
        "\n",
        "# 이미지를 선명하게 만들어줌\n",
        "image_sharp = cv2.filter2D(image, -1, kernel)\n",
        "\n",
        "# 선명도 바꾼 이미지 출력\n",
        "plt.imshow(image_sharp, cmap=\"JET\"), plt.axis(\"off\") # 이미지 출력\n",
        "plt.show()"
      ],
      "metadata": {
        "id": "7fuxuHT1dPzw"
      },
      "execution_count": null,
      "outputs": []
    },
    {
      "cell_type": "markdown",
      "source": [
        "### 픽셀 정규화"
      ],
      "metadata": {
        "id": "nEPn7KZilVKX"
      }
    },
    {
      "cell_type": "markdown",
      "source": [
        "- 픽셀 값 범위 일정하게 조정: 다양한 이미지에서 동일한 범위로 표현 -> 모델에 이미지 입력 용이\n",
        "\n",
        "- 데이터 분포 조정: 픽셀 값의 분포를 조정(통계적 특성을 개선)\n",
        "\n",
        "\n",
        "Test data를 살펴보니 이미지 크기가 모두 1920*1080인데 정규화를 하는 이유가 따로 있나?"
      ],
      "metadata": {
        "id": "TtoJoGo-oHDQ"
      }
    },
    {
      "cell_type": "code",
      "source": [
        "# Min-Max 정규화\n",
        "normalized_value = (pixel_value - min_value) / (max_value - min_value)"
      ],
      "metadata": {
        "id": "69UjLdlolY6w"
      },
      "execution_count": null,
      "outputs": []
    },
    {
      "cell_type": "code",
      "source": [
        "# Z-score 정규화\n",
        "normalized_value = (pixel_value - mean_value) / std_deviation"
      ],
      "metadata": {
        "id": "Ss0R80Wmpca8"
      },
      "execution_count": null,
      "outputs": []
    },
    {
      "cell_type": "markdown",
      "source": [
        " NumPy, OpenCV, scikit-image 등의 라이브러리에서 함수 제공하는것을 쓰는게 좋겠음"
      ],
      "metadata": {
        "id": "YeYTJIzGpwtP"
      }
    },
    {
      "cell_type": "markdown",
      "source": [
        "## Ensemble method 위한 모델 선택"
      ],
      "metadata": {
        "id": "OMXtYrDWiusv"
      }
    },
    {
      "cell_type": "markdown",
      "source": [
        "- Faster RCNN : 예시 코드로 나와서 사용이 용이함\n",
        "- YOLOv6\n",
        "- InternImage-H\n",
        "- TridentNet\n",
        "- 그외?"
      ],
      "metadata": {
        "id": "IXip4hdPnbhp"
      }
    }
  ]
}