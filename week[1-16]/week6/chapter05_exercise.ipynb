{
  "cells": [
    {
      "cell_type": "markdown",
      "metadata": {
        "id": "AhBFU_nXvHsR"
      },
      "source": [
        "This is a companion notebook for the book [Deep Learning with Python, Second Edition](https://www.manning.com/books/deep-learning-with-python-second-edition?a_aid=keras&a_bid=76564dff). For readability, it only contains runnable code blocks and section titles, and omits everything else in the book: text paragraphs, figures, and pseudocode.\n",
        "\n",
        "**If you want to be able to follow what's going on, I recommend reading the notebook side by side with your copy of the book.**\n",
        "\n",
        "This notebook was generated for TensorFlow 2.6."
      ]
    },
    {
      "cell_type": "markdown",
      "metadata": {
        "id": "vnKQ33BcvHsb"
      },
      "source": [
        "# Fundamentals of machine learning"
      ]
    },
    {
      "cell_type": "markdown",
      "metadata": {
        "id": "qWhdBYGkvHsd"
      },
      "source": [
        "## Generalization: The goal of machine learning"
      ]
    },
    {
      "cell_type": "markdown",
      "metadata": {
        "id": "FcBF9yRwvHsf"
      },
      "source": [
        "### Underfitting and overfitting"
      ]
    },
    {
      "cell_type": "markdown",
      "metadata": {
        "id": "5FpbnDgovHsg"
      },
      "source": [
        "#### Noisy training data"
      ]
    },
    {
      "cell_type": "markdown",
      "metadata": {
        "id": "1EKweGw7vHsj"
      },
      "source": [
        "#### Ambiguous features"
      ]
    },
    {
      "cell_type": "markdown",
      "metadata": {
        "id": "LaL8LCQvvHsk"
      },
      "source": [
        "#### Rare features and spurious correlations"
      ]
    },
    {
      "cell_type": "markdown",
      "metadata": {
        "id": "D7KEIxXVvHsl"
      },
      "source": [
        "**Adding white-noise channels or all-zeros channels to MNIST**"
      ]
    },
    {
      "cell_type": "code",
      "execution_count": 1,
      "metadata": {
        "colab": {
          "base_uri": "https://localhost:8080/"
        },
        "id": "CnbU7YhMvHsn",
        "outputId": "dae08554-e310-4aeb-98e4-18a78956817a"
      },
      "outputs": [
        {
          "output_type": "stream",
          "name": "stdout",
          "text": [
            "Downloading data from https://storage.googleapis.com/tensorflow/tf-keras-datasets/mnist.npz\n",
            "11490434/11490434 [==============================] - 2s 0us/step\n"
          ]
        }
      ],
      "source": [
        "# 모델 정의하기\n",
        "from tensorflow.keras.datasets import mnist\n",
        "import numpy as np\n",
        "\n",
        "(train_images, train_labels), _ = mnist.load_data()\n",
        "train_images = train_images.reshape((60000, 28 * 28))\n",
        "train_images = train_images.astype(\"float32\") / 255\n",
        "\n",
        "# 벡터 합치기(무작위 벡터 784 사이즈)\n",
        "train_images_with_noise_channels = np.concatenate(\n",
        "    [train_images, np.random.random((len(train_images), 784))], axis=1)\n",
        "\n",
        "# 영벡터랑 합치기\n",
        "train_images_with_zeros_channels = np.concatenate(\n",
        "    [train_images, np.zeros((len(train_images), 784))], axis=1)"
      ]
    },
    {
      "cell_type": "markdown",
      "metadata": {
        "id": "A71QjIt_vHst"
      },
      "source": [
        "**Training the same model on MNIST data with noise channels or all-zero channels**"
      ]
    },
    {
      "cell_type": "code",
      "execution_count": 2,
      "metadata": {
        "colab": {
          "base_uri": "https://localhost:8080/"
        },
        "id": "vy--KT_2vHsv",
        "outputId": "911c2e3a-37cb-4406-8161-80a5297249c8"
      },
      "outputs": [
        {
          "output_type": "stream",
          "name": "stdout",
          "text": [
            "Epoch 1/10\n",
            "375/375 [==============================] - 6s 4ms/step - loss: 0.6136 - accuracy: 0.8102 - val_loss: 0.2753 - val_accuracy: 0.9158\n",
            "Epoch 2/10\n",
            "375/375 [==============================] - 1s 3ms/step - loss: 0.2568 - accuracy: 0.9204 - val_loss: 0.2323 - val_accuracy: 0.9287\n",
            "Epoch 3/10\n",
            "375/375 [==============================] - 1s 4ms/step - loss: 0.1722 - accuracy: 0.9475 - val_loss: 0.1630 - val_accuracy: 0.9486\n",
            "Epoch 4/10\n",
            "375/375 [==============================] - 2s 5ms/step - loss: 0.1250 - accuracy: 0.9611 - val_loss: 0.1315 - val_accuracy: 0.9609\n",
            "Epoch 5/10\n",
            "375/375 [==============================] - 2s 4ms/step - loss: 0.0904 - accuracy: 0.9718 - val_loss: 0.1506 - val_accuracy: 0.9543\n",
            "Epoch 6/10\n",
            "375/375 [==============================] - 1s 4ms/step - loss: 0.0683 - accuracy: 0.9791 - val_loss: 0.1147 - val_accuracy: 0.9668\n",
            "Epoch 7/10\n",
            "375/375 [==============================] - 1s 4ms/step - loss: 0.0505 - accuracy: 0.9841 - val_loss: 0.1257 - val_accuracy: 0.9627\n",
            "Epoch 8/10\n",
            "375/375 [==============================] - 1s 4ms/step - loss: 0.0364 - accuracy: 0.9883 - val_loss: 0.1181 - val_accuracy: 0.9643\n",
            "Epoch 9/10\n",
            "375/375 [==============================] - 1s 4ms/step - loss: 0.0276 - accuracy: 0.9916 - val_loss: 0.1689 - val_accuracy: 0.9552\n",
            "Epoch 10/10\n",
            "375/375 [==============================] - 1s 4ms/step - loss: 0.0199 - accuracy: 0.9942 - val_loss: 0.1411 - val_accuracy: 0.9659\n",
            "Epoch 1/10\n",
            "375/375 [==============================] - 3s 5ms/step - loss: 0.2961 - accuracy: 0.9145 - val_loss: 0.1536 - val_accuracy: 0.9570\n",
            "Epoch 2/10\n",
            "375/375 [==============================] - 1s 4ms/step - loss: 0.1221 - accuracy: 0.9645 - val_loss: 0.1232 - val_accuracy: 0.9628\n",
            "Epoch 3/10\n",
            "375/375 [==============================] - 1s 3ms/step - loss: 0.0805 - accuracy: 0.9765 - val_loss: 0.0894 - val_accuracy: 0.9730\n",
            "Epoch 4/10\n",
            "375/375 [==============================] - 1s 4ms/step - loss: 0.0573 - accuracy: 0.9834 - val_loss: 0.0824 - val_accuracy: 0.9756\n",
            "Epoch 5/10\n",
            "375/375 [==============================] - 1s 3ms/step - loss: 0.0437 - accuracy: 0.9869 - val_loss: 0.0759 - val_accuracy: 0.9773\n",
            "Epoch 6/10\n",
            "375/375 [==============================] - 1s 4ms/step - loss: 0.0328 - accuracy: 0.9906 - val_loss: 0.0761 - val_accuracy: 0.9772\n",
            "Epoch 7/10\n",
            "375/375 [==============================] - 1s 3ms/step - loss: 0.0245 - accuracy: 0.9933 - val_loss: 0.0706 - val_accuracy: 0.9785\n",
            "Epoch 8/10\n",
            "375/375 [==============================] - 1s 3ms/step - loss: 0.0189 - accuracy: 0.9949 - val_loss: 0.0735 - val_accuracy: 0.9803\n",
            "Epoch 9/10\n",
            "375/375 [==============================] - 2s 5ms/step - loss: 0.0139 - accuracy: 0.9967 - val_loss: 0.0790 - val_accuracy: 0.9778\n",
            "Epoch 10/10\n",
            "375/375 [==============================] - 1s 4ms/step - loss: 0.0102 - accuracy: 0.9977 - val_loss: 0.0800 - val_accuracy: 0.9782\n"
          ]
        }
      ],
      "source": [
        "from tensorflow import keras\n",
        "from tensorflow.keras import layers\n",
        "\n",
        "# 모델 정의\n",
        "def get_model():\n",
        "    model = keras.Sequential([\n",
        "        layers.Dense(512, activation=\"relu\"),\n",
        "        layers.Dense(10, activation=\"softmax\")\n",
        "    ])\n",
        "    # 모델 컴파일\n",
        "    model.compile(optimizer=\"rmsprop\",\n",
        "                  loss=\"sparse_categorical_crossentropy\", # 0~1이 아니라 정수로 나오면 sparse\n",
        "                  metrics=[\"accuracy\"])\n",
        "    return model\n",
        "\n",
        "# 모델 학습 () Training model with noise channels\n",
        "model = get_model()\n",
        "history_noise = model.fit(\n",
        "    train_images_with_noise_channels, train_labels,\n",
        "    epochs=10,\n",
        "    batch_size=128,\n",
        "    validation_split=0.2)\n",
        "\n",
        "# Training model with all-zero channels\n",
        "model = get_model()\n",
        "history_zeros = model.fit(\n",
        "    train_images_with_zeros_channels, train_labels,\n",
        "    epochs=10,\n",
        "    batch_size=128,\n",
        "    validation_split=0.2)"
      ]
    },
    {
      "cell_type": "markdown",
      "source": [
        "ex 1)\n",
        "\n",
        "From Training the same model on MNIST data with noise channels or all zero channels,\n",
        "\n",
        "\n",
        "Add validation accuracy of original data for\n",
        "mnist data."
      ],
      "metadata": {
        "id": "YHBkGI-nyduk"
      }
    },
    {
      "cell_type": "code",
      "source": [
        "from tensorflow import keras\n",
        "from tensorflow.keras import layers\n",
        "\n",
        "def get_model():\n",
        "    model = keras.Sequential([\n",
        "        layers.Dense(512, activation=\"relu\"),\n",
        "        layers.Dense(10, activation=\"softmax\")\n",
        "    ])\n",
        "    model.compile(optimizer=\"rmsprop\",\n",
        "                  loss=\"sparse_categorical_crossentropy\",\n",
        "                  metrics=[\"accuracy\"])\n",
        "    return model\n",
        "\n",
        "# Training model with original data\n",
        "model = get_model()\n",
        "history_origin = model.fit(\n",
        "    train_images, train_labels,\n",
        "    epochs=10,\n",
        "    batch_size=128,\n",
        "    validation_split=0.2)\n",
        "\n",
        "#\n",
        "print(history_origin.history['val_accuracy'])"
      ],
      "metadata": {
        "id": "GyUdAlCVyl6b",
        "outputId": "89fd9fc2-e518-462d-8242-d5c8bb6e7239",
        "colab": {
          "base_uri": "https://localhost:8080/"
        }
      },
      "execution_count": 6,
      "outputs": [
        {
          "output_type": "stream",
          "name": "stdout",
          "text": [
            "Epoch 1/10\n",
            "375/375 [==============================] - 2s 4ms/step - loss: 0.2942 - accuracy: 0.9158 - val_loss: 0.1492 - val_accuracy: 0.9571\n",
            "Epoch 2/10\n",
            "375/375 [==============================] - 1s 3ms/step - loss: 0.1228 - accuracy: 0.9636 - val_loss: 0.1101 - val_accuracy: 0.9681\n",
            "Epoch 3/10\n",
            "375/375 [==============================] - 1s 3ms/step - loss: 0.0807 - accuracy: 0.9759 - val_loss: 0.0885 - val_accuracy: 0.9745\n",
            "Epoch 4/10\n",
            "375/375 [==============================] - 1s 4ms/step - loss: 0.0584 - accuracy: 0.9827 - val_loss: 0.0821 - val_accuracy: 0.9752\n",
            "Epoch 5/10\n",
            "375/375 [==============================] - 2s 4ms/step - loss: 0.0431 - accuracy: 0.9877 - val_loss: 0.0800 - val_accuracy: 0.9764\n",
            "Epoch 6/10\n",
            "375/375 [==============================] - 1s 3ms/step - loss: 0.0335 - accuracy: 0.9904 - val_loss: 0.0754 - val_accuracy: 0.9780\n",
            "Epoch 7/10\n",
            "375/375 [==============================] - 1s 3ms/step - loss: 0.0256 - accuracy: 0.9929 - val_loss: 0.0742 - val_accuracy: 0.9794\n",
            "Epoch 8/10\n",
            "375/375 [==============================] - 1s 3ms/step - loss: 0.0195 - accuracy: 0.9945 - val_loss: 0.0765 - val_accuracy: 0.9789\n",
            "Epoch 9/10\n",
            "375/375 [==============================] - 1s 3ms/step - loss: 0.0144 - accuracy: 0.9964 - val_loss: 0.0770 - val_accuracy: 0.9802\n",
            "Epoch 10/10\n",
            "375/375 [==============================] - 1s 3ms/step - loss: 0.0108 - accuracy: 0.9976 - val_loss: 0.0759 - val_accuracy: 0.9797\n",
            "[0.9578333497047424, 0.9700833559036255, 0.9729166626930237, 0.9758333563804626, 0.9785000085830688, 0.9760000109672546, 0.9768333435058594, 0.9796666502952576, 0.9798333048820496, 0.9803333282470703]\n"
          ]
        }
      ]
    },
    {
      "cell_type": "markdown",
      "source": [
        "Plotting"
      ],
      "metadata": {
        "id": "YYPFGj2Q3uOl"
      }
    },
    {
      "cell_type": "code",
      "source": [
        "import matplotlib.pyplot as plt\n",
        "val_acc_noise = history_noise.history[\"val_accuracy\"]\n",
        "val_acc_zeros = history_zeros.history[\"val_accuracy\"]\n",
        "val_acc = history_origin.history[\"val_accuracy\"]\n",
        "epochs = range(1, 11)\n",
        "\n",
        "plt.plot(epochs, val_acc_noise, \"b-\",\n",
        "         label=\"Validation accuracy with noise channels\")\n",
        "plt.plot(epochs, val_acc_zeros, \"b--\",\n",
        "         label=\"Validation accuracy with zeros channels\")\n",
        "plt.plot(epochs, val_acc, \"b--\",\n",
        "         label=\"Validation accuracy with original channels\")\n",
        "\n",
        "plt.title(\"Effect of noise channels on validation accuracy\")\n",
        "plt.xlabel(\"Epochs\")\n",
        "plt.ylabel(\"Accuracy\")\n",
        "plt.legend()"
      ],
      "metadata": {
        "id": "bVKI7SDh2ySA",
        "outputId": "6f9cdd2d-9416-449d-a6ef-70ca4606f268",
        "colab": {
          "base_uri": "https://localhost:8080/",
          "height": 490
        }
      },
      "execution_count": 8,
      "outputs": [
        {
          "output_type": "execute_result",
          "data": {
            "text/plain": [
              "<matplotlib.legend.Legend at 0x7f6aa5213730>"
            ]
          },
          "metadata": {},
          "execution_count": 8
        },
        {
          "output_type": "display_data",
          "data": {
            "text/plain": [
              "<Figure size 640x480 with 1 Axes>"
            ],
            "image/png": "[encoded data removed]"
          },
          "metadata": {}
        }
      ]
    },
    {
      "cell_type": "markdown",
      "metadata": {
        "id": "0lyPC5wJvHsx"
      },
      "source": [
        "**Plotting a validation accuracy comparison**"
      ]
    },
    {
      "cell_type": "code",
      "execution_count": null,
      "metadata": {
        "id": "fzgoyKAZvHsy"
      },
      "outputs": [],
      "source": [
        "import matplotlib.pyplot as plt\n",
        "val_acc_noise = history_noise.history[\"val_accuracy\"]\n",
        "val_acc_zeros = history_zeros.history[\"val_accuracy\"]\n",
        "epochs = range(1, 11)\n",
        "plt.plot(epochs, val_acc_noise, \"b-\",\n",
        "         label=\"Validation accuracy with noise channels\")\n",
        "plt.plot(epochs, val_acc_zeros, \"b--\",\n",
        "         label=\"Validation accuracy with zeros channels\")\n",
        "plt.title(\"Effect of noise channels on validation accuracy\")\n",
        "plt.xlabel(\"Epochs\")\n",
        "plt.ylabel(\"Accuracy\")\n",
        "plt.legend()"
      ]
    },
    {
      "cell_type": "markdown",
      "metadata": {
        "id": "FVFDSnhEvHsz"
      },
      "source": [
        "### The nature of generalization in deep learning"
      ]
    },
    {
      "cell_type": "markdown",
      "metadata": {
        "id": "Ln_uTqGEvHs0"
      },
      "source": [
        "**Fitting a MNIST model with randomly shuffled labels**"
      ]
    },
    {
      "cell_type": "code",
      "execution_count": 9,
      "metadata": {
        "colab": {
          "base_uri": "https://localhost:8080/"
        },
        "id": "VZ96O9LMvHs1",
        "outputId": "c26d54f3-6ed3-4bb3-d723-69db268e42b6"
      },
      "outputs": [
        {
          "output_type": "stream",
          "name": "stdout",
          "text": [
            "Epoch 1/100\n",
            "375/375 [==============================] - 2s 4ms/step - loss: 2.3166 - accuracy: 0.1034 - val_loss: 2.3068 - val_accuracy: 0.0993\n",
            "Epoch 2/100\n",
            "375/375 [==============================] - 1s 4ms/step - loss: 2.2997 - accuracy: 0.1157 - val_loss: 2.3113 - val_accuracy: 0.1020\n",
            "Epoch 3/100\n",
            "375/375 [==============================] - 2s 5ms/step - loss: 2.2925 - accuracy: 0.1245 - val_loss: 2.3179 - val_accuracy: 0.1022\n",
            "Epoch 4/100\n",
            "375/375 [==============================] - 1s 3ms/step - loss: 2.2806 - accuracy: 0.1377 - val_loss: 2.3218 - val_accuracy: 0.1013\n",
            "Epoch 5/100\n",
            "375/375 [==============================] - 1s 3ms/step - loss: 2.2647 - accuracy: 0.1492 - val_loss: 2.3344 - val_accuracy: 0.1065\n",
            "Epoch 6/100\n",
            "375/375 [==============================] - 1s 3ms/step - loss: 2.2476 - accuracy: 0.1623 - val_loss: 2.3455 - val_accuracy: 0.0991\n",
            "Epoch 7/100\n",
            "375/375 [==============================] - 1s 4ms/step - loss: 2.2238 - accuracy: 0.1787 - val_loss: 2.3594 - val_accuracy: 0.1017\n",
            "Epoch 8/100\n",
            "375/375 [==============================] - 1s 3ms/step - loss: 2.1978 - accuracy: 0.1916 - val_loss: 2.3762 - val_accuracy: 0.0956\n",
            "Epoch 9/100\n",
            "375/375 [==============================] - 1s 3ms/step - loss: 2.1691 - accuracy: 0.2083 - val_loss: 2.3995 - val_accuracy: 0.1001\n",
            "Epoch 10/100\n",
            "375/375 [==============================] - 2s 6ms/step - loss: 2.1368 - accuracy: 0.2240 - val_loss: 2.4098 - val_accuracy: 0.0998\n",
            "Epoch 11/100\n",
            "375/375 [==============================] - 2s 5ms/step - loss: 2.1025 - accuracy: 0.2407 - val_loss: 2.4438 - val_accuracy: 0.1000\n",
            "Epoch 12/100\n",
            "375/375 [==============================] - 2s 5ms/step - loss: 2.0669 - accuracy: 0.2583 - val_loss: 2.4624 - val_accuracy: 0.0990\n",
            "Epoch 13/100\n",
            "375/375 [==============================] - 1s 4ms/step - loss: 2.0289 - accuracy: 0.2752 - val_loss: 2.4983 - val_accuracy: 0.1024\n",
            "Epoch 14/100\n",
            "375/375 [==============================] - 1s 4ms/step - loss: 1.9915 - accuracy: 0.2905 - val_loss: 2.5376 - val_accuracy: 0.1010\n",
            "Epoch 15/100\n",
            "375/375 [==============================] - 1s 3ms/step - loss: 1.9521 - accuracy: 0.3079 - val_loss: 2.5617 - val_accuracy: 0.0985\n",
            "Epoch 16/100\n",
            "375/375 [==============================] - 1s 4ms/step - loss: 1.9119 - accuracy: 0.3261 - val_loss: 2.6022 - val_accuracy: 0.1002\n",
            "Epoch 17/100\n",
            "375/375 [==============================] - 1s 3ms/step - loss: 1.8728 - accuracy: 0.3428 - val_loss: 2.6289 - val_accuracy: 0.0976\n",
            "Epoch 18/100\n",
            "375/375 [==============================] - 1s 3ms/step - loss: 1.8338 - accuracy: 0.3593 - val_loss: 2.6747 - val_accuracy: 0.1008\n",
            "Epoch 19/100\n",
            "375/375 [==============================] - 1s 3ms/step - loss: 1.7937 - accuracy: 0.3745 - val_loss: 2.7000 - val_accuracy: 0.1042\n",
            "Epoch 20/100\n",
            "375/375 [==============================] - 2s 4ms/step - loss: 1.7538 - accuracy: 0.3906 - val_loss: 2.7413 - val_accuracy: 0.1002\n",
            "Epoch 21/100\n",
            "375/375 [==============================] - 1s 4ms/step - loss: 1.7154 - accuracy: 0.4052 - val_loss: 2.7814 - val_accuracy: 0.1035\n",
            "Epoch 22/100\n",
            "375/375 [==============================] - 1s 3ms/step - loss: 1.6780 - accuracy: 0.4215 - val_loss: 2.8314 - val_accuracy: 0.1012\n",
            "Epoch 23/100\n",
            "375/375 [==============================] - 1s 3ms/step - loss: 1.6412 - accuracy: 0.4340 - val_loss: 2.8741 - val_accuracy: 0.1005\n",
            "Epoch 24/100\n",
            "375/375 [==============================] - 1s 3ms/step - loss: 1.6026 - accuracy: 0.4493 - val_loss: 2.9380 - val_accuracy: 0.1010\n",
            "Epoch 25/100\n",
            "375/375 [==============================] - 1s 3ms/step - loss: 1.5680 - accuracy: 0.4628 - val_loss: 2.9837 - val_accuracy: 0.1014\n",
            "Epoch 26/100\n",
            "375/375 [==============================] - 1s 3ms/step - loss: 1.5314 - accuracy: 0.4758 - val_loss: 3.0252 - val_accuracy: 0.0971\n",
            "Epoch 27/100\n",
            "375/375 [==============================] - 1s 3ms/step - loss: 1.4988 - accuracy: 0.4887 - val_loss: 3.0868 - val_accuracy: 0.1006\n",
            "Epoch 28/100\n",
            "375/375 [==============================] - 1s 3ms/step - loss: 1.4643 - accuracy: 0.5033 - val_loss: 3.1123 - val_accuracy: 0.1037\n",
            "Epoch 29/100\n",
            "375/375 [==============================] - 2s 4ms/step - loss: 1.4323 - accuracy: 0.5128 - val_loss: 3.1962 - val_accuracy: 0.0980\n",
            "Epoch 30/100\n",
            "375/375 [==============================] - 2s 4ms/step - loss: 1.4027 - accuracy: 0.5234 - val_loss: 3.2340 - val_accuracy: 0.0988\n",
            "Epoch 31/100\n",
            "375/375 [==============================] - 1s 3ms/step - loss: 1.3695 - accuracy: 0.5346 - val_loss: 3.3084 - val_accuracy: 0.0990\n",
            "Epoch 32/100\n",
            "375/375 [==============================] - 1s 3ms/step - loss: 1.3378 - accuracy: 0.5489 - val_loss: 3.3521 - val_accuracy: 0.1012\n",
            "Epoch 33/100\n",
            "375/375 [==============================] - 1s 4ms/step - loss: 1.3106 - accuracy: 0.5584 - val_loss: 3.3853 - val_accuracy: 0.0991\n",
            "Epoch 34/100\n",
            "375/375 [==============================] - 1s 4ms/step - loss: 1.2799 - accuracy: 0.5721 - val_loss: 3.4564 - val_accuracy: 0.1018\n",
            "Epoch 35/100\n",
            "375/375 [==============================] - 1s 4ms/step - loss: 1.2503 - accuracy: 0.5774 - val_loss: 3.4967 - val_accuracy: 0.1007\n",
            "Epoch 36/100\n",
            "375/375 [==============================] - 2s 4ms/step - loss: 1.2258 - accuracy: 0.5894 - val_loss: 3.5429 - val_accuracy: 0.1024\n",
            "Epoch 37/100\n",
            "375/375 [==============================] - 1s 3ms/step - loss: 1.1980 - accuracy: 0.6009 - val_loss: 3.5848 - val_accuracy: 0.1002\n",
            "Epoch 38/100\n",
            "375/375 [==============================] - 3s 7ms/step - loss: 1.1723 - accuracy: 0.6080 - val_loss: 3.6678 - val_accuracy: 0.1017\n",
            "Epoch 39/100\n",
            "375/375 [==============================] - 2s 4ms/step - loss: 1.1466 - accuracy: 0.6182 - val_loss: 3.7029 - val_accuracy: 0.1021\n",
            "Epoch 40/100\n",
            "375/375 [==============================] - 2s 5ms/step - loss: 1.1231 - accuracy: 0.6254 - val_loss: 3.7928 - val_accuracy: 0.0986\n",
            "Epoch 41/100\n",
            "375/375 [==============================] - 1s 4ms/step - loss: 1.0974 - accuracy: 0.6341 - val_loss: 3.8889 - val_accuracy: 0.1028\n",
            "Epoch 42/100\n",
            "375/375 [==============================] - 2s 4ms/step - loss: 1.0749 - accuracy: 0.6436 - val_loss: 3.9072 - val_accuracy: 0.0999\n",
            "Epoch 43/100\n",
            "375/375 [==============================] - 2s 5ms/step - loss: 1.0529 - accuracy: 0.6514 - val_loss: 3.9743 - val_accuracy: 0.0983\n",
            "Epoch 44/100\n",
            "375/375 [==============================] - 2s 6ms/step - loss: 1.0291 - accuracy: 0.6591 - val_loss: 4.0780 - val_accuracy: 0.1007\n",
            "Epoch 45/100\n",
            "375/375 [==============================] - 3s 7ms/step - loss: 1.0070 - accuracy: 0.6669 - val_loss: 4.1159 - val_accuracy: 0.1019\n",
            "Epoch 46/100\n",
            "375/375 [==============================] - 1s 3ms/step - loss: 0.9860 - accuracy: 0.6758 - val_loss: 4.1618 - val_accuracy: 0.0969\n",
            "Epoch 47/100\n",
            "375/375 [==============================] - 1s 4ms/step - loss: 0.9646 - accuracy: 0.6823 - val_loss: 4.1931 - val_accuracy: 0.1008\n",
            "Epoch 48/100\n",
            "375/375 [==============================] - 1s 3ms/step - loss: 0.9434 - accuracy: 0.6884 - val_loss: 4.3185 - val_accuracy: 0.0972\n",
            "Epoch 49/100\n",
            "375/375 [==============================] - 1s 3ms/step - loss: 0.9245 - accuracy: 0.6960 - val_loss: 4.3962 - val_accuracy: 0.1015\n",
            "Epoch 50/100\n",
            "375/375 [==============================] - 1s 3ms/step - loss: 0.9066 - accuracy: 0.7008 - val_loss: 4.4160 - val_accuracy: 0.0989\n",
            "Epoch 51/100\n",
            "375/375 [==============================] - 2s 5ms/step - loss: 0.8877 - accuracy: 0.7084 - val_loss: 4.5298 - val_accuracy: 0.0988\n",
            "Epoch 52/100\n",
            "375/375 [==============================] - 1s 4ms/step - loss: 0.8676 - accuracy: 0.7152 - val_loss: 4.5776 - val_accuracy: 0.1011\n",
            "Epoch 53/100\n",
            "375/375 [==============================] - 2s 6ms/step - loss: 0.8484 - accuracy: 0.7211 - val_loss: 4.6813 - val_accuracy: 0.1004\n",
            "Epoch 54/100\n",
            "375/375 [==============================] - 1s 4ms/step - loss: 0.8329 - accuracy: 0.7275 - val_loss: 4.7069 - val_accuracy: 0.1000\n",
            "Epoch 55/100\n",
            "375/375 [==============================] - 2s 4ms/step - loss: 0.8138 - accuracy: 0.7350 - val_loss: 4.7789 - val_accuracy: 0.0999\n",
            "Epoch 56/100\n",
            "375/375 [==============================] - 2s 4ms/step - loss: 0.7969 - accuracy: 0.7398 - val_loss: 4.8114 - val_accuracy: 0.0962\n",
            "Epoch 57/100\n",
            "375/375 [==============================] - 1s 4ms/step - loss: 0.7818 - accuracy: 0.7452 - val_loss: 4.9024 - val_accuracy: 0.0986\n",
            "Epoch 58/100\n",
            "375/375 [==============================] - 1s 3ms/step - loss: 0.7662 - accuracy: 0.7501 - val_loss: 4.9601 - val_accuracy: 0.1007\n",
            "Epoch 59/100\n",
            "375/375 [==============================] - 1s 4ms/step - loss: 0.7493 - accuracy: 0.7564 - val_loss: 5.0291 - val_accuracy: 0.0993\n",
            "Epoch 60/100\n",
            "375/375 [==============================] - 2s 5ms/step - loss: 0.7357 - accuracy: 0.7618 - val_loss: 5.1230 - val_accuracy: 0.1007\n",
            "Epoch 61/100\n",
            "375/375 [==============================] - 2s 4ms/step - loss: 0.7171 - accuracy: 0.7685 - val_loss: 5.2249 - val_accuracy: 0.0981\n",
            "Epoch 62/100\n",
            "375/375 [==============================] - 2s 4ms/step - loss: 0.7045 - accuracy: 0.7725 - val_loss: 5.2620 - val_accuracy: 0.1036\n",
            "Epoch 63/100\n",
            "375/375 [==============================] - 1s 3ms/step - loss: 0.6898 - accuracy: 0.7786 - val_loss: 5.3295 - val_accuracy: 0.0963\n",
            "Epoch 64/100\n",
            "375/375 [==============================] - 1s 4ms/step - loss: 0.6786 - accuracy: 0.7800 - val_loss: 5.3945 - val_accuracy: 0.0990\n",
            "Epoch 65/100\n",
            "375/375 [==============================] - 1s 4ms/step - loss: 0.6631 - accuracy: 0.7863 - val_loss: 5.4903 - val_accuracy: 0.1010\n",
            "Epoch 66/100\n",
            "375/375 [==============================] - 1s 3ms/step - loss: 0.6482 - accuracy: 0.7909 - val_loss: 5.5953 - val_accuracy: 0.0972\n",
            "Epoch 67/100\n",
            "375/375 [==============================] - 1s 3ms/step - loss: 0.6349 - accuracy: 0.7962 - val_loss: 5.6348 - val_accuracy: 0.1003\n",
            "Epoch 68/100\n",
            "375/375 [==============================] - 1s 4ms/step - loss: 0.6225 - accuracy: 0.8000 - val_loss: 5.6800 - val_accuracy: 0.0983\n",
            "Epoch 69/100\n",
            "375/375 [==============================] - 1s 4ms/step - loss: 0.6105 - accuracy: 0.8044 - val_loss: 5.7525 - val_accuracy: 0.0989\n",
            "Epoch 70/100\n",
            "375/375 [==============================] - 2s 4ms/step - loss: 0.5970 - accuracy: 0.8091 - val_loss: 5.8410 - val_accuracy: 0.0993\n",
            "Epoch 71/100\n",
            "375/375 [==============================] - 2s 4ms/step - loss: 0.5855 - accuracy: 0.8107 - val_loss: 5.8826 - val_accuracy: 0.0988\n",
            "Epoch 72/100\n",
            "375/375 [==============================] - 1s 4ms/step - loss: 0.5757 - accuracy: 0.8167 - val_loss: 5.9471 - val_accuracy: 0.0994\n",
            "Epoch 73/100\n",
            "375/375 [==============================] - 1s 4ms/step - loss: 0.5624 - accuracy: 0.8230 - val_loss: 6.0868 - val_accuracy: 0.0994\n",
            "Epoch 74/100\n",
            "375/375 [==============================] - 1s 4ms/step - loss: 0.5519 - accuracy: 0.8234 - val_loss: 6.1595 - val_accuracy: 0.0985\n",
            "Epoch 75/100\n",
            "375/375 [==============================] - 2s 4ms/step - loss: 0.5412 - accuracy: 0.8276 - val_loss: 6.2345 - val_accuracy: 0.0998\n",
            "Epoch 76/100\n",
            "375/375 [==============================] - 1s 3ms/step - loss: 0.5303 - accuracy: 0.8327 - val_loss: 6.2452 - val_accuracy: 0.1021\n",
            "Epoch 77/100\n",
            "375/375 [==============================] - 1s 3ms/step - loss: 0.5220 - accuracy: 0.8353 - val_loss: 6.3419 - val_accuracy: 0.1015\n",
            "Epoch 78/100\n",
            "375/375 [==============================] - 1s 3ms/step - loss: 0.5083 - accuracy: 0.8391 - val_loss: 6.4264 - val_accuracy: 0.1035\n",
            "Epoch 79/100\n",
            "375/375 [==============================] - 2s 4ms/step - loss: 0.5000 - accuracy: 0.8428 - val_loss: 6.5504 - val_accuracy: 0.1028\n",
            "Epoch 80/100\n",
            "375/375 [==============================] - 2s 4ms/step - loss: 0.4910 - accuracy: 0.8435 - val_loss: 6.5691 - val_accuracy: 0.1025\n",
            "Epoch 81/100\n",
            "375/375 [==============================] - 2s 4ms/step - loss: 0.4815 - accuracy: 0.8477 - val_loss: 6.6672 - val_accuracy: 0.1011\n",
            "Epoch 82/100\n",
            "375/375 [==============================] - 2s 6ms/step - loss: 0.4707 - accuracy: 0.8510 - val_loss: 6.6947 - val_accuracy: 0.1003\n",
            "Epoch 83/100\n",
            "375/375 [==============================] - 1s 3ms/step - loss: 0.4616 - accuracy: 0.8553 - val_loss: 6.8073 - val_accuracy: 0.0997\n",
            "Epoch 84/100\n",
            "375/375 [==============================] - 1s 4ms/step - loss: 0.4539 - accuracy: 0.8585 - val_loss: 6.8984 - val_accuracy: 0.0987\n",
            "Epoch 85/100\n",
            "375/375 [==============================] - 2s 6ms/step - loss: 0.4464 - accuracy: 0.8593 - val_loss: 6.9565 - val_accuracy: 0.0988\n",
            "Epoch 86/100\n",
            "375/375 [==============================] - 3s 8ms/step - loss: 0.4345 - accuracy: 0.8650 - val_loss: 7.0800 - val_accuracy: 0.0990\n",
            "Epoch 87/100\n",
            "375/375 [==============================] - 3s 7ms/step - loss: 0.4283 - accuracy: 0.8665 - val_loss: 7.1211 - val_accuracy: 0.1013\n",
            "Epoch 88/100\n",
            "375/375 [==============================] - 2s 5ms/step - loss: 0.4199 - accuracy: 0.8676 - val_loss: 7.1994 - val_accuracy: 0.0996\n",
            "Epoch 89/100\n",
            "375/375 [==============================] - 2s 5ms/step - loss: 0.4119 - accuracy: 0.8729 - val_loss: 7.2478 - val_accuracy: 0.1015\n",
            "Epoch 90/100\n",
            "375/375 [==============================] - 1s 4ms/step - loss: 0.4032 - accuracy: 0.8743 - val_loss: 7.3096 - val_accuracy: 0.1001\n",
            "Epoch 91/100\n",
            "375/375 [==============================] - 1s 3ms/step - loss: 0.3957 - accuracy: 0.8771 - val_loss: 7.4075 - val_accuracy: 0.0980\n",
            "Epoch 92/100\n",
            "375/375 [==============================] - 1s 3ms/step - loss: 0.3885 - accuracy: 0.8790 - val_loss: 7.4693 - val_accuracy: 0.1023\n",
            "Epoch 93/100\n",
            "375/375 [==============================] - 1s 4ms/step - loss: 0.3842 - accuracy: 0.8812 - val_loss: 7.5784 - val_accuracy: 0.1017\n",
            "Epoch 94/100\n",
            "375/375 [==============================] - 2s 4ms/step - loss: 0.3737 - accuracy: 0.8854 - val_loss: 7.5997 - val_accuracy: 0.1006\n",
            "Epoch 95/100\n",
            "375/375 [==============================] - 1s 4ms/step - loss: 0.3675 - accuracy: 0.8862 - val_loss: 7.7314 - val_accuracy: 0.0999\n",
            "Epoch 96/100\n",
            "375/375 [==============================] - 1s 3ms/step - loss: 0.3605 - accuracy: 0.8895 - val_loss: 7.8206 - val_accuracy: 0.0977\n",
            "Epoch 97/100\n",
            "375/375 [==============================] - 1s 4ms/step - loss: 0.3556 - accuracy: 0.8904 - val_loss: 7.8761 - val_accuracy: 0.1007\n",
            "Epoch 98/100\n",
            "375/375 [==============================] - 1s 4ms/step - loss: 0.3492 - accuracy: 0.8929 - val_loss: 7.9379 - val_accuracy: 0.0987\n",
            "Epoch 99/100\n",
            "375/375 [==============================] - 1s 4ms/step - loss: 0.3416 - accuracy: 0.8957 - val_loss: 8.0105 - val_accuracy: 0.0995\n",
            "Epoch 100/100\n",
            "375/375 [==============================] - 2s 4ms/step - loss: 0.3350 - accuracy: 0.8950 - val_loss: 8.0351 - val_accuracy: 0.1035\n"
          ]
        },
        {
          "output_type": "execute_result",
          "data": {
            "text/plain": [
              "<keras.callbacks.History at 0x7f6aa50fa4f0>"
            ]
          },
          "metadata": {},
          "execution_count": 9
        }
      ],
      "source": [
        "(train_images, train_labels), _ = mnist.load_data()\n",
        "train_images = train_images.reshape((60000, 28 * 28))\n",
        "train_images = train_images.astype(\"float32\") / 255\n",
        "\n",
        "random_train_labels = train_labels[:]\n",
        "np.random.shuffle(random_train_labels)\n",
        "\n",
        "model = keras.Sequential([\n",
        "    layers.Dense(512, activation=\"relu\"),\n",
        "    layers.Dense(10, activation=\"softmax\")\n",
        "])\n",
        "model.compile(optimizer=\"rmsprop\",\n",
        "              loss=\"sparse_categorical_crossentropy\",\n",
        "              metrics=[\"accuracy\"])\n",
        "model.fit(train_images, random_train_labels,\n",
        "          epochs=100,\n",
        "          batch_size=128,\n",
        "          validation_split=0.2)"
      ]
    },
    {
      "cell_type": "markdown",
      "source": [
        "ex 1.2)\n",
        "\n",
        "Fitting a MNIST model with randomly shuffled labels.\n",
        "\n",
        "Visualize training accuracy and validation accuracy."
      ],
      "metadata": {
        "id": "gb3soe9JytOE"
      }
    },
    {
      "cell_type": "code",
      "source": [
        "# Visualize training accuracy, validation accuracy\n",
        "\n",
        "import matplotlib.pyplot as plt\n",
        "train_acc = model.history.history[\"accuracy\"]\n",
        "val_acc = model.history.history[\"val_accuracy\"]\n",
        "epochs = range(1, 101)\n",
        "plt.plot(epochs, train_acc, \"b-\",\n",
        "         label=\"Training accuracy\")\n",
        "plt.plot(epochs, val_acc, \"b--\",\n",
        "         label=\"Validation accuracy\")\n",
        "plt.title(\"training accuracy and validation accuracy\")\n",
        "plt.xlabel(\"Epochs\")\n",
        "plt.ylabel(\"Accuracy\")\n",
        "plt.legend()\n"
      ],
      "metadata": {
        "id": "jBpp9gwLy3Z4",
        "outputId": "3ad664c3-f5c2-4fe7-b808-3c7055a740a7",
        "colab": {
          "base_uri": "https://localhost:8080/",
          "height": 490
        }
      },
      "execution_count": 13,
      "outputs": [
        {
          "output_type": "execute_result",
          "data": {
            "text/plain": [
              "<matplotlib.legend.Legend at 0x7f6b1047c280>"
            ]
          },
          "metadata": {},
          "execution_count": 13
        },
        {
          "output_type": "display_data",
          "data": {
            "text/plain": [
              "<Figure size 640x480 with 1 Axes>"
            ],
            "image/png": "[encoded data removed]"
          },
          "metadata": {}
        }
      ]
    },
    {
      "cell_type": "markdown",
      "metadata": {
        "id": "doHIAC8wvHs2"
      },
      "source": [
        "#### The manifold hypothesis"
      ]
    },
    {
      "cell_type": "markdown",
      "metadata": {
        "id": "sB8GIq17vHs3"
      },
      "source": [
        "#### Interpolation as a source of generalization"
      ]
    },
    {
      "cell_type": "markdown",
      "metadata": {
        "id": "NB3ieH2ivHs5"
      },
      "source": [
        "#### Why deep learning works"
      ]
    },
    {
      "cell_type": "markdown",
      "metadata": {
        "id": "zxytYW7FvHtE"
      },
      "source": [
        "#### Training data is paramount"
      ]
    },
    {
      "cell_type": "markdown",
      "metadata": {
        "id": "oAIeuMZjvHtF"
      },
      "source": [
        "## Evaluating machine-learning models"
      ]
    },
    {
      "cell_type": "markdown",
      "metadata": {
        "id": "kmdCa9LXvHtF"
      },
      "source": [
        "### Training, validation, and test sets"
      ]
    },
    {
      "cell_type": "markdown",
      "metadata": {
        "id": "bP1HKHKLvHtG"
      },
      "source": [
        "#### Simple hold-out validation"
      ]
    },
    {
      "cell_type": "markdown",
      "metadata": {
        "id": "KrlyslBIvHtH"
      },
      "source": [
        "#### K-fold validation"
      ]
    },
    {
      "cell_type": "markdown",
      "metadata": {
        "id": "ZvoBaQ2vvHtH"
      },
      "source": [
        "#### Iterated K-fold validation with shuffling"
      ]
    },
    {
      "cell_type": "markdown",
      "metadata": {
        "id": "v8bHanPHvHtI"
      },
      "source": [
        "### Beating a common-sense baseline"
      ]
    },
    {
      "cell_type": "markdown",
      "metadata": {
        "id": "7M0abC_tvHtJ"
      },
      "source": [
        "### Things to keep in mind about model evaluation"
      ]
    },
    {
      "cell_type": "markdown",
      "metadata": {
        "id": "_A3IO3zCvHtJ"
      },
      "source": [
        "## Improving model fit"
      ]
    },
    {
      "cell_type": "markdown",
      "metadata": {
        "id": "E0pVDzLlvHtK"
      },
      "source": [
        "### Tuning key gradient descent parameters"
      ]
    },
    {
      "cell_type": "markdown",
      "metadata": {
        "id": "W9T7p0CjvHtK"
      },
      "source": [
        "**Training a MNIST model with an incorrectly high learning rate**"
      ]
    },
    {
      "cell_type": "code",
      "execution_count": 14,
      "metadata": {
        "colab": {
          "base_uri": "https://localhost:8080/"
        },
        "id": "Qc699wqlvHtL",
        "outputId": "5d516618-6c94-485f-be06-53842f213066"
      },
      "outputs": [
        {
          "output_type": "stream",
          "name": "stdout",
          "text": [
            "Epoch 1/10\n",
            "375/375 [==============================] - 2s 4ms/step - loss: 414.5748 - accuracy: 0.3122 - val_loss: 3.8056 - val_accuracy: 0.2949\n",
            "Epoch 2/10\n",
            "375/375 [==============================] - 1s 4ms/step - loss: 3.0712 - accuracy: 0.2431 - val_loss: 2.1282 - val_accuracy: 0.2459\n",
            "Epoch 3/10\n",
            "375/375 [==============================] - 2s 5ms/step - loss: 3.5940 - accuracy: 0.2443 - val_loss: 2.2564 - val_accuracy: 0.2200\n",
            "Epoch 4/10\n",
            "375/375 [==============================] - 1s 4ms/step - loss: 2.7440 - accuracy: 0.1973 - val_loss: 2.1324 - val_accuracy: 0.2234\n",
            "Epoch 5/10\n",
            "375/375 [==============================] - 1s 4ms/step - loss: 2.4401 - accuracy: 0.1893 - val_loss: 2.3428 - val_accuracy: 0.1817\n",
            "Epoch 6/10\n",
            "375/375 [==============================] - 2s 5ms/step - loss: 2.4859 - accuracy: 0.2218 - val_loss: 2.3539 - val_accuracy: 0.2234\n",
            "Epoch 7/10\n",
            "375/375 [==============================] - 1s 3ms/step - loss: 2.3129 - accuracy: 0.2089 - val_loss: 2.0774 - val_accuracy: 0.1988\n",
            "Epoch 8/10\n",
            "375/375 [==============================] - 1s 4ms/step - loss: 2.3623 - accuracy: 0.2039 - val_loss: 2.0843 - val_accuracy: 0.2048\n",
            "Epoch 9/10\n",
            "375/375 [==============================] - 1s 3ms/step - loss: 2.3475 - accuracy: 0.2216 - val_loss: 2.2416 - val_accuracy: 0.2233\n",
            "Epoch 10/10\n",
            "375/375 [==============================] - 1s 3ms/step - loss: 2.3891 - accuracy: 0.2141 - val_loss: 2.1570 - val_accuracy: 0.2180\n"
          ]
        },
        {
          "output_type": "execute_result",
          "data": {
            "text/plain": [
              "<keras.callbacks.History at 0x7f6b17971430>"
            ]
          },
          "metadata": {},
          "execution_count": 14
        }
      ],
      "source": [
        "(train_images, train_labels), _ = mnist.load_data()\n",
        "train_images = train_images.reshape((60000, 28 * 28))\n",
        "train_images = train_images.astype(\"float32\") / 255\n",
        "\n",
        "model = keras.Sequential([\n",
        "    layers.Dense(512, activation=\"relu\"),\n",
        "    layers.Dense(10, activation=\"softmax\")\n",
        "])\n",
        "model.compile(optimizer=keras.optimizers.RMSprop(1.),\n",
        "              loss=\"sparse_categorical_crossentropy\",\n",
        "              metrics=[\"accuracy\"])\n",
        "model.fit(train_images, train_labels,\n",
        "          epochs=10,\n",
        "          batch_size=128,\n",
        "          validation_split=0.2)"
      ]
    },
    {
      "cell_type": "markdown",
      "metadata": {
        "id": "xzLNM5fQvHtM"
      },
      "source": [
        "**The same model with a more appropriate learning rate**"
      ]
    },
    {
      "cell_type": "code",
      "execution_count": null,
      "metadata": {
        "id": "qOdCMWvvvHtM"
      },
      "outputs": [],
      "source": [
        "model = keras.Sequential([\n",
        "    layers.Dense(512, activation=\"relu\"),\n",
        "    layers.Dense(10, activation=\"softmax\")\n",
        "])\n",
        "model.compile(optimizer=keras.optimizers.RMSprop(1e-2),\n",
        "              loss=\"sparse_categorical_crossentropy\",\n",
        "              metrics=[\"accuracy\"])\n",
        "model.fit(train_images, train_labels,\n",
        "          epochs=10,\n",
        "          batch_size=128,\n",
        "          validation_split=0.2)"
      ]
    },
    {
      "cell_type": "markdown",
      "source": [
        "ex 2.1)\n",
        "\n",
        "From Tuning key gradient descent parameters,\n",
        "Modify\n",
        "learning rates and check when model fails"
      ],
      "metadata": {
        "id": "OKVgrR_08V13"
      }
    },
    {
      "cell_type": "code",
      "source": [
        "model = keras.Sequential([\n",
        "    layers.Dense(512, activation=\"relu\"),\n",
        "    layers.Dense(10, activation=\"softmax\")\n",
        "])\n",
        "model.compile(optimizer=keras.optimizers.RMSprop(1e-2),\n",
        "              loss=\"sparse_categorical_crossentropy\",\n",
        "              metrics=[\"accuracy\"])\n",
        "model.fit(train_images, train_labels,\n",
        "          epochs=10,\n",
        "          batch_size=128,\n",
        "          validation_split=0.2)"
      ],
      "metadata": {
        "id": "dJCwT1pf8ZEX",
        "outputId": "487ab23a-63c6-4f78-80f9-3cdd7d0625c6",
        "colab": {
          "base_uri": "https://localhost:8080/"
        }
      },
      "execution_count": 15,
      "outputs": [
        {
          "output_type": "stream",
          "name": "stdout",
          "text": [
            "Epoch 1/10\n",
            "375/375 [==============================] - 2s 4ms/step - loss: 0.3593 - accuracy: 0.9120 - val_loss: 0.1329 - val_accuracy: 0.9623\n",
            "Epoch 2/10\n",
            "375/375 [==============================] - 1s 3ms/step - loss: 0.1268 - accuracy: 0.9640 - val_loss: 0.1365 - val_accuracy: 0.9653\n",
            "Epoch 3/10\n",
            "375/375 [==============================] - 1s 3ms/step - loss: 0.0922 - accuracy: 0.9747 - val_loss: 0.1475 - val_accuracy: 0.9693\n",
            "Epoch 4/10\n",
            "375/375 [==============================] - 1s 4ms/step - loss: 0.0829 - accuracy: 0.9786 - val_loss: 0.1562 - val_accuracy: 0.9702\n",
            "Epoch 5/10\n",
            "375/375 [==============================] - 1s 4ms/step - loss: 0.0665 - accuracy: 0.9827 - val_loss: 0.1749 - val_accuracy: 0.9707\n",
            "Epoch 6/10\n",
            "375/375 [==============================] - 1s 3ms/step - loss: 0.0616 - accuracy: 0.9853 - val_loss: 0.1704 - val_accuracy: 0.9726\n",
            "Epoch 7/10\n",
            "375/375 [==============================] - 1s 4ms/step - loss: 0.0510 - accuracy: 0.9875 - val_loss: 0.1996 - val_accuracy: 0.9684\n",
            "Epoch 8/10\n",
            "375/375 [==============================] - 2s 5ms/step - loss: 0.0500 - accuracy: 0.9881 - val_loss: 0.1716 - val_accuracy: 0.9745\n",
            "Epoch 9/10\n",
            "375/375 [==============================] - 2s 4ms/step - loss: 0.0445 - accuracy: 0.9892 - val_loss: 0.2176 - val_accuracy: 0.9729\n",
            "Epoch 10/10\n",
            "375/375 [==============================] - 2s 4ms/step - loss: 0.0340 - accuracy: 0.9918 - val_loss: 0.2344 - val_accuracy: 0.9737\n"
          ]
        },
        {
          "output_type": "execute_result",
          "data": {
            "text/plain": [
              "<keras.callbacks.History at 0x7f6b790f40a0>"
            ]
          },
          "metadata": {},
          "execution_count": 15
        }
      ]
    },
    {
      "cell_type": "markdown",
      "metadata": {
        "id": "VqGLoSBCvHtO"
      },
      "source": [
        "### Leveraging better architecture priors"
      ]
    },
    {
      "cell_type": "markdown",
      "metadata": {
        "id": "fwgzGeagvHtP"
      },
      "source": [
        "### Increasing model capacity"
      ]
    },
    {
      "cell_type": "markdown",
      "metadata": {
        "id": "w5sWgCEEvHtQ"
      },
      "source": [
        "**A simple logistic regression on MNIST**"
      ]
    },
    {
      "cell_type": "code",
      "execution_count": null,
      "metadata": {
        "id": "7jHKCAtkvHtR"
      },
      "outputs": [],
      "source": [
        "model = keras.Sequential([layers.Dense(10, activation=\"softmax\")])\n",
        "model.compile(optimizer=\"rmsprop\",\n",
        "              loss=\"sparse_categorical_crossentropy\",\n",
        "              metrics=[\"accuracy\"])\n",
        "history_small_model = model.fit(\n",
        "    train_images, train_labels,\n",
        "    epochs=20,\n",
        "    batch_size=128,\n",
        "    validation_split=0.2)"
      ]
    },
    {
      "cell_type": "code",
      "execution_count": null,
      "metadata": {
        "id": "2AuouBE9vHtR"
      },
      "outputs": [],
      "source": [
        "import matplotlib.pyplot as plt\n",
        "val_loss = history_small_model.history[\"val_loss\"]\n",
        "epochs = range(1, 21)\n",
        "plt.plot(epochs, val_loss, \"b--\",\n",
        "         label=\"Validation loss\")\n",
        "plt.title(\"Effect of insufficient model capacity on validation loss\")\n",
        "plt.xlabel(\"Epochs\")\n",
        "plt.ylabel(\"Loss\")\n",
        "plt.legend()"
      ]
    },
    {
      "cell_type": "code",
      "execution_count": null,
      "metadata": {
        "id": "9oWA7q1QvHtS"
      },
      "outputs": [],
      "source": [
        "model = keras.Sequential([\n",
        "    layers.Dense(96, activation=\"relu\"),\n",
        "    layers.Dense(96, activation=\"relu\"),\n",
        "    layers.Dense(10, activation=\"softmax\"),\n",
        "])\n",
        "model.compile(optimizer=\"rmsprop\",\n",
        "              loss=\"sparse_categorical_crossentropy\",\n",
        "              metrics=[\"accuracy\"])\n",
        "history_large_model = model.fit(\n",
        "    train_images, train_labels,\n",
        "    epochs=20,\n",
        "    batch_size=128,\n",
        "    validation_split=0.2)"
      ]
    },
    {
      "cell_type": "markdown",
      "source": [
        "ex 2.2)\n",
        "\n",
        "Visualize validation loss of the original model, model with lower capacity and model\n",
        "with larger capacity"
      ],
      "metadata": {
        "id": "WQgkgluN8qci"
      }
    },
    {
      "cell_type": "markdown",
      "source": [],
      "metadata": {
        "id": "wqt2CA1zA1So"
      }
    },
    {
      "cell_type": "code",
      "source": [
        "# original model\n",
        "model = keras.Sequential([\n",
        "    layers.Dense(512, activation=\"relu\"),\n",
        "    layers.Dense(10, activation=\"softmax\")\n",
        "])\n",
        "\n",
        "model.compile(optimizer=\"rmsprop\",\n",
        "              loss=\"sparse_categorical_crossentropy\",\n",
        "              metrics=[\"accuracy\"])\n",
        "\n",
        "history_origin_model = model.fit(\n",
        "    train_images, train_labels,\n",
        "    epochs=20,\n",
        "    batch_size=128,\n",
        "    validation_split=0.2)\n",
        "\n",
        "\n",
        "# small model\n",
        "model = keras.Sequential([layers.Dense(10, activation=\"softmax\")])\n",
        "\n",
        "model.compile(optimizer=\"rmsprop\",\n",
        "              loss=\"sparse_categorical_crossentropy\",\n",
        "              metrics=[\"accuracy\"])\n",
        "\n",
        "history_small_model = model.fit(\n",
        "    train_images, train_labels,\n",
        "    epochs=20,\n",
        "    batch_size=128,\n",
        "    validation_split=0.2)\n",
        "\n",
        "# larger model\n",
        "model = keras.Sequential([\n",
        "    layers.Dense(96, activation=\"relu\"),\n",
        "    layers.Dense(96, activation=\"relu\"),\n",
        "    layers.Dense(10, activation=\"softmax\"),\n",
        "])\n",
        "\n",
        "model.compile(optimizer=\"rmsprop\",\n",
        "              loss=\"sparse_categorical_crossentropy\",\n",
        "              metrics=[\"accuracy\"])\n",
        "\n",
        "history_large_model = model.fit(\n",
        "    train_images, train_labels,\n",
        "    epochs=20,\n",
        "    batch_size=128,\n",
        "    validation_split=0.2)"
      ],
      "metadata": {
        "id": "NHafJceN8plg",
        "outputId": "d1882329-59df-4354-df11-5022c93cbe9e",
        "colab": {
          "base_uri": "https://localhost:8080/",
          "height": 1000
        }
      },
      "execution_count": 16,
      "outputs": [
        {
          "output_type": "stream",
          "name": "stdout",
          "text": [
            "Epoch 1/20\n",
            "375/375 [==============================] - 2s 4ms/step - loss: 0.2966 - accuracy: 0.9140 - val_loss: 0.1475 - val_accuracy: 0.9582\n",
            "Epoch 2/20\n",
            "375/375 [==============================] - 1s 4ms/step - loss: 0.1229 - accuracy: 0.9639 - val_loss: 0.1243 - val_accuracy: 0.9633\n",
            "Epoch 3/20\n",
            "375/375 [==============================] - 2s 4ms/step - loss: 0.0807 - accuracy: 0.9765 - val_loss: 0.0890 - val_accuracy: 0.9743\n",
            "Epoch 4/20\n",
            "375/375 [==============================] - 1s 3ms/step - loss: 0.0579 - accuracy: 0.9825 - val_loss: 0.0814 - val_accuracy: 0.9765\n",
            "Epoch 5/20\n",
            "375/375 [==============================] - 1s 3ms/step - loss: 0.0434 - accuracy: 0.9869 - val_loss: 0.0770 - val_accuracy: 0.9771\n",
            "Epoch 6/20\n",
            "375/375 [==============================] - 1s 3ms/step - loss: 0.0327 - accuracy: 0.9909 - val_loss: 0.0866 - val_accuracy: 0.9747\n",
            "Epoch 7/20\n",
            "375/375 [==============================] - 1s 3ms/step - loss: 0.0253 - accuracy: 0.9928 - val_loss: 0.0717 - val_accuracy: 0.9807\n",
            "Epoch 8/20\n",
            "375/375 [==============================] - 1s 4ms/step - loss: 0.0195 - accuracy: 0.9945 - val_loss: 0.0734 - val_accuracy: 0.9803\n",
            "Epoch 9/20\n",
            "375/375 [==============================] - 1s 3ms/step - loss: 0.0136 - accuracy: 0.9964 - val_loss: 0.0779 - val_accuracy: 0.9793\n",
            "Epoch 10/20\n",
            "375/375 [==============================] - 1s 3ms/step - loss: 0.0099 - accuracy: 0.9979 - val_loss: 0.0793 - val_accuracy: 0.9797\n",
            "Epoch 11/20\n",
            "375/375 [==============================] - 1s 3ms/step - loss: 0.0077 - accuracy: 0.9982 - val_loss: 0.0795 - val_accuracy: 0.9799\n",
            "Epoch 12/20\n",
            "375/375 [==============================] - 2s 5ms/step - loss: 0.0053 - accuracy: 0.9989 - val_loss: 0.0797 - val_accuracy: 0.9799\n",
            "Epoch 13/20\n",
            "375/375 [==============================] - 1s 4ms/step - loss: 0.0040 - accuracy: 0.9993 - val_loss: 0.0749 - val_accuracy: 0.9822\n",
            "Epoch 14/20\n",
            "375/375 [==============================] - 1s 3ms/step - loss: 0.0025 - accuracy: 0.9997 - val_loss: 0.0802 - val_accuracy: 0.9811\n",
            "Epoch 15/20\n",
            "375/375 [==============================] - 1s 3ms/step - loss: 0.0016 - accuracy: 0.9998 - val_loss: 0.0786 - val_accuracy: 0.9822\n",
            "Epoch 16/20\n",
            "375/375 [==============================] - 1s 3ms/step - loss: 0.0010 - accuracy: 1.0000 - val_loss: 0.0786 - val_accuracy: 0.9827\n",
            "Epoch 17/20\n",
            "375/375 [==============================] - 1s 4ms/step - loss: 7.3296e-04 - accuracy: 1.0000 - val_loss: 0.0817 - val_accuracy: 0.9826\n",
            "Epoch 18/20\n",
            "375/375 [==============================] - 1s 3ms/step - loss: 5.8537e-04 - accuracy: 1.0000 - val_loss: 0.0831 - val_accuracy: 0.9826\n",
            "Epoch 19/20\n",
            "375/375 [==============================] - 1s 3ms/step - loss: 6.0395e-04 - accuracy: 1.0000 - val_loss: 0.0993 - val_accuracy: 0.9790\n",
            "Epoch 20/20\n",
            "375/375 [==============================] - 1s 4ms/step - loss: 4.8082e-04 - accuracy: 1.0000 - val_loss: 0.0826 - val_accuracy: 0.9828\n",
            "Epoch 1/20\n",
            "375/375 [==============================] - 2s 5ms/step - loss: 0.6642 - accuracy: 0.8349 - val_loss: 0.3621 - val_accuracy: 0.9005\n",
            "Epoch 2/20\n",
            "375/375 [==============================] - 1s 3ms/step - loss: 0.3536 - accuracy: 0.9027 - val_loss: 0.3115 - val_accuracy: 0.9127\n",
            "Epoch 3/20\n",
            "375/375 [==============================] - 1s 3ms/step - loss: 0.3182 - accuracy: 0.9114 - val_loss: 0.2929 - val_accuracy: 0.9187\n",
            "Epoch 4/20\n",
            "375/375 [==============================] - 1s 3ms/step - loss: 0.3027 - accuracy: 0.9158 - val_loss: 0.2836 - val_accuracy: 0.9206\n",
            "Epoch 5/20\n",
            "375/375 [==============================] - 1s 3ms/step - loss: 0.2923 - accuracy: 0.9187 - val_loss: 0.2782 - val_accuracy: 0.9241\n",
            "Epoch 6/20\n",
            "375/375 [==============================] - 1s 3ms/step - loss: 0.2857 - accuracy: 0.9202 - val_loss: 0.2757 - val_accuracy: 0.9227\n",
            "Epoch 7/20\n",
            "375/375 [==============================] - 1s 3ms/step - loss: 0.2805 - accuracy: 0.9216 - val_loss: 0.2717 - val_accuracy: 0.9266\n",
            "Epoch 8/20\n",
            "375/375 [==============================] - 1s 3ms/step - loss: 0.2766 - accuracy: 0.9225 - val_loss: 0.2695 - val_accuracy: 0.9273\n",
            "Epoch 9/20\n",
            "375/375 [==============================] - 1s 3ms/step - loss: 0.2735 - accuracy: 0.9239 - val_loss: 0.2690 - val_accuracy: 0.9251\n",
            "Epoch 10/20\n",
            "375/375 [==============================] - 1s 4ms/step - loss: 0.2708 - accuracy: 0.9251 - val_loss: 0.2668 - val_accuracy: 0.9262\n",
            "Epoch 11/20\n",
            "375/375 [==============================] - 2s 4ms/step - loss: 0.2686 - accuracy: 0.9257 - val_loss: 0.2663 - val_accuracy: 0.9274\n",
            "Epoch 12/20\n",
            "375/375 [==============================] - 1s 3ms/step - loss: 0.2667 - accuracy: 0.9266 - val_loss: 0.2646 - val_accuracy: 0.9285\n",
            "Epoch 13/20\n",
            "375/375 [==============================] - 1s 3ms/step - loss: 0.2647 - accuracy: 0.9273 - val_loss: 0.2651 - val_accuracy: 0.9284\n",
            "Epoch 14/20\n",
            "375/375 [==============================] - 1s 3ms/step - loss: 0.2633 - accuracy: 0.9279 - val_loss: 0.2655 - val_accuracy: 0.9283\n",
            "Epoch 15/20\n",
            "375/375 [==============================] - 1s 3ms/step - loss: 0.2616 - accuracy: 0.9280 - val_loss: 0.2653 - val_accuracy: 0.9279\n",
            "Epoch 16/20\n",
            "375/375 [==============================] - 1s 3ms/step - loss: 0.2606 - accuracy: 0.9278 - val_loss: 0.2647 - val_accuracy: 0.9284\n",
            "Epoch 17/20\n",
            "375/375 [==============================] - 1s 3ms/step - loss: 0.2591 - accuracy: 0.9289 - val_loss: 0.2633 - val_accuracy: 0.9304\n",
            "Epoch 18/20\n",
            "375/375 [==============================] - 1s 3ms/step - loss: 0.2581 - accuracy: 0.9290 - val_loss: 0.2638 - val_accuracy: 0.9287\n",
            "Epoch 19/20\n",
            "375/375 [==============================] - 1s 3ms/step - loss: 0.2571 - accuracy: 0.9290 - val_loss: 0.2623 - val_accuracy: 0.9298\n",
            "Epoch 20/20\n",
            "375/375 [==============================] - 1s 4ms/step - loss: 0.2560 - accuracy: 0.9297 - val_loss: 0.2626 - val_accuracy: 0.9298\n",
            "Epoch 1/20\n",
            "375/375 [==============================] - 3s 4ms/step - loss: 0.3667 - accuracy: 0.8951 - val_loss: 0.1971 - val_accuracy: 0.9402\n",
            "Epoch 2/20\n",
            "375/375 [==============================] - 1s 4ms/step - loss: 0.1623 - accuracy: 0.9517 - val_loss: 0.1433 - val_accuracy: 0.9599\n",
            "Epoch 3/20\n",
            "375/375 [==============================] - 1s 4ms/step - loss: 0.1148 - accuracy: 0.9653 - val_loss: 0.1200 - val_accuracy: 0.9653\n",
            "Epoch 4/20\n",
            "375/375 [==============================] - 1s 4ms/step - loss: 0.0887 - accuracy: 0.9735 - val_loss: 0.1022 - val_accuracy: 0.9711\n",
            "Epoch 5/20\n",
            "375/375 [==============================] - 2s 5ms/step - loss: 0.0710 - accuracy: 0.9786 - val_loss: 0.1028 - val_accuracy: 0.9726\n",
            "Epoch 6/20\n",
            "375/375 [==============================] - 1s 3ms/step - loss: 0.0588 - accuracy: 0.9824 - val_loss: 0.1046 - val_accuracy: 0.9704\n",
            "Epoch 7/20\n",
            "375/375 [==============================] - 1s 4ms/step - loss: 0.0492 - accuracy: 0.9849 - val_loss: 0.1154 - val_accuracy: 0.9673\n",
            "Epoch 8/20\n",
            "375/375 [==============================] - 1s 4ms/step - loss: 0.0413 - accuracy: 0.9871 - val_loss: 0.0954 - val_accuracy: 0.9738\n",
            "Epoch 9/20\n",
            "375/375 [==============================] - 1s 3ms/step - loss: 0.0344 - accuracy: 0.9894 - val_loss: 0.1070 - val_accuracy: 0.9721\n",
            "Epoch 10/20\n",
            "375/375 [==============================] - 1s 3ms/step - loss: 0.0288 - accuracy: 0.9911 - val_loss: 0.0962 - val_accuracy: 0.9753\n",
            "Epoch 11/20\n",
            "375/375 [==============================] - 1s 4ms/step - loss: 0.0248 - accuracy: 0.9926 - val_loss: 0.1022 - val_accuracy: 0.9762\n",
            "Epoch 12/20\n",
            "375/375 [==============================] - 1s 4ms/step - loss: 0.0211 - accuracy: 0.9936 - val_loss: 0.1046 - val_accuracy: 0.9750\n",
            "Epoch 13/20\n",
            "375/375 [==============================] - 2s 4ms/step - loss: 0.0176 - accuracy: 0.9945 - val_loss: 0.1050 - val_accuracy: 0.9749\n",
            "Epoch 14/20\n",
            "375/375 [==============================] - 2s 5ms/step - loss: 0.0155 - accuracy: 0.9952 - val_loss: 0.1107 - val_accuracy: 0.9763\n",
            "Epoch 15/20\n",
            "375/375 [==============================] - 1s 4ms/step - loss: 0.0130 - accuracy: 0.9959 - val_loss: 0.1117 - val_accuracy: 0.9755\n",
            "Epoch 16/20\n",
            "375/375 [==============================] - 1s 3ms/step - loss: 0.0112 - accuracy: 0.9966 - val_loss: 0.1175 - val_accuracy: 0.9755\n",
            "Epoch 17/20\n",
            "375/375 [==============================] - 1s 3ms/step - loss: 0.0095 - accuracy: 0.9971 - val_loss: 0.1291 - val_accuracy: 0.9739\n",
            "Epoch 18/20\n",
            "375/375 [==============================] - 1s 3ms/step - loss: 0.0083 - accuracy: 0.9973 - val_loss: 0.1357 - val_accuracy: 0.9727\n",
            "Epoch 19/20\n",
            "375/375 [==============================] - 1s 3ms/step - loss: 0.0072 - accuracy: 0.9979 - val_loss: 0.1487 - val_accuracy: 0.9716\n",
            "Epoch 20/20\n",
            "375/375 [==============================] - 1s 3ms/step - loss: 0.0059 - accuracy: 0.9982 - val_loss: 0.1451 - val_accuracy: 0.9738\n"
          ]
        },
        {
          "output_type": "execute_result",
          "data": {
            "text/plain": [
              "<matplotlib.legend.Legend at 0x7f6b17808c70>"
            ]
          },
          "metadata": {},
          "execution_count": 16
        },
        {
          "output_type": "display_data",
          "data": {
            "text/plain": [
              "<Figure size 640x480 with 1 Axes>"
            ],
            "image/png": "[encoded data removed]"
          },
          "metadata": {}
        }
      ]
    },
    {
      "cell_type": "code",
      "source": [
        "# Visualize\n",
        "import matplotlib.pyplot as plt\n",
        "val_loss = history_origin_model.history[\"val_loss\"]\n",
        "val_loss_small = history_small_model.history[\"val_loss\"]\n",
        "val_loss_large = history_large_model.history[\"val_loss\"]\n",
        "epochs = range(1, 21)\n",
        "\n",
        "plt.plot(epochs, val_loss, \"r-\", label=\"Validation loss of original\")\n",
        "plt.plot(epochs, val_loss_small, \"b-\", label=\"Validation loss of small\")\n",
        "plt.plot(epochs, val_loss_large, \"g-\", label=\"Validation loss of large\")\n",
        "\n",
        "plt.title(\"Effect of insufficient model capacity on validation loss\")\n",
        "plt.xlabel(\"Epochs\")\n",
        "plt.ylabel(\"Loss\")\n",
        "plt.legend()"
      ],
      "metadata": {
        "id": "gXlZlhsO_rbU",
        "outputId": "2457fca7-e484-4fa9-bc41-adf9584ca512",
        "colab": {
          "base_uri": "https://localhost:8080/",
          "height": 490
        }
      },
      "execution_count": 18,
      "outputs": [
        {
          "output_type": "execute_result",
          "data": {
            "text/plain": [
              "<matplotlib.legend.Legend at 0x7f6b8eb0e8e0>"
            ]
          },
          "metadata": {},
          "execution_count": 18
        },
        {
          "output_type": "display_data",
          "data": {
            "text/plain": [
              "<Figure size 640x480 with 1 Axes>"
            ],
            "image/png": "[encoded data removed]"
          },
          "metadata": {}
        }
      ]
    },
    {
      "cell_type": "markdown",
      "source": [
        "ex 2.3)\n",
        "\n",
        "Visualize validation loss of the original model and model with dropout"
      ],
      "metadata": {
        "id": "5o0iTVgl8_Wc"
      }
    },
    {
      "cell_type": "code",
      "source": [],
      "metadata": {
        "id": "L494ORnp9C1t"
      },
      "execution_count": null,
      "outputs": []
    },
    {
      "cell_type": "markdown",
      "metadata": {
        "id": "YlYxwEgJvHtT"
      },
      "source": [
        "## Improving generalization"
      ]
    },
    {
      "cell_type": "markdown",
      "metadata": {
        "id": "0blxhuuqvHtU"
      },
      "source": [
        "### Dataset curation"
      ]
    },
    {
      "cell_type": "markdown",
      "metadata": {
        "id": "i_nWNRiJvHtU"
      },
      "source": [
        "### Feature engineering"
      ]
    },
    {
      "cell_type": "markdown",
      "metadata": {
        "id": "zkXNdBfmvHtV"
      },
      "source": [
        "### Using early stopping"
      ]
    },
    {
      "cell_type": "markdown",
      "metadata": {
        "id": "snR1zKVgvHtV"
      },
      "source": [
        "### Regularizing your model"
      ]
    },
    {
      "cell_type": "markdown",
      "metadata": {
        "id": "Tzddhvf7vHtW"
      },
      "source": [
        "#### Reducing the network's size"
      ]
    },
    {
      "cell_type": "markdown",
      "metadata": {
        "id": "5J7UIQMNvHtW"
      },
      "source": [
        "**Original model**"
      ]
    },
    {
      "cell_type": "code",
      "execution_count": null,
      "metadata": {
        "id": "ufHiU9VRvHtX"
      },
      "outputs": [],
      "source": [
        "from tensorflow.keras.datasets import imdb\n",
        "(train_data, train_labels), _ = imdb.load_data(num_words=10000)\n",
        "\n",
        "def vectorize_sequences(sequences, dimension=10000):\n",
        "    results = np.zeros((len(sequences), dimension))\n",
        "    for i, sequence in enumerate(sequences):\n",
        "        results[i, sequence] = 1.\n",
        "    return results\n",
        "train_data = vectorize_sequences(train_data)\n",
        "\n",
        "model = keras.Sequential([\n",
        "    layers.Dense(16, activation=\"relu\"),\n",
        "    layers.Dense(16, activation=\"relu\"),\n",
        "    layers.Dense(1, activation=\"sigmoid\")\n",
        "])\n",
        "model.compile(optimizer=\"rmsprop\",\n",
        "              loss=\"binary_crossentropy\",\n",
        "              metrics=[\"accuracy\"])\n",
        "history_original = model.fit(train_data, train_labels,\n",
        "                             epochs=20, batch_size=512, validation_split=0.4)"
      ]
    },
    {
      "cell_type": "markdown",
      "metadata": {
        "id": "QMXax0LtvHtX"
      },
      "source": [
        "**Version of the model with lower capacity**"
      ]
    },
    {
      "cell_type": "code",
      "execution_count": null,
      "metadata": {
        "id": "nCiihvHLvHtY"
      },
      "outputs": [],
      "source": [
        "model = keras.Sequential([\n",
        "    layers.Dense(4, activation=\"relu\"),\n",
        "    layers.Dense(4, activation=\"relu\"),\n",
        "    layers.Dense(1, activation=\"sigmoid\")\n",
        "])\n",
        "model.compile(optimizer=\"rmsprop\",\n",
        "              loss=\"binary_crossentropy\",\n",
        "              metrics=[\"accuracy\"])\n",
        "history_smaller_model = model.fit(\n",
        "    train_data, train_labels,\n",
        "    epochs=20, batch_size=512, validation_split=0.4)"
      ]
    },
    {
      "cell_type": "markdown",
      "metadata": {
        "id": "_3eq2qnkvHtZ"
      },
      "source": [
        "**Version of the model with higher capacity**"
      ]
    },
    {
      "cell_type": "code",
      "execution_count": null,
      "metadata": {
        "id": "iw5s5BL0vHtZ"
      },
      "outputs": [],
      "source": [
        "model = keras.Sequential([\n",
        "    layers.Dense(512, activation=\"relu\"),\n",
        "    layers.Dense(512, activation=\"relu\"),\n",
        "    layers.Dense(1, activation=\"sigmoid\")\n",
        "])\n",
        "model.compile(optimizer=\"rmsprop\",\n",
        "              loss=\"binary_crossentropy\",\n",
        "              metrics=[\"accuracy\"])\n",
        "history_larger_model = model.fit(\n",
        "    train_data, train_labels,\n",
        "    epochs=20, batch_size=512, validation_split=0.4)"
      ]
    },
    {
      "cell_type": "markdown",
      "metadata": {
        "id": "8fSMCs5lvHta"
      },
      "source": [
        "#### Adding weight regularization"
      ]
    },
    {
      "cell_type": "markdown",
      "metadata": {
        "id": "e_RoKMxavHta"
      },
      "source": [
        "**Adding L2 weight regularization to the model**"
      ]
    },
    {
      "cell_type": "code",
      "execution_count": null,
      "metadata": {
        "id": "pdzo0R-_vHtb"
      },
      "outputs": [],
      "source": [
        "from tensorflow.keras import regularizers\n",
        "model = keras.Sequential([\n",
        "    layers.Dense(16,\n",
        "                 kernel_regularizer=regularizers.l2(0.002),\n",
        "                 activation=\"relu\"),\n",
        "    layers.Dense(16,\n",
        "                 kernel_regularizer=regularizers.l2(0.002),\n",
        "                 activation=\"relu\"),\n",
        "    layers.Dense(1, activation=\"sigmoid\")\n",
        "])\n",
        "model.compile(optimizer=\"rmsprop\",\n",
        "              loss=\"binary_crossentropy\",\n",
        "              metrics=[\"accuracy\"])\n",
        "history_l2_reg = model.fit(\n",
        "    train_data, train_labels,\n",
        "    epochs=20, batch_size=512, validation_split=0.4)"
      ]
    },
    {
      "cell_type": "markdown",
      "metadata": {
        "id": "ayOdqTIHvHtc"
      },
      "source": [
        "**Different weight regularizers available in Keras**"
      ]
    },
    {
      "cell_type": "code",
      "execution_count": null,
      "metadata": {
        "id": "zagRhoWCvHtc"
      },
      "outputs": [],
      "source": [
        "from tensorflow.keras import regularizers\n",
        "regularizers.l1(0.001)\n",
        "regularizers.l1_l2(l1=0.001, l2=0.001)"
      ]
    },
    {
      "cell_type": "markdown",
      "metadata": {
        "id": "sx6Y7e0SvHtf"
      },
      "source": [
        "#### Adding dropout"
      ]
    },
    {
      "cell_type": "markdown",
      "metadata": {
        "id": "7X6fVYCwvHtj"
      },
      "source": [
        "**Adding dropout to the IMDB model**"
      ]
    },
    {
      "cell_type": "code",
      "execution_count": null,
      "metadata": {
        "id": "nYmAZSeSvHtj"
      },
      "outputs": [],
      "source": [
        "model = keras.Sequential([\n",
        "    layers.Dense(16, activation=\"relu\"),\n",
        "    layers.Dropout(0.5),\n",
        "    layers.Dense(16, activation=\"relu\"),\n",
        "    layers.Dropout(0.5),\n",
        "    layers.Dense(1, activation=\"sigmoid\")\n",
        "])\n",
        "model.compile(optimizer=\"rmsprop\",\n",
        "              loss=\"binary_crossentropy\",\n",
        "              metrics=[\"accuracy\"])\n",
        "history_dropout = model.fit(\n",
        "    train_data, train_labels,\n",
        "    epochs=20, batch_size=512, validation_split=0.4)"
      ]
    },
    {
      "cell_type": "markdown",
      "metadata": {
        "id": "igTji3bWvHtk"
      },
      "source": [
        "## Summary"
      ]
    }
  ],
  "metadata": {
    "colab": {
      "name": "chapter05_fundamentals-of-ml.i",
      "provenance": [],
      "toc_visible": true
    },
    "kernelspec": {
      "display_name": "Python 3",
      "language": "python",
      "name": "python3"
    },
    "language_info": {
      "codemirror_mode": {
        "name": "ipython",
        "version": 3
      },
      "file_extension": ".py",
      "mimetype": "text/x-python",
      "name": "python",
      "nbconvert_exporter": "python",
      "pygments_lexer": "ipython3",
      "version": "3.7.0"
    },
    "accelerator": "GPU",
    "gpuClass": "standard"
  },
  "nbformat": 4,
  "nbformat_minor": 0
}