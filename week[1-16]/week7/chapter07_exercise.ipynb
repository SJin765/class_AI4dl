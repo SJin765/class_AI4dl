{
  "cells": [
    {
      "cell_type": "markdown",
      "metadata": {
        "id": "sDisjPfGyLVn"
      },
      "source": [
        "This is a companion notebook for the book [Deep Learning with Python, Second Edition](https://www.manning.com/books/deep-learning-with-python-second-edition?a_aid=keras&a_bid=76564dff). For readability, it only contains runnable code blocks and section titles, and omits everything else in the book: text paragraphs, figures, and pseudocode.\n",
        "\n",
        "**If you want to be able to follow what's going on, I recommend reading the notebook side by side with your copy of the book.**\n",
        "\n",
        "This notebook was generated for TensorFlow 2.6."
      ]
    },
    {
      "cell_type": "markdown",
      "metadata": {
        "id": "SJNZNs37yLVv"
      },
      "source": [
        "# Working with Keras: A deep dive"
      ]
    },
    {
      "cell_type": "markdown",
      "metadata": {
        "id": "xpkI3XoCyLVx"
      },
      "source": [
        "## A spectrum of workflows"
      ]
    },
    {
      "cell_type": "markdown",
      "metadata": {
        "id": "fmbxzRHuyLVy"
      },
      "source": [
        "## Different ways to build Keras models"
      ]
    },
    {
      "cell_type": "markdown",
      "metadata": {
        "id": "S3dRQMWCyLVy"
      },
      "source": [
        "### The Sequential model"
      ]
    },
    {
      "cell_type": "markdown",
      "metadata": {
        "id": "Ymj-miHvyLVz"
      },
      "source": [
        "**The `Sequential` class**"
      ]
    },
    {
      "cell_type": "code",
      "execution_count": 3,
      "metadata": {
        "id": "9J83Bt1lyLVz"
      },
      "outputs": [],
      "source": [
        "from tensorflow import keras\n",
        "from tensorflow.keras import layers\n",
        "\n",
        "model = keras.Sequential([\n",
        "    layers.Dense(64, activation=\"relu\"),\n",
        "    layers.Dense(10, activation=\"softmax\")\n",
        "])"
      ]
    },
    {
      "cell_type": "markdown",
      "metadata": {
        "id": "vJJ32roxyLV1"
      },
      "source": [
        "**Incrementally building a Sequential model**"
      ]
    },
    {
      "cell_type": "code",
      "execution_count": 4,
      "metadata": {
        "id": "-CBoxDwuyLV2"
      },
      "outputs": [],
      "source": [
        "model = keras.Sequential()\n",
        "model.add(layers.Dense(64, activation=\"relu\"))\n",
        "model.add(layers.Dense(10, activation=\"softmax\"))"
      ]
    },
    {
      "cell_type": "markdown",
      "metadata": {
        "id": "ZXEffOkHyLV2"
      },
      "source": [
        "**Calling a model for the first time to build it**"
      ]
    },
    {
      "cell_type": "code",
      "execution_count": 5,
      "metadata": {
        "colab": {
          "base_uri": "https://localhost:8080/"
        },
        "id": "jZLUVwSDyLV3",
        "outputId": "5296ee39-a83a-480d-ff25-3ecc42ae18a0"
      },
      "outputs": [
        {
          "output_type": "execute_result",
          "data": {
            "text/plain": [
              "[<tf.Variable 'dense_2/kernel:0' shape=(3, 64) dtype=float32, numpy=\n",
              " array([[ 2.27559030e-01, -1.74786657e-01,  1.46603495e-01,\n",
              "         -6.71417117e-02,  1.51304275e-01, -8.19433033e-02,\n",
              "         -2.41801709e-01,  1.91255420e-01, -2.61353046e-01,\n",
              "         -2.13203311e-01, -1.26579612e-01,  5.92225790e-02,\n",
              "         -1.28655687e-01, -2.67164379e-01, -1.24449745e-01,\n",
              "         -2.79335827e-01,  9.70442891e-02, -1.86134309e-01,\n",
              "         -5.49227446e-02,  2.20537186e-04,  1.37661725e-01,\n",
              "          2.66767025e-01,  1.67533755e-01,  2.37879336e-01,\n",
              "         -2.83648640e-01,  1.08592272e-01,  6.26499653e-02,\n",
              "          2.63661623e-01, -1.72934964e-01, -8.02645087e-02,\n",
              "         -2.25319326e-01, -1.69647425e-01, -1.90561995e-01,\n",
              "          2.52015531e-01,  1.27448052e-01,  2.41253138e-01,\n",
              "          2.22162068e-01, -1.40152887e-01, -4.83095646e-02,\n",
              "          1.02259189e-01,  1.34077311e-01,  6.66651130e-02,\n",
              "         -9.00505930e-02, -5.58421016e-03,  1.78390414e-01,\n",
              "         -1.64899960e-01, -2.83617675e-01,  1.79431230e-01,\n",
              "         -2.77455747e-01, -8.61057937e-02, -1.48527801e-01,\n",
              "         -7.58635104e-02, -2.77347863e-01, -2.31512070e-01,\n",
              "         -1.07675970e-01, -2.83138424e-01,  2.22618520e-01,\n",
              "          7.86208808e-02,  1.16989821e-01, -1.94254220e-02,\n",
              "         -2.07601786e-02,  2.70860314e-01,  1.53989166e-01,\n",
              "         -1.79577917e-01],\n",
              "        [ 8.85852575e-02, -2.42222160e-01, -4.02634144e-02,\n",
              "         -1.83805615e-01, -2.95583546e-01, -3.34758461e-02,\n",
              "          2.07909346e-02, -8.62984210e-02,  2.77505219e-02,\n",
              "          7.98810124e-02, -2.37155259e-02, -1.24734640e-01,\n",
              "          1.86911643e-01, -1.12384751e-01, -1.34666696e-01,\n",
              "         -2.78143167e-01, -2.51777589e-01,  3.85876894e-02,\n",
              "         -2.85171956e-01,  2.86207378e-01, -1.66526616e-01,\n",
              "         -1.37701899e-01,  1.56038046e-01, -6.58663809e-02,\n",
              "          2.61620939e-01, -1.03498012e-01,  1.73007876e-01,\n",
              "          1.45827293e-01,  2.84093022e-01, -2.09309742e-01,\n",
              "          4.23153043e-02, -1.12993285e-01, -2.80295789e-01,\n",
              "         -2.09025636e-01, -1.84688956e-01,  1.83609754e-01,\n",
              "          6.78115785e-02,  1.99913979e-02,  1.34825170e-01,\n",
              "         -6.10031933e-02, -6.38845563e-02, -1.25449970e-01,\n",
              "         -8.89382809e-02, -8.04602802e-02, -1.62093803e-01,\n",
              "          1.18580222e-01, -2.54538864e-01,  1.78250909e-01,\n",
              "          9.64531600e-02,  1.25891745e-01, -1.15972459e-01,\n",
              "          1.74409151e-03, -2.20579997e-01,  1.18616462e-01,\n",
              "          1.21519655e-01,  1.59733832e-01,  1.97675675e-01,\n",
              "          2.88785398e-01, -1.48829952e-01, -1.88214511e-01,\n",
              "          1.12715602e-01,  2.76678145e-01,  3.41006517e-02,\n",
              "         -1.90676644e-01],\n",
              "        [-2.54746914e-01, -1.22594789e-01, -1.76797211e-01,\n",
              "         -2.73223191e-01,  7.87162781e-03,  9.79680717e-02,\n",
              "          1.03959620e-01,  1.25319630e-01,  1.69431597e-01,\n",
              "          2.66588807e-01,  1.52107716e-01,  1.09079808e-01,\n",
              "          2.32389629e-01, -8.43620300e-03, -2.34590471e-02,\n",
              "          9.25044417e-02, -1.87769026e-01, -1.58600837e-01,\n",
              "         -2.20851615e-01, -6.75889850e-02,  6.17951453e-02,\n",
              "         -8.26081187e-02,  1.80948645e-01,  1.85161918e-01,\n",
              "          6.13046288e-02,  2.93649971e-01,  2.17063427e-01,\n",
              "          3.58605683e-02, -3.04473042e-02,  2.80363202e-01,\n",
              "         -1.07613474e-01, -1.30496591e-01, -2.88145006e-01,\n",
              "         -1.34950235e-01,  1.41765118e-01, -2.51294553e-01,\n",
              "         -3.15339267e-02,  2.06738472e-01,  2.13696063e-01,\n",
              "         -7.56284893e-02, -8.16859603e-02, -1.79558218e-01,\n",
              "         -2.79995203e-02, -7.74439275e-02, -1.84288323e-02,\n",
              "          2.88281441e-01, -8.94546509e-03, -1.09309971e-01,\n",
              "          1.49531364e-02,  2.32399881e-01, -2.65285164e-01,\n",
              "          2.03597546e-01,  2.76991725e-01, -1.99478358e-01,\n",
              "         -3.62996459e-02,  1.43542469e-01, -2.63181835e-01,\n",
              "         -8.17355514e-03,  6.04881942e-02, -1.41618505e-01,\n",
              "          2.61413693e-01,  2.50246942e-01,  2.96226442e-01,\n",
              "         -8.23985040e-02]], dtype=float32)>,\n",
              " <tf.Variable 'dense_2/bias:0' shape=(64,) dtype=float32, numpy=\n",
              " array([0., 0., 0., 0., 0., 0., 0., 0., 0., 0., 0., 0., 0., 0., 0., 0., 0.,\n",
              "        0., 0., 0., 0., 0., 0., 0., 0., 0., 0., 0., 0., 0., 0., 0., 0., 0.,\n",
              "        0., 0., 0., 0., 0., 0., 0., 0., 0., 0., 0., 0., 0., 0., 0., 0., 0.,\n",
              "        0., 0., 0., 0., 0., 0., 0., 0., 0., 0., 0., 0., 0.], dtype=float32)>,\n",
              " <tf.Variable 'dense_3/kernel:0' shape=(64, 10) dtype=float32, numpy=\n",
              " array([[ 0.2416    ,  0.05978209, -0.01263145, -0.08628966, -0.01740718,\n",
              "          0.19841659,  0.20320895,  0.11631012,  0.25703987,  0.04556382],\n",
              "        [-0.05418098,  0.11156726, -0.18035457,  0.28214255, -0.2533669 ,\n",
              "         -0.11557049, -0.11721964, -0.26677918,  0.24240997, -0.07136153],\n",
              "        [ 0.21723583,  0.16434267, -0.11292036,  0.00940698,  0.06360593,\n",
              "         -0.21390134, -0.04237819,  0.13512754, -0.25364727, -0.22417384],\n",
              "        [-0.05044423,  0.21441555,  0.03524753,  0.04035732, -0.12877972,\n",
              "         -0.15458456,  0.24653235,  0.28291872, -0.16932416, -0.1117674 ],\n",
              "        [-0.23691526,  0.04576632, -0.23575239, -0.09798335, -0.09145927,\n",
              "         -0.27596602, -0.23327594, -0.2373729 , -0.2407174 ,  0.18080875],\n",
              "        [ 0.1525028 , -0.10174812,  0.2778736 , -0.07649387,  0.22289208,\n",
              "         -0.28097913,  0.08957839, -0.10111751,  0.18540084, -0.19526076],\n",
              "        [-0.26160443, -0.2589463 , -0.18154258,  0.02831599,  0.09627974,\n",
              "         -0.2537296 , -0.11724448,  0.00567484, -0.13992813, -0.1457763 ],\n",
              "        [ 0.2811171 , -0.2106688 , -0.24533942, -0.07763298, -0.04394656,\n",
              "          0.27799448,  0.2620524 , -0.09598972,  0.06116134, -0.17383587],\n",
              "        [ 0.25738296, -0.01931694,  0.2174134 , -0.06283419, -0.05217628,\n",
              "         -0.22223526, -0.25672895,  0.02852285, -0.04777516, -0.19192179],\n",
              "        [ 0.07843712,  0.06599733, -0.17607674, -0.21942067,  0.27452317,\n",
              "          0.23873135,  0.16805044, -0.00488394,  0.19670078,  0.0458366 ],\n",
              "        [-0.11523382,  0.11045483, -0.21096018, -0.00184318,  0.03529695,\n",
              "          0.27384707, -0.08800861,  0.21981457, -0.20186272, -0.19209626],\n",
              "        [ 0.18640709, -0.24888058, -0.1810349 ,  0.2231076 ,  0.02953854,\n",
              "          0.17055473,  0.04814732,  0.06121978,  0.0214397 , -0.19480483],\n",
              "        [-0.03222755,  0.13181436,  0.15517527, -0.04632322,  0.27968213,\n",
              "          0.19993418,  0.18299192,  0.02022851, -0.0821512 ,  0.11519545],\n",
              "        [ 0.06330505, -0.05332938, -0.07680066, -0.06142712,  0.20419171,\n",
              "          0.04679832, -0.16399086,  0.09887147,  0.02857375, -0.06292373],\n",
              "        [ 0.02709779,  0.24780384,  0.27147785,  0.02259713, -0.18209912,\n",
              "          0.18398434,  0.0953961 ,  0.23353502, -0.19552554,  0.26587644],\n",
              "        [ 0.15730223, -0.22474812, -0.00381753, -0.09902714, -0.1811395 ,\n",
              "         -0.11489016, -0.23778282,  0.17048168, -0.1447885 , -0.2706512 ],\n",
              "        [ 0.05111048,  0.16732639,  0.09497449, -0.04602851,  0.25005582,\n",
              "         -0.17734301,  0.04140785, -0.11412913,  0.24792096, -0.18071412],\n",
              "        [ 0.15062338, -0.19028702, -0.04313725, -0.08063199,  0.0668065 ,\n",
              "          0.05972609,  0.03608629,  0.11709392,  0.02922034, -0.19282539],\n",
              "        [ 0.21313405, -0.07765396, -0.11235417, -0.2455568 ,  0.14930314,\n",
              "         -0.28252852,  0.09178466, -0.11840111, -0.07680799, -0.08832395],\n",
              "        [ 0.22678873,  0.23054567,  0.12262475, -0.14321728, -0.05832696,\n",
              "          0.03740001,  0.1753487 , -0.212901  , -0.19192293,  0.08212841],\n",
              "        [-0.23573461,  0.07881534,  0.17085752, -0.12516776, -0.13629898,\n",
              "          0.16610119,  0.08430165, -0.12885909, -0.2016359 ,  0.06764942],\n",
              "        [-0.11258098, -0.04812337,  0.21259815,  0.01665449,  0.03687713,\n",
              "          0.12212753,  0.10659391, -0.16267815,  0.03520787,  0.1299105 ],\n",
              "        [ 0.07441232, -0.18585604,  0.24003777, -0.16424239, -0.09256172,\n",
              "         -0.2720903 ,  0.17844757,  0.25065878, -0.11430849, -0.1987513 ],\n",
              "        [ 0.12496245, -0.08047666, -0.0972591 , -0.11541481, -0.20357135,\n",
              "          0.0202446 , -0.1474947 , -0.17974913,  0.15260112,  0.21423665],\n",
              "        [-0.01758707,  0.10984167, -0.12879561, -0.22003552, -0.11808373,\n",
              "         -0.18267998,  0.28097853,  0.04301757, -0.21460773, -0.22116846],\n",
              "        [ 0.0064832 ,  0.17877445, -0.09103435, -0.06853463,  0.18780118,\n",
              "         -0.16644064,  0.12377366,  0.08685979, -0.00484872,  0.03476343],\n",
              "        [ 0.16823298,  0.11803758, -0.13640279,  0.2822207 , -0.00519285,\n",
              "          0.11179069,  0.05929866, -0.27754295, -0.07449366,  0.03041825],\n",
              "        [-0.26500884,  0.04974565,  0.27554497,  0.08546859,  0.03883776,\n",
              "          0.27193007, -0.02424657,  0.27910516, -0.11089   ,  0.09554958],\n",
              "        [ 0.02528766, -0.18985817, -0.25902689, -0.10190183, -0.05716375,\n",
              "          0.2533113 ,  0.16730106, -0.18768843, -0.1752191 , -0.18800235],\n",
              "        [-0.25695735, -0.0527177 , -0.18527062, -0.06058773,  0.07323322,\n",
              "         -0.13874449,  0.02063951, -0.0868976 ,  0.09164181, -0.02337781],\n",
              "        [ 0.10898605,  0.25380054,  0.28220877, -0.06094103, -0.2769071 ,\n",
              "         -0.15735301,  0.05851033, -0.26784635,  0.10595861, -0.22420561],\n",
              "        [-0.26834017, -0.25721702, -0.10591279,  0.05573094,  0.14079052,\n",
              "          0.17066911, -0.22830102,  0.20003974, -0.22058406,  0.17641145],\n",
              "        [-0.26153544, -0.06457548, -0.13397574,  0.12772995, -0.2800659 ,\n",
              "         -0.09952992, -0.14425924,  0.2633876 , -0.23069906,  0.0921897 ],\n",
              "        [-0.26187712, -0.20122646, -0.0399479 , -0.05400135,  0.23474792,\n",
              "          0.10637933, -0.25862652, -0.10230787,  0.2638351 , -0.06860679],\n",
              "        [-0.23245774,  0.19945163,  0.10785076, -0.21492845, -0.13223556,\n",
              "          0.04930124,  0.08113098,  0.02010256, -0.00929782,  0.01490688],\n",
              "        [ 0.18859163,  0.01884511,  0.06263071, -0.0386838 ,  0.19119036,\n",
              "         -0.22120303, -0.20479816, -0.10092497,  0.10367277,  0.09731069],\n",
              "        [-0.13640788,  0.17500785, -0.04139923,  0.0930903 , -0.22001578,\n",
              "         -0.10442968,  0.13629857, -0.11896208, -0.21302998, -0.24766618],\n",
              "        [-0.26107216,  0.21484196,  0.02579772, -0.06686869, -0.13798012,\n",
              "          0.01870874, -0.09081759,  0.20197636,  0.03345287,  0.2063455 ],\n",
              "        [ 0.27183518, -0.08148806,  0.08464423, -0.0973959 ,  0.12004763,\n",
              "         -0.06516291,  0.05531663, -0.08435808,  0.03682792, -0.13488764],\n",
              "        [-0.05166291, -0.25126904, -0.09001242, -0.03674163,  0.16666055,\n",
              "         -0.02391785,  0.27476117,  0.00934589,  0.06127307,  0.21210656],\n",
              "        [ 0.00391909,  0.08051562, -0.24725647, -0.22752953, -0.01769277,\n",
              "          0.03043944, -0.00149301,  0.00525209, -0.20300794, -0.2021465 ],\n",
              "        [ 0.153225  , -0.19707002,  0.04399192, -0.14210954, -0.20138723,\n",
              "          0.11412078,  0.15799457,  0.1355063 ,  0.17392582,  0.22313574],\n",
              "        [ 0.26684484,  0.03800431, -0.28397632,  0.01963434,  0.2636161 ,\n",
              "          0.18522087,  0.10330978, -0.21693388,  0.22521266, -0.1989405 ],\n",
              "        [-0.19671312,  0.02515712,  0.02557591,  0.07247993, -0.26343593,\n",
              "          0.22026679,  0.2767423 , -0.18986183, -0.18691204, -0.14348844],\n",
              "        [-0.13542953, -0.05738242, -0.25593922, -0.27025306, -0.01330423,\n",
              "         -0.24548057,  0.24609074,  0.15896139, -0.23282012,  0.01809072],\n",
              "        [ 0.22091922, -0.24417043, -0.09217712, -0.0244928 ,  0.05201361,\n",
              "         -0.09096837,  0.03480917, -0.11585812,  0.13289115,  0.16412494],\n",
              "        [ 0.02690932,  0.07145527, -0.11893968, -0.12401785,  0.10569507,\n",
              "         -0.13137825, -0.12741095, -0.00407347,  0.03072849, -0.0090006 ],\n",
              "        [ 0.10029882,  0.06028143, -0.04495512, -0.10131201, -0.12304066,\n",
              "         -0.09755728,  0.07431728, -0.19088194, -0.03754605,  0.15929565],\n",
              "        [ 0.12404597, -0.2779424 ,  0.06129703,  0.25147697,  0.14386556,\n",
              "          0.26074556,  0.12368342, -0.15301538,  0.15410188, -0.22323318],\n",
              "        [-0.02135342, -0.25804168, -0.12570862, -0.10663804, -0.24054849,\n",
              "         -0.08989871, -0.14369902,  0.0849084 ,  0.05909362, -0.19930315],\n",
              "        [-0.28047812,  0.26014176, -0.2531886 , -0.13543862, -0.03814299,\n",
              "          0.06693748,  0.2012822 , -0.02022931,  0.17558306, -0.25762177],\n",
              "        [ 0.2471011 ,  0.22697285, -0.18175629, -0.28231418,  0.02655861,\n",
              "          0.26271394,  0.26460525, -0.09956169,  0.23477325, -0.02131039],\n",
              "        [-0.23811194,  0.20479321,  0.28051266,  0.19331175, -0.0281682 ,\n",
              "          0.15710637,  0.04118034, -0.2179605 , -0.01436627,  0.09457713],\n",
              "        [ 0.1456008 ,  0.24178049, -0.15904745, -0.08325814, -0.2692057 ,\n",
              "          0.20769194, -0.13589422, -0.10065261,  0.01186714,  0.2776623 ],\n",
              "        [-0.27824497, -0.13592397, -0.13845378, -0.13222903, -0.17155527,\n",
              "         -0.21602152, -0.26731572, -0.02010873, -0.2338585 ,  0.18644375],\n",
              "        [-0.26461318, -0.16562447, -0.1223505 , -0.06750156,  0.18227082,\n",
              "          0.01068166, -0.11358771, -0.2814792 , -0.13219088,  0.08646142],\n",
              "        [ 0.18442881, -0.2005957 , -0.11333266, -0.10488698,  0.14396942,\n",
              "          0.16895273,  0.03300923, -0.1455086 , -0.0449008 , -0.19619595],\n",
              "        [-0.16279426, -0.05112889,  0.1093373 , -0.08227938,  0.25037548,\n",
              "         -0.23569055, -0.01962116, -0.19094975, -0.23542537, -0.26558605],\n",
              "        [ 0.16435209, -0.00702265,  0.19802204,  0.2363266 ,  0.26665583,\n",
              "         -0.02046719,  0.2764624 ,  0.15176675,  0.0835436 , -0.25377443],\n",
              "        [ 0.05248639,  0.24983594,  0.27915916, -0.16093138,  0.22428241,\n",
              "         -0.01872849, -0.171829  , -0.04010086,  0.03397739,  0.00757709],\n",
              "        [ 0.24308011, -0.22622967,  0.19257256, -0.22008646, -0.20943785,\n",
              "         -0.27581483,  0.1820207 , -0.17010006,  0.04285458,  0.27333692],\n",
              "        [-0.1341156 , -0.06562497,  0.06005746,  0.0211803 , -0.13023052,\n",
              "          0.01513037,  0.09214073, -0.18615223, -0.25077924, -0.2161941 ],\n",
              "        [ 0.04622641,  0.19869867,  0.15109146,  0.10372487, -0.22513644,\n",
              "         -0.08584335,  0.21864554, -0.15336548, -0.18313184,  0.203938  ],\n",
              "        [-0.20366856,  0.23178169,  0.02983379,  0.0457643 , -0.15763257,\n",
              "          0.19362667, -0.22369495,  0.09070048, -0.01610389, -0.05393529]],\n",
              "       dtype=float32)>,\n",
              " <tf.Variable 'dense_3/bias:0' shape=(10,) dtype=float32, numpy=array([0., 0., 0., 0., 0., 0., 0., 0., 0., 0.], dtype=float32)>]"
            ]
          },
          "metadata": {},
          "execution_count": 5
        }
      ],
      "source": [
        "model.build(input_shape=(None, 3))\n",
        "model.weights"
      ]
    },
    {
      "cell_type": "markdown",
      "metadata": {
        "id": "4ZloI18oyLV3"
      },
      "source": [
        "**The summary method**"
      ]
    },
    {
      "cell_type": "code",
      "execution_count": 6,
      "metadata": {
        "colab": {
          "base_uri": "https://localhost:8080/"
        },
        "id": "goyNyXxOyLV5",
        "outputId": "fdbd9577-30b4-4384-af82-bc036b59514a"
      },
      "outputs": [
        {
          "output_type": "stream",
          "name": "stdout",
          "text": [
            "Model: \"sequential_1\"\n",
            "_________________________________________________________________\n",
            " Layer (type)                Output Shape              Param #   \n",
            "=================================================================\n",
            " dense_2 (Dense)             (None, 64)                256       \n",
            "                                                                 \n",
            " dense_3 (Dense)             (None, 10)                650       \n",
            "                                                                 \n",
            "=================================================================\n",
            "Total params: 906\n",
            "Trainable params: 906\n",
            "Non-trainable params: 0\n",
            "_________________________________________________________________\n"
          ]
        }
      ],
      "source": [
        "model.summary()"
      ]
    },
    {
      "cell_type": "markdown",
      "metadata": {
        "id": "KZbXKmG7yLV6"
      },
      "source": [
        "**Naming models and layers with the `name` argument**"
      ]
    },
    {
      "cell_type": "code",
      "execution_count": 7,
      "metadata": {
        "colab": {
          "base_uri": "https://localhost:8080/"
        },
        "id": "WGwWPwZOyLV7",
        "outputId": "140f5d2b-07e6-4711-8e33-e47140ddb9a8"
      },
      "outputs": [
        {
          "output_type": "stream",
          "name": "stdout",
          "text": [
            "Model: \"my_example_model\"\n",
            "_________________________________________________________________\n",
            " Layer (type)                Output Shape              Param #   \n",
            "=================================================================\n",
            " my_first_layer (Dense)      (None, 64)                256       \n",
            "                                                                 \n",
            " my_last_layer (Dense)       (None, 10)                650       \n",
            "                                                                 \n",
            "=================================================================\n",
            "Total params: 906\n",
            "Trainable params: 906\n",
            "Non-trainable params: 0\n",
            "_________________________________________________________________\n"
          ]
        }
      ],
      "source": [
        "model = keras.Sequential(name=\"my_example_model\")\n",
        "model.add(layers.Dense(64, activation=\"relu\", name=\"my_first_layer\"))\n",
        "model.add(layers.Dense(10, activation=\"softmax\", name=\"my_last_layer\"))\n",
        "model.build((None, 3))\n",
        "model.summary()"
      ]
    },
    {
      "cell_type": "markdown",
      "metadata": {
        "id": "uDZpwo9wyLV8"
      },
      "source": [
        "**Specifying the input shape of your model in advance**"
      ]
    },
    {
      "cell_type": "code",
      "execution_count": 8,
      "metadata": {
        "id": "vcLe914_yLV8"
      },
      "outputs": [],
      "source": [
        "model = keras.Sequential()\n",
        "model.add(keras.Input(shape=(3,)))\n",
        "model.add(layers.Dense(64, activation=\"relu\"))"
      ]
    },
    {
      "cell_type": "code",
      "execution_count": 9,
      "metadata": {
        "colab": {
          "base_uri": "https://localhost:8080/"
        },
        "id": "tai8CbDKyLV9",
        "outputId": "34c0413d-021f-4fc3-de80-a298770ecf16"
      },
      "outputs": [
        {
          "output_type": "stream",
          "name": "stdout",
          "text": [
            "Model: \"sequential_2\"\n",
            "_________________________________________________________________\n",
            " Layer (type)                Output Shape              Param #   \n",
            "=================================================================\n",
            " dense_4 (Dense)             (None, 64)                256       \n",
            "                                                                 \n",
            "=================================================================\n",
            "Total params: 256\n",
            "Trainable params: 256\n",
            "Non-trainable params: 0\n",
            "_________________________________________________________________\n"
          ]
        }
      ],
      "source": [
        "model.summary()"
      ]
    },
    {
      "cell_type": "code",
      "execution_count": 10,
      "metadata": {
        "colab": {
          "base_uri": "https://localhost:8080/"
        },
        "id": "hjQtnkj2yLV9",
        "outputId": "19b0f5bf-4c60-466b-9c6b-54403a904e7d"
      },
      "outputs": [
        {
          "output_type": "stream",
          "name": "stdout",
          "text": [
            "Model: \"sequential_2\"\n",
            "_________________________________________________________________\n",
            " Layer (type)                Output Shape              Param #   \n",
            "=================================================================\n",
            " dense_4 (Dense)             (None, 64)                256       \n",
            "                                                                 \n",
            " dense_5 (Dense)             (None, 10)                650       \n",
            "                                                                 \n",
            "=================================================================\n",
            "Total params: 906\n",
            "Trainable params: 906\n",
            "Non-trainable params: 0\n",
            "_________________________________________________________________\n"
          ]
        }
      ],
      "source": [
        "model.add(layers.Dense(10, activation=\"softmax\"))\n",
        "model.summary()"
      ]
    },
    {
      "cell_type": "markdown",
      "metadata": {
        "id": "DuPi2OHVyLV-"
      },
      "source": [
        "### The Functional API"
      ]
    },
    {
      "cell_type": "markdown",
      "metadata": {
        "id": "7GiSg9FLyLV-"
      },
      "source": [
        "#### A simple example"
      ]
    },
    {
      "cell_type": "markdown",
      "metadata": {
        "id": "1fRmIJzcyLV_"
      },
      "source": [
        "**A simple Functional model with two `Dense` layers**"
      ]
    },
    {
      "cell_type": "code",
      "execution_count": 11,
      "metadata": {
        "id": "6eHMeEiLyLV_"
      },
      "outputs": [],
      "source": [
        "inputs = keras.Input(shape=(3,), name=\"my_input\")\n",
        "features = layers.Dense(64, activation=\"relu\")(inputs)\n",
        "outputs = layers.Dense(10, activation=\"softmax\")(features)\n",
        "model = keras.Model(inputs=inputs, outputs=outputs)"
      ]
    },
    {
      "cell_type": "code",
      "execution_count": 12,
      "metadata": {
        "id": "1xkOG79EyLWA"
      },
      "outputs": [],
      "source": [
        "inputs = keras.Input(shape=(3,), name=\"my_input\")"
      ]
    },
    {
      "cell_type": "code",
      "execution_count": 13,
      "metadata": {
        "colab": {
          "base_uri": "https://localhost:8080/"
        },
        "id": "TJpO4XlRyLWA",
        "outputId": "763a5976-0b15-4707-c898-b694b7fc4186"
      },
      "outputs": [
        {
          "output_type": "execute_result",
          "data": {
            "text/plain": [
              "TensorShape([None, 3])"
            ]
          },
          "metadata": {},
          "execution_count": 13
        }
      ],
      "source": [
        "inputs.shape"
      ]
    },
    {
      "cell_type": "code",
      "execution_count": 14,
      "metadata": {
        "colab": {
          "base_uri": "https://localhost:8080/"
        },
        "id": "-iZ0arHMyLWA",
        "outputId": "56a8f97b-c1ff-4948-d0f0-7f992877b274"
      },
      "outputs": [
        {
          "output_type": "execute_result",
          "data": {
            "text/plain": [
              "tf.float32"
            ]
          },
          "metadata": {},
          "execution_count": 14
        }
      ],
      "source": [
        "inputs.dtype"
      ]
    },
    {
      "cell_type": "code",
      "execution_count": 15,
      "metadata": {
        "id": "hJ-5GH2xyLWB"
      },
      "outputs": [],
      "source": [
        "features = layers.Dense(64, activation=\"relu\")(inputs)"
      ]
    },
    {
      "cell_type": "code",
      "execution_count": 16,
      "metadata": {
        "colab": {
          "base_uri": "https://localhost:8080/"
        },
        "id": "0PS5cg6GyLWC",
        "outputId": "da6472bc-e7e7-46fc-fdc6-0964b086cc85"
      },
      "outputs": [
        {
          "output_type": "execute_result",
          "data": {
            "text/plain": [
              "TensorShape([None, 64])"
            ]
          },
          "metadata": {},
          "execution_count": 16
        }
      ],
      "source": [
        "features.shape"
      ]
    },
    {
      "cell_type": "code",
      "execution_count": 17,
      "metadata": {
        "id": "FfPe6Ol1yLWC"
      },
      "outputs": [],
      "source": [
        "outputs = layers.Dense(10, activation=\"softmax\")(features)\n",
        "model = keras.Model(inputs=inputs, outputs=outputs)"
      ]
    },
    {
      "cell_type": "code",
      "execution_count": 18,
      "metadata": {
        "colab": {
          "base_uri": "https://localhost:8080/"
        },
        "id": "dU6XGaB1yLWC",
        "outputId": "fbad5a51-ae69-47cb-c93e-d7f2f0efd0f7"
      },
      "outputs": [
        {
          "output_type": "stream",
          "name": "stdout",
          "text": [
            "Model: \"model_1\"\n",
            "_________________________________________________________________\n",
            " Layer (type)                Output Shape              Param #   \n",
            "=================================================================\n",
            " my_input (InputLayer)       [(None, 3)]               0         \n",
            "                                                                 \n",
            " dense_8 (Dense)             (None, 64)                256       \n",
            "                                                                 \n",
            " dense_9 (Dense)             (None, 10)                650       \n",
            "                                                                 \n",
            "=================================================================\n",
            "Total params: 906\n",
            "Trainable params: 906\n",
            "Non-trainable params: 0\n",
            "_________________________________________________________________\n"
          ]
        }
      ],
      "source": [
        "model.summary()"
      ]
    },
    {
      "cell_type": "markdown",
      "metadata": {
        "id": "0rv4SoU3yLWD"
      },
      "source": [
        "#### Multi-input, multi-output models"
      ]
    },
    {
      "cell_type": "markdown",
      "metadata": {
        "id": "qRFPt9VNyLWD"
      },
      "source": [
        "**A multi-input, multi-output Functional model**"
      ]
    },
    {
      "cell_type": "code",
      "execution_count": 19,
      "metadata": {
        "id": "xSMsPWR6yLWE"
      },
      "outputs": [],
      "source": [
        "vocabulary_size = 10000\n",
        "num_tags = 100\n",
        "num_departments = 4\n",
        "\n",
        "title = keras.Input(shape=(vocabulary_size,), name=\"title\")\n",
        "text_body = keras.Input(shape=(vocabulary_size,), name=\"text_body\")\n",
        "tags = keras.Input(shape=(num_tags,), name=\"tags\")\n",
        "\n",
        "features = layers.Concatenate()([title, text_body, tags])\n",
        "features = layers.Dense(64, activation=\"relu\")(features)\n",
        "\n",
        "priority = layers.Dense(1, activation=\"sigmoid\", name=\"priority\")(features)\n",
        "department = layers.Dense(\n",
        "    num_departments, activation=\"softmax\", name=\"department\")(features)\n",
        "\n",
        "model = keras.Model(inputs=[title, text_body, tags], outputs=[priority, department])"
      ]
    },
    {
      "cell_type": "markdown",
      "metadata": {
        "id": "2HIkZSQsyLWE"
      },
      "source": [
        "#### Training a multi-input, multi-output model"
      ]
    },
    {
      "cell_type": "markdown",
      "metadata": {
        "id": "yI0UbNk4yLWE"
      },
      "source": [
        "**Training a model by providing lists of input & target arrays**"
      ]
    },
    {
      "cell_type": "code",
      "execution_count": 20,
      "metadata": {
        "colab": {
          "base_uri": "https://localhost:8080/"
        },
        "id": "bACy_rVGyLWF",
        "outputId": "5ab17b7e-e6b0-4c0c-b304-1bb5b078410e"
      },
      "outputs": [
        {
          "output_type": "stream",
          "name": "stdout",
          "text": [
            "40/40 [==============================] - 5s 5ms/step - loss: 22.4293 - priority_loss: 0.3132 - department_loss: 22.1161 - priority_mean_absolute_error: 0.4801 - department_accuracy: 0.2313\n",
            "40/40 [==============================] - 0s 4ms/step - loss: 5.4862 - priority_loss: 0.3206 - department_loss: 5.1656 - priority_mean_absolute_error: 0.4865 - department_accuracy: 0.2812\n",
            "40/40 [==============================] - 0s 3ms/step\n"
          ]
        }
      ],
      "source": [
        "import numpy as np\n",
        "\n",
        "num_samples = 1280\n",
        "\n",
        "title_data = np.random.randint(0, 2, size=(num_samples, vocabulary_size))\n",
        "text_body_data = np.random.randint(0, 2, size=(num_samples, vocabulary_size))\n",
        "tags_data = np.random.randint(0, 2, size=(num_samples, num_tags))\n",
        "\n",
        "priority_data = np.random.random(size=(num_samples, 1))\n",
        "department_data = np.random.randint(0, 2, size=(num_samples, num_departments))\n",
        "\n",
        "model.compile(optimizer=\"rmsprop\",\n",
        "              loss=[\"mean_squared_error\", \"categorical_crossentropy\"],\n",
        "              metrics=[[\"mean_absolute_error\"], [\"accuracy\"]])\n",
        "model.fit([title_data, text_body_data, tags_data],\n",
        "          [priority_data, department_data],\n",
        "          epochs=1)\n",
        "model.evaluate([title_data, text_body_data, tags_data],\n",
        "               [priority_data, department_data])\n",
        "priority_preds, department_preds = model.predict([title_data, text_body_data, tags_data])"
      ]
    },
    {
      "cell_type": "markdown",
      "metadata": {
        "id": "M2h72FYbyLWF"
      },
      "source": [
        "**Training a model by providing dicts of input & target arrays**"
      ]
    },
    {
      "cell_type": "code",
      "execution_count": 21,
      "metadata": {
        "colab": {
          "base_uri": "https://localhost:8080/"
        },
        "id": "vJlGIcdwyLWG",
        "outputId": "73202af2-1f13-4d65-9796-324fc40081ac"
      },
      "outputs": [
        {
          "output_type": "stream",
          "name": "stdout",
          "text": [
            "40/40 [==============================] - 1s 6ms/step - loss: 29.5072 - priority_loss: 0.3206 - department_loss: 29.1866 - priority_mean_absolute_error: 0.4865 - department_accuracy: 0.2555\n",
            "40/40 [==============================] - 0s 5ms/step - loss: 44.5473 - priority_loss: 0.3206 - department_loss: 44.2268 - priority_mean_absolute_error: 0.4865 - department_accuracy: 0.1297\n",
            "40/40 [==============================] - 0s 3ms/step\n"
          ]
        }
      ],
      "source": [
        "model.compile(optimizer=\"rmsprop\",\n",
        "              loss={\"priority\": \"mean_squared_error\", \"department\": \"categorical_crossentropy\"},\n",
        "              metrics={\"priority\": [\"mean_absolute_error\"], \"department\": [\"accuracy\"]})\n",
        "model.fit({\"title\": title_data, \"text_body\": text_body_data, \"tags\": tags_data},\n",
        "          {\"priority\": priority_data, \"department\": department_data},\n",
        "          epochs=1)\n",
        "model.evaluate({\"title\": title_data, \"text_body\": text_body_data, \"tags\": tags_data},\n",
        "               {\"priority\": priority_data, \"department\": department_data})\n",
        "priority_preds, department_preds = model.predict(\n",
        "    {\"title\": title_data, \"text_body\": text_body_data, \"tags\": tags_data})"
      ]
    },
    {
      "cell_type": "markdown",
      "metadata": {
        "id": "QtQBPcp6yLWG"
      },
      "source": [
        "#### The power of the Functional API: Access to layer connectivity"
      ]
    },
    {
      "cell_type": "code",
      "execution_count": 22,
      "metadata": {
        "colab": {
          "base_uri": "https://localhost:8080/",
          "height": 369
        },
        "id": "DaJ1lKLByLWG",
        "outputId": "324d6fcd-3e41-44f6-a842-5d98525270ec"
      },
      "outputs": [
        {
          "output_type": "execute_result",
          "data": {
            "image/png": "[encoded data removed]",
            "text/plain": [
              "<IPython.core.display.Image object>"
            ]
          },
          "metadata": {},
          "execution_count": 22
        }
      ],
      "source": [
        "keras.utils.plot_model(model, \"ticket_classifier.png\")"
      ]
    },
    {
      "cell_type": "code",
      "execution_count": 23,
      "metadata": {
        "colab": {
          "base_uri": "https://localhost:8080/",
          "height": 422
        },
        "id": "RfAxocwkyLWH",
        "outputId": "22b0202e-0bb7-46e3-c010-cf5d8761319a"
      },
      "outputs": [
        {
          "output_type": "execute_result",
          "data": {
            "image/png": "[encoded data removed]",
            "text/plain": [
              "<IPython.core.display.Image object>"
            ]
          },
          "metadata": {},
          "execution_count": 23
        }
      ],
      "source": [
        "keras.utils.plot_model(model, \"ticket_classifier_with_shape_info.png\", show_shapes=True)"
      ]
    },
    {
      "cell_type": "markdown",
      "metadata": {
        "id": "fcp41SO-yLWH"
      },
      "source": [
        "**Retrieving the inputs or outputs of a layer in a Functional model**"
      ]
    },
    {
      "cell_type": "code",
      "execution_count": 24,
      "metadata": {
        "colab": {
          "base_uri": "https://localhost:8080/"
        },
        "id": "FgweAouYyLWI",
        "outputId": "bcc612b7-b6aa-4bd6-96ae-6dced31a4486"
      },
      "outputs": [
        {
          "output_type": "execute_result",
          "data": {
            "text/plain": [
              "[<keras.engine.input_layer.InputLayer at 0x7fc27e543370>,\n",
              " <keras.engine.input_layer.InputLayer at 0x7fc27e543cd0>,\n",
              " <keras.engine.input_layer.InputLayer at 0x7fc27e553b50>,\n",
              " <keras.layers.merging.concatenate.Concatenate at 0x7fc29d34beb0>,\n",
              " <keras.layers.core.dense.Dense at 0x7fc27e51c880>,\n",
              " <keras.layers.core.dense.Dense at 0x7fc27e554910>,\n",
              " <keras.layers.core.dense.Dense at 0x7fc27e554490>]"
            ]
          },
          "metadata": {},
          "execution_count": 24
        }
      ],
      "source": [
        "model.layers"
      ]
    },
    {
      "cell_type": "code",
      "execution_count": 25,
      "metadata": {
        "colab": {
          "base_uri": "https://localhost:8080/"
        },
        "id": "HaiCoLOoyLWI",
        "outputId": "720f0a37-7ae0-45be-b167-91bfaaf64002"
      },
      "outputs": [
        {
          "output_type": "execute_result",
          "data": {
            "text/plain": [
              "[<KerasTensor: shape=(None, 10000) dtype=float32 (created by layer 'title')>,\n",
              " <KerasTensor: shape=(None, 10000) dtype=float32 (created by layer 'text_body')>,\n",
              " <KerasTensor: shape=(None, 100) dtype=float32 (created by layer 'tags')>]"
            ]
          },
          "metadata": {},
          "execution_count": 25
        }
      ],
      "source": [
        "model.layers[3].input"
      ]
    },
    {
      "cell_type": "code",
      "execution_count": 26,
      "metadata": {
        "colab": {
          "base_uri": "https://localhost:8080/"
        },
        "id": "VMZeO7ZZyLWK",
        "outputId": "a413fd90-a3a2-4e72-89a5-b95521bc691a"
      },
      "outputs": [
        {
          "output_type": "execute_result",
          "data": {
            "text/plain": [
              "<KerasTensor: shape=(None, 20100) dtype=float32 (created by layer 'concatenate')>"
            ]
          },
          "metadata": {},
          "execution_count": 26
        }
      ],
      "source": [
        "model.layers[3].output"
      ]
    },
    {
      "cell_type": "markdown",
      "metadata": {
        "id": "WRlHxGbYyLWL"
      },
      "source": [
        "**Creating a new model by reusing intermediate layer outputs**"
      ]
    },
    {
      "cell_type": "code",
      "execution_count": 27,
      "metadata": {
        "id": "z3YbmXVjyLWL"
      },
      "outputs": [],
      "source": [
        "features = model.layers[4].output\n",
        "difficulty = layers.Dense(3, activation=\"softmax\", name=\"difficulty\")(features)\n",
        "\n",
        "new_model = keras.Model(\n",
        "    inputs=[title, text_body, tags],\n",
        "    outputs=[priority, department, difficulty])"
      ]
    },
    {
      "cell_type": "code",
      "execution_count": 28,
      "metadata": {
        "colab": {
          "base_uri": "https://localhost:8080/",
          "height": 422
        },
        "id": "KnwBJN_KyLWM",
        "outputId": "476e6597-e987-4416-dd6d-a4f873a3f72c"
      },
      "outputs": [
        {
          "output_type": "execute_result",
          "data": {
            "image/png": "[encoded data removed]",
            "text/plain": [
              "<IPython.core.display.Image object>"
            ]
          },
          "metadata": {},
          "execution_count": 28
        }
      ],
      "source": [
        "keras.utils.plot_model(new_model, \"updated_ticket_classifier.png\", show_shapes=True)"
      ]
    },
    {
      "cell_type": "markdown",
      "source": [
        "ex1.1) \n",
        "\n",
        "From Multi input, multi output example, modify your functional model as below."
      ],
      "metadata": {
        "id": "2TTPHRcK1rEo"
      }
    },
    {
      "cell_type": "code",
      "source": [
        "\n",
        "# check input output\n",
        "# \n",
        "\n",
        "# A multi-input, multi-output Functional model\n",
        "vocabulary_size = 10000\n",
        "num_tags = 100\n",
        "num_departments = 4\n",
        "\n",
        "title = keras.Input(shape=(vocabulary_size,), name=\"title\")\n",
        "text_body = keras.Input(shape=(vocabulary_size,), name=\"text_body\")\n",
        "tags = keras.Input(shape=(num_tags,), name=\"tags\")\n",
        "\n",
        "features = layers.Concatenate()([title, text_body, tags])\n",
        "features = layers.Dense(64, activation=\"relu\")(features)\n",
        "features = layers.Dense(36, activation=\"relu\")(features)\n",
        "features = layers.Dense(24, activation=\"relu\")(features)\n",
        "\n",
        "priority = layers.Dense(1, activation=\"sigmoid\", name=\"priority\")(features)\n",
        "department = layers.Dense(num_departments, activation=\"softmax\", name=\"department\")(features)\n",
        "\n",
        "model_01 = keras.Model(\n",
        "    inputs=[title, text_body, tags],\n",
        "    outputs=[priority, department])"
      ],
      "metadata": {
        "id": "3M19n-ef1w5P"
      },
      "execution_count": 35,
      "outputs": []
    },
    {
      "cell_type": "code",
      "source": [
        "keras.utils.plot_model(model_01, \"updated_ticket_classifier.png\", show_shapes=True)"
      ],
      "metadata": {
        "id": "zz91R3WC5vYM",
        "outputId": "ffa1c12f-3fc6-4e40-aafd-ad6de2fc2453",
        "colab": {
          "base_uri": "https://localhost:8080/",
          "height": 644
        }
      },
      "execution_count": 36,
      "outputs": [
        {
          "output_type": "execute_result",
          "data": {
            "image/png": "[encoded data removed]",
            "text/plain": [
              "<IPython.core.display.Image object>"
            ]
          },
          "metadata": {},
          "execution_count": 36
        }
      ]
    },
    {
      "cell_type": "markdown",
      "source": [
        "ex1.2)\n",
        "\n",
        "Try to add difficulty output as below."
      ],
      "metadata": {
        "id": "C7vmsiBB7zNj"
      }
    },
    {
      "cell_type": "code",
      "source": [
        "# A multi-input, multi-output Functional model\n",
        "vocabulary_size = 10000\n",
        "num_tags = 100\n",
        "num_departments = 4\n",
        "\n",
        "title = keras.Input(shape=(vocabulary_size,), name=\"title\")\n",
        "text_body = keras.Input(shape=(vocabulary_size,), name=\"text_body\")\n",
        "tags = keras.Input(shape=(num_tags,), name=\"tags\")\n",
        "\n",
        "features = layers.Concatenate()([title, text_body, tags])\n",
        "features = layers.Dense(64, activation=\"relu\")(features)\n",
        "features = layers.Dense(36, activation=\"relu\")(features)\n",
        "difficulty = layers.Dense(3, activation=\"softmax\", name=\"difficulty\")(features)\n",
        "features = layers.Dense(24, activation=\"relu\")(features)\n",
        "\n",
        "priority = layers.Dense(1, activation=\"sigmoid\", name=\"priority\")(features)\n",
        "department = layers.Dense(num_departments, activation=\"softmax\", name=\"department\")(features)\n",
        "\n",
        "model_02 = keras.Model(\n",
        "    inputs=[title, text_body, tags],\n",
        "    outputs=[priority, department, difficulty])"
      ],
      "metadata": {
        "id": "MAkwkRtK60n9"
      },
      "execution_count": 38,
      "outputs": []
    },
    {
      "cell_type": "code",
      "source": [
        "keras.utils.plot_model(model_02, \"updated_ticket_classifier.png\", show_shapes=True)"
      ],
      "metadata": {
        "id": "LTswbtiI7i9o",
        "outputId": "d4209ca2-5d85-4b8b-9f42-a76e91307fd3",
        "colab": {
          "base_uri": "https://localhost:8080/",
          "height": 644
        }
      },
      "execution_count": 39,
      "outputs": [
        {
          "output_type": "execute_result",
          "data": {
            "image/png": "[encoded data removed]",
            "text/plain": [
              "<IPython.core.display.Image object>"
            ]
          },
          "metadata": {},
          "execution_count": 39
        }
      ]
    },
    {
      "cell_type": "code",
      "source": [
        "# Training a model by providing lists of input & target arrays\n",
        "import numpy as np\n",
        "\n",
        "num_samples = 1280\n",
        "\n",
        "title_data = np.random.randint(0, 2, size=(num_samples, vocabulary_size))\n",
        "text_body_data = np.random.randint(0, 2, size=(num_samples, vocabulary_size))\n",
        "tags_data = np.random.randint(0, 2, size=(num_samples, num_tags))\n",
        "\n",
        "priority_data = np.random.random(size=(num_samples, 1))\n",
        "department_data = np.random.randint(0, 2, size=(num_samples, num_departments))\n",
        "\n",
        "model.compile(optimizer=\"rmsprop\",\n",
        "              loss={\"priority\": \"mean_squared_error\", \"department\": \"categorical_crossentropy\"},\n",
        "              metrics={\"priority\": [\"mean_absolute_error\"], \"department\": [\"accuracy\"]})\n",
        "model.fit({\"title\": title_data, \"text_body\": text_body_data, \"tags\": tags_data},\n",
        "          {\"priority\": priority_data, \"department\": department_data},\n",
        "          epochs=1)\n",
        "model.evaluate({\"title\": title_data, \"text_body\": text_body_data, \"tags\": tags_data},\n",
        "               {\"priority\": priority_data, \"department\": department_data})\n",
        "priority_preds, department_preds = model.predict(\n",
        "    {\"title\": title_data, \"text_body\": text_body_data, \"tags\": tags_data})\n",
        "\n",
        "features = model.layers[4].output\n",
        "difficulty = layers.Dense(3, activation=\"softmax\", name=\"difficulty\")(features)\n",
        "\n",
        "new_model = keras.Model(\n",
        "    inputs=[title, text_body, tags],\n",
        "    outputs=[priority, department, difficulty])"
      ],
      "metadata": {
        "id": "bfyhvxlv5pUE"
      },
      "execution_count": null,
      "outputs": []
    },
    {
      "cell_type": "markdown",
      "metadata": {
        "id": "a45z3CtByLWM"
      },
      "source": [
        "### Subclassing the Model class"
      ]
    },
    {
      "cell_type": "markdown",
      "metadata": {
        "id": "I6wsyBvvyLWN"
      },
      "source": [
        "#### Rewriting our previous example as a subclassed model"
      ]
    },
    {
      "cell_type": "markdown",
      "metadata": {
        "id": "piysN0dfyLWN"
      },
      "source": [
        "**A simple subclassed model**"
      ]
    },
    {
      "cell_type": "code",
      "execution_count": 29,
      "metadata": {
        "id": "62NWxM6EyLWN"
      },
      "outputs": [],
      "source": [
        "class CustomerTicketModel(keras.Model):\n",
        "\n",
        "    def __init__(self, num_departments):\n",
        "        super().__init__()\n",
        "        self.concat_layer = layers.Concatenate()\n",
        "        self.mixing_layer = layers.Dense(64, activation=\"relu\")\n",
        "        self.priority_scorer = layers.Dense(1, activation=\"sigmoid\")\n",
        "        self.department_classifier = layers.Dense(\n",
        "            num_departments, activation=\"softmax\")\n",
        "\n",
        "    def call(self, inputs):\n",
        "        title = inputs[\"title\"]\n",
        "        text_body = inputs[\"text_body\"]\n",
        "        tags = inputs[\"tags\"]\n",
        "\n",
        "        features = self.concat_layer([title, text_body, tags])\n",
        "        features = self.mixing_layer(features)\n",
        "        priority = self.priority_scorer(features)\n",
        "        department = self.department_classifier(features)\n",
        "        return priority, department"
      ]
    },
    {
      "cell_type": "code",
      "execution_count": 30,
      "metadata": {
        "id": "vL_U1f7myLWO"
      },
      "outputs": [],
      "source": [
        "model = CustomerTicketModel(num_departments=4)\n",
        "\n",
        "priority, department = model(\n",
        "    {\"title\": title_data, \"text_body\": text_body_data, \"tags\": tags_data})"
      ]
    },
    {
      "cell_type": "code",
      "execution_count": 31,
      "metadata": {
        "colab": {
          "base_uri": "https://localhost:8080/"
        },
        "id": "aziqZF_hyLWO",
        "outputId": "a08ea1e1-cddc-4100-a62c-794e457c4216"
      },
      "outputs": [
        {
          "output_type": "stream",
          "name": "stdout",
          "text": [
            "40/40 [==============================] - 1s 5ms/step - loss: 35.6609 - output_1_loss: 0.3136 - output_2_loss: 35.3472 - output_1_mean_absolute_error: 0.4790 - output_2_accuracy: 0.2203\n",
            "40/40 [==============================] - 1s 6ms/step - loss: 42.8114 - output_1_loss: 0.3206 - output_2_loss: 42.4908 - output_1_mean_absolute_error: 0.4865 - output_2_accuracy: 0.1297\n",
            "40/40 [==============================] - 0s 5ms/step\n"
          ]
        }
      ],
      "source": [
        "model.compile(optimizer=\"rmsprop\",\n",
        "              loss=[\"mean_squared_error\", \"categorical_crossentropy\"],\n",
        "              metrics=[[\"mean_absolute_error\"], [\"accuracy\"]])\n",
        "model.fit({\"title\": title_data,\n",
        "           \"text_body\": text_body_data,\n",
        "           \"tags\": tags_data},\n",
        "          [priority_data, department_data],\n",
        "          epochs=1)\n",
        "model.evaluate({\"title\": title_data,\n",
        "                \"text_body\": text_body_data,\n",
        "                \"tags\": tags_data},\n",
        "               [priority_data, department_data])\n",
        "priority_preds, department_preds = model.predict({\"title\": title_data,\n",
        "                                                  \"text_body\": text_body_data,\n",
        "                                                  \"tags\": tags_data})"
      ]
    },
    {
      "cell_type": "markdown",
      "metadata": {
        "id": "ZlR6OZXtyLWP"
      },
      "source": [
        "#### Beware: What subclassed models don't support"
      ]
    },
    {
      "cell_type": "markdown",
      "metadata": {
        "id": "wWwYSS9DyLWQ"
      },
      "source": [
        "### Mixing and matching different components"
      ]
    },
    {
      "cell_type": "markdown",
      "metadata": {
        "id": "Ey8mGFQ8yLWQ"
      },
      "source": [
        "**Creating a Functional model that includes a subclassed model**"
      ]
    },
    {
      "cell_type": "code",
      "execution_count": 32,
      "metadata": {
        "id": "30IX4hS8yLWR"
      },
      "outputs": [],
      "source": [
        "class Classifier(keras.Model):\n",
        "\n",
        "    def __init__(self, num_classes=2):\n",
        "        super().__init__()\n",
        "        if num_classes == 2:\n",
        "            num_units = 1\n",
        "            activation = \"sigmoid\"\n",
        "        else:\n",
        "            num_units = num_classes\n",
        "            activation = \"softmax\"\n",
        "        self.dense = layers.Dense(num_units, activation=activation)\n",
        "\n",
        "    def call(self, inputs):\n",
        "        return self.dense(inputs)\n",
        "\n",
        "inputs = keras.Input(shape=(3,))\n",
        "features = layers.Dense(64, activation=\"relu\")(inputs)\n",
        "outputs = Classifier(num_classes=10)(features)\n",
        "model = keras.Model(inputs=inputs, outputs=outputs)"
      ]
    },
    {
      "cell_type": "markdown",
      "metadata": {
        "id": "jYr6IQvryLWS"
      },
      "source": [
        "**Creating a subclassed model that includes a Functional model**"
      ]
    },
    {
      "cell_type": "code",
      "execution_count": 33,
      "metadata": {
        "id": "zV95YhZFyLWS"
      },
      "outputs": [],
      "source": [
        "inputs = keras.Input(shape=(64,))\n",
        "outputs = layers.Dense(1, activation=\"sigmoid\")(inputs)\n",
        "binary_classifier = keras.Model(inputs=inputs, outputs=outputs)\n",
        "\n",
        "class MyModel(keras.Model):\n",
        "\n",
        "    def __init__(self, num_classes=2):\n",
        "        super().__init__()\n",
        "        self.dense = layers.Dense(64, activation=\"relu\")\n",
        "        self.classifier = binary_classifier\n",
        "\n",
        "    def call(self, inputs):\n",
        "        features = self.dense(inputs)\n",
        "        return self.classifier(features)\n",
        "\n",
        "model = MyModel()"
      ]
    },
    {
      "cell_type": "markdown",
      "metadata": {
        "id": "UaBXd-mmyLWb"
      },
      "source": [
        "### Remember: Use the right tool for the job"
      ]
    },
    {
      "cell_type": "markdown",
      "metadata": {
        "id": "HlcYKkEmyLWc"
      },
      "source": [
        "## Using built-in training and evaluation loops"
      ]
    },
    {
      "cell_type": "markdown",
      "metadata": {
        "id": "TWTEIZlzyLWc"
      },
      "source": [
        "**The standard workflow: `compile()`, `fit()`, `evaluate()`, `predict()`**"
      ]
    },
    {
      "cell_type": "code",
      "execution_count": 34,
      "metadata": {
        "colab": {
          "base_uri": "https://localhost:8080/"
        },
        "id": "msnGDGxwyLWd",
        "outputId": "fb28d34c-5b80-4aed-d00a-3022a4f110f7"
      },
      "outputs": [
        {
          "output_type": "stream",
          "name": "stdout",
          "text": [
            "Downloading data from https://storage.googleapis.com/tensorflow/tf-keras-datasets/mnist.npz\n",
            "11490434/11490434 [==============================] - 0s 0us/step\n",
            "Epoch 1/3\n",
            "1563/1563 [==============================] - 7s 4ms/step - loss: 0.2931 - accuracy: 0.9130 - val_loss: 0.1498 - val_accuracy: 0.9568\n",
            "Epoch 2/3\n",
            "1563/1563 [==============================] - 5s 3ms/step - loss: 0.1590 - accuracy: 0.9550 - val_loss: 0.1169 - val_accuracy: 0.9665\n",
            "Epoch 3/3\n",
            "1563/1563 [==============================] - 5s 3ms/step - loss: 0.1311 - accuracy: 0.9640 - val_loss: 0.1049 - val_accuracy: 0.9723\n",
            "313/313 [==============================] - 1s 4ms/step - loss: 0.0950 - accuracy: 0.9751\n",
            "313/313 [==============================] - 1s 4ms/step\n"
          ]
        }
      ],
      "source": [
        "from tensorflow.keras.datasets import mnist\n",
        "\n",
        "def get_mnist_model():\n",
        "    inputs = keras.Input(shape=(28 * 28,))\n",
        "    features = layers.Dense(512, activation=\"relu\")(inputs)\n",
        "    features = layers.Dropout(0.5)(features)\n",
        "    outputs = layers.Dense(10, activation=\"softmax\")(features)\n",
        "    model = keras.Model(inputs, outputs)\n",
        "    return model\n",
        "\n",
        "(images, labels), (test_images, test_labels) = mnist.load_data()\n",
        "images = images.reshape((60000, 28 * 28)).astype(\"float32\") / 255\n",
        "test_images = test_images.reshape((10000, 28 * 28)).astype(\"float32\") / 255\n",
        "train_images, val_images = images[10000:], images[:10000]\n",
        "train_labels, val_labels = labels[10000:], labels[:10000]\n",
        "\n",
        "model = get_mnist_model()\n",
        "model.compile(optimizer=\"rmsprop\",\n",
        "              loss=\"sparse_categorical_crossentropy\",\n",
        "              metrics=[\"accuracy\"])\n",
        "model.fit(train_images, train_labels,\n",
        "          epochs=3,\n",
        "          validation_data=(val_images, val_labels))\n",
        "test_metrics = model.evaluate(test_images, test_labels)\n",
        "predictions = model.predict(test_images)"
      ]
    },
    {
      "cell_type": "markdown",
      "metadata": {
        "id": "NIDsX2aryLWe"
      },
      "source": [
        "### Writing your own metrics"
      ]
    },
    {
      "cell_type": "markdown",
      "metadata": {
        "id": "e_B88zEoyLWe"
      },
      "source": [
        "**Implementing a custom metric by subclassing the `Metric` class**"
      ]
    },
    {
      "cell_type": "code",
      "execution_count": 40,
      "metadata": {
        "id": "22rYA-NZyLWf"
      },
      "outputs": [],
      "source": [
        "import tensorflow as tf\n",
        "\n",
        "class RootMeanSquaredError(keras.metrics.Metric):\n",
        "\n",
        "    def __init__(self, name=\"rmse\", **kwargs):\n",
        "        super().__init__(name=name, **kwargs)\n",
        "        self.mse_sum = self.add_weight(name=\"mse_sum\", initializer=\"zeros\")\n",
        "        self.total_samples = self.add_weight(\n",
        "            name=\"total_samples\", initializer=\"zeros\", dtype=\"int32\")\n",
        "\n",
        "    def update_state(self, y_true, y_pred, sample_weight=None):\n",
        "        y_true = tf.one_hot(y_true, depth=tf.shape(y_pred)[1])\n",
        "        mse = tf.reduce_sum(tf.square(y_true - y_pred))\n",
        "        self.mse_sum.assign_add(mse)\n",
        "        num_samples = tf.shape(y_pred)[0]\n",
        "        self.total_samples.assign_add(num_samples)\n",
        "\n",
        "    def result(self):\n",
        "        return tf.sqrt(self.mse_sum / tf.cast(self.total_samples, tf.float32))\n",
        "\n",
        "    def reset_state(self):\n",
        "        self.mse_sum.assign(0.)\n",
        "        self.total_samples.assign(0)"
      ]
    },
    {
      "cell_type": "code",
      "execution_count": 41,
      "metadata": {
        "colab": {
          "base_uri": "https://localhost:8080/"
        },
        "id": "XniQdrX_yLWg",
        "outputId": "ee7455cf-31e2-4fae-8786-168a6a99981d"
      },
      "outputs": [
        {
          "output_type": "stream",
          "name": "stdout",
          "text": [
            "Epoch 1/3\n",
            "1563/1563 [==============================] - 7s 4ms/step - loss: 0.2978 - accuracy: 0.9118 - rmse: 7.1728 - val_loss: 0.1364 - val_accuracy: 0.9603 - val_rmse: 7.3528\n",
            "Epoch 2/3\n",
            "1563/1563 [==============================] - 5s 3ms/step - loss: 0.1610 - accuracy: 0.9535 - rmse: 7.3486 - val_loss: 0.1118 - val_accuracy: 0.9687 - val_rmse: 7.4004\n",
            "Epoch 3/3\n",
            "1563/1563 [==============================] - 6s 4ms/step - loss: 0.1316 - accuracy: 0.9634 - rmse: 7.3852 - val_loss: 0.0986 - val_accuracy: 0.9724 - val_rmse: 7.4196\n",
            "313/313 [==============================] - 1s 3ms/step - loss: 0.0880 - accuracy: 0.9758 - rmse: 7.4317\n"
          ]
        }
      ],
      "source": [
        "model = get_mnist_model()\n",
        "model.compile(optimizer=\"rmsprop\",\n",
        "              loss=\"sparse_categorical_crossentropy\",\n",
        "              metrics=[\"accuracy\", RootMeanSquaredError()])\n",
        "model.fit(train_images, train_labels,\n",
        "          epochs=3,\n",
        "          validation_data=(val_images, val_labels))``\n",
        "test_metrics = model.evaluate(test_images, test_labels)"
      ]
    },
    {
      "cell_type": "markdown",
      "metadata": {
        "id": "_p0v4rXWyLWg"
      },
      "source": [
        "### Using callbacks"
      ]
    },
    {
      "cell_type": "markdown",
      "metadata": {
        "id": "OAW1N8YNyLWh"
      },
      "source": [
        "#### The EarlyStopping and ModelCheckpoint callbacks"
      ]
    },
    {
      "cell_type": "markdown",
      "metadata": {
        "id": "ylMOSCCAyLWh"
      },
      "source": [
        "**Using the `callbacks` argument in the `fit()` method**"
      ]
    },
    {
      "cell_type": "code",
      "execution_count": 42,
      "metadata": {
        "colab": {
          "base_uri": "https://localhost:8080/"
        },
        "id": "U4W3yd9XyLWh",
        "outputId": "8b88a21d-b882-42e9-91dc-7eb0a586321d"
      },
      "outputs": [
        {
          "output_type": "stream",
          "name": "stdout",
          "text": [
            "Epoch 1/10\n",
            "1563/1563 [==============================] - 8s 4ms/step - loss: 0.2924 - accuracy: 0.9132 - val_loss: 0.1472 - val_accuracy: 0.9565\n",
            "Epoch 2/10\n",
            "1563/1563 [==============================] - 5s 3ms/step - loss: 0.1574 - accuracy: 0.9541 - val_loss: 0.1119 - val_accuracy: 0.9677\n",
            "Epoch 3/10\n",
            "1563/1563 [==============================] - 5s 3ms/step - loss: 0.1293 - accuracy: 0.9631 - val_loss: 0.1080 - val_accuracy: 0.9712\n",
            "Epoch 4/10\n",
            "1563/1563 [==============================] - 5s 3ms/step - loss: 0.1130 - accuracy: 0.9681 - val_loss: 0.1004 - val_accuracy: 0.9757\n",
            "Epoch 5/10\n",
            "1563/1563 [==============================] - 5s 4ms/step - loss: 0.1049 - accuracy: 0.9715 - val_loss: 0.0916 - val_accuracy: 0.9773\n",
            "Epoch 6/10\n",
            "1563/1563 [==============================] - 5s 3ms/step - loss: 0.0946 - accuracy: 0.9733 - val_loss: 0.0937 - val_accuracy: 0.9773\n",
            "Epoch 7/10\n",
            "1563/1563 [==============================] - 5s 3ms/step - loss: 0.0876 - accuracy: 0.9761 - val_loss: 0.0918 - val_accuracy: 0.9784\n",
            "Epoch 8/10\n",
            "1563/1563 [==============================] - 5s 3ms/step - loss: 0.0819 - accuracy: 0.9777 - val_loss: 0.0927 - val_accuracy: 0.9793\n",
            "Epoch 9/10\n",
            "1563/1563 [==============================] - 5s 3ms/step - loss: 0.0757 - accuracy: 0.9794 - val_loss: 0.0931 - val_accuracy: 0.9779\n",
            "Epoch 10/10\n",
            "1563/1563 [==============================] - 6s 4ms/step - loss: 0.0704 - accuracy: 0.9808 - val_loss: 0.0963 - val_accuracy: 0.9786\n"
          ]
        },
        {
          "output_type": "execute_result",
          "data": {
            "text/plain": [
              "<keras.callbacks.History at 0x7fc212c33520>"
            ]
          },
          "metadata": {},
          "execution_count": 42
        }
      ],
      "source": [
        "callbacks_list = [\n",
        "    keras.callbacks.EarlyStopping(\n",
        "        monitor=\"val_accuracy\",\n",
        "        patience=2,\n",
        "    ),\n",
        "    keras.callbacks.ModelCheckpoint(\n",
        "        filepath=\"checkpoint_path.keras\",\n",
        "        monitor=\"val_loss\",\n",
        "        save_best_only=True,\n",
        "    )\n",
        "]\n",
        "model = get_mnist_model()\n",
        "model.compile(optimizer=\"rmsprop\",\n",
        "              loss=\"sparse_categorical_crossentropy\",\n",
        "              metrics=[\"accuracy\"])\n",
        "model.fit(train_images, train_labels,\n",
        "          epochs=10,\n",
        "          callbacks=callbacks_list,\n",
        "          validation_data=(val_images, val_labels))"
      ]
    },
    {
      "cell_type": "code",
      "execution_count": null,
      "metadata": {
        "id": "HSNArpdAyLWi"
      },
      "outputs": [],
      "source": [
        "model = keras.models.load_model(\"checkpoint_path.keras\")"
      ]
    },
    {
      "cell_type": "markdown",
      "metadata": {
        "id": "CyBVeRPzyLWi"
      },
      "source": [
        "### Writing your own callbacks"
      ]
    },
    {
      "cell_type": "markdown",
      "metadata": {
        "id": "2oOMXiI_yLWj"
      },
      "source": [
        "**Creating a custom callback by subclassing the `Callback` class**"
      ]
    },
    {
      "cell_type": "code",
      "execution_count": null,
      "metadata": {
        "id": "OxGzGiZZyLWj"
      },
      "outputs": [],
      "source": [
        "from matplotlib import pyplot as plt\n",
        "\n",
        "class LossHistory(keras.callbacks.Callback):\n",
        "    def on_train_begin(self, logs):\n",
        "        self.per_batch_losses = []\n",
        "\n",
        "    def on_batch_end(self, batch, logs):\n",
        "        self.per_batch_losses.append(logs.get(\"loss\"))\n",
        "\n",
        "    def on_epoch_end(self, epoch, logs):\n",
        "        plt.clf()\n",
        "        plt.plot(range(len(self.per_batch_losses)), self.per_batch_losses,\n",
        "                 label=\"Training loss for each batch\")\n",
        "        plt.xlabel(f\"Batch (epoch {epoch})\")\n",
        "        plt.ylabel(\"Loss\")\n",
        "        plt.legend()\n",
        "        plt.savefig(f\"plot_at_epoch_{epoch}\")\n",
        "        self.per_batch_losses = []"
      ]
    },
    {
      "cell_type": "code",
      "execution_count": null,
      "metadata": {
        "id": "f7QrObwqyLWj"
      },
      "outputs": [],
      "source": [
        "model = get_mnist_model()\n",
        "model.compile(optimizer=\"rmsprop\",\n",
        "              loss=\"sparse_categorical_crossentropy\",\n",
        "              metrics=[\"accuracy\"])\n",
        "model.fit(train_images, train_labels,\n",
        "          epochs=10,\n",
        "          callbacks=[LossHistory()],\n",
        "          validation_data=(val_images, val_labels))"
      ]
    },
    {
      "cell_type": "markdown",
      "metadata": {
        "id": "nkrROLm9yLWk"
      },
      "source": [
        "### Monitoring and visualization with TensorBoard"
      ]
    },
    {
      "cell_type": "code",
      "execution_count": null,
      "metadata": {
        "id": "6mE668z0yLWk"
      },
      "outputs": [],
      "source": [
        "model = get_mnist_model()\n",
        "model.compile(optimizer=\"rmsprop\",\n",
        "              loss=\"sparse_categorical_crossentropy\",\n",
        "              metrics=[\"accuracy\"])\n",
        "\n",
        "tensorboard = keras.callbacks.TensorBoard(\n",
        "    log_dir=\"/full_path_to_your_log_dir\",\n",
        ")\n",
        "model.fit(train_images, train_labels,\n",
        "          epochs=10,\n",
        "          validation_data=(val_images, val_labels),\n",
        "          callbacks=[tensorboard])"
      ]
    },
    {
      "cell_type": "code",
      "execution_count": null,
      "metadata": {
        "id": "yvvJcq38yLWk"
      },
      "outputs": [],
      "source": [
        "%load_ext tensorboard\n",
        "%tensorboard --logdir /full_path_to_your_log_dir"
      ]
    },
    {
      "cell_type": "markdown",
      "source": [
        "ex2)\n",
        "\n",
        "From using callbacks, experiment with different parameters\n",
        "\n",
        "of EarlyStopping and ModelCheckpoint callbacks."
      ],
      "metadata": {
        "id": "2r5UjLll-_YV"
      }
    },
    {
      "cell_type": "code",
      "source": [
        "import tensorflow as tf\n",
        "\n",
        "class RootMeanSquaredError(keras.metrics.Metric):\n",
        "\n",
        "    def __init__(self, name=\"rmse\", **kwargs):\n",
        "        super().__init__(name=name, **kwargs)\n",
        "        self.mse_sum = self.add_weight(name=\"mse_sum\", initializer=\"zeros\")\n",
        "        self.total_samples = self.add_weight(\n",
        "            name=\"total_samples\", initializer=\"zeros\", dtype=\"int32\")\n",
        "\n",
        "    def update_state(self, y_true, y_pred, sample_weight=None):\n",
        "        y_true = tf.one_hot(y_true, depth=tf.shape(y_pred)[1])\n",
        "        mse = tf.reduce_sum(tf.square(y_true - y_pred))\n",
        "        self.mse_sum.assign_add(mse)\n",
        "        num_samples = tf.shape(y_pred)[0]\n",
        "        self.total_samples.assign_add(num_samples)\n",
        "\n",
        "    def result(self):\n",
        "        return tf.sqrt(self.mse_sum / tf.cast(self.total_samples, tf.float32))\n",
        "\n",
        "    def reset_state(self):\n",
        "        self.mse_sum.assign(0.)\n",
        "        self.total_samples.assign(0)"
      ],
      "metadata": {
        "id": "GOSFHWRY-_wS"
      },
      "execution_count": 43,
      "outputs": []
    },
    {
      "cell_type": "code",
      "source": [
        "model = get_mnist_model()\n",
        "model.compile(optimizer=\"rmsprop\",\n",
        "              loss=\"sparse_categorical_crossentropy\",\n",
        "              metrics=[\"accuracy\", RootMeanSquaredError()])\n",
        "model.fit(train_images, train_labels,\n",
        "          epochs=3,\n",
        "          validation_data=(val_images, val_labels))\n",
        "test_metrics = model.evaluate(test_images, test_labels)"
      ],
      "metadata": {
        "id": "2yS5tkpK_bde",
        "outputId": "551ba021-8a6a-4ffc-9b31-d4bf51eae7ef",
        "colab": {
          "base_uri": "https://localhost:8080/"
        }
      },
      "execution_count": 44,
      "outputs": [
        {
          "output_type": "stream",
          "name": "stdout",
          "text": [
            "Epoch 1/3\n",
            "1563/1563 [==============================] - 8s 4ms/step - loss: 0.2947 - accuracy: 0.9117 - rmse: 7.1778 - val_loss: 0.1482 - val_accuracy: 0.9571 - val_rmse: 7.3576\n",
            "Epoch 2/3\n",
            "1563/1563 [==============================] - 6s 4ms/step - loss: 0.1570 - accuracy: 0.9543 - rmse: 7.3519 - val_loss: 0.1320 - val_accuracy: 0.9645 - val_rmse: 7.4014\n",
            "Epoch 3/3\n",
            "1563/1563 [==============================] - 5s 3ms/step - loss: 0.1301 - accuracy: 0.9630 - rmse: 7.3823 - val_loss: 0.1152 - val_accuracy: 0.9704 - val_rmse: 7.4201\n",
            "313/313 [==============================] - 1s 2ms/step - loss: 0.1006 - accuracy: 0.9718 - rmse: 7.4326\n"
          ]
        }
      ]
    },
    {
      "cell_type": "code",
      "source": [
        "callbacks_list = [\n",
        "    keras.callbacks.EarlyStopping(\n",
        "        monitor=\"val_accuracy\",\n",
        "        patience=1,\n",
        "    ),\n",
        "    keras.callbacks.ModelCheckpoint(\n",
        "        filepath=\"checkpoint_path.keras\",\n",
        "        monitor=\"val_loss\",\n",
        "        save_best_only=True,\n",
        "    )\n",
        "]\n",
        "model = get_mnist_model()\n",
        "model.compile(optimizer=\"rmsprop\",\n",
        "              loss=\"sparse_categorical_crossentropy\",\n",
        "              metrics=[\"accuracy\"])\n",
        "model.fit(train_images, train_labels,\n",
        "          epochs=10,\n",
        "          callbacks=callbacks_list,\n",
        "          validation_data=(val_images, val_labels))"
      ],
      "metadata": {
        "id": "yV2EnPeu_a97",
        "outputId": "bf9d4a47-9751-485c-e56b-6d44957fff95",
        "colab": {
          "base_uri": "https://localhost:8080/"
        }
      },
      "execution_count": 46,
      "outputs": [
        {
          "output_type": "stream",
          "name": "stdout",
          "text": [
            "Epoch 1/10\n",
            "1563/1563 [==============================] - 6s 3ms/step - loss: 0.2955 - accuracy: 0.9127 - val_loss: 0.1488 - val_accuracy: 0.9578\n",
            "Epoch 2/10\n",
            "1563/1563 [==============================] - 6s 4ms/step - loss: 0.1589 - accuracy: 0.9545 - val_loss: 0.1142 - val_accuracy: 0.9685\n",
            "Epoch 3/10\n",
            "1563/1563 [==============================] - 5s 3ms/step - loss: 0.1299 - accuracy: 0.9627 - val_loss: 0.1074 - val_accuracy: 0.9725\n",
            "Epoch 4/10\n",
            "1563/1563 [==============================] - 6s 4ms/step - loss: 0.1145 - accuracy: 0.9686 - val_loss: 0.0976 - val_accuracy: 0.9750\n",
            "Epoch 5/10\n",
            "1563/1563 [==============================] - 5s 3ms/step - loss: 0.1020 - accuracy: 0.9715 - val_loss: 0.0931 - val_accuracy: 0.9765\n",
            "Epoch 6/10\n",
            "1563/1563 [==============================] - 5s 3ms/step - loss: 0.0965 - accuracy: 0.9737 - val_loss: 0.0908 - val_accuracy: 0.9775\n",
            "Epoch 7/10\n",
            "1563/1563 [==============================] - 5s 3ms/step - loss: 0.0904 - accuracy: 0.9754 - val_loss: 0.0923 - val_accuracy: 0.9785\n",
            "Epoch 8/10\n",
            "1563/1563 [==============================] - 5s 3ms/step - loss: 0.0827 - accuracy: 0.9779 - val_loss: 0.0928 - val_accuracy: 0.9782\n"
          ]
        },
        {
          "output_type": "execute_result",
          "data": {
            "text/plain": [
              "<keras.callbacks.History at 0x7fc21028aee0>"
            ]
          },
          "metadata": {},
          "execution_count": 46
        }
      ]
    },
    {
      "cell_type": "markdown",
      "metadata": {
        "id": "l7rvtWciyLWl"
      },
      "source": [
        "## Writing your own training and evaluation loops"
      ]
    },
    {
      "cell_type": "markdown",
      "metadata": {
        "id": "CmkfxmD8yLWl"
      },
      "source": [
        "### Training versus inference"
      ]
    },
    {
      "cell_type": "markdown",
      "metadata": {
        "id": "LQRYLU_qyLWl"
      },
      "source": [
        "### Low-level usage of metrics"
      ]
    },
    {
      "cell_type": "code",
      "execution_count": null,
      "metadata": {
        "id": "65rnDO9EyLWm"
      },
      "outputs": [],
      "source": [
        "metric = keras.metrics.SparseCategoricalAccuracy()\n",
        "targets = [0, 1, 2]\n",
        "predictions = [[1, 0, 0], [0, 1, 0], [0, 0, 1]]\n",
        "metric.update_state(targets, predictions)\n",
        "current_result = metric.result()\n",
        "print(f\"result: {current_result:.2f}\")"
      ]
    },
    {
      "cell_type": "code",
      "execution_count": null,
      "metadata": {
        "id": "ke1hqh5wyLWm"
      },
      "outputs": [],
      "source": [
        "values = [0, 1, 2, 3, 4]\n",
        "mean_tracker = keras.metrics.Mean()\n",
        "for value in values:\n",
        "    mean_tracker.update_state(value)\n",
        "print(f\"Mean of values: {mean_tracker.result():.2f}\")"
      ]
    },
    {
      "cell_type": "markdown",
      "metadata": {
        "id": "2dOES4dGyLWn"
      },
      "source": [
        "### A complete training and evaluation loop"
      ]
    },
    {
      "cell_type": "markdown",
      "metadata": {
        "id": "CbYMHwwNyLWn"
      },
      "source": [
        "**Writing a step-by-step training loop: the training step function**"
      ]
    },
    {
      "cell_type": "code",
      "execution_count": null,
      "metadata": {
        "id": "BQV_rc39yLWn"
      },
      "outputs": [],
      "source": [
        "model = get_mnist_model()\n",
        "\n",
        "loss_fn = keras.losses.SparseCategoricalCrossentropy()\n",
        "optimizer = keras.optimizers.RMSprop()\n",
        "metrics = [keras.metrics.SparseCategoricalAccuracy()]\n",
        "loss_tracking_metric = keras.metrics.Mean()\n",
        "\n",
        "def train_step(inputs, targets):\n",
        "    with tf.GradientTape() as tape:\n",
        "        predictions = model(inputs, training=True)\n",
        "        loss = loss_fn(targets, predictions)\n",
        "    gradients = tape.gradient(loss, model.trainable_weights)\n",
        "    optimizer.apply_gradients(zip(gradients, model.trainable_weights))\n",
        "\n",
        "    logs = {}\n",
        "    for metric in metrics:\n",
        "        metric.update_state(targets, predictions)\n",
        "        logs[metric.name] = metric.result()\n",
        "\n",
        "    loss_tracking_metric.update_state(loss)\n",
        "    logs[\"loss\"] = loss_tracking_metric.result()\n",
        "    return logs"
      ]
    },
    {
      "cell_type": "markdown",
      "metadata": {
        "id": "spfZD1AwyLWn"
      },
      "source": [
        "**Writing a step-by-step training loop: resetting the metrics**"
      ]
    },
    {
      "cell_type": "code",
      "execution_count": null,
      "metadata": {
        "id": "SQHbUDz1yLWo"
      },
      "outputs": [],
      "source": [
        "def reset_metrics():\n",
        "    for metric in metrics:\n",
        "        metric.reset_state()\n",
        "    loss_tracking_metric.reset_state()"
      ]
    },
    {
      "cell_type": "markdown",
      "metadata": {
        "id": "di0gl8YPyLWo"
      },
      "source": [
        "**Writing a step-by-step training loop: the loop itself**"
      ]
    },
    {
      "cell_type": "code",
      "execution_count": null,
      "metadata": {
        "id": "z_QArakuyLWo"
      },
      "outputs": [],
      "source": [
        "training_dataset = tf.data.Dataset.from_tensor_slices((train_images, train_labels))\n",
        "training_dataset = training_dataset.batch(32)\n",
        "epochs = 3\n",
        "for epoch in range(epochs):\n",
        "    reset_metrics()\n",
        "    for inputs_batch, targets_batch in training_dataset:\n",
        "        logs = train_step(inputs_batch, targets_batch)\n",
        "    print(f\"Results at the end of epoch {epoch}\")\n",
        "    for key, value in logs.items():\n",
        "        print(f\"...{key}: {value:.4f}\")"
      ]
    },
    {
      "cell_type": "markdown",
      "metadata": {
        "id": "dh1WKEyfyLWp"
      },
      "source": [
        "**Writing a step-by-step evaluation loop**"
      ]
    },
    {
      "cell_type": "code",
      "execution_count": null,
      "metadata": {
        "id": "9dJfGSOFyLWr"
      },
      "outputs": [],
      "source": [
        "def test_step(inputs, targets):\n",
        "    predictions = model(inputs, training=False)\n",
        "    loss = loss_fn(targets, predictions)\n",
        "\n",
        "    logs = {}\n",
        "    for metric in metrics:\n",
        "        metric.update_state(targets, predictions)\n",
        "        logs[\"val_\" + metric.name] = metric.result()\n",
        "\n",
        "    loss_tracking_metric.update_state(loss)\n",
        "    logs[\"val_loss\"] = loss_tracking_metric.result()\n",
        "    return logs\n",
        "\n",
        "val_dataset = tf.data.Dataset.from_tensor_slices((val_images, val_labels))\n",
        "val_dataset = val_dataset.batch(32)\n",
        "reset_metrics()\n",
        "for inputs_batch, targets_batch in val_dataset:\n",
        "    logs = test_step(inputs_batch, targets_batch)\n",
        "print(\"Evaluation results:\")\n",
        "for key, value in logs.items():\n",
        "    print(f\"...{key}: {value:.4f}\")"
      ]
    },
    {
      "cell_type": "markdown",
      "metadata": {
        "id": "vD9oLhw5yLWr"
      },
      "source": [
        "### Make it fast with tf.function"
      ]
    },
    {
      "cell_type": "markdown",
      "metadata": {
        "id": "E05SqFA2yLWs"
      },
      "source": [
        "**Adding a `tf.function` decorator to our evaluation-step function**"
      ]
    },
    {
      "cell_type": "code",
      "execution_count": null,
      "metadata": {
        "id": "iP9oqFXZyLWs"
      },
      "outputs": [],
      "source": [
        "@tf.function\n",
        "def test_step(inputs, targets):\n",
        "    predictions = model(inputs, training=False)\n",
        "    loss = loss_fn(targets, predictions)\n",
        "\n",
        "    logs = {}\n",
        "    for metric in metrics:\n",
        "        metric.update_state(targets, predictions)\n",
        "        logs[\"val_\" + metric.name] = metric.result()\n",
        "\n",
        "    loss_tracking_metric.update_state(loss)\n",
        "    logs[\"val_loss\"] = loss_tracking_metric.result()\n",
        "    return logs\n",
        "\n",
        "val_dataset = tf.data.Dataset.from_tensor_slices((val_images, val_labels))\n",
        "val_dataset = val_dataset.batch(32)\n",
        "reset_metrics()\n",
        "for inputs_batch, targets_batch in val_dataset:\n",
        "    logs = test_step(inputs_batch, targets_batch)\n",
        "print(\"Evaluation results:\")\n",
        "for key, value in logs.items():\n",
        "    print(f\"...{key}: {value:.4f}\")"
      ]
    },
    {
      "cell_type": "markdown",
      "metadata": {
        "id": "XW2929vkyLWs"
      },
      "source": [
        "### Leveraging fit() with a custom training loop"
      ]
    },
    {
      "cell_type": "markdown",
      "metadata": {
        "id": "PZUwwJN2yLWt"
      },
      "source": [
        "**Implementing a custom training step to use with `fit()`**"
      ]
    },
    {
      "cell_type": "code",
      "execution_count": null,
      "metadata": {
        "id": "-9-DxA4DyLWt"
      },
      "outputs": [],
      "source": [
        "loss_fn = keras.losses.SparseCategoricalCrossentropy()\n",
        "loss_tracker = keras.metrics.Mean(name=\"loss\")\n",
        "\n",
        "class CustomModel(keras.Model):\n",
        "    def train_step(self, data):\n",
        "        inputs, targets = data\n",
        "        with tf.GradientTape() as tape:\n",
        "            predictions = self(inputs, training=True)\n",
        "            loss = loss_fn(targets, predictions)\n",
        "        gradients = tape.gradient(loss, self.trainable_weights)\n",
        "        self.optimizer.apply_gradients(zip(gradients, self.trainable_weights))\n",
        "\n",
        "        loss_tracker.update_state(loss)\n",
        "        return {\"loss\": loss_tracker.result()}\n",
        "\n",
        "    @property\n",
        "    def metrics(self):\n",
        "        return [loss_tracker]"
      ]
    },
    {
      "cell_type": "code",
      "execution_count": null,
      "metadata": {
        "id": "O0Gw1FfryLWt"
      },
      "outputs": [],
      "source": [
        "inputs = keras.Input(shape=(28 * 28,))\n",
        "features = layers.Dense(512, activation=\"relu\")(inputs)\n",
        "features = layers.Dropout(0.5)(features)\n",
        "outputs = layers.Dense(10, activation=\"softmax\")(features)\n",
        "model = CustomModel(inputs, outputs)\n",
        "\n",
        "model.compile(optimizer=keras.optimizers.RMSprop())\n",
        "model.fit(train_images, train_labels, epochs=3)"
      ]
    },
    {
      "cell_type": "code",
      "execution_count": null,
      "metadata": {
        "id": "NxDMdZJByLWu"
      },
      "outputs": [],
      "source": [
        "class CustomModel(keras.Model):\n",
        "    def train_step(self, data):\n",
        "        inputs, targets = data\n",
        "        with tf.GradientTape() as tape:\n",
        "            predictions = self(inputs, training=True)\n",
        "            loss = self.compiled_loss(targets, predictions)\n",
        "        gradients = tape.gradient(loss, self.trainable_weights)\n",
        "        self.optimizer.apply_gradients(zip(gradients, self.trainable_weights))\n",
        "        self.compiled_metrics.update_state(targets, predictions)\n",
        "        return {m.name: m.result() for m in self.metrics}"
      ]
    },
    {
      "cell_type": "code",
      "execution_count": null,
      "metadata": {
        "id": "sazTOA6nyLWu"
      },
      "outputs": [],
      "source": [
        "inputs = keras.Input(shape=(28 * 28,))\n",
        "features = layers.Dense(512, activation=\"relu\")(inputs)\n",
        "features = layers.Dropout(0.5)(features)\n",
        "outputs = layers.Dense(10, activation=\"softmax\")(features)\n",
        "model = CustomModel(inputs, outputs)\n",
        "\n",
        "model.compile(optimizer=keras.optimizers.RMSprop(),\n",
        "              loss=keras.losses.SparseCategoricalCrossentropy(),\n",
        "              metrics=[keras.metrics.SparseCategoricalAccuracy()])\n",
        "model.fit(train_images, train_labels, epochs=3)"
      ]
    },
    {
      "cell_type": "markdown",
      "metadata": {
        "id": "38dvq8p-yLWu"
      },
      "source": [
        "## Summary"
      ]
    }
  ],
  "metadata": {
    "colab": {
      "name": "chapter07_working-with-keras.i",
      "provenance": []
    },
    "kernelspec": {
      "display_name": "Python 3",
      "language": "python",
      "name": "python3"
    },
    "language_info": {
      "codemirror_mode": {
        "name": "ipython",
        "version": 3
      },
      "file_extension": ".py",
      "mimetype": "text/x-python",
      "name": "python",
      "nbconvert_exporter": "python",
      "pygments_lexer": "ipython3",
      "version": "3.7.0"
    },
    "accelerator": "GPU",
    "gpuClass": "standard"
  },
  "nbformat": 4,
  "nbformat_minor": 0
}