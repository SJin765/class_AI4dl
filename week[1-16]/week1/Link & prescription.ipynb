{
  "nbformat": 4,
  "nbformat_minor": 0,
  "metadata": {
    "colab": {
      "provenance": [],
      "authorship_tag": "ABX9TyP5kB23B2bDYjlmJeIT8cH1",
      "include_colab_link": true
    },
    "kernelspec": {
      "name": "python3",
      "display_name": "Python 3"
    },
    "language_info": {
      "name": "python"
    }
  },
  "cells": [
    {
      "cell_type": "markdown",
      "metadata": {
        "id": "view-in-github",
        "colab_type": "text"
      },
      "source": [
        "<a href=\"https://colab.research.google.com/github/SJin765/class_AI4dl/blob/main/week%5B1-16%5D/week1/Link%20%26%20prescription.ipynb\" target=\"_parent\"><img src=\"https://colab.research.google.com/assets/colab-badge.svg\" alt=\"Open In Colab\"/></a>"
      ]
    },
    {
      "cell_type": "markdown",
      "source": [
        "[Use Google Colab]\n",
        "\n",
        "[Test]\n",
        "\n",
        "[Codes for the book]\n",
        "\n",
        "[Markdown tutorial]\n",
        "\n",
        "\n",
        "[Use Google Colab]: https://colab.research.google.com/notebooks/intro.ipynb#recent=true\n",
        "[Test]: https://www.tensorflow.org/tutorials\n",
        "[Codes for the book]: https://github.com/fchollet/deep-learning-with-python-notebooks\n",
        "[Markdown tutorial]: https://www.markdowntutorial.com/\n",
        "\n",
        "# Ch.1 What is deep learning?\n",
        "\n",
        "AI\n",
        "- 사람이 하는 지적인 일을 기계가 자동으로 하게하기위한 노력\n",
        "\n",
        "Machine learning\n",
        "- statistical learning과 비슷함 (데이터 - 모델형성)\n",
        "- data, answer(각각 회귀분석의 X, Y), estimation criteoria(알고리즘이 잘 되는지 측정(mgf, lsm...)) 을 이용해 rules(회귀분석의 beta hat)를 도출함\n",
        "(<> classical programming: rules, data 이용해 answers 도출)\n",
        "- central problem : learn representation, meaningful transform data(회귀분석의 Y hat)\n",
        "\n",
        "Deep Learning"
      ],
      "metadata": {
        "id": "21Yc0x79tytD"
      }
    }
  ]
}