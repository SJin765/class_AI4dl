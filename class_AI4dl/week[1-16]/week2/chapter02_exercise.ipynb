{
  "cells": [
    {
      "cell_type": "markdown",
      "metadata": {
        "id": "view-in-github",
        "colab_type": "text"
      },
      "source": [
        "<a href=\"https://colab.research.google.com/github/SJin765/class_AI4dl/blob/main/class_AI4dl/week%5B1-16%5D/week2/chapter02_exercise.ipynb\" target=\"_parent\"><img src=\"https://colab.research.google.com/assets/colab-badge.svg\" alt=\"Open In Colab\"/></a>"
      ]
    },
    {
      "cell_type": "markdown",
      "metadata": {
        "id": "gbdBgLbEqDeE"
      },
      "source": [
        "This is a companion notebook for the book [Deep Learning with Python, Second Edition](https://www.manning.com/books/deep-learning-with-python-second-edition?a_aid=keras&a_bid=76564dff). For readability, it only contains runnable code blocks and section titles, and omits everything else in the book: text paragraphs, figures, and pseudocode.\n",
        "\n",
        "**If you want to be able to follow what's going on, I recommend reading the notebook side by side with your copy of the book.**\n",
        "\n",
        "This notebook was generated for TensorFlow 2.6."
      ]
    },
    {
      "cell_type": "markdown",
      "metadata": {
        "id": "S8zOTAxxqDeJ"
      },
      "source": [
        "# The mathematical building blocks of neural networks"
      ]
    },
    {
      "cell_type": "markdown",
      "metadata": {
        "id": "p14H4N9mqDeK"
      },
      "source": [
        "## A first look at a neural network"
      ]
    },
    {
      "cell_type": "markdown",
      "metadata": {
        "id": "vQvUS7nDqDeK"
      },
      "source": [
        "**Loading the MNIST dataset in Keras**"
      ]
    },
    {
      "cell_type": "code",
      "execution_count": 1,
      "metadata": {
        "colab": {
          "base_uri": "https://localhost:8080/"
        },
        "id": "_v8stl23qDeL",
        "outputId": "19a21164-e2f6-445d-ac05-5e2625d3ef63"
      },
      "outputs": [
        {
          "output_type": "stream",
          "name": "stdout",
          "text": [
            "Downloading data from https://storage.googleapis.com/tensorflow/tf-keras-datasets/mnist.npz\n",
            "11490434/11490434 [==============================] - 1s 0us/step\n"
          ]
        }
      ],
      "source": [
        "from tensorflow.keras.datasets import mnist\n",
        "(train_images, train_labels), (test_images, test_labels) = mnist.load_data()"
      ]
    },
    {
      "cell_type": "markdown",
      "source": [
        "keras tensorflow, mnist 데이터셋"
      ],
      "metadata": {
        "id": "hoKUEqZBt_3L"
      }
    },
    {
      "cell_type": "code",
      "execution_count": 2,
      "metadata": {
        "colab": {
          "base_uri": "https://localhost:8080/"
        },
        "id": "dfL8K0f0qDeN",
        "outputId": "666000ab-5e67-430b-a108-daba20851ecb"
      },
      "outputs": [
        {
          "output_type": "execute_result",
          "data": {
            "text/plain": [
              "(60000, 28, 28)"
            ]
          },
          "metadata": {},
          "execution_count": 2
        }
      ],
      "source": [
        "train_images.shape"
      ]
    },
    {
      "cell_type": "markdown",
      "source": [],
      "metadata": {
        "id": "FGU_C9GIv34E"
      }
    },
    {
      "cell_type": "code",
      "execution_count": 3,
      "metadata": {
        "colab": {
          "base_uri": "https://localhost:8080/"
        },
        "id": "GP9tf3kRqDeN",
        "outputId": "fb3cca42-80b0-425c-d383-5d5f71c23e1e"
      },
      "outputs": [
        {
          "output_type": "execute_result",
          "data": {
            "text/plain": [
              "60000"
            ]
          },
          "metadata": {},
          "execution_count": 3
        }
      ],
      "source": [
        "len(train_labels)"
      ]
    },
    {
      "cell_type": "code",
      "execution_count": 4,
      "metadata": {
        "colab": {
          "base_uri": "https://localhost:8080/"
        },
        "id": "7dhVJHavqDeO",
        "outputId": "50723366-e9b5-4dd9-ad2d-807b9aa448a9"
      },
      "outputs": [
        {
          "output_type": "execute_result",
          "data": {
            "text/plain": [
              "array([5, 0, 4, ..., 5, 6, 8], dtype=uint8)"
            ]
          },
          "metadata": {},
          "execution_count": 4
        }
      ],
      "source": [
        "train_labels"
      ]
    },
    {
      "cell_type": "code",
      "execution_count": 5,
      "metadata": {
        "colab": {
          "base_uri": "https://localhost:8080/"
        },
        "id": "yZLGxglqqDeP",
        "outputId": "11ee588f-c638-4e09-aae5-a3b70d78a2a5"
      },
      "outputs": [
        {
          "output_type": "execute_result",
          "data": {
            "text/plain": [
              "(10000, 28, 28)"
            ]
          },
          "metadata": {},
          "execution_count": 5
        }
      ],
      "source": [
        "test_images.shape"
      ]
    },
    {
      "cell_type": "code",
      "execution_count": 6,
      "metadata": {
        "colab": {
          "base_uri": "https://localhost:8080/"
        },
        "id": "CD9_utIJqDeQ",
        "outputId": "ed08ecb7-6eef-4327-9ac7-25190ff65728"
      },
      "outputs": [
        {
          "output_type": "execute_result",
          "data": {
            "text/plain": [
              "10000"
            ]
          },
          "metadata": {},
          "execution_count": 6
        }
      ],
      "source": [
        "len(test_labels)"
      ]
    },
    {
      "cell_type": "code",
      "execution_count": 34,
      "metadata": {
        "colab": {
          "base_uri": "https://localhost:8080/"
        },
        "id": "JqxDKQXjqDeR",
        "outputId": "96fdd044-6ac4-402c-a5b8-953196b46a88"
      },
      "outputs": [
        {
          "output_type": "execute_result",
          "data": {
            "text/plain": [
              "array([7, 2, 1, ..., 4, 5, 6], dtype=uint8)"
            ]
          },
          "metadata": {},
          "execution_count": 34
        }
      ],
      "source": [
        "test_labels"
      ]
    },
    {
      "cell_type": "markdown",
      "metadata": {
        "id": "l-DyGoizqDeS"
      },
      "source": [
        "**The network architecture**"
      ]
    },
    {
      "cell_type": "code",
      "execution_count": 8,
      "metadata": {
        "id": "TMinP3l6qDeU"
      },
      "outputs": [],
      "source": [
        "from tensorflow import keras\n",
        "from tensorflow.keras import layers\n",
        "model = keras.Sequential([\n",
        "    layers.Dense(512, activation=\"relu\"),\n",
        "    layers.Dense(10, activation=\"softmax\")\n",
        "])"
      ]
    },
    {
      "cell_type": "markdown",
      "metadata": {
        "id": "c8Q-WAZPqDeV"
      },
      "source": [
        "**The compilation step**"
      ]
    },
    {
      "cell_type": "code",
      "execution_count": 9,
      "metadata": {
        "id": "VtzIJAT_qDeW"
      },
      "outputs": [],
      "source": [
        "model.compile(optimizer=\"rmsprop\",\n",
        "              loss=\"sparse_categorical_crossentropy\",\n",
        "              metrics=[\"accuracy\"])"
      ]
    },
    {
      "cell_type": "markdown",
      "metadata": {
        "id": "YoXtxXfiqDeW"
      },
      "source": [
        "**Preparing the image data**"
      ]
    },
    {
      "cell_type": "markdown",
      "source": [
        "255로 나눠서 표준화, 데이터 0~1로 변환(분석 속도 더 빠름)\n",
        "\n",
        "(표준화 안할 시 데이터의 범위 1~255)\n",
        "\n",
        "(gradient 는 표준화된 데이터 기준으로 만들어짐)"
      ],
      "metadata": {
        "id": "0GZAPfBQt1_p"
      }
    },
    {
      "cell_type": "code",
      "execution_count": 10,
      "metadata": {
        "id": "OzP-ivDzqDeX"
      },
      "outputs": [],
      "source": [
        "train_images = train_images.reshape((60000, 28 * 28))\n",
        "train_images = train_images.astype(\"float32\") / 255\n",
        "test_images = test_images.reshape((10000, 28 * 28))\n",
        "test_images = test_images.astype(\"float32\") / 255"
      ]
    },
    {
      "cell_type": "markdown",
      "metadata": {
        "id": "nvF-ymWDqDeX"
      },
      "source": [
        "**\"Fitting\" the model**"
      ]
    },
    {
      "cell_type": "code",
      "execution_count": 11,
      "metadata": {
        "id": "gVi646iIqDeY",
        "colab": {
          "base_uri": "https://localhost:8080/"
        },
        "outputId": "354abb01-080a-4fea-e9f0-c3273c94ceaa"
      },
      "outputs": [
        {
          "output_type": "stream",
          "name": "stdout",
          "text": [
            "Epoch 1/5\n",
            "469/469 [==============================] - 7s 4ms/step - loss: 0.2636 - accuracy: 0.9242\n",
            "Epoch 2/5\n",
            "469/469 [==============================] - 1s 3ms/step - loss: 0.1064 - accuracy: 0.9689\n",
            "Epoch 3/5\n",
            "469/469 [==============================] - 1s 3ms/step - loss: 0.0706 - accuracy: 0.9794\n",
            "Epoch 4/5\n",
            "469/469 [==============================] - 1s 3ms/step - loss: 0.0511 - accuracy: 0.9853\n",
            "Epoch 5/5\n",
            "469/469 [==============================] - 1s 3ms/step - loss: 0.0388 - accuracy: 0.9883\n"
          ]
        },
        {
          "output_type": "execute_result",
          "data": {
            "text/plain": [
              "<keras.callbacks.History at 0x7f66e4e742b0>"
            ]
          },
          "metadata": {},
          "execution_count": 11
        }
      ],
      "source": [
        "model.fit(train_images, train_labels, epochs=5, batch_size=128)"
      ]
    },
    {
      "cell_type": "markdown",
      "metadata": {
        "id": "1gE5w-jDqDeY"
      },
      "source": [
        "**Using the model to make predictions**"
      ]
    },
    {
      "cell_type": "code",
      "execution_count": 12,
      "metadata": {
        "id": "0G0DZ7OVqDeZ",
        "colab": {
          "base_uri": "https://localhost:8080/"
        },
        "outputId": "5eda142e-bd95-4faa-e304-ede68eb1f50f"
      },
      "outputs": [
        {
          "output_type": "stream",
          "name": "stdout",
          "text": [
            "1/1 [==============================] - 0s 67ms/step\n"
          ]
        },
        {
          "output_type": "execute_result",
          "data": {
            "text/plain": [
              "array([1.8033880e-08, 2.7143656e-09, 1.5156325e-05, 5.1681833e-05,\n",
              "       1.4140165e-12, 8.5540186e-08, 6.0481121e-12, 9.9993229e-01,\n",
              "       3.8966217e-08, 6.2472253e-07], dtype=float32)"
            ]
          },
          "metadata": {},
          "execution_count": 12
        }
      ],
      "source": [
        "test_digits = test_images[0:10]\n",
        "predictions = model.predict(test_digits)\n",
        "predictions[0]"
      ]
    },
    {
      "cell_type": "code",
      "execution_count": 13,
      "metadata": {
        "id": "2qI5kQsAqDeZ",
        "colab": {
          "base_uri": "https://localhost:8080/"
        },
        "outputId": "ab030c84-6060-437d-90ce-19d9879725cd"
      },
      "outputs": [
        {
          "output_type": "execute_result",
          "data": {
            "text/plain": [
              "7"
            ]
          },
          "metadata": {},
          "execution_count": 13
        }
      ],
      "source": [
        "predictions[0].argmax()"
      ]
    },
    {
      "cell_type": "code",
      "execution_count": 14,
      "metadata": {
        "id": "KPTfMGQ-qDea",
        "colab": {
          "base_uri": "https://localhost:8080/"
        },
        "outputId": "d87bffe8-8a8e-4d62-f8ce-87aaac9e3a90"
      },
      "outputs": [
        {
          "output_type": "execute_result",
          "data": {
            "text/plain": [
              "0.9999323"
            ]
          },
          "metadata": {},
          "execution_count": 14
        }
      ],
      "source": [
        "predictions[0][7]"
      ]
    },
    {
      "cell_type": "code",
      "execution_count": 15,
      "metadata": {
        "id": "b9xDii6HqDea",
        "colab": {
          "base_uri": "https://localhost:8080/"
        },
        "outputId": "d7332967-8304-485c-ddca-c8e8b433781b"
      },
      "outputs": [
        {
          "output_type": "execute_result",
          "data": {
            "text/plain": [
              "7"
            ]
          },
          "metadata": {},
          "execution_count": 15
        }
      ],
      "source": [
        "test_labels[0]"
      ]
    },
    {
      "cell_type": "markdown",
      "metadata": {
        "id": "en_C1D8RqDeb"
      },
      "source": [
        "**Evaluating the model on new data**"
      ]
    },
    {
      "cell_type": "code",
      "execution_count": 16,
      "metadata": {
        "id": "KMXOXk-eqDeb",
        "colab": {
          "base_uri": "https://localhost:8080/"
        },
        "outputId": "d5f85238-8be4-4800-b97d-1f2b29c4e0ae"
      },
      "outputs": [
        {
          "output_type": "stream",
          "name": "stdout",
          "text": [
            "313/313 [==============================] - 1s 2ms/step - loss: 0.0679 - accuracy: 0.9788\n",
            "test_acc: 0.9787999987602234\n"
          ]
        }
      ],
      "source": [
        "test_loss, test_acc = model.evaluate(test_images, test_labels)\n",
        "print(f\"test_acc: {test_acc}\")"
      ]
    },
    {
      "cell_type": "markdown",
      "metadata": {
        "id": "IcwQFwf6qDec"
      },
      "source": [
        "## Data representations for neural networks"
      ]
    },
    {
      "cell_type": "markdown",
      "metadata": {
        "id": "OoMruWswqDec"
      },
      "source": [
        "### Scalars (rank-0 tensors)"
      ]
    },
    {
      "cell_type": "code",
      "execution_count": 17,
      "metadata": {
        "id": "UbERO2VvqDed",
        "colab": {
          "base_uri": "https://localhost:8080/"
        },
        "outputId": "217fea0c-0a74-4ec0-aa2e-6ae3928f6c5b"
      },
      "outputs": [
        {
          "output_type": "execute_result",
          "data": {
            "text/plain": [
              "array(12)"
            ]
          },
          "metadata": {},
          "execution_count": 17
        }
      ],
      "source": [
        "import numpy as np\n",
        "x = np.array(12)\n",
        "x"
      ]
    },
    {
      "cell_type": "code",
      "execution_count": 18,
      "metadata": {
        "id": "S6BS5MslqDed",
        "colab": {
          "base_uri": "https://localhost:8080/"
        },
        "outputId": "a64e60e6-7072-47e9-cee7-ceb385f1d717"
      },
      "outputs": [
        {
          "output_type": "execute_result",
          "data": {
            "text/plain": [
              "0"
            ]
          },
          "metadata": {},
          "execution_count": 18
        }
      ],
      "source": [
        "x.ndim"
      ]
    },
    {
      "cell_type": "markdown",
      "metadata": {
        "id": "zTLwJBTOqDee"
      },
      "source": [
        "### Vectors (rank-1 tensors)"
      ]
    },
    {
      "cell_type": "code",
      "execution_count": 19,
      "metadata": {
        "id": "TpfgKWL1qDee",
        "colab": {
          "base_uri": "https://localhost:8080/"
        },
        "outputId": "0d748f1f-7c9c-4908-ae57-a91330095b5f"
      },
      "outputs": [
        {
          "output_type": "execute_result",
          "data": {
            "text/plain": [
              "array([12,  3,  6, 14,  7])"
            ]
          },
          "metadata": {},
          "execution_count": 19
        }
      ],
      "source": [
        "x = np.array([12, 3, 6, 14, 7])\n",
        "x"
      ]
    },
    {
      "cell_type": "code",
      "execution_count": 20,
      "metadata": {
        "id": "LcdHE4foqDef",
        "colab": {
          "base_uri": "https://localhost:8080/"
        },
        "outputId": "237fc9a2-f3cb-4bff-971a-bf5ecd0ca7c1"
      },
      "outputs": [
        {
          "output_type": "execute_result",
          "data": {
            "text/plain": [
              "1"
            ]
          },
          "metadata": {},
          "execution_count": 20
        }
      ],
      "source": [
        "x.ndim"
      ]
    },
    {
      "cell_type": "markdown",
      "metadata": {
        "id": "A75lGMi6qDeg"
      },
      "source": [
        "### Matrices (rank-2 tensors)"
      ]
    },
    {
      "cell_type": "code",
      "execution_count": 21,
      "metadata": {
        "id": "XyVb1_IBqDeg",
        "colab": {
          "base_uri": "https://localhost:8080/"
        },
        "outputId": "ddd1b004-492a-4f66-a910-e29cec7fba43"
      },
      "outputs": [
        {
          "output_type": "execute_result",
          "data": {
            "text/plain": [
              "2"
            ]
          },
          "metadata": {},
          "execution_count": 21
        }
      ],
      "source": [
        "x = np.array([[5, 78, 2, 34, 0],\n",
        "              [6, 79, 3, 35, 1],\n",
        "              [7, 80, 4, 36, 2]])\n",
        "x.ndim"
      ]
    },
    {
      "cell_type": "markdown",
      "metadata": {
        "id": "4uyA8it1qDeh"
      },
      "source": [
        "### Rank-3 and higher-rank tensors"
      ]
    },
    {
      "cell_type": "code",
      "execution_count": 22,
      "metadata": {
        "id": "w-de9NjTqDei",
        "colab": {
          "base_uri": "https://localhost:8080/"
        },
        "outputId": "985bfecc-1ef1-46a8-ae1d-96004c04073a"
      },
      "outputs": [
        {
          "output_type": "execute_result",
          "data": {
            "text/plain": [
              "3"
            ]
          },
          "metadata": {},
          "execution_count": 22
        }
      ],
      "source": [
        "x = np.array([[[5, 78, 2, 34, 0],\n",
        "               [6, 79, 3, 35, 1],\n",
        "               [7, 80, 4, 36, 2]],\n",
        "              [[5, 78, 2, 34, 0],\n",
        "               [6, 79, 3, 35, 1],\n",
        "               [7, 80, 4, 36, 2]],\n",
        "              [[5, 78, 2, 34, 0],\n",
        "               [6, 79, 3, 35, 1],\n",
        "               [7, 80, 4, 36, 2]]])\n",
        "x.ndim"
      ]
    },
    {
      "cell_type": "markdown",
      "metadata": {
        "id": "nyE4eNxMqDej"
      },
      "source": [
        "### Key attributes"
      ]
    },
    {
      "cell_type": "code",
      "execution_count": 24,
      "metadata": {
        "id": "KMzWbbfIqDek"
      },
      "outputs": [],
      "source": [
        "from tensorflow.keras.datasets import mnist\n",
        "(train_images, train_labels), (test_images, test_labels) = mnist.load_data()"
      ]
    },
    {
      "cell_type": "code",
      "execution_count": 25,
      "metadata": {
        "id": "GF0fQAmpqDel",
        "colab": {
          "base_uri": "https://localhost:8080/"
        },
        "outputId": "a849d75e-cd6c-4a41-cb0e-2ef7617fb2a8"
      },
      "outputs": [
        {
          "output_type": "execute_result",
          "data": {
            "text/plain": [
              "3"
            ]
          },
          "metadata": {},
          "execution_count": 25
        }
      ],
      "source": [
        "train_images.ndim"
      ]
    },
    {
      "cell_type": "code",
      "execution_count": 26,
      "metadata": {
        "id": "Mvr5IWBdqDel",
        "colab": {
          "base_uri": "https://localhost:8080/"
        },
        "outputId": "79a65e76-ab11-43ea-e838-2264e05afd3f"
      },
      "outputs": [
        {
          "output_type": "execute_result",
          "data": {
            "text/plain": [
              "(60000, 28, 28)"
            ]
          },
          "metadata": {},
          "execution_count": 26
        }
      ],
      "source": [
        "train_images.shape"
      ]
    },
    {
      "cell_type": "code",
      "execution_count": 27,
      "metadata": {
        "id": "66l6VxmTqDem",
        "colab": {
          "base_uri": "https://localhost:8080/"
        },
        "outputId": "97f6d93d-b739-4472-8325-b001e9706910"
      },
      "outputs": [
        {
          "output_type": "execute_result",
          "data": {
            "text/plain": [
              "dtype('uint8')"
            ]
          },
          "metadata": {},
          "execution_count": 27
        }
      ],
      "source": [
        "train_images.dtype"
      ]
    },
    {
      "cell_type": "markdown",
      "metadata": {
        "id": "ykJ03861qDem"
      },
      "source": [
        "**Displaying the fourth digit**"
      ]
    },
    {
      "cell_type": "code",
      "execution_count": 28,
      "metadata": {
        "id": "QnVAJfXQqDen",
        "colab": {
          "base_uri": "https://localhost:8080/",
          "height": 265
        },
        "outputId": "1ca4f2d5-129e-44a3-c477-91badfc16e6d"
      },
      "outputs": [
        {
          "output_type": "display_data",
          "data": {
            "text/plain": [
              "<Figure size 432x288 with 1 Axes>"
            ],
            "image/png": "[encoded data removed]"
          },
          "metadata": {
            "needs_background": "light"
          }
        }
      ],
      "source": [
        "import matplotlib.pyplot as plt\n",
        "digit = train_images[4]\n",
        "plt.imshow(digit, cmap=plt.cm.binary)\n",
        "plt.show()"
      ]
    },
    {
      "cell_type": "code",
      "execution_count": 29,
      "metadata": {
        "id": "CmTDiFIdqDen",
        "colab": {
          "base_uri": "https://localhost:8080/"
        },
        "outputId": "0ebcb957-19ec-42bc-9cb7-ca1abc79df42"
      },
      "outputs": [
        {
          "output_type": "execute_result",
          "data": {
            "text/plain": [
              "9"
            ]
          },
          "metadata": {},
          "execution_count": 29
        }
      ],
      "source": [
        "train_labels[4]"
      ]
    },
    {
      "cell_type": "markdown",
      "source": [
        "1st digit visualization"
      ],
      "metadata": {
        "id": "6grS2X2axeL5"
      }
    },
    {
      "cell_type": "code",
      "source": [
        "import matplotlib.pyplot as plt\n",
        "plt.imshow(test_images[0], cmap=plt.cm.binary)\n",
        "plt.show()"
      ],
      "metadata": {
        "colab": {
          "base_uri": "https://localhost:8080/",
          "height": 265
        },
        "id": "qFZTH4Qgw6S_",
        "outputId": "c726dccc-f2a8-4b10-9d98-03a6c6d39543"
      },
      "execution_count": 31,
      "outputs": [
        {
          "output_type": "display_data",
          "data": {
            "text/plain": [
              "<Figure size 432x288 with 1 Axes>"
            ],
            "image/png": "[encoded data removed]"
          },
          "metadata": {
            "needs_background": "light"
          }
        }
      ]
    },
    {
      "cell_type": "code",
      "source": [
        "test_labels[0]"
      ],
      "metadata": {
        "colab": {
          "base_uri": "https://localhost:8080/"
        },
        "id": "J5a0SwTLyT4g",
        "outputId": "0ece2e98-652b-4ffc-f8df-c5dbb0102428"
      },
      "execution_count": 33,
      "outputs": [
        {
          "output_type": "execute_result",
          "data": {
            "text/plain": [
              "7"
            ]
          },
          "metadata": {},
          "execution_count": 33
        }
      ]
    },
    {
      "cell_type": "markdown",
      "metadata": {
        "id": "QETOrnxtqDeo"
      },
      "source": [
        "### Manipulating tensors in NumPy"
      ]
    },
    {
      "cell_type": "code",
      "execution_count": null,
      "metadata": {
        "id": "mV24o510qDep"
      },
      "outputs": [],
      "source": [
        "my_slice = train_images[10:100]\n",
        "my_slice.shape"
      ]
    },
    {
      "cell_type": "code",
      "execution_count": null,
      "metadata": {
        "id": "cyKqe10CqDep"
      },
      "outputs": [],
      "source": [
        "my_slice = train_images[10:100, :, :]\n",
        "my_slice.shape"
      ]
    },
    {
      "cell_type": "code",
      "execution_count": null,
      "metadata": {
        "id": "tRad6VJYqDeq"
      },
      "outputs": [],
      "source": [
        "my_slice = train_images[10:100, 0:28, 0:28]\n",
        "my_slice.shape"
      ]
    },
    {
      "cell_type": "code",
      "execution_count": null,
      "metadata": {
        "id": "Zj3q6k68qDeq"
      },
      "outputs": [],
      "source": [
        "my_slice = train_images[:, 14:, 14:]"
      ]
    },
    {
      "cell_type": "code",
      "execution_count": null,
      "metadata": {
        "id": "cJIqObOVqDeq"
      },
      "outputs": [],
      "source": [
        "my_slice = train_images[:, 7:-7, 7:-7]"
      ]
    },
    {
      "cell_type": "markdown",
      "metadata": {
        "id": "x--ouvi1qDer"
      },
      "source": [
        "### The notion of data batches"
      ]
    },
    {
      "cell_type": "code",
      "execution_count": null,
      "metadata": {
        "id": "l-kEWyDAqDer"
      },
      "outputs": [],
      "source": [
        "batch = train_images[:128]"
      ]
    },
    {
      "cell_type": "code",
      "execution_count": null,
      "metadata": {
        "id": "MrksRdvoqDes"
      },
      "outputs": [],
      "source": [
        "batch = train_images[128:256]"
      ]
    },
    {
      "cell_type": "code",
      "execution_count": null,
      "metadata": {
        "id": "Prm4cooFqDes"
      },
      "outputs": [],
      "source": [
        "n = 3\n",
        "batch = train_images[128 * n:128 * (n + 1)]"
      ]
    },
    {
      "cell_type": "markdown",
      "metadata": {
        "id": "9Ii2PRXyqDes"
      },
      "source": [
        "### Real-world examples of data tensors"
      ]
    },
    {
      "cell_type": "markdown",
      "metadata": {
        "id": "_nG_yhUzqDet"
      },
      "source": [
        "### Vector data"
      ]
    },
    {
      "cell_type": "markdown",
      "metadata": {
        "id": "tGHHFzowqDet"
      },
      "source": [
        "### Timeseries data or sequence data"
      ]
    },
    {
      "cell_type": "markdown",
      "metadata": {
        "id": "Bj5c3n76qDev"
      },
      "source": [
        "### Image data"
      ]
    },
    {
      "cell_type": "markdown",
      "metadata": {
        "id": "hDjRou_rqDev"
      },
      "source": [
        "### Video data"
      ]
    },
    {
      "cell_type": "markdown",
      "metadata": {
        "id": "1Jyl1gpqqDew"
      },
      "source": [
        "## The gears of neural networks: tensor operations"
      ]
    },
    {
      "cell_type": "markdown",
      "metadata": {
        "id": "OFnY_iaoqDew"
      },
      "source": [
        "### Element-wise operations"
      ]
    },
    {
      "cell_type": "markdown",
      "source": [
        "use naïve version of relu and add functions."
      ],
      "metadata": {
        "id": "Fg2h2iCe0N2u"
      }
    },
    {
      "cell_type": "code",
      "execution_count": 37,
      "metadata": {
        "id": "n_HeFfLGqDex"
      },
      "outputs": [],
      "source": [
        "def naive_relu(x):\n",
        "    assert len(x.shape) == 2\n",
        "    x = x.copy()\n",
        "    for i in range(x.shape[0]):\n",
        "        for j in range(x.shape[1]):\n",
        "            x[i, j] = max(x[i, j], 0)\n",
        "    return x"
      ]
    },
    {
      "cell_type": "code",
      "execution_count": 38,
      "metadata": {
        "id": "CAyTp0LqqDex"
      },
      "outputs": [],
      "source": [
        "def naive_add(x, y):\n",
        "    assert len(x.shape) == 2\n",
        "    assert x.shape == y.shape\n",
        "    x = x.copy()\n",
        "    for i in range(x.shape[0]):\n",
        "        for j in range(x.shape[1]):\n",
        "            x[i, j] += y[i, j]\n",
        "    return x"
      ]
    },
    {
      "cell_type": "code",
      "execution_count": 35,
      "metadata": {
        "id": "ngjNzQF4qDey",
        "colab": {
          "base_uri": "https://localhost:8080/"
        },
        "outputId": "0cfba8fd-9cc0-4080-b9d4-e748024341f8"
      },
      "outputs": [
        {
          "output_type": "stream",
          "name": "stdout",
          "text": [
            "Took: 0.01 s\n"
          ]
        }
      ],
      "source": [
        "import time\n",
        "\n",
        "x = np.random.random((20, 100))\n",
        "y = np.random.random((20, 100))\n",
        "\n",
        "t0 = time.time()\n",
        "for _ in range(1000):\n",
        "    z = x + y\n",
        "    z = np.maximum(z, 0.)\n",
        "print(\"Took: {0:.2f} s\".format(time.time() - t0))"
      ]
    },
    {
      "cell_type": "code",
      "execution_count": 39,
      "metadata": {
        "id": "A5QJi0KxqDe0",
        "colab": {
          "base_uri": "https://localhost:8080/"
        },
        "outputId": "5f343cae-b43c-47a3-9abb-c0d54efa3581"
      },
      "outputs": [
        {
          "output_type": "stream",
          "name": "stdout",
          "text": [
            "Took: 1.91 s\n"
          ]
        }
      ],
      "source": [
        "t0 = time.time()\n",
        "for _ in range(1000):\n",
        "    z = naive_add(x, y)\n",
        "    z = naive_relu(z)\n",
        "print(\"Took: {0:.2f} s\".format(time.time() - t0))"
      ]
    },
    {
      "cell_type": "markdown",
      "source": [
        "속도를 위해서 vectorized된 코드 사용 권장?"
      ],
      "metadata": {
        "id": "SPPtLM592dtb"
      }
    },
    {
      "cell_type": "markdown",
      "metadata": {
        "id": "H6QzB3_jqDe1"
      },
      "source": [
        "### Broadcasting"
      ]
    },
    {
      "cell_type": "code",
      "execution_count": 40,
      "metadata": {
        "id": "ErTVXUF9qDe1"
      },
      "outputs": [],
      "source": [
        "import numpy as np\n",
        "X = np.random.random((32, 10))\n",
        "y = np.random.random((10,))"
      ]
    },
    {
      "cell_type": "code",
      "execution_count": 41,
      "metadata": {
        "id": "wKsit3QIqDe2"
      },
      "outputs": [],
      "source": [
        "y = np.expand_dims(y, axis=0)"
      ]
    },
    {
      "cell_type": "code",
      "execution_count": 42,
      "metadata": {
        "id": "G8Woov0bqDe2"
      },
      "outputs": [],
      "source": [
        "Y = np.concatenate([y] * 32, axis=0)"
      ]
    },
    {
      "cell_type": "code",
      "execution_count": null,
      "metadata": {
        "id": "Cptju6PbqDe2"
      },
      "outputs": [],
      "source": [
        "def naive_add_matrix_and_vector(x, y):\n",
        "    assert len(x.shape) == 2\n",
        "    assert len(y.shape) == 1\n",
        "    assert x.shape[1] == y.shape[0]\n",
        "    x = x.copy()\n",
        "    for i in range(x.shape[0]):\n",
        "        for j in range(x.shape[1]):\n",
        "            x[i, j] += y[j]\n",
        "    return x"
      ]
    },
    {
      "cell_type": "code",
      "execution_count": null,
      "metadata": {
        "id": "lPNDwdMcqDe3"
      },
      "outputs": [],
      "source": [
        "import numpy as np\n",
        "x = np.random.random((64, 3, 32, 10))\n",
        "y = np.random.random((32, 10))\n",
        "z = np.maximum(x, y)"
      ]
    },
    {
      "cell_type": "markdown",
      "source": [
        "using broadcasting with my own example."
      ],
      "metadata": {
        "id": "tpQhRNjL3ej0"
      }
    },
    {
      "cell_type": "code",
      "source": [
        "import numpy as np\n",
        "X = np.random.random((32, 10))\n",
        "y = np.random.random((10,))"
      ],
      "metadata": {
        "id": "9lGLUAZ33dOx",
        "outputId": "5efbd187-88dc-4d1f-da99-43dec0afea80",
        "colab": {
          "base_uri": "https://localhost:8080/"
        }
      },
      "execution_count": 43,
      "outputs": [
        {
          "output_type": "execute_result",
          "data": {
            "text/plain": [
              "array([0.7216086 , 0.08200131, 0.50479   , 0.09321126, 0.36235753,\n",
              "       0.32619737, 0.22355418, 0.95991241, 0.03348012, 0.24551569])"
            ]
          },
          "metadata": {},
          "execution_count": 43
        }
      ]
    },
    {
      "cell_type": "code",
      "source": [
        "X"
      ],
      "metadata": {
        "id": "Ibz5Eajg3tRh",
        "outputId": "78b28233-6bc1-4777-9770-3f5cc595399a",
        "colab": {
          "base_uri": "https://localhost:8080/"
        }
      },
      "execution_count": 44,
      "outputs": [
        {
          "output_type": "execute_result",
          "data": {
            "text/plain": [
              "array([[0.19663445, 0.08403892, 0.30412067, 0.24951075, 0.74308183,\n",
              "        0.83737138, 0.59072518, 0.60263978, 0.53950712, 0.53874789],\n",
              "       [0.60223443, 0.31856128, 0.44027288, 0.7835423 , 0.82984625,\n",
              "        0.97014209, 0.93642511, 0.60602203, 0.49087592, 0.06911533],\n",
              "       [0.84854174, 0.99597549, 0.48242689, 0.76213116, 0.21435291,\n",
              "        0.40894279, 0.18473246, 0.4598386 , 0.63942352, 0.80736568],\n",
              "       [0.46537554, 0.7482583 , 0.37723098, 0.86671329, 0.93549886,\n",
              "        0.4365996 , 0.4816859 , 0.24079099, 0.73667746, 0.3089972 ],\n",
              "       [0.6948152 , 0.16067996, 0.34788601, 0.16299068, 0.95868132,\n",
              "        0.93893517, 0.43023307, 0.15094256, 0.68288146, 0.07827034],\n",
              "       [0.61615066, 0.32898263, 0.87827117, 0.79006843, 0.03180115,\n",
              "        0.58473327, 0.05994717, 0.86213317, 0.06313344, 0.53619191],\n",
              "       [0.73970907, 0.32269201, 0.26125263, 0.6674124 , 0.37101801,\n",
              "        0.54426631, 0.77982488, 0.47416593, 0.86836469, 0.74139865],\n",
              "       [0.69450216, 0.41299441, 0.09353749, 0.17197838, 0.09433575,\n",
              "        0.31971733, 0.05230731, 0.10223703, 0.29156103, 0.37215838],\n",
              "       [0.70678131, 0.90827381, 0.94319667, 0.35146992, 0.71503192,\n",
              "        0.57579806, 0.4755758 , 0.97387266, 0.81444817, 0.2790818 ],\n",
              "       [0.86595299, 0.76696153, 0.28934312, 0.45114042, 0.07956094,\n",
              "        0.16441543, 0.92499358, 0.22729263, 0.57564918, 0.41495562],\n",
              "       [0.02024874, 0.5214065 , 0.39993085, 0.24386355, 0.55648411,\n",
              "        0.34326819, 0.52401963, 0.91142229, 0.19795573, 0.05739029],\n",
              "       [0.5154349 , 0.57667139, 0.57634738, 0.5680869 , 0.67681383,\n",
              "        0.16474489, 0.20017448, 0.86602724, 0.15333035, 0.25677428],\n",
              "       [0.84945228, 0.2790094 , 0.64065667, 0.38113879, 0.93702488,\n",
              "        0.53335589, 0.27298712, 0.15965728, 0.28789854, 0.55901042],\n",
              "       [0.25975054, 0.42767444, 0.11976814, 0.19135441, 0.15364685,\n",
              "        0.0931092 , 0.6844451 , 0.79783875, 0.21439132, 0.45611788],\n",
              "       [0.89129775, 0.90467812, 0.20540991, 0.21460674, 0.82662182,\n",
              "        0.26414181, 0.47626141, 0.93073795, 0.78842888, 0.26565044],\n",
              "       [0.47097838, 0.88743881, 0.2643865 , 0.18409065, 0.66172958,\n",
              "        0.97580222, 0.35799261, 0.17164965, 0.69820882, 0.1306093 ],\n",
              "       [0.71596172, 0.72082707, 0.96236516, 0.05101228, 0.70338197,\n",
              "        0.91863778, 0.10644591, 0.63200311, 0.71303833, 0.78844944],\n",
              "       [0.83138512, 0.85830701, 0.86231414, 0.98475363, 0.11428923,\n",
              "        0.36834789, 0.94048357, 0.38871494, 0.36211561, 0.262631  ],\n",
              "       [0.62251881, 0.83485071, 0.97916455, 0.19591677, 0.39806678,\n",
              "        0.72481335, 0.30366718, 0.98211198, 0.0188691 , 0.19407133],\n",
              "       [0.91798867, 0.89087415, 0.19867066, 0.98308619, 0.95668632,\n",
              "        0.35655695, 0.69413686, 0.36957565, 0.12701769, 0.3697912 ],\n",
              "       [0.00370761, 0.35183044, 0.99508782, 0.01758049, 0.32323995,\n",
              "        0.98029303, 0.62271402, 0.05295195, 0.06007857, 0.84988362],\n",
              "       [0.19106832, 0.13746351, 0.54440938, 0.71263942, 0.3270541 ,\n",
              "        0.30083514, 0.26380726, 0.67983379, 0.93751448, 0.6240289 ],\n",
              "       [0.87757987, 0.46375239, 0.37289713, 0.8286065 , 0.45289486,\n",
              "        0.51950085, 0.57604142, 0.03219034, 0.55958339, 0.43145137],\n",
              "       [0.09064571, 0.12841048, 0.95304498, 0.69879275, 0.28376808,\n",
              "        0.08125521, 0.4728632 , 0.98758821, 0.3156745 , 0.24892769],\n",
              "       [0.09065971, 0.1327647 , 0.55026833, 0.36973372, 0.17697615,\n",
              "        0.34695985, 0.7747872 , 0.17339249, 0.96173787, 0.68592128],\n",
              "       [0.74931072, 0.02247689, 0.14426784, 0.0657862 , 0.93465738,\n",
              "        0.1040309 , 0.62654702, 0.48315118, 0.25224577, 0.73109811],\n",
              "       [0.67373559, 0.85662429, 0.6668141 , 0.37111207, 0.05002297,\n",
              "        0.15887328, 0.17867764, 0.55755008, 0.11289671, 0.33711537],\n",
              "       [0.86169726, 0.03526886, 0.50592642, 0.99822015, 0.02403301,\n",
              "        0.50149462, 0.24536667, 0.07436717, 0.40150822, 0.07819679],\n",
              "       [0.69259753, 0.0116409 , 0.07295101, 0.82190408, 0.59589236,\n",
              "        0.20115222, 0.08571798, 0.97793532, 0.42581037, 0.31492351],\n",
              "       [0.46572323, 0.72892592, 0.02010149, 0.58564712, 0.00791764,\n",
              "        0.86117998, 0.35198044, 0.69337451, 0.09939985, 0.57276098],\n",
              "       [0.06243352, 0.14770312, 0.656057  , 0.34255274, 0.48692658,\n",
              "        0.43708484, 0.56394733, 0.59093493, 0.12096092, 0.61426059],\n",
              "       [0.58657902, 0.07750923, 0.47061907, 0.424082  , 0.5477018 ,\n",
              "        0.46168662, 0.43631379, 0.39278765, 0.94972222, 0.48499166]])"
            ]
          },
          "metadata": {},
          "execution_count": 44
        }
      ]
    },
    {
      "cell_type": "code",
      "source": [
        "y"
      ],
      "metadata": {
        "id": "lVXvvcEK3vl7",
        "outputId": "a2d1be45-8e9b-4b61-aff2-bb0fadbf1410",
        "colab": {
          "base_uri": "https://localhost:8080/"
        }
      },
      "execution_count": 45,
      "outputs": [
        {
          "output_type": "execute_result",
          "data": {
            "text/plain": [
              "array([0.7216086 , 0.08200131, 0.50479   , 0.09321126, 0.36235753,\n",
              "       0.32619737, 0.22355418, 0.95991241, 0.03348012, 0.24551569])"
            ]
          },
          "metadata": {},
          "execution_count": 45
        }
      ]
    },
    {
      "cell_type": "code",
      "source": [
        "y = np.expand_dims(y, axis=0)\n",
        "Y = np.concatenate([y] * 32, axis=0)"
      ],
      "metadata": {
        "id": "EoUaELom3_M0"
      },
      "execution_count": 46,
      "outputs": []
    },
    {
      "cell_type": "code",
      "source": [
        "Y"
      ],
      "metadata": {
        "id": "hSbKOtjR4FR5",
        "outputId": "aaadcd09-dd34-4f42-bd43-dc026362e2a3",
        "colab": {
          "base_uri": "https://localhost:8080/"
        }
      },
      "execution_count": 47,
      "outputs": [
        {
          "output_type": "execute_result",
          "data": {
            "text/plain": [
              "array([[0.7216086 , 0.08200131, 0.50479   , 0.09321126, 0.36235753,\n",
              "        0.32619737, 0.22355418, 0.95991241, 0.03348012, 0.24551569],\n",
              "       [0.7216086 , 0.08200131, 0.50479   , 0.09321126, 0.36235753,\n",
              "        0.32619737, 0.22355418, 0.95991241, 0.03348012, 0.24551569],\n",
              "       [0.7216086 , 0.08200131, 0.50479   , 0.09321126, 0.36235753,\n",
              "        0.32619737, 0.22355418, 0.95991241, 0.03348012, 0.24551569],\n",
              "       [0.7216086 , 0.08200131, 0.50479   , 0.09321126, 0.36235753,\n",
              "        0.32619737, 0.22355418, 0.95991241, 0.03348012, 0.24551569],\n",
              "       [0.7216086 , 0.08200131, 0.50479   , 0.09321126, 0.36235753,\n",
              "        0.32619737, 0.22355418, 0.95991241, 0.03348012, 0.24551569],\n",
              "       [0.7216086 , 0.08200131, 0.50479   , 0.09321126, 0.36235753,\n",
              "        0.32619737, 0.22355418, 0.95991241, 0.03348012, 0.24551569],\n",
              "       [0.7216086 , 0.08200131, 0.50479   , 0.09321126, 0.36235753,\n",
              "        0.32619737, 0.22355418, 0.95991241, 0.03348012, 0.24551569],\n",
              "       [0.7216086 , 0.08200131, 0.50479   , 0.09321126, 0.36235753,\n",
              "        0.32619737, 0.22355418, 0.95991241, 0.03348012, 0.24551569],\n",
              "       [0.7216086 , 0.08200131, 0.50479   , 0.09321126, 0.36235753,\n",
              "        0.32619737, 0.22355418, 0.95991241, 0.03348012, 0.24551569],\n",
              "       [0.7216086 , 0.08200131, 0.50479   , 0.09321126, 0.36235753,\n",
              "        0.32619737, 0.22355418, 0.95991241, 0.03348012, 0.24551569],\n",
              "       [0.7216086 , 0.08200131, 0.50479   , 0.09321126, 0.36235753,\n",
              "        0.32619737, 0.22355418, 0.95991241, 0.03348012, 0.24551569],\n",
              "       [0.7216086 , 0.08200131, 0.50479   , 0.09321126, 0.36235753,\n",
              "        0.32619737, 0.22355418, 0.95991241, 0.03348012, 0.24551569],\n",
              "       [0.7216086 , 0.08200131, 0.50479   , 0.09321126, 0.36235753,\n",
              "        0.32619737, 0.22355418, 0.95991241, 0.03348012, 0.24551569],\n",
              "       [0.7216086 , 0.08200131, 0.50479   , 0.09321126, 0.36235753,\n",
              "        0.32619737, 0.22355418, 0.95991241, 0.03348012, 0.24551569],\n",
              "       [0.7216086 , 0.08200131, 0.50479   , 0.09321126, 0.36235753,\n",
              "        0.32619737, 0.22355418, 0.95991241, 0.03348012, 0.24551569],\n",
              "       [0.7216086 , 0.08200131, 0.50479   , 0.09321126, 0.36235753,\n",
              "        0.32619737, 0.22355418, 0.95991241, 0.03348012, 0.24551569],\n",
              "       [0.7216086 , 0.08200131, 0.50479   , 0.09321126, 0.36235753,\n",
              "        0.32619737, 0.22355418, 0.95991241, 0.03348012, 0.24551569],\n",
              "       [0.7216086 , 0.08200131, 0.50479   , 0.09321126, 0.36235753,\n",
              "        0.32619737, 0.22355418, 0.95991241, 0.03348012, 0.24551569],\n",
              "       [0.7216086 , 0.08200131, 0.50479   , 0.09321126, 0.36235753,\n",
              "        0.32619737, 0.22355418, 0.95991241, 0.03348012, 0.24551569],\n",
              "       [0.7216086 , 0.08200131, 0.50479   , 0.09321126, 0.36235753,\n",
              "        0.32619737, 0.22355418, 0.95991241, 0.03348012, 0.24551569],\n",
              "       [0.7216086 , 0.08200131, 0.50479   , 0.09321126, 0.36235753,\n",
              "        0.32619737, 0.22355418, 0.95991241, 0.03348012, 0.24551569],\n",
              "       [0.7216086 , 0.08200131, 0.50479   , 0.09321126, 0.36235753,\n",
              "        0.32619737, 0.22355418, 0.95991241, 0.03348012, 0.24551569],\n",
              "       [0.7216086 , 0.08200131, 0.50479   , 0.09321126, 0.36235753,\n",
              "        0.32619737, 0.22355418, 0.95991241, 0.03348012, 0.24551569],\n",
              "       [0.7216086 , 0.08200131, 0.50479   , 0.09321126, 0.36235753,\n",
              "        0.32619737, 0.22355418, 0.95991241, 0.03348012, 0.24551569],\n",
              "       [0.7216086 , 0.08200131, 0.50479   , 0.09321126, 0.36235753,\n",
              "        0.32619737, 0.22355418, 0.95991241, 0.03348012, 0.24551569],\n",
              "       [0.7216086 , 0.08200131, 0.50479   , 0.09321126, 0.36235753,\n",
              "        0.32619737, 0.22355418, 0.95991241, 0.03348012, 0.24551569],\n",
              "       [0.7216086 , 0.08200131, 0.50479   , 0.09321126, 0.36235753,\n",
              "        0.32619737, 0.22355418, 0.95991241, 0.03348012, 0.24551569],\n",
              "       [0.7216086 , 0.08200131, 0.50479   , 0.09321126, 0.36235753,\n",
              "        0.32619737, 0.22355418, 0.95991241, 0.03348012, 0.24551569],\n",
              "       [0.7216086 , 0.08200131, 0.50479   , 0.09321126, 0.36235753,\n",
              "        0.32619737, 0.22355418, 0.95991241, 0.03348012, 0.24551569],\n",
              "       [0.7216086 , 0.08200131, 0.50479   , 0.09321126, 0.36235753,\n",
              "        0.32619737, 0.22355418, 0.95991241, 0.03348012, 0.24551569],\n",
              "       [0.7216086 , 0.08200131, 0.50479   , 0.09321126, 0.36235753,\n",
              "        0.32619737, 0.22355418, 0.95991241, 0.03348012, 0.24551569],\n",
              "       [0.7216086 , 0.08200131, 0.50479   , 0.09321126, 0.36235753,\n",
              "        0.32619737, 0.22355418, 0.95991241, 0.03348012, 0.24551569]])"
            ]
          },
          "metadata": {},
          "execution_count": 47
        }
      ]
    },
    {
      "cell_type": "markdown",
      "metadata": {
        "id": "QbOjcDddqDe3"
      },
      "source": [
        "### Tensor product"
      ]
    },
    {
      "cell_type": "code",
      "execution_count": null,
      "metadata": {
        "id": "2GiYBjK0qDe4"
      },
      "outputs": [],
      "source": [
        "x = np.random.random((32,))\n",
        "y = np.random.random((32,))\n",
        "z = np.dot(x, y)"
      ]
    },
    {
      "cell_type": "code",
      "execution_count": null,
      "metadata": {
        "id": "p7sLpNBTqDe4"
      },
      "outputs": [],
      "source": [
        "def naive_vector_dot(x, y):\n",
        "    assert len(x.shape) == 1\n",
        "    assert len(y.shape) == 1\n",
        "    assert x.shape[0] == y.shape[0]\n",
        "    z = 0.\n",
        "    for i in range(x.shape[0]):\n",
        "        z += x[i] * y[i]\n",
        "    return z"
      ]
    },
    {
      "cell_type": "code",
      "execution_count": null,
      "metadata": {
        "id": "baCqKWXNqDe4"
      },
      "outputs": [],
      "source": [
        "def naive_matrix_vector_dot(x, y):\n",
        "    assert len(x.shape) == 2\n",
        "    assert len(y.shape) == 1\n",
        "    assert x.shape[1] == y.shape[0]\n",
        "    z = np.zeros(x.shape[0])\n",
        "    for i in range(x.shape[0]):\n",
        "        for j in range(x.shape[1]):\n",
        "            z[i] += x[i, j] * y[j]\n",
        "    return z"
      ]
    },
    {
      "cell_type": "code",
      "execution_count": null,
      "metadata": {
        "id": "Pc5bFGCWqDe5"
      },
      "outputs": [],
      "source": [
        "def naive_matrix_vector_dot(x, y):\n",
        "    z = np.zeros(x.shape[0])\n",
        "    for i in range(x.shape[0]):\n",
        "        z[i] = naive_vector_dot(x[i, :], y)\n",
        "    return z"
      ]
    },
    {
      "cell_type": "code",
      "execution_count": null,
      "metadata": {
        "id": "xg6ACA7JqDe5"
      },
      "outputs": [],
      "source": [
        "def naive_matrix_dot(x, y):\n",
        "    assert len(x.shape) == 2\n",
        "    assert len(y.shape) == 2\n",
        "    assert x.shape[1] == y.shape[0]\n",
        "    z = np.zeros((x.shape[0], y.shape[1]))\n",
        "    for i in range(x.shape[0]):\n",
        "        for j in range(y.shape[1]):\n",
        "            row_x = x[i, :]\n",
        "            column_y = y[:, j]\n",
        "            z[i, j] = naive_vector_dot(row_x, column_y)\n",
        "    return z"
      ]
    },
    {
      "cell_type": "markdown",
      "metadata": {
        "id": "QM3nf9RVqDe6"
      },
      "source": [
        "### Tensor reshaping"
      ]
    },
    {
      "cell_type": "code",
      "execution_count": null,
      "metadata": {
        "id": "k6MHyZYkqDe6"
      },
      "outputs": [],
      "source": [
        "train_images = train_images.reshape((60000, 28 * 28))"
      ]
    },
    {
      "cell_type": "code",
      "execution_count": null,
      "metadata": {
        "id": "RC_4TKXWqDe6"
      },
      "outputs": [],
      "source": [
        "x = np.array([[0., 1.],\n",
        "             [2., 3.],\n",
        "             [4., 5.]])\n",
        "x.shape"
      ]
    },
    {
      "cell_type": "code",
      "execution_count": null,
      "metadata": {
        "id": "GxB7Bl0rqDe7"
      },
      "outputs": [],
      "source": [
        "x = x.reshape((6, 1))\n",
        "x"
      ]
    },
    {
      "cell_type": "code",
      "execution_count": null,
      "metadata": {
        "id": "egHj0LThqDe7"
      },
      "outputs": [],
      "source": [
        "x = np.zeros((300, 20))\n",
        "x = np.transpose(x)\n",
        "x.shape"
      ]
    },
    {
      "cell_type": "markdown",
      "metadata": {
        "id": "Rpe14zvqqDe8"
      },
      "source": [
        "### Geometric interpretation of tensor operations"
      ]
    },
    {
      "cell_type": "markdown",
      "metadata": {
        "id": "LC_qM-MFqDe8"
      },
      "source": [
        "### A geometric interpretation of deep learning"
      ]
    },
    {
      "cell_type": "markdown",
      "metadata": {
        "id": "d8_PYsRTqDe8"
      },
      "source": [
        "## The engine of neural networks: gradient-based optimization"
      ]
    },
    {
      "cell_type": "markdown",
      "metadata": {
        "id": "iEEzWN9LqDe9"
      },
      "source": [
        "### What's a derivative?"
      ]
    },
    {
      "cell_type": "markdown",
      "metadata": {
        "id": "rFbmXwjCqDe-"
      },
      "source": [
        "### Derivative of a tensor operation: the gradient"
      ]
    },
    {
      "cell_type": "markdown",
      "metadata": {
        "id": "5LOBhl5XqDe-"
      },
      "source": [
        "### Stochastic gradient descent"
      ]
    },
    {
      "cell_type": "markdown",
      "metadata": {
        "id": "6VYObSXUqDe_"
      },
      "source": [
        "### Chaining derivatives: The Backpropagation algorithm"
      ]
    },
    {
      "cell_type": "markdown",
      "metadata": {
        "id": "3rB8GhxjqDe_"
      },
      "source": [
        "#### The chain rule"
      ]
    },
    {
      "cell_type": "markdown",
      "metadata": {
        "id": "dBphKctVqDe_"
      },
      "source": [
        "#### Automatic differentiation with computation graphs"
      ]
    },
    {
      "cell_type": "markdown",
      "metadata": {
        "id": "FWpU_AkgqDfA"
      },
      "source": [
        "#### The gradient tape in TensorFlow"
      ]
    },
    {
      "cell_type": "code",
      "execution_count": null,
      "metadata": {
        "id": "4sgZxZ2cqDfA"
      },
      "outputs": [],
      "source": [
        "import tensorflow as tf\n",
        "x = tf.Variable(0.)\n",
        "with tf.GradientTape() as tape:\n",
        "    y = 2 * x + 3\n",
        "grad_of_y_wrt_x = tape.gradient(y, x)"
      ]
    },
    {
      "cell_type": "code",
      "execution_count": null,
      "metadata": {
        "id": "q__YctNlqDfB"
      },
      "outputs": [],
      "source": [
        "x = tf.Variable(tf.random.uniform((2, 2)))\n",
        "with tf.GradientTape() as tape:\n",
        "    y = 2 * x + 3\n",
        "grad_of_y_wrt_x = tape.gradient(y, x)"
      ]
    },
    {
      "cell_type": "code",
      "execution_count": null,
      "metadata": {
        "id": "L1aZcuFHqDfC"
      },
      "outputs": [],
      "source": [
        "W = tf.Variable(tf.random.uniform((2, 2)))\n",
        "b = tf.Variable(tf.zeros((2,)))\n",
        "x = tf.random.uniform((2, 2))\n",
        "with tf.GradientTape() as tape:\n",
        "    y = tf.matmul(x, W) + b\n",
        "grad_of_y_wrt_W_and_b = tape.gradient(y, [W, b])"
      ]
    },
    {
      "cell_type": "markdown",
      "metadata": {
        "id": "pFtVhytkqDfC"
      },
      "source": [
        "## Looking back at our first example"
      ]
    },
    {
      "cell_type": "code",
      "execution_count": null,
      "metadata": {
        "id": "VoHnxl3DqDfC"
      },
      "outputs": [],
      "source": [
        "(train_images, train_labels), (test_images, test_labels) = mnist.load_data()\n",
        "train_images = train_images.reshape((60000, 28 * 28))\n",
        "train_images = train_images.astype(\"float32\") / 255\n",
        "test_images = test_images.reshape((10000, 28 * 28))\n",
        "test_images = test_images.astype(\"float32\") / 255"
      ]
    },
    {
      "cell_type": "code",
      "execution_count": null,
      "metadata": {
        "id": "t7CDvjMpqDfD"
      },
      "outputs": [],
      "source": [
        "model = keras.Sequential([\n",
        "    layers.Dense(512, activation=\"relu\"),\n",
        "    layers.Dense(10, activation=\"softmax\")\n",
        "])"
      ]
    },
    {
      "cell_type": "code",
      "execution_count": null,
      "metadata": {
        "id": "_tat3Vo8qDfD"
      },
      "outputs": [],
      "source": [
        "model.compile(optimizer=\"rmsprop\",\n",
        "              loss=\"sparse_categorical_crossentropy\",\n",
        "              metrics=[\"accuracy\"])"
      ]
    },
    {
      "cell_type": "code",
      "execution_count": null,
      "metadata": {
        "id": "6gUQaSG0qDfE"
      },
      "outputs": [],
      "source": [
        "model.fit(train_images, train_labels, epochs=5, batch_size=128)"
      ]
    },
    {
      "cell_type": "markdown",
      "metadata": {
        "id": "-uclhkyQqDfE"
      },
      "source": [
        "### Reimplementing our first example from scratch in TensorFlow"
      ]
    },
    {
      "cell_type": "markdown",
      "metadata": {
        "id": "9klJm-8IqDfF"
      },
      "source": [
        "#### A simple Dense class"
      ]
    },
    {
      "cell_type": "code",
      "execution_count": null,
      "metadata": {
        "id": "hDiwvM0_qDfF"
      },
      "outputs": [],
      "source": [
        "import tensorflow as tf\n",
        "\n",
        "class NaiveDense:\n",
        "    def __init__(self, input_size, output_size, activation):\n",
        "        self.activation = activation\n",
        "\n",
        "        w_shape = (input_size, output_size)\n",
        "        w_initial_value = tf.random.uniform(w_shape, minval=0, maxval=1e-1)\n",
        "        self.W = tf.Variable(w_initial_value)\n",
        "\n",
        "        b_shape = (output_size,)\n",
        "        b_initial_value = tf.zeros(b_shape)\n",
        "        self.b = tf.Variable(b_initial_value)\n",
        "\n",
        "    def __call__(self, inputs):\n",
        "        return self.activation(tf.matmul(inputs, self.W) + self.b)\n",
        "\n",
        "    @property\n",
        "    def weights(self):\n",
        "        return [self.W, self.b]"
      ]
    },
    {
      "cell_type": "markdown",
      "metadata": {
        "id": "stV9INtfqDfG"
      },
      "source": [
        "#### A simple Sequential class"
      ]
    },
    {
      "cell_type": "code",
      "execution_count": null,
      "metadata": {
        "id": "3kji-1jBqDfG"
      },
      "outputs": [],
      "source": [
        "class NaiveSequential:\n",
        "    def __init__(self, layers):\n",
        "        self.layers = layers\n",
        "\n",
        "    def __call__(self, inputs):\n",
        "        x = inputs\n",
        "        for layer in self.layers:\n",
        "           x = layer(x)\n",
        "        return x\n",
        "\n",
        "    @property\n",
        "    def weights(self):\n",
        "       weights = []\n",
        "       for layer in self.layers:\n",
        "           weights += layer.weights\n",
        "       return weights"
      ]
    },
    {
      "cell_type": "code",
      "execution_count": null,
      "metadata": {
        "id": "T37usgkRqDfH"
      },
      "outputs": [],
      "source": [
        "model = NaiveSequential([\n",
        "    NaiveDense(input_size=28 * 28, output_size=512, activation=tf.nn.relu),\n",
        "    NaiveDense(input_size=512, output_size=10, activation=tf.nn.softmax)\n",
        "])\n",
        "assert len(model.weights) == 4"
      ]
    },
    {
      "cell_type": "markdown",
      "metadata": {
        "id": "rurjaEbFqDfH"
      },
      "source": [
        "#### A batch generator"
      ]
    },
    {
      "cell_type": "code",
      "execution_count": null,
      "metadata": {
        "id": "5f5PJfWaqDfI"
      },
      "outputs": [],
      "source": [
        "import math\n",
        "\n",
        "class BatchGenerator:\n",
        "    def __init__(self, images, labels, batch_size=128):\n",
        "        assert len(images) == len(labels)\n",
        "        self.index = 0\n",
        "        self.images = images\n",
        "        self.labels = labels\n",
        "        self.batch_size = batch_size\n",
        "        self.num_batches = math.ceil(len(images) / batch_size)\n",
        "\n",
        "    def next(self):\n",
        "        images = self.images[self.index : self.index + self.batch_size]\n",
        "        labels = self.labels[self.index : self.index + self.batch_size]\n",
        "        self.index += self.batch_size\n",
        "        return images, labels"
      ]
    },
    {
      "cell_type": "markdown",
      "metadata": {
        "id": "A23jhSO-qDfJ"
      },
      "source": [
        "### Running one training step"
      ]
    },
    {
      "cell_type": "code",
      "execution_count": null,
      "metadata": {
        "id": "SNa9E7kjqDfJ"
      },
      "outputs": [],
      "source": [
        "def one_training_step(model, images_batch, labels_batch):\n",
        "    with tf.GradientTape() as tape:\n",
        "        predictions = model(images_batch)\n",
        "        per_sample_losses = tf.keras.losses.sparse_categorical_crossentropy(\n",
        "            labels_batch, predictions)\n",
        "        average_loss = tf.reduce_mean(per_sample_losses)\n",
        "    gradients = tape.gradient(average_loss, model.weights)\n",
        "    update_weights(gradients, model.weights)\n",
        "    return average_loss"
      ]
    },
    {
      "cell_type": "code",
      "execution_count": null,
      "metadata": {
        "id": "PBDcGLlgqDfK"
      },
      "outputs": [],
      "source": [
        "learning_rate = 1e-3\n",
        "\n",
        "def update_weights(gradients, weights):\n",
        "    for g, w in zip(gradients, weights):\n",
        "        w.assign_sub(g * learning_rate)"
      ]
    },
    {
      "cell_type": "code",
      "execution_count": null,
      "metadata": {
        "id": "c0_Lw_hBqDfK"
      },
      "outputs": [],
      "source": [
        "from tensorflow.keras import optimizers\n",
        "\n",
        "optimizer = optimizers.SGD(learning_rate=1e-3)\n",
        "\n",
        "def update_weights(gradients, weights):\n",
        "    optimizer.apply_gradients(zip(gradients, weights))"
      ]
    },
    {
      "cell_type": "markdown",
      "metadata": {
        "id": "UP62UdoKqDfL"
      },
      "source": [
        "### The full training loop"
      ]
    },
    {
      "cell_type": "code",
      "execution_count": null,
      "metadata": {
        "id": "_ADW1wQXqDfL"
      },
      "outputs": [],
      "source": [
        "def fit(model, images, labels, epochs, batch_size=128):\n",
        "    for epoch_counter in range(epochs):\n",
        "        print(f\"Epoch {epoch_counter}\")\n",
        "        batch_generator = BatchGenerator(images, labels)\n",
        "        for batch_counter in range(batch_generator.num_batches):\n",
        "            images_batch, labels_batch = batch_generator.next()\n",
        "            loss = one_training_step(model, images_batch, labels_batch)\n",
        "            if batch_counter % 100 == 0:\n",
        "                print(f\"loss at batch {batch_counter}: {loss:.2f}\")"
      ]
    },
    {
      "cell_type": "code",
      "execution_count": null,
      "metadata": {
        "id": "y1lGxdVkqDfL"
      },
      "outputs": [],
      "source": [
        "from tensorflow.keras.datasets import mnist\n",
        "(train_images, train_labels), (test_images, test_labels) = mnist.load_data()\n",
        "\n",
        "train_images = train_images.reshape((60000, 28 * 28))\n",
        "train_images = train_images.astype(\"float32\") / 255\n",
        "test_images = test_images.reshape((10000, 28 * 28))\n",
        "test_images = test_images.astype(\"float32\") / 255\n",
        "\n",
        "fit(model, train_images, train_labels, epochs=10, batch_size=128)"
      ]
    },
    {
      "cell_type": "markdown",
      "metadata": {
        "id": "Oht4__W3qDfM"
      },
      "source": [
        "### Evaluating the model"
      ]
    },
    {
      "cell_type": "code",
      "execution_count": null,
      "metadata": {
        "id": "2xx1K9AoqDfM"
      },
      "outputs": [],
      "source": [
        "predictions = model(test_images)\n",
        "predictions = predictions.numpy()\n",
        "predicted_labels = np.argmax(predictions, axis=1)\n",
        "matches = predicted_labels == test_labels\n",
        "print(f\"accuracy: {matches.mean():.2f}\")"
      ]
    },
    {
      "cell_type": "markdown",
      "metadata": {
        "id": "uXzGynYWqDfN"
      },
      "source": [
        "## Summary"
      ]
    }
  ],
  "metadata": {
    "colab": {
      "name": "chapter02_mathematical-building-blocks.i",
      "provenance": [],
      "toc_visible": true,
      "include_colab_link": true
    },
    "kernelspec": {
      "display_name": "Python 3",
      "language": "python",
      "name": "python3"
    },
    "language_info": {
      "codemirror_mode": {
        "name": "ipython",
        "version": 3
      },
      "file_extension": ".py",
      "mimetype": "text/x-python",
      "name": "python",
      "nbconvert_exporter": "python",
      "pygments_lexer": "ipython3",
      "version": "3.7.0"
    },
    "accelerator": "GPU",
    "gpuClass": "standard"
  },
  "nbformat": 4,
  "nbformat_minor": 0
}